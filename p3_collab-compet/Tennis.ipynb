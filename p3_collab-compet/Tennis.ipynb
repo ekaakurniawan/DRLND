{
 "cells": [
  {
   "cell_type": "markdown",
   "metadata": {},
   "source": [
    "# Collaboration and Competition\n",
    "\n",
    "---\n",
    "\n",
    "In this notebook, you will learn how to use the Unity ML-Agents environment for the third project of the [Deep Reinforcement Learning Nanodegree](https://www.udacity.com/course/deep-reinforcement-learning-nanodegree--nd893) program.\n",
    "\n",
    "### 1. Start the Environment\n",
    "\n",
    "We begin by importing the necessary packages.  If the code cell below returns an error, please revisit the project instructions to double-check that you have installed [Unity ML-Agents](https://github.com/Unity-Technologies/ml-agents/blob/master/docs/Installation.md) and [NumPy](http://www.numpy.org/)."
   ]
  },
  {
   "cell_type": "code",
   "execution_count": 1,
   "metadata": {},
   "outputs": [
    {
     "name": "stdout",
     "output_type": "stream",
     "text": [
      "Python 3.6.9 |Anaconda, Inc.| (default, Jul 30 2019, 19:07:31) \n",
      "[GCC 7.3.0]\n"
     ]
    }
   ],
   "source": [
    "import sys\n",
    "print(\"Python %s\" % sys.version)\n",
    "import os\n",
    "import random, copy, time\n",
    "from collections import namedtuple, deque"
   ]
  },
  {
   "cell_type": "code",
   "execution_count": 2,
   "metadata": {},
   "outputs": [
    {
     "name": "stdout",
     "output_type": "stream",
     "text": [
      "NumPy 1.16.5\n"
     ]
    }
   ],
   "source": [
    "import numpy as np\n",
    "print(\"NumPy %s\" % np.__version__)"
   ]
  },
  {
   "cell_type": "code",
   "execution_count": 3,
   "metadata": {},
   "outputs": [
    {
     "name": "stdout",
     "output_type": "stream",
     "text": [
      "PyTorch 1.2.0\n"
     ]
    }
   ],
   "source": [
    "import torch\n",
    "print(\"PyTorch %s\" % torch.__version__)\n",
    "import torch.nn as nn\n",
    "import torch.nn.functional as F\n",
    "import torch.optim as optim"
   ]
  },
  {
   "cell_type": "code",
   "execution_count": 4,
   "metadata": {},
   "outputs": [
    {
     "name": "stdout",
     "output_type": "stream",
     "text": [
      "matplotlib 3.1.1\n"
     ]
    }
   ],
   "source": [
    "import matplotlib\n",
    "print(\"matplotlib %s\" % matplotlib.__version__)\n",
    "import matplotlib.pyplot as plt\n",
    "\n",
    "# Set plotting options\n",
    "%matplotlib inline"
   ]
  },
  {
   "cell_type": "code",
   "execution_count": 5,
   "metadata": {},
   "outputs": [],
   "source": [
    "from unityagents import UnityEnvironment"
   ]
  },
  {
   "cell_type": "markdown",
   "metadata": {},
   "source": [
    "Next, we will start the environment!  **_Before running the code cell below_**, change the `file_name` parameter to match the location of the Unity environment that you downloaded.\n",
    "\n",
    "- **Mac**: `\"path/to/Tennis.app\"`\n",
    "- **Windows** (x86): `\"path/to/Tennis_Windows_x86/Tennis.exe\"`\n",
    "- **Windows** (x86_64): `\"path/to/Tennis_Windows_x86_64/Tennis.exe\"`\n",
    "- **Linux** (x86): `\"path/to/Tennis_Linux/Tennis.x86\"`\n",
    "- **Linux** (x86_64): `\"path/to/Tennis_Linux/Tennis.x86_64\"`\n",
    "- **Linux** (x86, headless): `\"path/to/Tennis_Linux_NoVis/Tennis.x86\"`\n",
    "- **Linux** (x86_64, headless): `\"path/to/Tennis_Linux_NoVis/Tennis.x86_64\"`\n",
    "\n",
    "For instance, if you are using a Mac, then you downloaded `Tennis.app`.  If this file is in the same folder as the notebook, then the line below should appear as follows:\n",
    "```\n",
    "env = UnityEnvironment(file_name=\"Tennis.app\")\n",
    "```"
   ]
  },
  {
   "cell_type": "code",
   "execution_count": 26,
   "metadata": {},
   "outputs": [
    {
     "name": "stderr",
     "output_type": "stream",
     "text": [
      "INFO:unityagents:\n",
      "'Academy' started successfully!\n",
      "Unity Academy name: Academy\n",
      "        Number of Brains: 1\n",
      "        Number of External Brains : 1\n",
      "        Lesson number : 0\n",
      "        Reset Parameters :\n",
      "\t\t\n",
      "Unity brain name: TennisBrain\n",
      "        Number of Visual Observations (per agent): 0\n",
      "        Vector Observation space type: continuous\n",
      "        Vector Observation space size (per agent): 8\n",
      "        Number of stacked Vector Observation: 3\n",
      "        Vector Action space type: continuous\n",
      "        Vector Action space size (per agent): 2\n",
      "        Vector Action descriptions: , \n"
     ]
    }
   ],
   "source": [
    "env = UnityEnvironment(file_name=\"./Tennis_Linux/Tennis.x86_64\")"
   ]
  },
  {
   "cell_type": "code",
   "execution_count": 7,
   "metadata": {},
   "outputs": [
    {
     "data": {
      "text/plain": [
       "<unityagents.environment.UnityEnvironment at 0x7fa9f36849e8>"
      ]
     },
     "execution_count": 7,
     "metadata": {},
     "output_type": "execute_result"
    }
   ],
   "source": [
    "env"
   ]
  },
  {
   "cell_type": "markdown",
   "metadata": {},
   "source": [
    "Environments contain **_brains_** which are responsible for deciding the actions of their associated agents. Here we check for the first brain available, and set it as the default brain we will be controlling from Python."
   ]
  },
  {
   "cell_type": "code",
   "execution_count": 8,
   "metadata": {},
   "outputs": [
    {
     "data": {
      "text/plain": [
       "['TennisBrain']"
      ]
     },
     "execution_count": 8,
     "metadata": {},
     "output_type": "execute_result"
    }
   ],
   "source": [
    "env.brain_names"
   ]
  },
  {
   "cell_type": "code",
   "execution_count": 9,
   "metadata": {},
   "outputs": [
    {
     "data": {
      "text/plain": [
       "{'TennisBrain': <unityagents.brain.BrainParameters at 0x7fa9f36acba8>}"
      ]
     },
     "execution_count": 9,
     "metadata": {},
     "output_type": "execute_result"
    }
   ],
   "source": [
    "env.brains"
   ]
  },
  {
   "cell_type": "code",
   "execution_count": 27,
   "metadata": {},
   "outputs": [],
   "source": [
    "# get the default brain\n",
    "brain_name = env.brain_names[0]\n",
    "brain = env.brains[brain_name]"
   ]
  },
  {
   "cell_type": "markdown",
   "metadata": {},
   "source": [
    "### 2. Examine the State and Action Spaces\n",
    "\n",
    "In this environment, two agents control rackets to bounce a ball over a net. If an agent hits the ball over the net, it receives a reward of +0.1.  If an agent lets a ball hit the ground or hits the ball out of bounds, it receives a reward of -0.01.  Thus, the goal of each agent is to keep the ball in play.\n",
    "\n",
    "The observation space consists of 8 variables corresponding to the position and velocity of the ball and racket. Two continuous actions are available, corresponding to movement toward (or away from) the net, and jumping. \n",
    "\n",
    "Run the code cell below to print some information about the environment."
   ]
  },
  {
   "cell_type": "code",
   "execution_count": 28,
   "metadata": {},
   "outputs": [
    {
     "name": "stdout",
     "output_type": "stream",
     "text": [
      "Number of agents: 2\n",
      "Size of each action: 2\n",
      "There are 2 agents. Each observes a state with length: 24\n",
      "The state for the first agent looks like: [ 0.          0.          0.          0.          0.          0.\n",
      "  0.          0.          0.          0.          0.          0.\n",
      "  0.          0.          0.          0.         -6.65278625 -1.5\n",
      " -0.          0.          6.83172083  6.         -0.          0.        ]\n"
     ]
    }
   ],
   "source": [
    "# reset the environment\n",
    "env_info = env.reset(train_mode=True)[brain_name]\n",
    "\n",
    "# number of agents \n",
    "num_agents = len(env_info.agents)\n",
    "print('Number of agents:', num_agents)\n",
    "\n",
    "# size of each action\n",
    "action_size = brain.vector_action_space_size\n",
    "print('Size of each action:', action_size)\n",
    "\n",
    "# examine the state space \n",
    "states = env_info.vector_observations\n",
    "state_size = states.shape[1]\n",
    "print('There are {} agents. Each observes a state with length: {}'.format(states.shape[0], state_size))\n",
    "print('The state for the first agent looks like:', states[0])"
   ]
  },
  {
   "cell_type": "markdown",
   "metadata": {},
   "source": [
    "### 3. Take Random Actions in the Environment\n",
    "\n",
    "In the next code cell, you will learn how to use the Python API to control the agents and receive feedback from the environment.\n",
    "\n",
    "Once this cell is executed, you will watch the agents' performance, if they select actions at random with each time step.  A window should pop up that allows you to observe the agents.\n",
    "\n",
    "Of course, as part of the project, you'll have to change the code so that the agents are able to use their experiences to gradually choose better actions when interacting with the environment!"
   ]
  },
  {
   "cell_type": "code",
   "execution_count": 12,
   "metadata": {},
   "outputs": [
    {
     "name": "stdout",
     "output_type": "stream",
     "text": [
      "Score (max over agents) from episode 1: 0.0\n",
      "Score (max over agents) from episode 2: 0.0\n",
      "Score (max over agents) from episode 3: 0.0\n",
      "Score (max over agents) from episode 4: 0.0\n",
      "Score (max over agents) from episode 5: 0.10000000149011612\n"
     ]
    }
   ],
   "source": [
    "for i in range(1, 6):                                      # play game for 5 episodes\n",
    "    env_info = env.reset(train_mode=False)[brain_name]     # reset the environment    \n",
    "    states = env_info.vector_observations                  # get the current state (for each agent)\n",
    "    scores = np.zeros(num_agents)                          # initialize the score (for each agent)\n",
    "    while True:\n",
    "        actions = np.random.randn(num_agents, action_size) # select an action (for each agent)\n",
    "        actions = np.clip(actions, -1, 1)                  # all actions between -1 and 1\n",
    "        env_info = env.step(actions)[brain_name]           # send all actions to tne environment\n",
    "        next_states = env_info.vector_observations         # get next state (for each agent)\n",
    "        rewards = env_info.rewards                         # get reward (for each agent)\n",
    "        dones = env_info.local_done                        # see if episode finished\n",
    "        scores += env_info.rewards                         # update the score (for each agent)\n",
    "        states = next_states                               # roll over states to next time step\n",
    "        if np.any(dones):                                  # exit loop if episode finished\n",
    "            break\n",
    "    print('Score (max over agents) from episode {}: {}'.format(i, np.max(scores)))"
   ]
  },
  {
   "cell_type": "markdown",
   "metadata": {},
   "source": [
    "When finished, you can close the environment."
   ]
  },
  {
   "cell_type": "code",
   "execution_count": 13,
   "metadata": {},
   "outputs": [],
   "source": [
    "#env.close()"
   ]
  },
  {
   "cell_type": "markdown",
   "metadata": {},
   "source": [
    "### 4. It's Your Turn!\n",
    "\n",
    "Now it's your turn to train your own agent to solve the environment!  When training the environment, set `train_mode=True`, so that the line for resetting the environment looks like the following:\n",
    "```python\n",
    "env_info = env.reset(train_mode=True)[brain_name]\n",
    "```"
   ]
  },
  {
   "cell_type": "markdown",
   "metadata": {},
   "source": [
    "### Hyperparameters"
   ]
  },
  {
   "cell_type": "code",
   "execution_count": 6,
   "metadata": {},
   "outputs": [],
   "source": [
    "BUFFER_SIZE = int(1e6)     # replay buffer size\n",
    "BATCH_SIZE = 128           # minibatch size\n",
    "GAMMA = 0.99               # discount factor\n",
    "TAU = 1e-3                 # for soft update of target parameters\n",
    "SEED = 2                   # random seed\n",
    "LR_ACTOR = 1e-4            # learning rate of the actor \n",
    "LR_CRITIC = 1e-3           # l earning rate of the critic\n",
    "WEIGHT_DECAY = 0           # L2 weight decay\n",
    "SIGMA = 0.1                # standard deviation for noise"
   ]
  },
  {
   "cell_type": "markdown",
   "metadata": {},
   "source": [
    "### Actor-Critic Models"
   ]
  },
  {
   "cell_type": "code",
   "execution_count": 12,
   "metadata": {},
   "outputs": [],
   "source": [
    "class Actor(nn.Module):\n",
    "    \"\"\"Actor (Policy) Model.\"\"\"\n",
    "\n",
    "    def __init__(self, num_agents, state_size, action_size, seed, \n",
    "                 fc1_units=512, fc2_units=256):\n",
    "        \"\"\"Initialize parameters and build model.\n",
    "        Params\n",
    "        ======\n",
    "            state_size (int): Dimension of each state\n",
    "            action_size (int): Dimension of each action\n",
    "            seed (int): Random seed\n",
    "            fc1_units (int): Number of nodes in first hidden layer\n",
    "            fc2_units (int): Number of nodes in second hidden layer\n",
    "        \"\"\"\n",
    "        super(Actor, self).__init__()\n",
    "        self.seed = torch.manual_seed(seed)\n",
    "        # weight initialization gains \n",
    "        self.relu_gain = nn.init.calculate_gain('relu')\n",
    "        self.tanh_gain = nn.init.calculate_gain('tanh')\n",
    "        # layers\n",
    "        self.fc1 = nn.Linear(state_size, fc1_units)\n",
    "        self.fc2 = nn.Linear(fc1_units, fc2_units)\n",
    "        self.fc3 = nn.Linear(fc2_units, action_size)\n",
    "        self.bn1 = nn.BatchNorm1d(fc1_units)\n",
    "        \n",
    "        self.reset_parameters()\n",
    "\n",
    "    def reset_parameters(self):\n",
    "        nn.init.xavier_uniform_(self.fc1.weight.data, self.relu_gain)\n",
    "        nn.init.xavier_uniform_(self.fc2.weight.data, self.relu_gain)\n",
    "        nn.init.xavier_uniform_(self.fc3.weight.data, self.tanh_gain)\n",
    "\n",
    "    def forward(self, state):\n",
    "        \"\"\"Build an actor (policy) network that maps states -> actions.\"\"\"\n",
    "        x = self.bn1(self.fc1(state)).relu()\n",
    "        x = self.fc2(x).relu()\n",
    "        return self.fc3(x).tanh()"
   ]
  },
  {
   "cell_type": "code",
   "execution_count": 13,
   "metadata": {},
   "outputs": [],
   "source": [
    "class Critic(nn.Module):\n",
    "    \"\"\"Critic (Value) Model.\"\"\"\n",
    "\n",
    "    def __init__(self, num_agents, state_size, action_size, seed, \n",
    "                 fcs1_units=512, fc2_units=256, fc3_units=128):\n",
    "        \"\"\"Initialize parameters and build model.\n",
    "        Params\n",
    "        ======\n",
    "            state_size (int): Dimension of each state\n",
    "            action_size (int): Dimension of each action\n",
    "            seed (int): Random seed\n",
    "            fcs1_units (int): Number of nodes in the first hidden layer\n",
    "            fc2_units (int): Number of nodes in the second hidden layer\n",
    "        \"\"\"\n",
    "        super(Critic, self).__init__()\n",
    "        self.seed = torch.manual_seed(seed)\n",
    "        # weight initialization gains \n",
    "        self.relu_gain = nn.init.calculate_gain('relu')\n",
    "        self.linear_gain = nn.init.calculate_gain('linear')\n",
    "        # layers\n",
    "        self.fcs1 = nn.Linear(num_agents*state_size, fcs1_units)\n",
    "        self.fc2 = nn.Linear(fcs1_units+(num_agents*action_size), fc2_units)\n",
    "        self.fc3 = nn.Linear(fc2_units, fc3_units)\n",
    "        self.fc4 = nn.Linear(fc3_units, 1)\n",
    "        self.bn1 = nn.BatchNorm1d(fcs1_units)\n",
    "        \n",
    "        self.reset_parameters()\n",
    "\n",
    "    def reset_parameters(self):\n",
    "        nn.init.xavier_uniform_(self.fcs1.weight.data, self.relu_gain)\n",
    "        nn.init.xavier_uniform_(self.fc2.weight.data, self.relu_gain)\n",
    "        nn.init.xavier_uniform_(self.fc3.weight.data, self.relu_gain)\n",
    "        nn.init.xavier_uniform_(self.fc4.weight.data, self.linear_gain)\n",
    "\n",
    "    def forward(self, state, action):\n",
    "        \"\"\"Build a critic (value) network that maps (\n",
    "           state, action) pairs -> Q-values.\"\"\"\n",
    "        xs = self.bn1(self.fcs1(state)).relu()\n",
    "        x = torch.cat((xs, action), dim=1)\n",
    "        x = self.fc2(x).relu()\n",
    "        x = self.fc3(x).relu()\n",
    "        return self.fc4(x)"
   ]
  },
  {
   "cell_type": "markdown",
   "metadata": {},
   "source": [
    "### Agent"
   ]
  },
  {
   "cell_type": "code",
   "execution_count": 14,
   "metadata": {},
   "outputs": [],
   "source": [
    "class ReplayBuffer:\n",
    "    \"\"\"Fixed-size buffer to store experience tuples.\"\"\"\n",
    "\n",
    "    def __init__(self, buffer_size, batch_size, seed, device):\n",
    "        \"\"\"Initialize a ReplayBuffer object.\n",
    "        Params\n",
    "        ======\n",
    "            buffer_size (int): maximum size of buffer\n",
    "            batch_size (int): size of each training batch\n",
    "            seed (int): random seed\n",
    "            device (torch.device): - (type='cuda', index=0) for GPU 0\n",
    "                                   - (type='cpu') for CPU\n",
    "        \"\"\"\n",
    "        self.memory = deque(maxlen=buffer_size)  # internal memory (deque)\n",
    "        self.batch_size = batch_size\n",
    "        self.experience = namedtuple(\"Experience\", \n",
    "                                     field_names=[\"state\", \"action\", \"reward\", \n",
    "                                                  \"next_state\", \"done\"])\n",
    "        self.seed = random.seed(seed)\n",
    "        self.device = device\n",
    "    \n",
    "    def add(self, states, actions, rewards, next_states, dones):\n",
    "        \"\"\"Add a new experience to memory.\"\"\"\n",
    "        e = self.experience(states, actions, rewards, next_states, dones)\n",
    "        self.memory.append(e)\n",
    "    \n",
    "    def sample(self):\n",
    "        \"\"\"Randomly sample a batch of experiences from memory.\"\"\"\n",
    "        experiences = random.sample(self.memory, k=self.batch_size)\n",
    "\n",
    "        states = torch.from_numpy(np.vstack(\n",
    "            [e.state for e in experiences if e is not None]\n",
    "        )).float().to(self.device)\n",
    "        \n",
    "        actions = torch.from_numpy(np.vstack(\n",
    "            [e.action for e in experiences if e is not None]\n",
    "        )).float().to(self.device)\n",
    "        \n",
    "        rewards = torch.from_numpy(np.vstack(\n",
    "            [e.reward for e in experiences if e is not None]\n",
    "        )).float().to(self.device)\n",
    "        \n",
    "        next_states = torch.from_numpy(np.vstack(\n",
    "            [e.next_state for e in experiences if e is not None]\n",
    "        )).float().to(self.device)\n",
    "        \n",
    "        dones = torch.from_numpy(np.vstack(\n",
    "            [e.done for e in experiences if e is not None]\n",
    "        ).astype(np.uint8)).float().to(self.device)\n",
    "\n",
    "        return (states, actions, rewards, next_states, dones)\n",
    "\n",
    "    def __len__(self):\n",
    "        \"\"\"Return the current size of internal memory.\"\"\"\n",
    "        return len(self.memory)"
   ]
  },
  {
   "cell_type": "code",
   "execution_count": 15,
   "metadata": {},
   "outputs": [],
   "source": [
    "class OUNoise:\n",
    "    \"\"\"Ornstein-Uhlenbeck process.\"\"\"\n",
    "\n",
    "    def __init__(self, size, seed, mu=0., theta=0.15, sigma=0.2):\n",
    "        \"\"\"Initialize parameters and noise process.\"\"\"\n",
    "        self.mu = mu * np.ones(size)\n",
    "        self.theta = theta\n",
    "        self.sigma = sigma\n",
    "        self.seed = random.seed(seed)\n",
    "        self.reset()\n",
    "\n",
    "    def reset(self):\n",
    "        \"\"\"Reset the internal state (= noise) to mean (mu).\"\"\"\n",
    "        self.state = copy.copy(self.mu)\n",
    "\n",
    "    def sample(self):\n",
    "        \"\"\"Update internal state and return it as a noise sample.\"\"\"\n",
    "        x = self.state\n",
    "        dx = self.theta * (self.mu - x) + \\\n",
    "             self.sigma * np.array([random.random() for i in range(len(x))])\n",
    "        self.state = x + dx\n",
    "        return self.state"
   ]
  },
  {
   "cell_type": "markdown",
   "metadata": {},
   "source": [
    "__Multi-Agent Decentralized-Actor Centralized-Critic Algorithm__ `[1]`\n",
    "![ma-decentralizedActor-centralizedCritic](./images/ma-decentralizedActor-centralizedCritic.png)"
   ]
  },
  {
   "cell_type": "code",
   "execution_count": 16,
   "metadata": {},
   "outputs": [],
   "source": [
    "class Agent():\n",
    "    \"\"\"Interacts with and learns from the environment.\"\"\"\n",
    "    \n",
    "    def __init__(self, index, num_agents, state_size, action_size, \n",
    "                 random_seed, device):\n",
    "        \"\"\"Initialize an Agent object.\n",
    "        \n",
    "        Params\n",
    "        ======\n",
    "            num_agents (int): number of agents\n",
    "            state_size (int): dimension of each state\n",
    "            action_size (int): dimension of each action\n",
    "            random_seed (int): random seed\n",
    "        \"\"\"\n",
    "        self.index = index \n",
    "        self.num_agents = num_agents\n",
    "        self.state_size = state_size\n",
    "        self.action_size = action_size\n",
    "        self.random_seed = random_seed\n",
    "        self.seed = random.seed(random_seed)\n",
    "        self.device = device\n",
    "\n",
    "        # Actor Network (w/ Target Network)\n",
    "        self.actor_local = Actor(self.num_agents, self.state_size, self.action_size, \n",
    "                                 self.random_seed).to(self.device)\n",
    "        self.actor_target = Actor(self.num_agents, self.state_size, self.action_size, \n",
    "                                  self.random_seed).to(self.device)\n",
    "        self.actor_optimizer = optim.Adam(self.actor_local.parameters(), lr=LR_ACTOR)\n",
    "\n",
    "        # Critic Network (w/ Target Network)\n",
    "        self.critic_local = Critic(self.num_agents, self.state_size, self.action_size, \n",
    "                                   self.random_seed).to(self.device)\n",
    "        self.critic_target = Critic(self.num_agents, self.state_size, self.action_size, \n",
    "                                    self.random_seed).to(self.device)\n",
    "        self.critic_optimizer = optim.Adam(self.critic_local.parameters(), lr=LR_CRITIC, \n",
    "                                           weight_decay=WEIGHT_DECAY)\n",
    "\n",
    "        # Noise process\n",
    "        self.noise = OUNoise(self.action_size, self.random_seed, sigma=SIGMA)\n",
    "\n",
    "    def sample_and_learn(self, agents, shared_memory):\n",
    "        # Learn, if enough samples are available in memory\n",
    "        if len(shared_memory) > BATCH_SIZE:\n",
    "            for _ in range(5):\n",
    "                experiences = shared_memory.sample()\n",
    "                self.learn(agents, experiences, GAMMA)\n",
    "\n",
    "    def act(self, state, add_noise=True):\n",
    "        \"\"\"Returns actions for given state as per current policy.\"\"\"\n",
    "        state = torch.from_numpy(state).float().to(self.device)\n",
    "        self.actor_local.eval()\n",
    "        with torch.no_grad():\n",
    "            action = self.actor_local(state).cpu().data.numpy()\n",
    "        self.actor_local.train()\n",
    "        if add_noise:\n",
    "            action += self.noise.sample()\n",
    "        return np.clip(action, -1.0, 1.0)\n",
    "\n",
    "    def reset(self):\n",
    "        self.noise.reset()\n",
    "\n",
    "    def learn(self, agents, experiences, gamma):\n",
    "        \"\"\"Update policy and value parameters using given batch of experience tuples.\n",
    "        Q_targets = r + γ * critic_target(next_state, actor_target(next_state))\n",
    "        where:\n",
    "            actor_target(state) -> action\n",
    "            critic_target(state, action) -> Q-value\n",
    "        Params\n",
    "        ======\n",
    "            experiences (Tuple[torch.Tensor]): tuple of (s, a, r, s', done) tuples \n",
    "            gamma (float): discount factor\n",
    "        \"\"\"\n",
    "        states_flat, actions_flat, rewards_flat, next_states_flat, \\\n",
    "            dones_flat = experiences\n",
    "\n",
    "        states = states_flat.reshape(-1, self.num_agents, self.state_size)\n",
    "        actions = actions_flat.reshape(-1, self.num_agents, self.action_size)\n",
    "        rewards = rewards_flat.reshape(-1, self.num_agents)\n",
    "        next_states = next_states_flat.reshape(-1, self.num_agents, \n",
    "                                               self.state_size)\n",
    "        dones = torch.max(dones_flat, dim=1).values.reshape(-1,1)\n",
    "        \n",
    "        # ---------------------------- update critic ---------------------------- #\n",
    "        # Get predicted next-state actions and Q values from target models\n",
    "        next_actions = ()\n",
    "        for i, agent in enumerate(agents):\n",
    "            next_actions += (agent.actor_target(next_states[:,i]),)\n",
    "        next_actions_flat = torch.cat(next_actions, dim=1)\n",
    "        Q_targets_next = self.critic_target(next_states_flat, next_actions_flat)\n",
    "        # Compute Q targets for current states (y_i)\n",
    "        Q_targets = rewards[:,self.index].reshape(-1,1) + \\\n",
    "                    (gamma * Q_targets_next * (1 - dones))\n",
    "        # Compute critic loss\n",
    "        Q_expected = self.critic_local(states_flat, actions_flat)\n",
    "        critic_loss = F.mse_loss(Q_expected, Q_targets)\n",
    "        # Minimize the loss\n",
    "        self.critic_optimizer.zero_grad()\n",
    "        critic_loss.backward()\n",
    "        torch.nn.utils.clip_grad_norm_(self.critic_local.parameters(), 1)\n",
    "        self.critic_optimizer.step()\n",
    "\n",
    "        # ---------------------------- update actor ---------------------------- #\n",
    "        # Compute actor loss\n",
    "        pred_actions = ()\n",
    "        for i, agent in enumerate(agents):\n",
    "            pred_actions += (agent.actor_local(states[:,i]),)\n",
    "        pred_actions_flat = torch.cat(pred_actions, dim=1)\n",
    "        actor_loss = -self.critic_local(states_flat, pred_actions_flat).mean()\n",
    "        # Minimize the loss\n",
    "        self.actor_optimizer.zero_grad()\n",
    "        actor_loss.backward()\n",
    "        self.actor_optimizer.step()\n",
    "\n",
    "        # ----------------------- update target networks ----------------------- #\n",
    "        self.soft_update(self.critic_local, self.critic_target, TAU)\n",
    "        self.soft_update(self.actor_local, self.actor_target, TAU)                     \n",
    "\n",
    "    def soft_update(self, local_model, target_model, tau):\n",
    "        \"\"\"Soft update model parameters.\n",
    "        θ_target = τ*θ_local + (1 - τ)*θ_target\n",
    "        Params\n",
    "        ======\n",
    "            local_model: PyTorch model (weights will be copied from)\n",
    "            target_model: PyTorch model (weights will be copied to)\n",
    "            tau (float): interpolation parameter \n",
    "        \"\"\"\n",
    "        for target_param, local_param in zip(target_model.parameters(), \n",
    "                                             local_model.parameters()):\n",
    "            target_param.data.copy_(tau*local_param.data + \\\n",
    "                                    (1.0-tau)*target_param.data)"
   ]
  },
  {
   "cell_type": "code",
   "execution_count": 20,
   "metadata": {},
   "outputs": [
    {
     "name": "stdout",
     "output_type": "stream",
     "text": [
      "Use CUDA: True\n"
     ]
    }
   ],
   "source": [
    "# check if CUDA is available\n",
    "use_cuda = torch.cuda.is_available()\n",
    "print(\"Use CUDA:\",  use_cuda)"
   ]
  },
  {
   "cell_type": "code",
   "execution_count": 21,
   "metadata": {},
   "outputs": [
    {
     "data": {
      "text/plain": [
       "device(type='cuda', index=0)"
      ]
     },
     "execution_count": 21,
     "metadata": {},
     "output_type": "execute_result"
    }
   ],
   "source": [
    "device = torch.device(\"cuda:0\" if torch.cuda.is_available() else \"cpu\")\n",
    "device"
   ]
  },
  {
   "cell_type": "code",
   "execution_count": 22,
   "metadata": {},
   "outputs": [],
   "source": [
    "# agent-0, agent-1\n",
    "agents = [Agent(index=0, num_agents=num_agents, state_size=state_size, \n",
    "                action_size=action_size, random_seed=SEED, device=device),\n",
    "          Agent(index=1, num_agents=num_agents, state_size=state_size, \n",
    "                action_size=action_size, random_seed=SEED, device=device),]"
   ]
  },
  {
   "cell_type": "code",
   "execution_count": 23,
   "metadata": {},
   "outputs": [
    {
     "name": "stdout",
     "output_type": "stream",
     "text": [
      "=== Agent 1 ================================================================\n",
      "Actor(\n",
      "  (fc1): Linear(in_features=24, out_features=512, bias=True)\n",
      "  (fc2): Linear(in_features=512, out_features=256, bias=True)\n",
      "  (fc3): Linear(in_features=256, out_features=2, bias=True)\n",
      "  (bn1): BatchNorm1d(512, eps=1e-05, momentum=0.1, affine=True, track_running_stats=True)\n",
      ")\n",
      "Actor(\n",
      "  (fc1): Linear(in_features=24, out_features=512, bias=True)\n",
      "  (fc2): Linear(in_features=512, out_features=256, bias=True)\n",
      "  (fc3): Linear(in_features=256, out_features=2, bias=True)\n",
      "  (bn1): BatchNorm1d(512, eps=1e-05, momentum=0.1, affine=True, track_running_stats=True)\n",
      ")\n",
      "Adam (\n",
      "Parameter Group 0\n",
      "    amsgrad: False\n",
      "    betas: (0.9, 0.999)\n",
      "    eps: 1e-08\n",
      "    lr: 0.0001\n",
      "    weight_decay: 0\n",
      ")\n",
      "Critic(\n",
      "  (fcs1): Linear(in_features=48, out_features=512, bias=True)\n",
      "  (fc2): Linear(in_features=516, out_features=256, bias=True)\n",
      "  (fc3): Linear(in_features=256, out_features=128, bias=True)\n",
      "  (fc4): Linear(in_features=128, out_features=1, bias=True)\n",
      "  (bn1): BatchNorm1d(512, eps=1e-05, momentum=0.1, affine=True, track_running_stats=True)\n",
      ")\n",
      "Critic(\n",
      "  (fcs1): Linear(in_features=48, out_features=512, bias=True)\n",
      "  (fc2): Linear(in_features=516, out_features=256, bias=True)\n",
      "  (fc3): Linear(in_features=256, out_features=128, bias=True)\n",
      "  (fc4): Linear(in_features=128, out_features=1, bias=True)\n",
      "  (bn1): BatchNorm1d(512, eps=1e-05, momentum=0.1, affine=True, track_running_stats=True)\n",
      ")\n",
      "Adam (\n",
      "Parameter Group 0\n",
      "    amsgrad: False\n",
      "    betas: (0.9, 0.999)\n",
      "    eps: 1e-08\n",
      "    lr: 0.001\n",
      "    weight_decay: 0\n",
      ")\n",
      "=== Agent 2 ================================================================\n",
      "Actor(\n",
      "  (fc1): Linear(in_features=24, out_features=512, bias=True)\n",
      "  (fc2): Linear(in_features=512, out_features=256, bias=True)\n",
      "  (fc3): Linear(in_features=256, out_features=2, bias=True)\n",
      "  (bn1): BatchNorm1d(512, eps=1e-05, momentum=0.1, affine=True, track_running_stats=True)\n",
      ")\n",
      "Actor(\n",
      "  (fc1): Linear(in_features=24, out_features=512, bias=True)\n",
      "  (fc2): Linear(in_features=512, out_features=256, bias=True)\n",
      "  (fc3): Linear(in_features=256, out_features=2, bias=True)\n",
      "  (bn1): BatchNorm1d(512, eps=1e-05, momentum=0.1, affine=True, track_running_stats=True)\n",
      ")\n",
      "Adam (\n",
      "Parameter Group 0\n",
      "    amsgrad: False\n",
      "    betas: (0.9, 0.999)\n",
      "    eps: 1e-08\n",
      "    lr: 0.0001\n",
      "    weight_decay: 0\n",
      ")\n",
      "Critic(\n",
      "  (fcs1): Linear(in_features=48, out_features=512, bias=True)\n",
      "  (fc2): Linear(in_features=516, out_features=256, bias=True)\n",
      "  (fc3): Linear(in_features=256, out_features=128, bias=True)\n",
      "  (fc4): Linear(in_features=128, out_features=1, bias=True)\n",
      "  (bn1): BatchNorm1d(512, eps=1e-05, momentum=0.1, affine=True, track_running_stats=True)\n",
      ")\n",
      "Critic(\n",
      "  (fcs1): Linear(in_features=48, out_features=512, bias=True)\n",
      "  (fc2): Linear(in_features=516, out_features=256, bias=True)\n",
      "  (fc3): Linear(in_features=256, out_features=128, bias=True)\n",
      "  (fc4): Linear(in_features=128, out_features=1, bias=True)\n",
      "  (bn1): BatchNorm1d(512, eps=1e-05, momentum=0.1, affine=True, track_running_stats=True)\n",
      ")\n",
      "Adam (\n",
      "Parameter Group 0\n",
      "    amsgrad: False\n",
      "    betas: (0.9, 0.999)\n",
      "    eps: 1e-08\n",
      "    lr: 0.001\n",
      "    weight_decay: 0\n",
      ")\n"
     ]
    }
   ],
   "source": [
    "for i, agent in enumerate(agents):\n",
    "    print(\"=== Agent %d\" % (i+1), \"=\"*64)\n",
    "    print(agent.actor_local)\n",
    "    print(agent.actor_target)\n",
    "    print(agent.actor_optimizer)\n",
    "    print(agent.critic_local)\n",
    "    print(agent.critic_target)\n",
    "    print(agent.critic_optimizer)"
   ]
  },
  {
   "cell_type": "markdown",
   "metadata": {},
   "source": [
    "### Training"
   ]
  },
  {
   "cell_type": "code",
   "execution_count": 24,
   "metadata": {},
   "outputs": [],
   "source": [
    "def maddpg(n_episodes, max_t, print_every, random_seed, device):\n",
    "    # Replay memory\n",
    "    shared_memory = ReplayBuffer(BUFFER_SIZE, BATCH_SIZE, \n",
    "                                 random_seed, device)\n",
    "    \n",
    "    acc_scores = []\n",
    "    acc_scores_window = deque(maxlen=100)  # last 100 scores\n",
    "    for i_episode in range(1, n_episodes+1):\n",
    "        # reset the environment\n",
    "        env_info = env.reset(train_mode=True)[brain_name]\n",
    "        # get the current state (for each agent)\n",
    "        states = env_info.vector_observations\n",
    "        states_flat = np.hstack(states)\n",
    "        # reset agents\n",
    "        for agent in agents:\n",
    "            agent.reset()\n",
    "        # initialize the score (for each agent)\n",
    "        max_scores = 0\n",
    "        actions = np.zeros((num_agents, action_size))\n",
    "        for t in range(max_t):\n",
    "            # get action\n",
    "            for i, agent in enumerate(agents):\n",
    "                actions[i] = agent.act(states[i].reshape(1,-1), add_noise=True)\n",
    "            actions_flat = np.hstack(actions)\n",
    "            # send all actions to tne environment\n",
    "            env_info = env.step(actions)[brain_name]\n",
    "            # get next states, rewards and done flags (for each agent)\n",
    "            next_states = env_info.vector_observations\n",
    "            next_states_flat = np.hstack(next_states)\n",
    "            rewards = env_info.rewards\n",
    "            rewards_flat = np.array(rewards)\n",
    "            dones = env_info.local_done\n",
    "            dones_flat = np.array(dones)\n",
    "            # update shared memory\n",
    "            shared_memory.add(states_flat, actions_flat, rewards_flat, \n",
    "                              next_states_flat, dones_flat)\n",
    "            # update state\n",
    "            states = next_states\n",
    "            states_flat = next_states_flat\n",
    "            # accumulate rewards\n",
    "            max_scores += max(rewards)\n",
    "            # exit loop if episode finished\n",
    "            if np.any(dones):\n",
    "                break\n",
    "        \n",
    "        # sample and learn\n",
    "        for agent in agents:\n",
    "            agent.sample_and_learn(agents, shared_memory)\n",
    "\n",
    "        # save most recent scores\n",
    "        acc_scores.append(max_scores)\n",
    "        acc_scores_window.append(max_scores)\n",
    "        \n",
    "        # model checkpoints\n",
    "        for i, agent in enumerate(agents):\n",
    "            torch.save(agent.actor_local.state_dict(), \"agent%d_actor.pth\" % i)\n",
    "            torch.save(agent.critic_local.state_dict(), \"agent%d_critic.pth\" % i)\n",
    "        \n",
    "        print('\\rEpisode {}\\tAverage Score: {:.2f}'.format(i_episode, \n",
    "                                                           np.mean(acc_scores_window)), \n",
    "              end=\"\")\n",
    "        if i_episode % print_every == 0:\n",
    "            print('\\rEpisode {}\\tAverage Score: {:.2f}'.format(i_episode, \n",
    "                                                               np.mean(acc_scores_window)))\n",
    "        if np.mean(acc_scores_window)>=0.5:\n",
    "            print('\\nEnvironment solved in {:d} episodes!\\tAverage Score: {:.2f}'.format(\n",
    "                  i_episode-100, np.mean(acc_scores_window)))\n",
    "            break\n",
    "            \n",
    "    return acc_scores"
   ]
  },
  {
   "cell_type": "code",
   "execution_count": 25,
   "metadata": {
    "scrolled": false
   },
   "outputs": [
    {
     "name": "stdout",
     "output_type": "stream",
     "text": [
      "Episode 1000\tAverage Score: 0.00\n",
      "Episode 2000\tAverage Score: 0.04\n",
      "Episode 3000\tAverage Score: 0.06\n",
      "Episode 4000\tAverage Score: 0.08\n",
      "Episode 5000\tAverage Score: 0.16\n",
      "Episode 6000\tAverage Score: 0.10\n",
      "Episode 7000\tAverage Score: 0.16\n",
      "Episode 7778\tAverage Score: 0.52\n",
      "Environment solved in 7678 episodes!\tAverage Score: 0.52\n",
      "\n",
      "Runtime (in seconds) 1330\n"
     ]
    }
   ],
   "source": [
    "MAX_EPISODES = 10000\n",
    "\n",
    "tic = time.time()\n",
    "scores = maddpg(n_episodes=MAX_EPISODES, max_t=1000, \n",
    "                print_every=1000, random_seed=SEED, device=device)\n",
    "toc = time.time()\n",
    "print()\n",
    "print(\"Runtime (in seconds) %d\" % int(toc-tic))"
   ]
  },
  {
   "cell_type": "code",
   "execution_count": 29,
   "metadata": {},
   "outputs": [
    {
     "data": {
      "image/png": "[encoded data removed]",
      "text/plain": [
       "<Figure size 432x288 with 1 Axes>"
      ]
     },
     "metadata": {
      "needs_background": "light"
     },
     "output_type": "display_data"
    }
   ],
   "source": [
    "scores = np.array(scores)\n",
    "scores_window = [np.mean(scores[max(0,i-100):i+1]) \n",
    "                 for i in range(len(scores))]\n",
    "\n",
    "# plot the scores\n",
    "fig = plt.figure()\n",
    "ax = fig.add_subplot(111)\n",
    "plt.plot(np.arange(1, len(scores)+1), scores, label=\"window size 1\")\n",
    "plt.plot(np.arange(1, len(scores)+1), scores_window, label=\"window size 100\")\n",
    "plt.plot(np.arange(1, len(scores)+1), [0.5]*len(scores), \n",
    "         linestyle='--', color='red')\n",
    "plt.ylabel('Score')\n",
    "plt.xlabel('Episode #')\n",
    "plt.legend()\n",
    "plt.show()"
   ]
  },
  {
   "cell_type": "markdown",
   "metadata": {},
   "source": [
    "### GPU Utilization"
   ]
  },
  {
   "cell_type": "markdown",
   "metadata": {},
   "source": [
    "```\n",
    "while sleep 0.2; do\n",
    "nvidia-smi --query-gpu=name,index,temperature.gpu,\\\n",
    "utilization.gpu,utilization.memory,\\\n",
    "memory.total,memory.free,memory.used --format=csv,noheader\n",
    "done\n",
    "```"
   ]
  },
  {
   "cell_type": "markdown",
   "metadata": {},
   "source": [
    "```\n",
    "GeForce GTX 1060, 0, 66, 34 %, 7 %, 6078 MiB, 5106 MiB, 972 MiB\n",
    "GeForce GTX 1060, 0, 66, 27 %, 5 %, 6078 MiB, 5106 MiB, 972 MiB\n",
    "GeForce GTX 1060, 0, 66, 20 %, 4 %, 6078 MiB, 5106 MiB, 972 MiB\n",
    "GeForce GTX 1060, 0, 66, 3 %, 1 %, 6078 MiB, 5106 MiB, 972 MiB\n",
    "GeForce GTX 1060, 0, 66, 13 %, 2 %, 6078 MiB, 5106 MiB, 972 MiB\n",
    "GeForce GTX 1060, 0, 66, 28 %, 6 %, 6078 MiB, 5106 MiB, 972 MiB\n",
    "GeForce GTX 1060, 0, 66, 26 %, 5 %, 6078 MiB, 5106 MiB, 972 MiB\n",
    "GeForce GTX 1060, 0, 66, 27 %, 5 %, 6078 MiB, 5106 MiB, 972 MiB\n",
    "GeForce GTX 1060, 0, 66, 30 %, 6 %, 6078 MiB, 5106 MiB, 972 MiB\n",
    "GeForce GTX 1060, 0, 66, 31 %, 6 %, 6078 MiB, 5106 MiB, 972 MiB\n",
    "GeForce GTX 1060, 0, 66, 21 %, 4 %, 6078 MiB, 5106 MiB, 972 MiB\n",
    "GeForce GTX 1060, 0, 66, 4 %, 1 %, 6078 MiB, 5106 MiB, 972 MiB\n",
    "GeForce GTX 1060, 0, 66, 25 %, 5 %, 6078 MiB, 5106 MiB, 972 MiB\n",
    "GeForce GTX 1060, 0, 66, 28 %, 6 %, 6078 MiB, 5106 MiB, 972 MiB\n",
    "GeForce GTX 1060, 0, 66, 30 %, 6 %, 6078 MiB, 5106 MiB, 972 MiB\n",
    "GeForce GTX 1060, 0, 66, 31 %, 6 %, 6078 MiB, 5106 MiB, 972 MiB\n",
    "GeForce GTX 1060, 0, 66, 28 %, 6 %, 6078 MiB, 5106 MiB, 972 MiB\n",
    "GeForce GTX 1060, 0, 66, 27 %, 5 %, 6078 MiB, 5106 MiB, 972 MiB\n",
    "GeForce GTX 1060, 0, 66, 31 %, 6 %, 6078 MiB, 5106 MiB, 972 MiB\n",
    "```"
   ]
  },
  {
   "cell_type": "code",
   "execution_count": 31,
   "metadata": {},
   "outputs": [],
   "source": [
    "saved_model_agent0_actor = {\n",
    "    'num_agents': num_agents,\n",
    "    'state_size': state_size,\n",
    "    'action_size': action_size,\n",
    "    'fc1_units': 512,\n",
    "    'fc2_units': 256,\n",
    "    'state_dict': agents[0].actor_local.state_dict(),\n",
    "}\n",
    "\n",
    "torch.save(saved_model_agent0_actor, './models/saved_model_agent0_actor.pth')"
   ]
  },
  {
   "cell_type": "code",
   "execution_count": 33,
   "metadata": {},
   "outputs": [],
   "source": [
    "saved_model_agent0_critic = {\n",
    "    'num_agents': num_agents,\n",
    "    'state_size': state_size,\n",
    "    'action_size': action_size,\n",
    "    'fcs1_units': 512,\n",
    "    'fc2_units': 256,\n",
    "    'fc3_units': 128,\n",
    "    'state_dict': agents[0].critic_local.state_dict(),\n",
    "}\n",
    "\n",
    "torch.save(saved_model_agent0_critic, './models/saved_model_agent0_critic.pth')"
   ]
  },
  {
   "cell_type": "code",
   "execution_count": 32,
   "metadata": {},
   "outputs": [],
   "source": [
    "saved_model_agent1_actor = {\n",
    "    'num_agents': num_agents,\n",
    "    'state_size': state_size,\n",
    "    'action_size': action_size,\n",
    "    'fc1_units': 512,\n",
    "    'fc2_units': 256,\n",
    "    'state_dict': agents[1].actor_local.state_dict(),\n",
    "}\n",
    "\n",
    "torch.save(saved_model_agent1_actor, './models/saved_model_agent1_actor.pth')"
   ]
  },
  {
   "cell_type": "code",
   "execution_count": 34,
   "metadata": {},
   "outputs": [],
   "source": [
    "saved_model_agent1_critic = {\n",
    "    'num_agents': num_agents,\n",
    "    'state_size': state_size,\n",
    "    'action_size': action_size,\n",
    "    'fcs1_units': 512,\n",
    "    'fc2_units': 256,\n",
    "    'fc3_units': 128,\n",
    "    'state_dict': agents[1].critic_local.state_dict(),\n",
    "}\n",
    "\n",
    "torch.save(saved_model_agent1_critic, './models/saved_model_agent1_critic.pth')"
   ]
  },
  {
   "cell_type": "code",
   "execution_count": 35,
   "metadata": {},
   "outputs": [],
   "source": [
    "env.close()"
   ]
  },
  {
   "cell_type": "markdown",
   "metadata": {},
   "source": [
    "### Agent in Action"
   ]
  },
  {
   "cell_type": "code",
   "execution_count": 7,
   "metadata": {},
   "outputs": [],
   "source": [
    "def load_saved_model_actor(filepath, device):\n",
    "    saved_model = torch.load(filepath)\n",
    "    actor = Actor(num_agents=saved_model['num_agents'], \n",
    "                  state_size=saved_model['state_size'], \n",
    "                  action_size=saved_model['action_size'], \n",
    "                  seed=SEED, \n",
    "                  fc1_units=saved_model['fc1_units'], \n",
    "                  fc2_units=saved_model['fc2_units']).to(device)\n",
    "    actor.load_state_dict(saved_model['state_dict'])\n",
    "    \n",
    "    return actor"
   ]
  },
  {
   "cell_type": "code",
   "execution_count": 40,
   "metadata": {},
   "outputs": [],
   "source": [
    "def load_saved_model_critic(filepath, device):\n",
    "    saved_model = torch.load(filepath)\n",
    "    critic = Critic(num_agents=saved_model['num_agents'], \n",
    "                    state_size=saved_model['state_size'], \n",
    "                    action_size=saved_model['action_size'], \n",
    "                    seed=SEED, \n",
    "                    fcs1_units=saved_model['fcs1_units'], \n",
    "                    fc2_units=saved_model['fc2_units'], \n",
    "                    fc3_units=saved_model['fc3_units']).to(device)\n",
    "    critic.load_state_dict(saved_model['state_dict'])\n",
    "    \n",
    "    return critic"
   ]
  },
  {
   "cell_type": "code",
   "execution_count": 41,
   "metadata": {},
   "outputs": [
    {
     "name": "stdout",
     "output_type": "stream",
     "text": [
      "Use CUDA: True\n"
     ]
    }
   ],
   "source": [
    "# check if CUDA is available\n",
    "use_cuda = torch.cuda.is_available()\n",
    "print(\"Use CUDA:\",  use_cuda)"
   ]
  },
  {
   "cell_type": "code",
   "execution_count": 42,
   "metadata": {},
   "outputs": [
    {
     "data": {
      "text/plain": [
       "device(type='cuda', index=0)"
      ]
     },
     "execution_count": 42,
     "metadata": {},
     "output_type": "execute_result"
    }
   ],
   "source": [
    "device = torch.device(\"cuda:0\" if torch.cuda.is_available() else \"cpu\")\n",
    "device"
   ]
  },
  {
   "cell_type": "code",
   "execution_count": 43,
   "metadata": {},
   "outputs": [
    {
     "data": {
      "text/plain": [
       "Actor(\n",
       "  (fc1): Linear(in_features=24, out_features=512, bias=True)\n",
       "  (fc2): Linear(in_features=512, out_features=256, bias=True)\n",
       "  (fc3): Linear(in_features=256, out_features=2, bias=True)\n",
       "  (bn1): BatchNorm1d(512, eps=1e-05, momentum=0.1, affine=True, track_running_stats=True)\n",
       ")"
      ]
     },
     "execution_count": 43,
     "metadata": {},
     "output_type": "execute_result"
    }
   ],
   "source": [
    "agent0_actor_local = load_saved_model_actor('./models/saved_model_agent0_actor.pth', \n",
    "                                            device)\n",
    "agent0_actor_local.eval()"
   ]
  },
  {
   "cell_type": "code",
   "execution_count": 44,
   "metadata": {},
   "outputs": [
    {
     "data": {
      "text/plain": [
       "Actor(\n",
       "  (fc1): Linear(in_features=24, out_features=512, bias=True)\n",
       "  (fc2): Linear(in_features=512, out_features=256, bias=True)\n",
       "  (fc3): Linear(in_features=256, out_features=2, bias=True)\n",
       "  (bn1): BatchNorm1d(512, eps=1e-05, momentum=0.1, affine=True, track_running_stats=True)\n",
       ")"
      ]
     },
     "execution_count": 44,
     "metadata": {},
     "output_type": "execute_result"
    }
   ],
   "source": [
    "agent0_actor_target = load_saved_model_actor('./models/saved_model_agent0_actor.pth', \n",
    "                                             device)\n",
    "agent0_actor_target.eval()"
   ]
  },
  {
   "cell_type": "code",
   "execution_count": 45,
   "metadata": {},
   "outputs": [
    {
     "data": {
      "text/plain": [
       "Critic(\n",
       "  (fcs1): Linear(in_features=48, out_features=512, bias=True)\n",
       "  (fc2): Linear(in_features=516, out_features=256, bias=True)\n",
       "  (fc3): Linear(in_features=256, out_features=128, bias=True)\n",
       "  (fc4): Linear(in_features=128, out_features=1, bias=True)\n",
       "  (bn1): BatchNorm1d(512, eps=1e-05, momentum=0.1, affine=True, track_running_stats=True)\n",
       ")"
      ]
     },
     "execution_count": 45,
     "metadata": {},
     "output_type": "execute_result"
    }
   ],
   "source": [
    "agent0_critic_local = load_saved_model_critic('./models/saved_model_agent0_critic.pth', \n",
    "                                              device)\n",
    "agent0_critic_local.eval()"
   ]
  },
  {
   "cell_type": "code",
   "execution_count": 46,
   "metadata": {},
   "outputs": [
    {
     "data": {
      "text/plain": [
       "Critic(\n",
       "  (fcs1): Linear(in_features=48, out_features=512, bias=True)\n",
       "  (fc2): Linear(in_features=516, out_features=256, bias=True)\n",
       "  (fc3): Linear(in_features=256, out_features=128, bias=True)\n",
       "  (fc4): Linear(in_features=128, out_features=1, bias=True)\n",
       "  (bn1): BatchNorm1d(512, eps=1e-05, momentum=0.1, affine=True, track_running_stats=True)\n",
       ")"
      ]
     },
     "execution_count": 46,
     "metadata": {},
     "output_type": "execute_result"
    }
   ],
   "source": [
    "agent0_critic_target = load_saved_model_critic('./models/saved_model_agent0_critic.pth', \n",
    "                                               device)\n",
    "agent0_critic_target.eval()"
   ]
  },
  {
   "cell_type": "code",
   "execution_count": 47,
   "metadata": {},
   "outputs": [
    {
     "data": {
      "text/plain": [
       "Actor(\n",
       "  (fc1): Linear(in_features=24, out_features=512, bias=True)\n",
       "  (fc2): Linear(in_features=512, out_features=256, bias=True)\n",
       "  (fc3): Linear(in_features=256, out_features=2, bias=True)\n",
       "  (bn1): BatchNorm1d(512, eps=1e-05, momentum=0.1, affine=True, track_running_stats=True)\n",
       ")"
      ]
     },
     "execution_count": 47,
     "metadata": {},
     "output_type": "execute_result"
    }
   ],
   "source": [
    "agent1_actor_local = load_saved_model_actor('./models/saved_model_agent1_actor.pth', \n",
    "                                            device)\n",
    "agent1_actor_local.eval()"
   ]
  },
  {
   "cell_type": "code",
   "execution_count": 48,
   "metadata": {},
   "outputs": [
    {
     "data": {
      "text/plain": [
       "Actor(\n",
       "  (fc1): Linear(in_features=24, out_features=512, bias=True)\n",
       "  (fc2): Linear(in_features=512, out_features=256, bias=True)\n",
       "  (fc3): Linear(in_features=256, out_features=2, bias=True)\n",
       "  (bn1): BatchNorm1d(512, eps=1e-05, momentum=0.1, affine=True, track_running_stats=True)\n",
       ")"
      ]
     },
     "execution_count": 48,
     "metadata": {},
     "output_type": "execute_result"
    }
   ],
   "source": [
    "agent1_actor_target = load_saved_model_actor('./models/saved_model_agent1_actor.pth', \n",
    "                                             device)\n",
    "agent1_actor_target.eval()"
   ]
  },
  {
   "cell_type": "code",
   "execution_count": 49,
   "metadata": {},
   "outputs": [
    {
     "data": {
      "text/plain": [
       "Critic(\n",
       "  (fcs1): Linear(in_features=48, out_features=512, bias=True)\n",
       "  (fc2): Linear(in_features=516, out_features=256, bias=True)\n",
       "  (fc3): Linear(in_features=256, out_features=128, bias=True)\n",
       "  (fc4): Linear(in_features=128, out_features=1, bias=True)\n",
       "  (bn1): BatchNorm1d(512, eps=1e-05, momentum=0.1, affine=True, track_running_stats=True)\n",
       ")"
      ]
     },
     "execution_count": 49,
     "metadata": {},
     "output_type": "execute_result"
    }
   ],
   "source": [
    "agent1_critic_local = load_saved_model_critic('./models/saved_model_agent1_critic.pth', \n",
    "                                              device)\n",
    "agent1_critic_local.eval()"
   ]
  },
  {
   "cell_type": "code",
   "execution_count": 50,
   "metadata": {},
   "outputs": [
    {
     "data": {
      "text/plain": [
       "Critic(\n",
       "  (fcs1): Linear(in_features=48, out_features=512, bias=True)\n",
       "  (fc2): Linear(in_features=516, out_features=256, bias=True)\n",
       "  (fc3): Linear(in_features=256, out_features=128, bias=True)\n",
       "  (fc4): Linear(in_features=128, out_features=1, bias=True)\n",
       "  (bn1): BatchNorm1d(512, eps=1e-05, momentum=0.1, affine=True, track_running_stats=True)\n",
       ")"
      ]
     },
     "execution_count": 50,
     "metadata": {},
     "output_type": "execute_result"
    }
   ],
   "source": [
    "agent1_critic_target = load_saved_model_critic('./models/saved_model_agent1_critic.pth', \n",
    "                                              device)\n",
    "agent1_critic_target.eval()"
   ]
  },
  {
   "cell_type": "code",
   "execution_count": 51,
   "metadata": {},
   "outputs": [],
   "source": [
    "agents = [Agent(index=0, num_agents=num_agents, state_size=state_size, \n",
    "                action_size=action_size, random_seed=SEED, device=device),\n",
    "          Agent(index=1, num_agents=num_agents, state_size=state_size, \n",
    "                action_size=action_size, random_seed=SEED, device=device),]"
   ]
  },
  {
   "cell_type": "code",
   "execution_count": 52,
   "metadata": {},
   "outputs": [],
   "source": [
    "agents[0].actor_local = agent0_actor_local\n",
    "agents[0].actor_target = agent0_actor_target\n",
    "agents[0].critic_local = agent0_critic_local\n",
    "agents[0].critic_target = agent0_critic_target\n",
    "agents[1].actor_local = agent1_actor_local\n",
    "agents[1].actor_target = agent1_actor_target\n",
    "agents[1].critic_local = agent1_critic_local\n",
    "agents[1].critic_target = agent1_critic_target"
   ]
  },
  {
   "cell_type": "code",
   "execution_count": 64,
   "metadata": {},
   "outputs": [
    {
     "name": "stderr",
     "output_type": "stream",
     "text": [
      "INFO:unityagents:\n",
      "'Academy' started successfully!\n",
      "Unity Academy name: Academy\n",
      "        Number of Brains: 1\n",
      "        Number of External Brains : 1\n",
      "        Lesson number : 0\n",
      "        Reset Parameters :\n",
      "\t\t\n",
      "Unity brain name: TennisBrain\n",
      "        Number of Visual Observations (per agent): 0\n",
      "        Vector Observation space type: continuous\n",
      "        Vector Observation space size (per agent): 8\n",
      "        Number of stacked Vector Observation: 3\n",
      "        Vector Action space type: continuous\n",
      "        Vector Action space size (per agent): 2\n",
      "        Vector Action descriptions: , \n"
     ]
    }
   ],
   "source": [
    "env = UnityEnvironment(file_name=\"./Tennis_Linux/Tennis.x86_64\")"
   ]
  },
  {
   "cell_type": "code",
   "execution_count": 70,
   "metadata": {},
   "outputs": [
    {
     "name": "stdout",
     "output_type": "stream",
     "text": [
      "Score (max over agents) from episode 1: 0.10000000149011612\n",
      "Score (max over agents) from episode 2: 1.9000000283122063\n",
      "Score (max over agents) from episode 3: 0.30000000447034836\n",
      "Score (max over agents) from episode 4: 1.2000000178813934\n",
      "Score (max over agents) from episode 5: 0.20000000298023224\n"
     ]
    }
   ],
   "source": [
    "for i in range(1, 6):                                      # play game for 5 episodes\n",
    "    env_info = env.reset(train_mode=False)[brain_name]     # reset the environment    \n",
    "    states = env_info.vector_observations                  # get the current state (for each agent)\n",
    "    scores = np.zeros(num_agents)                          # initialize the score (for each agent)\n",
    "    while True:\n",
    "        actions0 = agents[0].act(states[0].reshape(1, -1), add_noise=True)\n",
    "        actions0 = np.clip(actions0, -1, 1)                # all actions between -1 and 1\n",
    "        actions1 = agents[1].act(states[1].reshape(1, -1), add_noise=True)\n",
    "        actions1 = np.clip(actions1, -1, 1)                # all actions between -1 and 1\n",
    "        actions = np.hstack([actions0, actions1])\n",
    "        env_info = env.step(actions)[brain_name]           # send all actions to tne environment\n",
    "        next_states = env_info.vector_observations         # get next state (for each agent)\n",
    "        rewards = env_info.rewards                         # get reward (for each agent)\n",
    "        dones = env_info.local_done                        # see if episode finished\n",
    "        scores += env_info.rewards                         # update the score (for each agent)\n",
    "        states = next_states                               # roll over states to next time step\n",
    "        time.sleep(0.1)\n",
    "        if np.any(dones):                                  # exit loop if episode finished\n",
    "            break\n",
    "    print('Score (max over agents) from episode {}: {}'.format(i, np.max(scores)))"
   ]
  },
  {
   "cell_type": "markdown",
   "metadata": {},
   "source": [
    "Record the action in mp4 format."
   ]
  },
  {
   "cell_type": "code",
   "execution_count": 71,
   "metadata": {},
   "outputs": [
    {
     "name": "stdout",
     "output_type": "stream",
     "text": [
      "total 1908\n",
      "-rw-rw-r-- 1 eka eka 1949925 Nov 10 01:41 01.mp4\n"
     ]
    }
   ],
   "source": [
    "%%bash\n",
    "ls -l ./results/mp4"
   ]
  },
  {
   "cell_type": "markdown",
   "metadata": {},
   "source": [
    "Convert the mp4 to GIF."
   ]
  },
  {
   "cell_type": "code",
   "execution_count": 72,
   "metadata": {},
   "outputs": [
    {
     "name": "stderr",
     "output_type": "stream",
     "text": [
      "ffmpeg version 3.4.6-0ubuntu0.18.04.1 Copyright (c) 2000-2019 the FFmpeg developers\n",
      "  built with gcc 7 (Ubuntu 7.3.0-16ubuntu3)\n",
      "  configuration: --prefix=/usr --extra-version=0ubuntu0.18.04.1 --toolchain=hardened --libdir=/usr/lib/x86_64-linux-gnu --incdir=/usr/include/x86_64-linux-gnu --enable-gpl --disable-stripping --enable-avresample --enable-avisynth --enable-gnutls --enable-ladspa --enable-libass --enable-libbluray --enable-libbs2b --enable-libcaca --enable-libcdio --enable-libflite --enable-libfontconfig --enable-libfreetype --enable-libfribidi --enable-libgme --enable-libgsm --enable-libmp3lame --enable-libmysofa --enable-libopenjpeg --enable-libopenmpt --enable-libopus --enable-libpulse --enable-librubberband --enable-librsvg --enable-libshine --enable-libsnappy --enable-libsoxr --enable-libspeex --enable-libssh --enable-libtheora --enable-libtwolame --enable-libvorbis --enable-libvpx --enable-libwavpack --enable-libwebp --enable-libx265 --enable-libxml2 --enable-libxvid --enable-libzmq --enable-libzvbi --enable-omx --enable-openal --enable-opengl --enable-sdl2 --enable-libdc1394 --enable-libdrm --enable-libiec61883 --enable-chromaprint --enable-frei0r --enable-libopencv --enable-libx264 --enable-shared\n",
      "  libavutil      55. 78.100 / 55. 78.100\n",
      "  libavcodec     57.107.100 / 57.107.100\n",
      "  libavformat    57. 83.100 / 57. 83.100\n",
      "  libavdevice    57. 10.100 / 57. 10.100\n",
      "  libavfilter     6.107.100 /  6.107.100\n",
      "  libavresample   3.  7.  0 /  3.  7.  0\n",
      "  libswscale      4.  8.100 /  4.  8.100\n",
      "  libswresample   2.  9.100 /  2.  9.100\n",
      "  libpostproc    54.  7.100 / 54.  7.100\n",
      "Input #0, mov,mp4,m4a,3gp,3g2,mj2, from './results/mp4/01.mp4':\n",
      "  Metadata:\n",
      "    major_brand     : isom\n",
      "    minor_version   : 512\n",
      "    compatible_brands: isomiso2avc1mp41\n",
      "    encoder         : Lavf58.29.100\n",
      "  Duration: 00:00:53.63, start: 0.000000, bitrate: 290 kb/s\n",
      "    Stream #0:0(und): Video: h264 (High) (avc1 / 0x31637661), yuv420p, 1280x720, 154 kb/s, 30 fps, 30 tbr, 15360 tbn, 60 tbc (default)\n",
      "    Metadata:\n",
      "      handler_name    : VideoHandler\n",
      "    Stream #0:1(und): Audio: aac (LC) (mp4a / 0x6134706D), 44100 Hz, stereo, fltp, 128 kb/s (default)\n",
      "    Metadata:\n",
      "      handler_name    : SoundHandler\n",
      "Stream mapping:\n",
      "  Stream #0:0 -> #0:0 (h264 (native) -> gif (native))\n",
      "Press [q] to stop, [?] for help\n",
      "Output #0, gif, to './results/gif/01.gif':\n",
      "  Metadata:\n",
      "    major_brand     : isom\n",
      "    minor_version   : 512\n",
      "    compatible_brands: isomiso2avc1mp41\n",
      "    encoder         : Lavf57.83.100\n",
      "    Stream #0:0(und): Video: gif, pal8, 640x360, q=2-31, 200 kb/s, 10 fps, 100 tbn, 10 tbc (default)\n",
      "    Metadata:\n",
      "      handler_name    : VideoHandler\n",
      "      encoder         : Lavc57.107.100 gif\n",
      "frame=    0 fps=0.0 q=0.0 size=       0kB time=00:00:00.00 bitrate=N/A speed=   0x    \r",
      "frame=    0 fps=0.0 q=0.0 size=       0kB time=00:00:00.00 bitrate=N/A speed=   0x    \r",
      "[Parsed_palettegen_3 @ 0x55d8613ca1a0] 255(+1) colors generated out of 237405 colors; ratio=0.001074\n",
      "[Parsed_palettegen_3 @ 0x55d8613ca1a0] Dupped color: FF627CA5\n",
      "[Parsed_palettegen_3 @ 0x55d8613ca1a0] Dupped color: FFDDD0B6\n",
      "[Parsed_palettegen_3 @ 0x55d8613ca1a0] Dupped color: FFDED1B7\n",
      "frame=    1 fps=0.6 q=-0.0 size=       1kB time=00:00:00.01 bitrate= 640.0kbits/s speed=0.00606x    \r",
      "frame=   94 fps= 44 q=-0.0 size=     257kB time=00:00:09.31 bitrate= 225.9kbits/s speed=4.32x    \r",
      "frame=  187 fps= 70 q=-0.0 size=     769kB time=00:00:18.61 bitrate= 338.4kbits/s speed=7.01x    \r",
      "frame=  285 fps= 90 q=-0.0 size=    1281kB time=00:00:28.41 bitrate= 369.3kbits/s speed=   9x    \r",
      "frame=  383 fps=105 q=-0.0 size=    1793kB time=00:00:38.21 bitrate= 384.4kbits/s speed=10.4x    \r",
      "frame=  480 fps=115 q=-0.0 size=    2049kB time=00:00:47.91 bitrate= 350.3kbits/s speed=11.5x    \r",
      "frame=  516 fps=118 q=-0.0 Lsize=    2461kB time=00:00:51.51 bitrate= 391.4kbits/s speed=11.8x    \n",
      "video:2457kB audio:0kB subtitle:0kB other streams:0kB global headers:0kB muxing overhead: 0.195947%\n"
     ]
    }
   ],
   "source": [
    "%%bash\n",
    "ffmpeg -ss 2 -i ./results/mp4/01.mp4 -vf \"fps=10,scale=640:-1:flags=lanczos,split[s0][s1];[s0]palettegen[p];[s1][p]paletteuse\" ./results/gif/01.gif"
   ]
  },
  {
   "cell_type": "code",
   "execution_count": 73,
   "metadata": {},
   "outputs": [],
   "source": [
    "env.close()"
   ]
  },
  {
   "cell_type": "markdown",
   "metadata": {},
   "source": [
    "### Hardware Specifications and Software Versions"
   ]
  },
  {
   "cell_type": "code",
   "execution_count": 74,
   "metadata": {},
   "outputs": [
    {
     "name": "stdout",
     "output_type": "stream",
     "text": [
      "NAME=\"Ubuntu\"\n",
      "VERSION=\"18.04.3 LTS (Bionic Beaver)\"\n",
      "ID=ubuntu\n",
      "ID_LIKE=debian\n",
      "PRETTY_NAME=\"Ubuntu 18.04.3 LTS\"\n",
      "VERSION_ID=\"18.04\"\n",
      "HOME_URL=\"https://www.ubuntu.com/\"\n",
      "SUPPORT_URL=\"https://help.ubuntu.com/\"\n",
      "BUG_REPORT_URL=\"https://bugs.launchpad.net/ubuntu/\"\n",
      "PRIVACY_POLICY_URL=\"https://www.ubuntu.com/legal/terms-and-policies/privacy-policy\"\n",
      "VERSION_CODENAME=bionic\n",
      "UBUNTU_CODENAME=bionic\n"
     ]
    }
   ],
   "source": [
    "%%bash\n",
    "cat /etc/os-release"
   ]
  },
  {
   "cell_type": "code",
   "execution_count": 76,
   "metadata": {},
   "outputs": [
    {
     "name": "stdout",
     "output_type": "stream",
     "text": [
      "Sun Nov 10 01:44:32 2019       \n",
      "+-----------------------------------------------------------------------------+\n",
      "| NVIDIA-SMI 440.26       Driver Version: 440.26       CUDA Version: 10.2     |\n",
      "|-------------------------------+----------------------+----------------------+\n",
      "| GPU  Name        Persistence-M| Bus-Id        Disp.A | Volatile Uncorr. ECC |\n",
      "| Fan  Temp  Perf  Pwr:Usage/Cap|         Memory-Usage | GPU-Util  Compute M. |\n",
      "|===============================+======================+======================|\n",
      "|   0  GeForce GTX 1060    Off  | 00000000:01:00.0 Off |                  N/A |\n",
      "| N/A   60C    P2    32W /  N/A |    998MiB /  6078MiB |      0%      Default |\n",
      "+-------------------------------+----------------------+----------------------+\n",
      "                                                                               \n",
      "+-----------------------------------------------------------------------------+\n",
      "| Processes:                                                       GPU Memory |\n",
      "|  GPU       PID   Type   Process name                             Usage      |\n",
      "|=============================================================================|\n",
      "|    0      2351      G   /usr/lib/xorg/Xorg                           169MiB |\n",
      "|    0      2538      G   /usr/bin/gnome-shell                         172MiB |\n",
      "|    0     27710      G   ...quest-channel-token=7739606748189862517    98MiB |\n",
      "|    0     29915      G   ...request-channel-token=70777709244951194    63MiB |\n",
      "|    0     30887      C   .../eka/anaconda3/envs/drlnd-p3/bin/python   487MiB |\n",
      "+-----------------------------------------------------------------------------+\n"
     ]
    }
   ],
   "source": [
    "%%bash\n",
    "nvidia-smi"
   ]
  },
  {
   "cell_type": "code",
   "execution_count": 77,
   "metadata": {
    "scrolled": false
   },
   "outputs": [
    {
     "name": "stdout",
     "output_type": "stream",
     "text": [
      "absl-py==0.8.0\n",
      "alabaster==0.7.12\n",
      "anaconda-client==1.7.2\n",
      "anaconda-project==0.8.3\n",
      "asn1crypto==0.24.0\n",
      "astor==0.7.1\n",
      "astroid==2.2.5\n",
      "astropy==3.2.1\n",
      "atomicwrites==1.3.0\n",
      "attrs==19.1.0\n",
      "Babel==2.7.0\n",
      "backcall==0.1.0\n",
      "backports.os==0.1.1\n",
      "backports.shutil-get-terminal-size==1.0.0\n",
      "beautifulsoup4==4.8.0\n",
      "bitarray==1.0.1\n",
      "bkcharts==0.2\n",
      "bleach==3.1.0\n",
      "bokeh==1.3.4\n",
      "boto==2.49.0\n",
      "Bottleneck==1.2.1\n",
      "certifi==2019.9.11\n",
      "cffi==1.12.3\n",
      "chardet==3.0.4\n",
      "Click==7.0\n",
      "cloudpickle==1.2.2\n",
      "clyent==1.2.2\n",
      "colorama==0.4.1\n",
      "contextlib2==0.5.5\n",
      "cryptography==2.7\n",
      "cycler==0.10.0\n",
      "Cython==0.29.13\n",
      "cytoolz==0.10.0\n",
      "dask==2.3.0\n",
      "decorator==4.4.0\n",
      "defusedxml==0.6.0\n",
      "distributed==2.3.2\n",
      "docopt==0.6.2\n",
      "docutils==0.15.2\n",
      "entrypoints==0.3\n",
      "et-xmlfile==1.0.1\n",
      "fastcache==1.1.0\n",
      "Flask==1.1.1\n",
      "fsspec==0.4.0\n",
      "gast==0.2.0\n",
      "gevent==1.4.0\n",
      "gmpy2==2.0.8\n",
      "google-pasta==0.1.7\n",
      "greenlet==0.4.15\n",
      "grpcio==1.11.0\n",
      "h5py==2.9.0\n",
      "heapdict==1.0.0\n",
      "html5lib==1.0.1\n",
      "idna==2.8\n",
      "imageio==2.5.0\n",
      "imagesize==1.1.0\n",
      "importlib-metadata==0.19\n",
      "ipykernel==5.1.2\n",
      "ipython==7.8.0\n",
      "ipython-genutils==0.2.0\n",
      "ipywidgets==7.5.1\n",
      "isort==4.3.21\n",
      "itsdangerous==1.1.0\n",
      "jdcal==1.4.1\n",
      "jedi==0.15.1\n",
      "jeepney==0.4\n",
      "Jinja2==2.10.1\n",
      "joblib==0.13.2\n",
      "json5==0.8.5\n",
      "jsonschema==3.0.2\n",
      "jupyter==1.0.0\n",
      "jupyter-client==5.3.1\n",
      "jupyter-console==6.0.0\n",
      "jupyter-core==4.5.0\n",
      "jupyterlab==1.1.3\n",
      "jupyterlab-server==1.0.0\n",
      "Keras-Applications==1.0.8\n",
      "Keras-Preprocessing==1.1.0\n",
      "keyring==18.0.0\n",
      "kiwisolver==1.1.0\n",
      "lazy-object-proxy==1.4.2\n",
      "llvmlite==0.29.0\n",
      "locket==0.2.0\n",
      "lxml==4.4.1\n",
      "Markdown==2.6.11\n",
      "MarkupSafe==1.1.1\n",
      "matplotlib==3.1.1\n",
      "mccabe==0.6.1\n",
      "mistune==0.8.4\n",
      "mkl-fft==1.0.14\n",
      "mkl-random==1.0.2\n",
      "mkl-service==2.3.0\n",
      "mlagents==0.4.0\n",
      "mock==3.0.5\n",
      "more-itertools==7.2.0\n",
      "mpmath==1.1.0\n",
      "msgpack==0.6.1\n",
      "multipledispatch==0.6.0\n",
      "nbconvert==5.5.0\n",
      "nbformat==4.4.0\n",
      "networkx==2.3\n",
      "nltk==3.4.5\n",
      "nose==1.3.7\n",
      "notebook==6.0.1\n",
      "numba==0.45.1\n",
      "numexpr==2.7.0\n",
      "numpy==1.16.5\n",
      "numpydoc==0.9.1\n",
      "olefile==0.46\n",
      "openpyxl==2.6.2\n",
      "packaging==19.1\n",
      "pandas==0.25.1\n",
      "pandocfilters==1.4.2\n",
      "parso==0.5.1\n",
      "partd==1.0.0\n",
      "path.py==12.0.1\n",
      "pathlib2==2.3.4\n",
      "patsy==0.5.1\n",
      "pep8==1.7.1\n",
      "pexpect==4.7.0\n",
      "pickleshare==0.7.5\n",
      "Pillow==6.1.0\n",
      "pluggy==0.12.0\n",
      "ply==3.11\n",
      "prometheus-client==0.7.1\n",
      "prompt-toolkit==2.0.9\n",
      "protobuf==3.5.2\n",
      "psutil==5.6.3\n",
      "ptyprocess==0.6.0\n",
      "py==1.8.0\n",
      "pycodestyle==2.5.0\n",
      "pycosat==0.6.3\n",
      "pycparser==2.19\n",
      "pycrypto==2.6.1\n",
      "pycurl==7.43.0.3\n",
      "pyflakes==2.1.1\n",
      "Pygments==2.4.2\n",
      "pylint==2.3.1\n",
      "pyodbc==4.0.27\n",
      "pyOpenSSL==19.0.0\n",
      "pyparsing==2.4.2\n",
      "pyrsistent==0.14.11\n",
      "PySocks==1.7.0\n",
      "pytest==5.0.1\n",
      "pytest-arraydiff==0.3\n",
      "pytest-astropy==0.5.0\n",
      "pytest-doctestplus==0.3.0\n",
      "pytest-openfiles==0.3.2\n",
      "pytest-remotedata==0.3.2\n",
      "python-dateutil==2.8.0\n",
      "pytz==2019.2\n",
      "PyWavelets==1.0.3\n",
      "PyYAML==5.1.2\n",
      "pyzmq==18.1.0\n",
      "QtAwesome==0.5.7\n",
      "qtconsole==4.5.5\n",
      "QtPy==1.9.0\n",
      "requests==2.22.0\n",
      "rope==0.14.0\n",
      "ruamel-yaml==0.15.46\n",
      "scikit-image==0.15.0\n",
      "scikit-learn==0.21.2\n",
      "scipy==1.3.1\n",
      "seaborn==0.9.0\n",
      "SecretStorage==3.1.1\n",
      "Send2Trash==1.5.0\n",
      "simplegeneric==0.8.1\n",
      "singledispatch==3.4.0.3\n",
      "six==1.12.0\n",
      "snowballstemmer==1.9.0\n",
      "sortedcollections==1.1.2\n",
      "sortedcontainers==2.1.0\n",
      "soupsieve==1.9.2\n",
      "Sphinx==2.1.2\n",
      "sphinxcontrib-applehelp==1.0.1\n",
      "sphinxcontrib-devhelp==1.0.1\n",
      "sphinxcontrib-htmlhelp==1.0.2\n",
      "sphinxcontrib-jsmath==1.0.1\n",
      "sphinxcontrib-qthelp==1.0.2\n",
      "sphinxcontrib-serializinghtml==1.1.3\n",
      "sphinxcontrib-websupport==1.1.2\n",
      "spyder==3.3.6\n",
      "spyder-kernels==0.5.1\n",
      "SQLAlchemy==1.3.7\n",
      "statsmodels==0.10.1\n",
      "sympy==1.4\n",
      "tables==3.5.2\n",
      "tblib==1.4.0\n",
      "tensorboard==1.7.0\n",
      "tensorflow==1.7.1\n",
      "tensorflow-estimator==1.14.0\n",
      "tensorflow-gpu==1.14.0\n",
      "termcolor==1.1.0\n",
      "terminado==0.8.2\n",
      "testpath==0.4.2\n",
      "toolz==0.10.0\n",
      "torch==1.2.0\n",
      "tornado==6.0.3\n",
      "traitlets==4.3.2\n",
      "typed-ast==1.3.4\n",
      "unicodecsv==0.14.1\n",
      "urllib3==1.24.2\n",
      "wcwidth==0.1.7\n",
      "webencodings==0.5.1\n",
      "Werkzeug==0.15.5\n",
      "widgetsnbextension==3.5.1\n",
      "wrapt==1.11.2\n",
      "wurlitzer==1.0.3\n",
      "xlrd==1.2.0\n",
      "XlsxWriter==1.1.8\n",
      "xlwt==1.3.0\n",
      "zict==1.0.0\n",
      "zipp==0.5.2\n"
     ]
    }
   ],
   "source": [
    "%%bash\n",
    "pip freeze"
   ]
  },
  {
   "cell_type": "markdown",
   "metadata": {},
   "source": [
    "### References"
   ]
  },
  {
   "cell_type": "markdown",
   "metadata": {},
   "source": [
    "`[1]` Lowe, R., Wu, Y., Tamar, A., Harb, J., Abbeel, P., & Mordatch, I. (2017). _Multi-Agent Actor-Critic for Mixed Cooperative-Competitive Environments_. ArXiv, abs/1706.02275."
   ]
  }
 ],
 "metadata": {
  "kernelspec": {
   "display_name": "Python 3",
   "language": "python",
   "name": "python3"
  },
  "language_info": {
   "codemirror_mode": {
    "name": "ipython",
    "version": 3
   },
   "file_extension": ".py",
   "mimetype": "text/x-python",
   "name": "python",
   "nbconvert_exporter": "python",
   "pygments_lexer": "ipython3",
   "version": "3.6.9"
  }
 },
 "nbformat": 4,
 "nbformat_minor": 2
}
