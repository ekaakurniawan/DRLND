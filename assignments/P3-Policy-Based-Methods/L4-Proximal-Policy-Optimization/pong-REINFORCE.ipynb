{
 "cells": [
  {
   "cell_type": "markdown",
   "metadata": {},
   "source": [
    "# Welcome!\n",
    "Below, we will learn to implement and train a policy to play atari-pong, using only the pixels as input. We will use convolutional neural nets, multiprocessing, and pytorch to implement and train our policy. Let's get started!\n",
    "\n",
    "(I strongly recommend you to try this notebook on the Udacity workspace first before running it locally on your desktop/laptop, as performance might suffer in different environments)"
   ]
  },
  {
   "cell_type": "code",
   "execution_count": 47,
   "metadata": {},
   "outputs": [
    {
     "name": "stdout",
     "output_type": "stream",
     "text": [
      "Python 3.7.4 (default, Aug 13 2019, 20:35:49) \n",
      "[GCC 7.3.0]\n"
     ]
    }
   ],
   "source": [
    "import sys\n",
    "print(\"Python %s\" % sys.version)\n",
    "import time\n",
    "import random as rand"
   ]
  },
  {
   "cell_type": "code",
   "execution_count": 2,
   "metadata": {},
   "outputs": [
    {
     "name": "stdout",
     "output_type": "stream",
     "text": [
      "NumPy 1.16.5\n"
     ]
    }
   ],
   "source": [
    "import numpy as np\n",
    "print(\"NumPy %s\" % np.__version__)"
   ]
  },
  {
   "cell_type": "code",
   "execution_count": 3,
   "metadata": {},
   "outputs": [
    {
     "name": "stdout",
     "output_type": "stream",
     "text": [
      "OpenAI Gym 0.14.0\n"
     ]
    }
   ],
   "source": [
    "import gym\n",
    "print(\"OpenAI Gym %s\" % gym.__version__)\n",
    "from gym import wrappers"
   ]
  },
  {
   "cell_type": "code",
   "execution_count": 4,
   "metadata": {},
   "outputs": [
    {
     "name": "stdout",
     "output_type": "stream",
     "text": [
      "matplotlib 3.1.1\n"
     ]
    }
   ],
   "source": [
    "import matplotlib\n",
    "print(\"matplotlib %s\" % matplotlib.__version__)\n",
    "import matplotlib.pyplot as plt\n",
    "%matplotlib inline"
   ]
  },
  {
   "cell_type": "code",
   "execution_count": 5,
   "metadata": {},
   "outputs": [],
   "source": [
    "# custom utilies for displaying animation, collecting rollouts and more\n",
    "import pong_utils"
   ]
  },
  {
   "cell_type": "code",
   "execution_count": 27,
   "metadata": {},
   "outputs": [],
   "source": [
    "from IPython import display"
   ]
  },
  {
   "cell_type": "code",
   "execution_count": 6,
   "metadata": {},
   "outputs": [
    {
     "name": "stdout",
     "output_type": "stream",
     "text": [
      "using device:  cuda:0\n"
     ]
    }
   ],
   "source": [
    "# check which device is being used. \n",
    "# I recommend disabling gpu until you've made sure that the code runs\n",
    "device = pong_utils.device\n",
    "print(\"using device: \",device)"
   ]
  },
  {
   "cell_type": "code",
   "execution_count": 7,
   "metadata": {},
   "outputs": [
    {
     "name": "stdout",
     "output_type": "stream",
     "text": [
      "List of available actions:  ['NOOP', 'FIRE', 'RIGHT', 'LEFT', 'RIGHTFIRE', 'LEFTFIRE']\n"
     ]
    }
   ],
   "source": [
    "# PongDeterministic does not contain random frameskip\n",
    "# so is faster to train than the vanilla Pong-v4 environment\n",
    "env = gym.make('PongDeterministic-v4')\n",
    "\n",
    "print(\"List of available actions: \", env.unwrapped.get_action_meanings())\n",
    "\n",
    "# we will only use the actions 'RIGHTFIRE' = 4 and 'LEFTFIRE\" = 5\n",
    "# the 'FIRE' part ensures that the game starts again after losing a life\n",
    "# the actions are hard-coded in pong_utils.py"
   ]
  },
  {
   "cell_type": "code",
   "execution_count": 8,
   "metadata": {},
   "outputs": [
    {
     "data": {
      "text/plain": [
       "<TimeLimit<AtariEnv<PongDeterministic-v4>>>"
      ]
     },
     "execution_count": 8,
     "metadata": {},
     "output_type": "execute_result"
    }
   ],
   "source": [
    "env"
   ]
  },
  {
   "cell_type": "markdown",
   "metadata": {},
   "source": [
    "# Preprocessing\n",
    "To speed up training, we can simplify the input by cropping the images and use every other pixel\n",
    "\n"
   ]
  },
  {
   "cell_type": "code",
   "execution_count": 9,
   "metadata": {},
   "outputs": [
    {
     "data": {
      "image/png": "[encoded data removed]",
      "text/plain": [
       "<Figure size 432x288 with 2 Axes>"
      ]
     },
     "metadata": {
      "needs_background": "light"
     },
     "output_type": "display_data"
    }
   ],
   "source": [
    "# show what a preprocessed image looks like\n",
    "env.reset()\n",
    "_, _, _, _ = env.step(0)\n",
    "# get a frame after 20 steps\n",
    "for _ in range(20):\n",
    "    frame, _, _, _ = env.step(1)\n",
    "\n",
    "plt.subplot(1,2,1)\n",
    "plt.imshow(frame)\n",
    "plt.title('original image')\n",
    "\n",
    "plt.subplot(1,2,2)\n",
    "plt.title('preprocessed image')\n",
    "\n",
    "# 80 x 80 black and white image\n",
    "plt.imshow(pong_utils.preprocess_single(frame), cmap='Greys')\n",
    "plt.show()"
   ]
  },
  {
   "cell_type": "markdown",
   "metadata": {},
   "source": [
    "# Policy\n",
    "\n",
    "## Exercise 1: Implement your policy\n",
    " \n",
    "Here, we define our policy. The input is the stack of two different frames (which captures the movement), and the output is a number $P_{\\rm right}$, the probability of moving left. Note that $P_{\\rm left}= 1-P_{\\rm right}$"
   ]
  },
  {
   "cell_type": "code",
   "execution_count": 10,
   "metadata": {},
   "outputs": [],
   "source": [
    "import torch\n",
    "import torch.nn as nn\n",
    "import torch.nn.functional as F\n",
    "\n",
    "\n",
    "\n",
    "# set up a convolutional neural net\n",
    "# the output is the probability of moving right\n",
    "# P(left) = 1-P(right)\n",
    "class Policy(nn.Module):\n",
    "\n",
    "    def __init__(self):\n",
    "        super(Policy, self).__init__()\n",
    "        \n",
    "        \n",
    "    ########\n",
    "    ## \n",
    "    ## Modify your neural network\n",
    "    ##\n",
    "    ########\n",
    "        \n",
    "        # 80x80 to outputsize x outputsize\n",
    "        # outputsize = (inputsize - kernel_size + stride)/stride \n",
    "        # (round up if not an integer)\n",
    "        self.conv1 = nn.Conv2d(2, 4, kernel_size=3, stride=2, padding=1)\n",
    "        #self.pool1 = nn.MaxPool2d(kernel_size=2, stride=2, padding=0)\n",
    "        # output = 40x40 here\n",
    "        self.conv2 = nn.Conv2d(4, 16, kernel_size=3, stride=2, padding=1)\n",
    "        #self.pool2 = nn.MaxPool2d(kernel_size=4, stride=4, padding=0)\n",
    "        # output = 20x20 here\n",
    "        self.size=16*20*20\n",
    "        \n",
    "        # 2 fully connected layer\n",
    "        self.fc1 = nn.Linear(self.size, 256)\n",
    "        self.fc2 = nn.Linear(256, 1)\n",
    "        self.sig = nn.Sigmoid()\n",
    "        \n",
    "    def forward(self, x):\n",
    "        \n",
    "    ########\n",
    "    ## \n",
    "    ## Modify your neural network\n",
    "    ##\n",
    "    ########\n",
    "    \n",
    "        x = F.relu(self.conv1(x))\n",
    "        #x = self.pool1(x)\n",
    "        x = F.relu(self.conv2(x))\n",
    "        #x = self.pool2(x)\n",
    "        # flatten the tensor\n",
    "        x = x.view(-1, self.size)\n",
    "        x = self.fc1(x)\n",
    "        x = self.fc2(x)\n",
    "        return self.sig(x)\n",
    "\n",
    "# use your own policy!\n",
    "policy=Policy().to(device)\n",
    "# policy=pong_utils.Policy().to(device)\n",
    "\n",
    "# we use the adam optimizer with learning rate 2e-4\n",
    "# optim.SGD is also possible\n",
    "import torch.optim as optim\n",
    "optimizer = optim.Adam(policy.parameters(), lr=1e-4)"
   ]
  },
  {
   "cell_type": "code",
   "execution_count": 11,
   "metadata": {},
   "outputs": [
    {
     "data": {
      "text/plain": [
       "Policy(\n",
       "  (conv1): Conv2d(2, 4, kernel_size=(3, 3), stride=(2, 2), padding=(1, 1))\n",
       "  (conv2): Conv2d(4, 16, kernel_size=(3, 3), stride=(2, 2), padding=(1, 1))\n",
       "  (fc1): Linear(in_features=6400, out_features=256, bias=True)\n",
       "  (fc2): Linear(in_features=256, out_features=1, bias=True)\n",
       "  (sig): Sigmoid()\n",
       ")"
      ]
     },
     "execution_count": 11,
     "metadata": {},
     "output_type": "execute_result"
    }
   ],
   "source": [
    "policy"
   ]
  },
  {
   "cell_type": "code",
   "execution_count": 12,
   "metadata": {},
   "outputs": [
    {
     "data": {
      "text/plain": [
       "Adam (\n",
       "Parameter Group 0\n",
       "    amsgrad: False\n",
       "    betas: (0.9, 0.999)\n",
       "    eps: 1e-08\n",
       "    lr: 0.0001\n",
       "    weight_decay: 0\n",
       ")"
      ]
     },
     "execution_count": 12,
     "metadata": {},
     "output_type": "execute_result"
    }
   ],
   "source": [
    "optimizer"
   ]
  },
  {
   "cell_type": "markdown",
   "metadata": {},
   "source": [
    "# Game visualization\n",
    "pong_utils contain a play function given the environment and a policy. An optional preprocess function can be supplied. Here we define a function that plays a game and shows learning progress"
   ]
  },
  {
   "cell_type": "code",
   "execution_count": 14,
   "metadata": {},
   "outputs": [
    {
     "data": {
      "text/html": [
       "<video width=\"432\" height=\"288\" controls autoplay loop>\n",
       "  <source type=\"video/mp4\" src=\"data:video/mp4;base64,AAAAHGZ0eXBNNFYgAAACAGlzb21pc28yYXZjMQAAAAhmcmVlAAAgzm1kYXQAAAKuBgX//6rcRem9\n",
       "5tlIt5Ys2CDZI+7veDI2NCAtIGNvcmUgMTUyIHIyODU0IGU5YTU5MDMgLSBILjI2NC9NUEVHLTQg\n",
       "QVZDIGNvZGVjIC0gQ29weWxlZnQgMjAwMy0yMDE3IC0gaHR0cDovL3d3dy52aWRlb2xhbi5vcmcv\n",
       "eDI2NC5odG1sIC0gb3B0aW9uczogY2FiYWM9MSByZWY9MyBkZWJsb2NrPTE6MDowIGFuYWx5c2U9\n",
       "MHgzOjB4MTEzIG1lPWhleCBzdWJtZT03IHBzeT0xIHBzeV9yZD0xLjAwOjAuMDAgbWl4ZWRfcmVm\n",
       "PTEgbWVfcmFuZ2U9MTYgY2hyb21hX21lPTEgdHJlbGxpcz0xIDh4OGRjdD0xIGNxbT0wIGRlYWR6\n",
       "b25lPTIxLDExIGZhc3RfcHNraXA9MSBjaHJvbWFfcXBfb2Zmc2V0PS0yIHRocmVhZHM9OSBsb29r\n",
       "YWhlYWRfdGhyZWFkcz0xIHNsaWNlZF90aHJlYWRzPTAgbnI9MCBkZWNpbWF0ZT0xIGludGVybGFj\n",
       "ZWQ9MCBibHVyYXlfY29tcGF0PTAgY29uc3RyYWluZWRfaW50cmE9MCBiZnJhbWVzPTMgYl9weXJh\n",
       "bWlkPTIgYl9hZGFwdD0xIGJfYmlhcz0wIGRpcmVjdD0xIHdlaWdodGI9MSBvcGVuX2dvcD0wIHdl\n",
       "aWdodHA9MiBrZXlpbnQ9MjUwIGtleWludF9taW49MjUgc2NlbmVjdXQ9NDAgaW50cmFfcmVmcmVz\n",
       "aD0wIHJjX2xvb2thaGVhZD00MCByYz1jcmYgbWJ0cmVlPTEgY3JmPTIzLjAgcWNvbXA9MC42MCBx\n",
       "cG1pbj0wIHFwbWF4PTY5IHFwc3RlcD00IGlwX3JhdGlvPTEuNDAgYXE9MToxLjAwAIAAAAJQZYiE\n",
       "ADP//vbsvgU1/Z/QlxEsxdpKcD4qpICAdzTAAAADAAB4HShe6DhKq9DAABtzhIudv04MAiJb9tlc\n",
       "KY5TFihInQRSmexwALeXz8ADl9DyQ558UexZ+jcTpOTObFot6/dsi7q9mKgmRYAP5wFfiaY//0Rx\n",
       "s7x1bztOh3IIk/QvIeKZ6+yHWr0ouHzdUAMifNkPRUKK/U2Pf2F2OwO74Mn927PYT6rZfzKXQKlb\n",
       "6IeNT/QgsOClzconuSLjUZPdbog87y6qtRlUJ7aqwro/BWMiatKeIjSKW/nIAulDpV82kdCKCon/\n",
       "kbRTzKxeL6AyjSaMzPaVcIFmJnQuMZ3PPYxBtQdbasnrWK51C6IdWLF9UHBS0EjX2hoPBPgIObBo\n",
       "fqUJ06yhYmyrk+GnWGjeEYIokcCwtzNC7DFa5Aco+72TqylIXHcr3DPbTWGdzBHhuBBH/K8nVJEf\n",
       "qb4vFObXAX2QC4hUjVuVgLGCZ/2xMmXTyQKCGoFF4kkzBmqsQeenkuOCm8eK1c4jhV0jGwwUKCuE\n",
       "u5LOpTY15rqasM1/+lkjfpzfMSkSHT2FXf3gcNo0NNs+UHzuDN9IavZ8eYzBqVsyq0Z3j5ozZrcz\n",
       "+P9Eptpw4r3fiz1g5TKDaLq/SfkCwkm5d9tVYsa3tTUn1Bq9SgIq88ubGqu7qS+lJtqmJcOLPniM\n",
       "Xg4ylNMqOe86rixDkDppEzyfFPFvv9lb06SUPyvA7pMdMrcOmkhK/yKVLshbSEcL1rVHruSHACJW\n",
       "TYUZyjDqgw2gaQwXVgAhkoABHwAAAHNBmiJsQz/+nhAfvFiYNDkRkwG0+QCTRuhfW+771iaE4ixE\n",
       "lELKRQa9rgaoArEzXb6T9A4HW587wwhCeBCzOCJko1fa/DMa28HDGJBfcPJpACXAc1pI/BUQQkkV\n",
       "oWDXV98w7ZoLr0CGqQadzju6zFY/K51QAAAAHAGeQXkJ/wLzNziB10B5JgYfRTYyLVOsuaVXOEEA\n",
       "AABPQZpEPCGTKYQ3//6nhAj2yn4LDM606e18IXqAQkhfXFNWAP/Tgv+xmBrcLVBQR3ElxhZbMEvr\n",
       "syxX6Ww3toOQTcz01dp6GgWpI35n1+FmoAAAAEgBnmNqQn8DD4ZeXX2QLu/1h/XsWgkNAF+9kAON\n",
       "5KqwOaeX681+S3SJ31aBBN7N98bydoZiZM/JvLoZuIS8qJIwbvtD5rkcKz0AAABuQZpoSeEPJlMC\n",
       "Gf/+nhAAS7jznpihEADgHKvkTseiaVZ6QqTYjekye76HbC/VbVC3LsjRDSmWK6fd5QpP3hhRfrgG\n",
       "QmJ2hQp7OLAjEWTlfS/HWh5lKs6WbkAB702S7///RVZu7ySwxOPy4udw1scAAABbQZ6GRRE8K/8C\n",
       "aoObTnNdQc0oThZgy24GQm37lV8AAsIj9/1ud6/n/BphF15vZD+ihZGWcNxx0HRKOtgqVZLfA13x\n",
       "uMi3hO41CE8OGXTfk4l78jOPBIgkbjh/8QAAADcBnqV0Qn8ACjox2PnmIJt9p/vk0cjJD/0twfsL\n",
       "QwALZ5KqwOaeX6+YtuMwkzEsbYpgVrOIPTHBAAAALAGep2pCfwAo9v9C89598EZschqZXNGBQEi8\n",
       "4ALMif/7/F9TzaX1FITvsZW4AAAAOEGaqkmoQWiZTBTw3/6nhAAmqfQD/W83Pxsi7LPXrZ7n3ocg\n",
       "LkgIRo8fW7YxfTcpxBDuppNnvtDgAAAAIgGeyWpCfwMgXgd35ZhU7d+d0jVj1beB7hFJobeBLj5u\n",
       "+GEAAABSQZrOSeEKUmUwIZ/+nhAAlqoqykavB02gAlkxqk3v4PUL7GLE5USLxY0loyuf/zsHodnD\n",
       "RWb5Gc0c4zN8ll0R4ZPhCaJC8MqGreQ9VJ2om3w7wQAAAF9BnuxFNEwr/wJ2i7RqtGbRgK+D8tbw\n",
       "Alp+pRVwEgvEvLVtUXAx7bbOy8vgX45naxJFTkfXdE9vdAf2/Y+CNXiTn6nkkRB7CwBz6RTX4tjz\n",
       "RAxcX96UdTyF9MaNlnBW4AAAAC8Bnwt0Qn8AFH036fTz6xsz29ANKm7UFHP2ahADZspY6gBV9zr4\n",
       "9Yn5qYsCUtIJgQAAADoBnw1qQn8AC6XFIZF0QWfCqU7WHU63ewAAjHxbpNQkya+nv8MD7GARnlWU\n",
       "d6br2Zh5TA+bqcvc4WLZAAAAf0GbEUmoQWiZTAhn//6eEAFGysuQAWInyWjtCcoHJU24uRsM5gH7\n",
       "y5I1FL0uB/4VOvLq0Ggv+kDpseTz9bN2NLK8lmijZZw7NK37jfzupaclZujPpG0YVXhFx+jnSYOI\n",
       "6valvQInl35oKLCkxc7VTsp7zPiPoArojDfDoM0OK1kAAABOQZ8vRREsJ/8DIF4LKdPelM2Xc8hs\n",
       "ACmvRP1giw2V2lwEluUEJE5J0oXVZrXSfDt2YX4r7LwKk6xTf06egjMps//offqn0NeJFxUbEHzA\n",
       "AAAASQGfUGpCfwBYrgnRCRr5AEDxW0YnYxqxWWBnDvnjsbLI2EBj3A3WeUgCJzp3YXGtyeadd4Er\n",
       "b4gcHE9fgGIMi4vlbpEYEZyIh1QAAABIQZtUSahBbJlMCGf//p4QBXfLZgCbmVJ9wY2MyR+9x4fD\n",
       "SRBNlwgT0ib26bU6f53czIgN+KFUqrxXoDFC31R4v4mmLznSROXhAAAAREGfckUVLCf/AyBeDAnx\n",
       "4AbrFNz7hiG7ytZt3A0Koev6on9CfTIxB/USPEfTamYEJ8b6Rd/s+B5Pv/cDkXEio4rV4Au4AAAA\n",
       "OQGfk2pCfwMBb/UiZaXrpSxP8+YAHG8lVZ0NprZea/EdIE7QNH/G3XYO/L41h65ERodf5BJmY4Cp\n",
       "gAAAAFtBm5dJqEFsmUwIX//+jLAAXb7LydT2pv3/huPbTE4D++ovd0i/nJ6Mcp3Lk9//+CaqLqx+\n",
       "iY/pAvzjVHZtgoeXRCdB/m6WNVk0NE3H45NuorMfSg3/cNs9e9OBAAAANkGftUUVLCf/AyBdJsH0\n",
       "cc9C1V7LrorRAUeAG2An65GWmwnjbrsHgllO0Yzs1aFtAmjiD+KzaAAAAFEBn9ZqQn8DAW/hxEud\n",
       "RWwnpA8KgBZ6lLHUAKvta+PWJ+X5zojh9Q/pq+HcH5sssPnt82C8S8kejtEAmBTexM889oxowA34\n",
       "C6Ek0L7+coElllEAAAA5QZvYSahBbJlMCF///oywABePYfenKhpYv+Y1I31opHgBwL9k6aZAWTao\n",
       "+Z6PIKzB+rWAKPt4PBKtAAAASEGb+UnhClJlMCGf/p4QBXPd3zxEYNoF9yspWQrVqUDchqWNqRlx\n",
       "BKPtaAgsNad4VubebcGLUgHxEhn9+utGeL1aDTvjvY5r4AAAAFlBmhtJ4Q6JlMFNEwz//p4QBZrI\n",
       "2dHrIAKeeXd2D7e3cjRDK0h31R83biGg2G24dvb7/8UwIiXlyCh8TiuVUZNcwvd3+l69Ej3DlUne\n",
       "K+nqWNbuMoFLheZRQQAAAFUBnjpqQn8DD4aD0y9o5xeLJBO29WmC27QAG/+EUMqdr5MCMAjvltA7\n",
       "54rk6lvjlmnnvXALFDfH6w02j7qawFe+ZNEMY3nY93T6M1hv//8+j4swGVvCAAAALUGaPUnhDyZT\n",
       "BTwv//6MsCT63eo2cqIFuw+rQA6P1Fvqq7zv0mSyIisgH/t/8wAAABsBnlxqQn8DHinCVY41fBDN\n",
       "93vRC/j6XgHlcoEAAAAlQZpeSeEPJlMCF//+jLABKYr2AAOJeNOpXdk/o90rlFZSUxmBiwAAADxB\n",
       "mn9J4Q8mUwIZ//6eEAAufBe3cs6NOasezkh1nABdPI++RchGHRFvyZa2Yn96sy8WA2ETQbUIEZqx\n",
       "6oAAAABOQZqASeEPJlMCGf/+nhAAXPgwnMJ6sSRqK3HYeoKQEeazB4aWiaAMFnFtwDDqKjiNsW98\n",
       "wk1oM6X6B9oyNSlVtkC5vQBRzhwkwm0YA2TNAAAATkGao0nhDyZTAhn//p4QAFz9WaCirW/V/PTG\n",
       "C0AJSdVaENVaBxWt1Dg0b9exJc2bvOWZkmK/YszSqEeEWf4lsJnLX+hpkfZqEnvb/EW7uAAAAB1B\n",
       "nsFFETwn/wAyUhe4OBaU+ip8vUmsTrLLxTBdwQAAAEQBnuJqQn8AMkKe2zTAWjkfiu9uBsZrAA4L\n",
       "F+anRhJqhM6CBNBQde5Gbn2Px9nA6CchFwKbnISovFmm2FcE1rm63L3KmAAAAHNBmuVJqEFomUwU\n",
       "8N/+p4QACal1RABDYM+Sn6//Hs+Z4Kou1ndn7nnNhk6MvVZV0Ume5bFwLX5gTeZbt2/KE5t1OXmQ\n",
       "Mpre5SkWkdr0siECeY/m5GKrnc7pIdFzaM8pTqU1z+6TbsMBUsjJyU5NKqaBPlmBAAAAXwGfBGpC\n",
       "fwAKPaldiRDL+cSJ9pgt60ABv/hFDKna+TAjAI75bQO+eK5Openoi81AMqt0G9emldAWzWZoFN4d\n",
       "DjiD8W0YRkj11u5259kYrVozRSF21XrZs3g1aq2w/8OrAAAAUkGbCUnhClJlMCGf/p4QAJaRgcAF\n",
       "08j75FyEYdEW/JlrZ0lffZE7xNG54cOFefD/ANPzYkLd8U6WEXntBunNk6sS87aAD5iG11OrW638\n",
       "xyJlSaEAAABRQZ8nRTRMK/8APklRgA5xP+QgjOCgwATkCebo9RKgeunI5p4JjsTNQ4ortfbUj9Cc\n",
       "CNQ3qBw/h1/31kD4+UchQ/5/xdQkbPbfybMEIrh8xQK3AAAANgGfRnRCfwBR9N/L2yPHv0/1QgCb\n",
       "usykyAh3TBrMFVttwxKt38UKpUqrMALBQWI8EgjNkLbKgAAAAC8Bn0hqQn8AUZUnHWe8nDxRBEmE\n",
       "vR2WBALQOqkAC1Zp//f4ujdU28NKGCD/qBePwAAAAIZBm01JqEFomUwIX//+jLAFuwzwJg23nAgG\n",
       "Mg/uCq/YHwkeVuv8VBgMagvEiHZL1/2uY7wHWC0t6I6WrujBgul/jus+dV/50i22T1cC1xo2iEV8\n",
       "vMflqL+4eP72bNOE6WLO2DWYck9wsvapUuhTUa8l4pNGidlx1ESiLV+DNYpmvBnC48bMwQAAADxB\n",
       "n2tFESwr/wJ2OkMvqn6lRmqYvBXoAsaUivqmgrQ6/8wzbWN0nyHUMXoNn//4Vl0CvZ3tDiVNHn0U\n",
       "a9IAAAA5AZ+KdEJ/ACjoxzNhSE/BPFFM6KlictSy+y6rdSABa6hCEHdxgzwuuFRtU2lkXBq0ItO4\n",
       "WeTQH+CfAAAAMAGfjGpCfwF8gTsAAS/obfNHfc7CVBNVf90YOHh1Y700Yfs6m51zSuaNc8tEKYnV\n",
       "wQAAAGNBm45JqEFsmUwIZ//+nhAFmh/wAEqxatthMgm9jdbsnVUs3CV6QO0PSkroh3YefTUaY9e4\n",
       "nIzWT+WO1IoqOI2xb3zCTWgzpfoH2k7WoIINNakAUc4cJMJtGAVfE0GO4Xy5EsEAAAAoQZuvSeEK\n",
       "UmUwIZ/+nhAABLTiFaLV6TaqBCbfjyyo0XP4DkBOD+2qgQAAAC1Bm9NJ4Q6JlMCGf/6eEAAueL0A\n",
       "AnI3/41OGbD7PZr0ddy0p5wQX2OyfMqB3fIAAAAzQZ/xRRE8K/8ADzRvSyDYiIraXTa4Py8fAC2Y\n",
       "vP/AZ/mJ6K+3Fcg5WYpJLGUimtItLVZ3AAAAIgGeEHRCfwAT5GaW1eF1TGFuQ5sHadiPI4uUIIqq\n",
       "g0GCo+EAAAArAZ4SakJ/ABPrg1ksFSYxfky/AroT2AES+KxOt+uiQeCXFtoQy9vJbEA1oAAAAFNB\n",
       "mhRJqEFomUwIZ//+nhAALn6sncE6N8AcvkffXjxoFhFVJCcz2ua9JaiXMshr7bLlbAb6ViRUMg71\n",
       "Hx1dLxP2HvxFf1TdAtkww3gsF3gb8p3NDgAAAE5BmjZJ4QpSZTBREsM//p4QAAuvu/p/Ybw7D4Bb\n",
       "MzTDwHaAC6j31JPPeHgW344uIJ3V7ML7Hc7i5zt0MuzvTtafnXYPyiMsmL3RFFoqGIkAAABEAZ5V\n",
       "akJ/AAMkHhYbMtbM6Lqt/ja2QrLORRvowAtwrfrEwVrkujJy9Orxbps1zBqTlMef8d/rfdeTY6zB\n",
       "oSJ0CCVrG1oAAABiQZpYSeEOiZTBRMM//p4QACXcefBRx7ABv/acZIbU4RnbRpb4QbuU7ENtahuD\n",
       "d91UvsPv5zPiPoArojDfDoM0UjpCDXcWrWFgF3xJU3btWAHpX5vf7r+oPRbA4rUsBHQIkeEAAAA5\n",
       "AZ53akJ/AAo8ehI/iHyZJqJZ3x8ofhEOJcH7DQVgBuvJVWdDaa2XwZtxlay88XRW1dk5DFs2YUgh\n",
       "AAAAOEGae0nhDyZTAhn//p4QACXfFi6t7DLFwpnRNccs9p6EO/b8jgaQAhrEw3CgCwAe/xfEfs2I\n",
       "1WRTAAAAK0GemUURPCf/AAo9v9DUzf6Z/UJXCmP59wA2iJ//v8X1PNpfmpxnx8glbeEAAAApAZ66\n",
       "akJ/AAo9v9C88Ui7JCE29i03J1jcYAN93//3+LpTSIVh05dJ7X4AAABqQZq+SahBaJlMCGf//p4Q\n",
       "BZaHSGy56AFBgNO8RMbHjJHZVBAeW/flhax1eY/VhRNCpyrk47+ieL8nDA4/pY58G0MYTvZYPc43\n",
       "zuz2tduUgk5iftoX96cVUWw1B4aTHPvCl/UDZHyXpF3p2wAAAFJBntxFESwn/wF8t/om+PXO4/Da\n",
       "XB+ZlQALZim59reQXiXkj0dogEwKb2tGFvKB0062up2bvh1hGJfDDxbP0ARCXeckFMqQvacRe/3p\n",
       "qn0pn7VhAAAATwGe/WpCfwF8t/om961UtjUPMSACPXA0rnU4MFy0x/ECfqejtPOXtQaaQYIs2Tow\n",
       "o5qlIKJ5fQx/5ON7n8xAdQ+ftCwGuuDVt65LuYSUX4wAAAA6QZr/SahBbJlMCG///qeEAABfYuSA\n",
       "BOINCjECa//PY7w299PWP32dw/Hf+PhIYY4+3SyBB86xw+I3AgAAAEBBmwNJ4QpSZTAhv/6nhAAF\n",
       "9i5IAIyiXeaxg4iycYe+gm6yYwgtSR4t2qGRkiztRW2i/bO2ev2LpSK+rm7cblA9AAAALkGfIUU0\n",
       "TCv/AATXVxTS2wIYBbQSAI9///645ZATO6wAoMEjwgJJwzbTvhDADI4AAAAbAZ9AdEJ/AAYf0HhO\n",
       "vL+fAFtZnRVGewxW1cmBAAAAGwGfQmpCfwAGSeArqdbhURrOf4LoiBIQZk+segAAAHJBm0ZJqEFo\n",
       "mUwIb//+p4QABfbULpZT9cOfQKAEyS2rCGUf/n3kxwTyE2gNTVWGxjJHbOPGzy/XoVjobnz7f/gz\n",
       "B1OJKJA0CAoS1kplhRhWC0/ui9t2tLWc0zOL+gWBADPBSln2yLywc2ThHUjbSDXqo5UAAAAsQZ9k\n",
       "RREsJ/8ABjYenvF3rTqap4gCc73ofl2ocFhM79u7MZ7UknqntyIkSn0AAABjAZ+FakJ/AAZITmIn\n",
       "CUv1Uh2Fh3A2MKoAirCBEzowk1QmdBAmgoOvcjNz7Z4+XgdBOQi4FNzkJUXizTbDKBfsjCziTqMk\n",
       "XsVacsGQIWAxFNBgAc0rgdDryMg4f/AVZZyNplAvAAAAZUGbiEmoQWyZTBRMN//+p4QAAX/5t0+o\n",
       "b/W0gUILApsghpjkAHQaS6R+QumriLC2g3+jB9CT619EYF+/bllGDgCHO2fTOnZEnEUkTl11/TCL\n",
       "8eEHf1GlVvENr7sbHcjz1U6PHPQPAAAAPgGfp2pCfwAGIviGDFnbva9nUkSR0qM/YaRADbrgaXDa\n",
       "a2Z2WejyB7tAohYElo1qu4J9fOUykrGKFnZ/oKRlAAAAXkGbrEnhClJlMCG//qeEAAJtyD4TWu4A\n",
       "C+sHO9oclqCCL4Ga0ryoHvDyr2RRfsLe+2uOrJt8HIozsFxSeIioChFOPmzEAVhQqJJ7C+sJllfJ\n",
       "llzjbCRNbiiW4Ow4AX4AAAA9QZ/KRTRMK/8ABLfWmpMKURnenqMJAAeqAwe59jLJtWGwfw7SawAt\n",
       "q9//7/F1wQsyAfiVBnFtR2AOFq/ZgQAAADkBn+l0Qn8ABh/QeEzdv/2UPi+SJOE8OTQA3LJPxQql\n",
       "SqswAsFBQyhxxCLgBLg4CP5SVi+Q/W59kyAAAABGAZ/rakJ/AAYh5XyaTs+s1QR8yqgIAdHxcu21\n",
       "YxRAKDgcNba9Xxt/PeF9DIDf8Mncj5AlcS4a6Nf/f5dGVZK08rVrIbQf8AAAAHhBm/BJqEFomUwI\n",
       "b//+p4QBcgnwkAVYGhmnf+HY8yL5CK67yw1eYqiM201ixnOCtj/+EqFWAcPWKLT4te2WLWJeWjGL\n",
       "x4gQ///0BhxiYTlVexssbru/YzUENZzUmnmrxiUoofTec9GDAm0G6QyXWLdqXCYDL2Vee8EAAABh\n",
       "QZ4ORREsK/8BJtfxGihA+WWL4PzBPACWn6lFXASC8S8tW1RcDHtts6wIoBP2S4FdBQ2gsgxhxbf5\n",
       "O1pCNsG3MbXzvsqPOmAHaFfN2WNYbvWa//1waWnY5QPxniVVAlsggQAAAFsBni10Qn8AFHzo7iV2\n",
       "uAF/fd9b4rGKIBK/KatG6Trlf2t/PeF9DIDf8MnLgS1OP86HYhiApKg1eqyzPBnzGrCs6EB8yv19\n",
       "JVeaH+BS2fTVQxDpNRVwsutlT0j9AAAANAGeL2pCfwF8ZmuxQ0KR6HyrjlaSNNdDnVIk6daq9msq\n",
       "nRJSAbkvAB0dc0rmQWlIzPPvnxwAAAAtQZo0SahBbJlMCGf//p4QAAuu+/hpX6wAXT95caBhrVE5\n",
       "dFW0ndg6qMvjaY5AAAAAO0GeUkUVLCv/AmqDmwTmBy90+ODboeAap3PsZx/GhxS7q6YLqtwA2o+J\n",
       "kh58ok5+T/h5tWrA5WwXXUghAAAALQGecXRCfwBRwKEOwR3o3OVQQJIe+CpxuvXbqfs6FPzPYy55\n",
       "gCBMOL/dtOQNSAAAACcBnnNqQn8AUbPmM2F77jf4s51lOweTlu2kti44efCp6E/z3Dy+leQAAABr\n",
       "QZp3SahBbJlMCGf//p4QAS75ngJKozyJkkALp+8oP8yhfYZ17+wCzgXZhf4JHC4UbhHgWDzjiBHN\n",
       "nxSReu2xLZv5jp3Mw16S1EuZZDX22W931Xlt6sZ5yTWbT1p4HYyt/GFK3RdOEAWobpEAAABdQZ6V\n",
       "RRUsJ/8DIF4Kr8s0CRUwWzqAA3/wihlTtfJgRgEd8toHfPFcnUsHTcg9zfH6w02j7qawFfGzLlXQ\n",
       "Mq8KK2dQYeyMJirCyJrTQts03qxAvUTe9jVNgKmFAI+AAAAANgGetmpCfwAUdhIBML5EARXH/40e\n",
       "GICDFG6rviC5ZdV/A4deMvtMy6of76HOZYGpg7exMfakgQAAAFFBmrlJqEFsmUwUTDP//p4QAJbm\n",
       "9zyBWy0HqaV4i/XgcHifmDDHgTg2JKRUBBIx26BQJt6tUk894eBbeBEnwHrbzFmq7DRa9SI96vJU\n",
       "YFYid68AAABUAZ7YakJ/AyBeB3jo+IstbO9bjbtpg6p62/7qAUBQxZZyKQSigBdBW/WJgrXJdGTl\n",
       "6dXi3TZrmDUnKY8/47/W+68mx1i1kMu2nyW7z3nyD4oJmIOAAAAATkGa20nhClJlMFLDP/6eEAEu\n",
       "4vnS0KTicAIUzi1eZy4Rx5UOeDgUP4sOADNhBhuQTtU0iCP1sodt3G0GfY6BDLyYY+8Cn7p25NFN\n",
       "KnvcVQAAADUBnvpqQn8AUbPmM2giP4h4VLJ93y9u+FC4P2BogAON5KqzobTWy+DNuMrWXni6KlLM\n",
       "YgmLFwAAADlBmv9J4Q6JlMCF//6MsACYKZTabnrd+NTYTxu4oD0qHABlRv7e/mmCDAHFUH0lBruX\n",
       "w7XBwkb2MnMAAAA3QZ8dRRU8K/8APhOmRDWz10oYtAosYLPwNMFccedAP+7oASiUf/3+Lpgs3r90\n",
       "1k1hMwvJHGzGgQAAACgBnzx0Qn8AUa+e5UquKnbN7Adt/JgQAb7v//v8X1PNpfyBxPmjhmUcAAAA\n",
       "KQGfPmpCfwBRs+YzaAfIkjVna5DoZQAWepSx1ACr7Wvj1ifmsVZpsGikAAAAa0GbIkmoQWiZTAhX\n",
       "//44QBW8es6AEpcpRVavWXBXVikIBJWg1AMJqjVuFdf/67frVDuidR75K/bWDwfj/YQompgGsDT5\n",
       "7SeRVxxLAafKMTv1b8EG4fAP7WbfNFtDn+pXVMzs+4f4o4/zZdBBAAAANkGfQEURLCf/Aw+Gg9Mn\n",
       "8w/T31ZhxN6hv/bMz7vce5VtCAA2nXEQLZsfrBXAVrmdAtA+z4I/mAAAACIBn2FqQn8DH2+a09aR\n",
       "cWyTK3uCTBQWiC2xMrJtcXx92HHBAAAAHkGbY0moQWyZTAhP//3xARrYirMHDnPuJ7izv3fqjgAA\n",
       "B3Ztb292AAAAbG12aGQAAAAAAAAAAAAAAAAAAAPoAAALuAABAAABAAAAAAAAAAAAAAAAAQAAAAAA\n",
       "AAAAAAAAAAAAAAEAAAAAAAAAAAAAAAAAAEAAAAAAAAAAAAAAAAAAAAAAAAAAAAAAAAAAAAAAAAAC\n",
       "AAAGoHRyYWsAAABcdGtoZAAAAAMAAAAAAAAAAAAAAAEAAAAAAAALuAAAAAAAAAAAAAAAAAAAAAAA\n",
       "AQAAAAAAAAAAAAAAAAAAAAEAAAAAAAAAAAAAAAAAAEAAAAABsAAAASAAAAAAACRlZHRzAAAAHGVs\n",
       "c3QAAAAAAAAAAQAAC7gAAAMAAAEAAAAABhhtZGlhAAAAIG1kaGQAAAAAAAAAAAAAAAAAADIAAACW\n",
       "AFXEAAAAAAAtaGRscgAAAAAAAAAAdmlkZQAAAAAAAAAAAAAAAFZpZGVvSGFuZGxlcgAAAAXDbWlu\n",
       "ZgAAABR2bWhkAAAAAQAAAAAAAAAAAAAAJGRpbmYAAAAcZHJlZgAAAAAAAAABAAAADHVybCAAAAAB\n",
       "AAAFg3N0YmwAAACzc3RzZAAAAAAAAAABAAAAo2F2YzEAAAAAAAAAAQAAAAAAAAAAAAAAAAAAAAAB\n",
       "sAEgAEgAAABIAAAAAAAAAAEAAAAAAAAAAAAAAAAAAAAAAAAAAAAAAAAAAAAAAAAAAAAY//8AAAAx\n",
       "YXZjQwFkABX/4QAYZ2QAFazZQbCWhAAAAwAMAAADAyA8WLZYAQAGaOvjyyLAAAAAHHV1aWRraEDy\n",
       "XyRPxbo5pRvPAyPzAAAAAAAAABhzdHRzAAAAAAAAAAEAAABkAAABgAAAABRzdHNzAAAAAAAAAAEA\n",
       "AAABAAACyGN0dHMAAAAAAAAAVwAAAAEAAAMAAAAAAQAABIAAAAABAAABgAAAAAEAAASAAAAAAQAA\n",
       "AYAAAAABAAAHgAAAAAEAAAMAAAAAAQAAAAAAAAABAAABgAAAAAEAAASAAAAAAQAAAYAAAAABAAAH\n",
       "gAAAAAEAAAMAAAAAAQAAAAAAAAABAAABgAAAAAEAAAYAAAAAAgAAAYAAAAABAAAGAAAAAAIAAAGA\n",
       "AAAAAQAABgAAAAACAAABgAAAAAIAAAMAAAAAAQAABIAAAAABAAABgAAAAAEAAASAAAAAAQAAAYAA\n",
       "AAADAAADAAAAAAEAAAYAAAAAAgAAAYAAAAABAAAEgAAAAAEAAAGAAAAAAQAAB4AAAAABAAADAAAA\n",
       "AAEAAAAAAAAAAQAAAYAAAAABAAAHgAAAAAEAAAMAAAAAAQAAAAAAAAABAAABgAAAAAIAAAMAAAAA\n",
       "AQAAB4AAAAABAAADAAAAAAEAAAAAAAAAAQAAAYAAAAABAAADAAAAAAEAAASAAAAAAQAAAYAAAAAB\n",
       "AAAEgAAAAAEAAAGAAAAAAQAABgAAAAACAAABgAAAAAEAAAYAAAAAAgAAAYAAAAABAAADAAAAAAEA\n",
       "AAeAAAAAAQAAAwAAAAABAAAAAAAAAAEAAAGAAAAAAQAABgAAAAACAAABgAAAAAEAAASAAAAAAQAA\n",
       "AYAAAAABAAAHgAAAAAEAAAMAAAAAAQAAAAAAAAABAAABgAAAAAEAAAeAAAAAAQAAAwAAAAABAAAA\n",
       "AAAAAAEAAAGAAAAAAQAAB4AAAAABAAADAAAAAAEAAAAAAAAAAQAAAYAAAAABAAAGAAAAAAIAAAGA\n",
       "AAAAAQAABIAAAAABAAABgAAAAAEAAASAAAAAAQAAAYAAAAABAAAHgAAAAAEAAAMAAAAAAQAAAAAA\n",
       "AAABAAABgAAAAAEAAAYAAAAAAgAAAYAAAAABAAADAAAAABxzdHNjAAAAAAAAAAEAAAABAAAAZAAA\n",
       "AAEAAAGkc3RzegAAAAAAAAAAAAAAZAAABQYAAAB3AAAAIAAAAFMAAABMAAAAcgAAAF8AAAA7AAAA\n",
       "MAAAADwAAAAmAAAAVgAAAGMAAAAzAAAAPgAAAIMAAABSAAAATQAAAEwAAABIAAAAPQAAAF8AAAA6\n",
       "AAAAVQAAAD0AAABMAAAAXQAAAFkAAAAxAAAAHwAAACkAAABAAAAAUgAAAFIAAAAhAAAASAAAAHcA\n",
       "AABjAAAAVgAAAFUAAAA6AAAAMwAAAIoAAABAAAAAPQAAADQAAABnAAAALAAAADEAAAA3AAAAJgAA\n",
       "AC8AAABXAAAAUgAAAEgAAABmAAAAPQAAADwAAAAvAAAALQAAAG4AAABWAAAAUwAAAD4AAABEAAAA\n",
       "MgAAAB8AAAAfAAAAdgAAADAAAABnAAAAaQAAAEIAAABiAAAAQQAAAD0AAABKAAAAfAAAAGUAAABf\n",
       "AAAAOAAAADEAAAA/AAAAMQAAACsAAABvAAAAYQAAADoAAABVAAAAWAAAAFIAAAA5AAAAPQAAADsA\n",
       "AAAsAAAALQAAAG8AAAA6AAAAJgAAACIAAAAUc3RjbwAAAAAAAAABAAAALAAAAGJ1ZHRhAAAAWm1l\n",
       "dGEAAAAAAAAAIWhkbHIAAAAAAAAAAG1kaXJhcHBsAAAAAAAAAAAAAAAALWlsc3QAAAAlqXRvbwAA\n",
       "AB1kYXRhAAAAAQAAAABMYXZmNTcuODMuMTAw\n",
       "\">\n",
       "  Your browser does not support the video tag.\n",
       "</video>"
      ],
      "text/plain": [
       "<IPython.core.display.HTML object>"
      ]
     },
     "metadata": {},
     "output_type": "display_data"
    },
    {
     "data": {
      "image/png": "[encoded data removed]",
      "text/plain": [
       "<Figure size 432x288 with 1 Axes>"
      ]
     },
     "metadata": {
      "needs_background": "light"
     },
     "output_type": "display_data"
    }
   ],
   "source": [
    "pong_utils.play(env, policy, time=100) \n",
    "# try to add the option \"preprocess=pong_utils.preprocess_single\"\n",
    "# to see what the agent sees"
   ]
  },
  {
   "cell_type": "code",
   "execution_count": 15,
   "metadata": {},
   "outputs": [
    {
     "data": {
      "text/html": [
       "<video width=\"432\" height=\"288\" controls autoplay loop>\n",
       "  <source type=\"video/mp4\" src=\"data:video/mp4;base64,AAAAHGZ0eXBNNFYgAAACAGlzb21pc28yYXZjMQAAAAhmcmVlAAAe3G1kYXQAAAKuBgX//6rcRem9\n",
       "5tlIt5Ys2CDZI+7veDI2NCAtIGNvcmUgMTUyIHIyODU0IGU5YTU5MDMgLSBILjI2NC9NUEVHLTQg\n",
       "QVZDIGNvZGVjIC0gQ29weWxlZnQgMjAwMy0yMDE3IC0gaHR0cDovL3d3dy52aWRlb2xhbi5vcmcv\n",
       "eDI2NC5odG1sIC0gb3B0aW9uczogY2FiYWM9MSByZWY9MyBkZWJsb2NrPTE6MDowIGFuYWx5c2U9\n",
       "MHgzOjB4MTEzIG1lPWhleCBzdWJtZT03IHBzeT0xIHBzeV9yZD0xLjAwOjAuMDAgbWl4ZWRfcmVm\n",
       "PTEgbWVfcmFuZ2U9MTYgY2hyb21hX21lPTEgdHJlbGxpcz0xIDh4OGRjdD0xIGNxbT0wIGRlYWR6\n",
       "b25lPTIxLDExIGZhc3RfcHNraXA9MSBjaHJvbWFfcXBfb2Zmc2V0PS0yIHRocmVhZHM9OSBsb29r\n",
       "YWhlYWRfdGhyZWFkcz0xIHNsaWNlZF90aHJlYWRzPTAgbnI9MCBkZWNpbWF0ZT0xIGludGVybGFj\n",
       "ZWQ9MCBibHVyYXlfY29tcGF0PTAgY29uc3RyYWluZWRfaW50cmE9MCBiZnJhbWVzPTMgYl9weXJh\n",
       "bWlkPTIgYl9hZGFwdD0xIGJfYmlhcz0wIGRpcmVjdD0xIHdlaWdodGI9MSBvcGVuX2dvcD0wIHdl\n",
       "aWdodHA9MiBrZXlpbnQ9MjUwIGtleWludF9taW49MjUgc2NlbmVjdXQ9NDAgaW50cmFfcmVmcmVz\n",
       "aD0wIHJjX2xvb2thaGVhZD00MCByYz1jcmYgbWJ0cmVlPTEgY3JmPTIzLjAgcWNvbXA9MC42MCBx\n",
       "cG1pbj0wIHFwbWF4PTY5IHFwc3RlcD00IGlwX3JhdGlvPTEuNDAgYXE9MToxLjAwAIAAAAB0ZYiE\n",
       "ADP//vbsvgU1/Z/QlxEsxdpKcD4qpICAdzTAAAADAAB4HShe6DhKq9DAABtwAG/LI311teG/MG4k\n",
       "baR4z2f/gAEOtJ3PQUkQ72XBEYy0DxYCvwFIiKp+16kQPr1/VSKCGK6tA7emSI8jHRyWAAADAe0A\n",
       "AABNQZoibEM//p4QAAv+ucrADap0ADRvXgtHhOg8MuvLrP1z0Dxs5aLBLVXdVRI29CL19h2T0p2E\n",
       "I/ZtN/ocfaI/rutUMFA0kinGQyC1RiYAAAAXAZ5BeQn/AAM5NJaTyUirDtiJhmZDbRkAAABtQZpF\n",
       "PCGTKYQz//6eEAAL/7HlbsMwGfYqBb8zJEWnAByhAf5vGw/Gexc4mzT5SUydoM7SGWLBJdKrXyt+\n",
       "XCt0W/+2eMOOV62o6EDWhAu2CWnuU7+lP0L0WbMHTcSCqy7gC60G1VSs2PW/A/2GwAAAADlBnmNq\n",
       "U8J/AAM4LTtFSG1/lfqcizougBApIEj1L9KjRHDsrt7qBBQRlm68s7dGo5MmznLxjahX3LEAAABA\n",
       "AZ6EakJ/AAGcRN9ACO2AAfuoQhGcme3yjWxaQupLD93Dc19bTZ5LWIBx/uA2G6QnLOOzVc8x/6Ax\n",
       "apja8z/dZwAAAGtBmohJqEFomUwIX//+jLAAAwXreY+VyG8kT/7XzMkQ0AAuMVGPXQfnJSz2SCcH\n",
       "1dljphU8OClrQxty9bYXGtehXG3qnX/nWOyrYgZr9v1zTNCiWde+OYx80rm2knpfXCrbBJakd5Fs\n",
       "nL4msQAAADxBnqZFESwn/wAAzgt6REO4JLL8QUidgLAAhGEDJzooPRE6wdIwe8KGuwdTGgK/a+PX\n",
       "5T4jIwYnNMV3ioEAAABXAZ7HakJ/AABnJCwLoKAAtnb2GWUfs1TWfX4jej1irRlTZvpJcQD97881\n",
       "8fa2VH45bprYy88e7aaIS9LbnIsHbXeCoDuCDnR5vpJ9///jgNkzuYvQDtToAAAAW0GaykmoQWyZ\n",
       "TBRML//+jLAAAYIfNv6hbx7kUSIgAy2hETgJq0Fux/YCgcpAW+dbbGKfNV73X7DKXIySQ8nfXl9v\n",
       "33apLAwIQwTBfKDgKX7kTKjiqh5JZ1PSqTQAAAA9AZ7pakJ/AABnHgJnciWwC4ABsXx4g2wxFOay\n",
       "qPhfBv1FKziBL7Ey1hHaJYOzOxIvB10PtwGCBUevYl1vVQAAADdBmutJ4QpSZTAhf/6MsAADASfS\n",
       "vJfMNsAHIjP/+MIaITxJ5DO+yQvgNCvT2PFTUtSOmrK+736AAAAAXEGbDEnhDomUwIX//oywAAsm\n",
       "W6IAOHVMYUvx/vdp4wBIFlOi9QDtLDHpXW0IVDBxK8n65ulZrRfsFQKg33DrHf8xUiODayp5F2SI\n",
       "NxeVLitK89ezT0m+fss1bIcIAAAAe0GbLUnhDyZTAhf//oywABgtafB5T+0AEZHrhMtiYvxQFXiY\n",
       "HVjSGtBfSHW35gqnnPHb6QxEI1SYjcv4NjF6M1jj3ywyMvfup9K+1LkLEdNrcYfusQoy69BOFpr4\n",
       "+E8MAb5HRw3btVnEx+YfrgEJ9K1dw4PcxmPdyxKKbQAAAF9Bm05J4Q8mUwIX//6MsABW8t0QAhTx\n",
       "paQwrzk5alBRppvHTywWLBhF4OuDqnDPxnc6ryECwGPiSkxf///w7qTZMtnX0SRVg1Id69NGrgyG\n",
       "rc/vKd0k3lrgDemJhwJJ8QAAAFNBm29J4Q8mUwIZ//6eEACo77+BtaYAFvYD+0I9+RrfLKlYXxNX\n",
       "xWNrTZcJ4Dyap3bi1op+itOq+SUaDx8ifXyuWDNaNYwtxmcc40eyVYizuaK7KwAAAGlBm5BJ4Q8m\n",
       "UwIZ//6eEAFR32+2zRrKwAWRbVlQOVnp7n0WMvjBpYBHNm+FWHkt7/cgCD4TtQJBl/uCBKmTpm96\n",
       "7FcLJR0MdiPxwZSNhbYcH0tjKEUvn72+DDjBeZ3nin9p5cFcRN9D26oAAABTQZuxSeEPJlMCG//+\n",
       "p4QBUte/CF4wAAu0goy6uet8bsFZGohVw5G53fg7sNcQ2QDEPjrxHp8hKi0yKUdYajAgmESi4Rq9\n",
       "Mwhr7UNJw8ZEbpE6UUAAAABvQZvVSeEPJlMCGf/+nhAFH9judNG3IzKVdfpMPOJY4HweQxqACpPJ\n",
       "ZcWUS8BCxi5T/FSt4HbJ/Tw9vzOCtUkRfvtx3c699Hc7dwfyi0Y7oap9g6iCM3YFchfziQ5xUulE\n",
       "dOIWSl4mStnIZAsfGKCBAAAAPkGf80URPCv/AQ6SMkQAFztx64GxA8AF66o7FS0LhAoFd28kOhWa\n",
       "sLrmzawtQX7EPHpfn+UScEDiPOvDrpp6AAAAUAGeEnRCfwFhQ3FjhhKsYACH508Q5V+FqKr8qHhU\n",
       "GFsgeatBn6awp5MWZFRsoXgLBFpZnfAcVZwvtltF1zz+Ke59wt/nxKbzBrmKo1gQLp3QAAAAQQGe\n",
       "FGpCfwDOCyvUJG7a95C/ArT/AUADYcofJg2KwFVWku3f3BtSbojlaIB+A/uhQ0uoCDA6HPU5Gfce\n",
       "MZs9/mmTAAAAckGaGEmoQWiZTAhn//6eEAEdJbWAA0Tw/9pBHRapPQya5ftqAo02nvpY9FsT3Epy\n",
       "mM50TeLe7hGOBd+Ys/T0c/JyV1Swju+fBSoIFM61ka7+Sfo7NKHVublb0R3JwgjzrI4Dvh7K9HLK\n",
       "CkWWSqpsLwuRgAAAAD5BnjZFESwn/wBNdw+r9LykNVZcYhSEM9DY8bEACapb//4whorcZ40R+mlA\n",
       "ItRtuaTw6Cdhj4CTcP6sADiEfQAAAEoBnldqQn8AT7zUqeZG4C0tAATprN99BHRadnlwtcvzIIyd\n",
       "kFCXBu37gsnXvKyFIcQtb/KzsNFYvXP0nw8S92q85xDydnhVn4TAFQAAAHZBmlpJqEFsmUwUTDP/\n",
       "/p4QBHePPy2Nx1ABp6K/zZjAhFBb6J022D6vT/3DDeC+g4c/gm/OwmmwzwzCCAcwivT+NrYLvQGb\n",
       "LMA/8oFKI+3yinZPpYOwhmw8jIo56HsL2ooyqpMLpHuJUFQ81rGHSORZHKH34ZygAAAAOQGeeWpC\n",
       "fwE12/XF2yjeIUoY/w0Nhh8bS9o8G4v4UE79cDZWdgBB+d+sOvoyKiAjdtYIEdD7wT8HpQAAACdB\n",
       "mnxJ4QpSZTBSwv/+jLABKfic96vOxR4N92T5965rQt8G4o2fAEAAAAAgAZ6bakJ/ATWxheqf+3Ko\n",
       "pzcswJYX/wCIy2yK9moUWWUAAAAjQZqdSeEOiZTAhf/+jLAEgN4hBLeBnX0JyfA50jZM43uOU0EA\n",
       "AAAiQZq+SeEPJlMCGf/+nhAEcSBtN3z3pvNxLhNqdr49ToqKaAAAAEhBmt9J4Q8mUwIZ//6eEAR3\n",
       "pvSUyJlJzHGUQALXP/+ICLo5J2ghZOSdqnK9fhMiLPEwVSIsHAiTPH//jJxsQForQec3A5n2se0A\n",
       "AAAvQZrgSeEPJlMCG//+p4QAYekVGWNLtSb8vMQRcMk2HabfAJ+29dT6fN61xiKBKaEAAABQQZsE\n",
       "SeEPJlMCGf/+nhABf/Y8J8UpD+Jvg/5mSItMADrCA/zeNh+MzBCxg6A8/Eq2WDuXXMMr9kkwsvv+\n",
       "uD709WYISrjUdogL9dfv1q+cR7QAAAA4QZ8iRRE8K/8AT5p21gxU8mV0ncyxeRmf2mACDMuUkyCP\n",
       "eBTc/lUTR+N4ngQ2+7P5H6rMKjPnwJMAAAAdAZ9BdEJ/AM3TPwFvDIW8Cw81036R5wOiRMMAcsAA\n",
       "AAAxAZ9DakJ/AAWJm1OOvyKSEAF1HOBmBgWPmc43sHppkbqYMozTsPHSc4yGusr9z8L7fQAAAGFB\n",
       "m0ZJqEFomUwU8M/+nhAEd48/LY3HUAEo0V+0hb3c67xJD80eO2CN/fzm/Kl9nM/j4blrRgnkORnB\n",
       "RxHTecxj+NpNwLfW98R8yparpVG5PZEGm0LXRiJD9UhKYrHUXLbxAAAANQGfZWpCfwE128jslkyk\n",
       "rB0qi3xEQGorQhi6ChPgX//swAQKSBE+hla7FeVdb/WVsF6WjN/5AAAAqWWIggAP//73aJ8Cm1pD\n",
       "eoDklcUl20+B/6tncHyP6QMAAAMAAK6sc+imSBhd68YAAm4ABWxy6vP8Q8D+AAKYGaekXjvrgQCt\n",
       "VGzdoWzh84Zhzv7MMg2q0+tpZwdCmPvmctF6bOtzbkSb5Ekb7udoWWVKYS3+KCz0TnRm/wFszWe+\n",
       "5SYStT6PoIWPGPafvWxXHsanqjenNmTS2IUOYF/uoy0ndMIAAAMAmoEAAABtQZojbEM//p4QAR74\n",
       "sTBsuOjMXrMa7I/LYwacAFiJV+lhb3c67xJD80eOw5D04W1ku3VTsRVYUbBGY2B1KYIvwkJWXXcr\n",
       "Cy49A+KwO7DwZmZeVgZvVj/VQuGmJDF98MqG8v5EijatGgLNDAbS4AAAAFBBnkF4hP8ATWIxA2oO\n",
       "pu9hK8sABfGs3nEZY29YVEmKsj/m8btPCL0WtT9tJtrThvBlf9VaXXEYO+ohjalZTNmzUKlSvt9N\n",
       "EDRzS4FvO8UQIAAAADwBnmJqQn8AE1imueE7rFcAZzmVSSA6qmHDZgAJarl+li904au+tvtYLv+y\n",
       "+a98SUxAL8D/d1VB5158jokAAABDQZpmSahBaJlMCF///oywAEhCKEc+dcr4Ly9AGCYAlVmx1QMd\n",
       "oA+uP9vcCaGgzW7gb9lEOGp8G5CfeHoj02URPH7BwAAAAEVBnoRFESwn/wATWzQ0/ojRL0ivw32g\n",
       "a3YUp3gV++bAAB1eUPx5bHwD/wUw5IgC/SxCT8NEerkBEFswHN5GLFVuc/J3MegAAAAgAZ6lakJ/\n",
       "ABNJ6JqPbPmLdp7Toh6kWk8iWRdNeouVq8EAAAAkQZqnSahBbJlMCF///oywAEgTRwi5oPfDuZ+J\n",
       "ZnxKTgm8bRxhAAAATUGayEnhClJlMCF//oywAEh+Jz1j8OLb3AfL0ACL5Yv/weEW4WIYpMdlN90J\n",
       "tc9JgvYLpgU3+COzsIV7xUPWJdh2M8hdPYBUJJ60oz2BAAAAPEGa6UnhDomUwIZ//p4QABHTeDpU\n",
       "6D+DyohoAHG9eC0jWrvxQFXiYHSvf/DmOesIBmZXeVfMSKBzW0UpgAAAACpBmwpJ4Q8mUwIZ//6e\n",
       "EAAX2Qy4TI9wX/x/zWCNj2xYit/qZ0RITkvobYAAAABAQZstSeEPJlMCGf/+nhAAF/9jwOTYFV2v\n",
       "coLWupgAC7PVqknlhD2XtRXHVQBS8yNmN2Eu30swgOMkOGJM7rquIQAAABxBn0tFETwn/wAM18dr\n",
       "fw8QLei1hHF5yOtOrjKgAAAAGAGfbGpCfwAZyQy4aNhi9HdqkfMMM2RwGwAAAFNBm3BJqEFomUwI\n",
       "Z//+nhAAC/+x5QL0i/xXjjMwb/MyRA8AAdYQH+bxsPxnhohr6kXKSmT7iaWXp+5wA1XSxozFeYC/\n",
       "8r8CHezHG9PIFg7ZSaUegQAAAC1Bn45FESwn/wADOCzwAJG7FXkIXidf/9NABqn7CrOUxnVNOB3F\n",
       "lq0E6vbb8tQAAAAyAZ+vakJ/AAKyzbc5iqFTaAA/nlv1houeXyjWxaOCp4URu5TiEuy1iAcdRpSe\n",
       "1/3aL9MAAABUQZuzSahBbJlMCGf//p4QAAL/7HkS0UZP00xPh8zJD2MAIP5wWj8rO5aqMMApw13k\n",
       "+SLg/bkcsy0jodvZaTizwCqRnRfSmvN+wL96pNzhQ3kDF1ZhAAAAL0Gf0UUVLCf/AADOCx5XMHDt\n",
       "r/MQ0Tr//poAPgiBk50UHoiebN3pkhOxAEvQPfbgAAAALgGf8mpCfwAAZyQsDVOzvKgBbvGuimLn\n",
       "V8/EnXZtBmycowo7hpGNK31pLPY1uUEAAABEQZv0SahBbJlMCGf//p4QAAC/8J0nu2NYCkmKt3e8\n",
       "BWP0xCJ3ABcFU9pS+XrV7JEcJpPO63s3hbS9d5ro4yQ59KZ4wIUAAABEQZoXSeEKUmUwIX/+jLAA\n",
       "SHjf8tjgIAALdQfsSAkz2HysxT3M/5yw9we1TuIn15lZ7FARM7cytdogI00w8wIgX26cdz0AAAA1\n",
       "QZ41RTRMJ/8AE12/oq7S2kIrDroYKYJVGuGr5HgBdRngSkXunDV31t2i8WAFnJIo3f1iRcsAAAAy\n",
       "AZ5WakJ/ABMe+KASDwGFDu+j9UJf8o4TyhvW11rjVMLi8zVAB/PJVVUdFB6InijNwmAAAAAmQZpY\n",
       "SahBaJlMCGf//p4QAEe+LGCOlufb55eagR87H+r/+OEPg/YAAABHQZp6SeEKUmUwURLDP/6eEAAR\n",
       "74sYI6arV/zMkSAgAXRP9VaL5rxAsazPbZLtaBXn97SmG7sn0JHcEfAW9F6P0Ycdz1YzAuEAAAAe\n",
       "AZ6ZakJ/AATWKa8GNIvDcLor7+1f5TNOkyzWjdv0AAAAXUGam0nhDomUwIZ//p4QABHSW1gALrx/\n",
       "/w7q0c+kNytDTQ96gBqVKncRfZAgD1WprdeNJ+DNcUAKx4SJpdkQx4Ay9rJ7ty8JH4ekzEGVrvLa\n",
       "qpvCAu4i6nESdjA4iwAAAEtBmrxJ4Q8mUwIb//6nhAASUyCuAEJip/9WAg/idPoRyA7Xk/0Q0mZj\n",
       "e/BZOSRVbpTbJ2qi/TA/KC9/DW5oz8w/zflGtVxe9dG6acAAAABjQZrASeEPJlMCGf/+nhABHuPP\n",
       "02Nx1ABKUFvpbHb5qJw13blwxB7/mBZwY4iLxD0ku4zkm4gUeG/rTu7Xlx2G2U/C6ye3BALsM0ff\n",
       "xD8+QPP3Tqrcjh+ZOyxcJa0T54/MFA3nAAAAO0Ge/kURPCv/ADzMkrDY5wC4tFG9yij37yA+OnMc\n",
       "9rGdv/sUAIAy5STII94FNz+VRNH44wTzZCKJhM+BAAAAHAGfHXRCfwATTVg63aO9iS2NWOZbEuuK\n",
       "m2g/AJMAAAA5AZ8fakJ/AEx73EEoJKIlNQzcFpUiFiLgMT8iABbxzgZgYFj5nON7DAehN+mDKM07\n",
       "Dx0BnIZVtcUNAAAAX0GbA0moQWiZTAhn//6eEAEe+LGBD8guQWGi4ErzAL3lcXiWxBLyXf4/7A00\n",
       "NgADrCA/zeNh+M3kBrYPHpYvUmZNVxjnY0ex7FbkjQAaSXA5DxJQvcwTfhAtgM8IuhJAAAAAOkGf\n",
       "IUURLCf/AE+8zAGHN8XiyzM6RDMCIhKumuwEVPZ6F//7UAEIkgRPoZWuxXlXpvWgk0LLtTXlO6AA\n",
       "AAA8AZ9CakJ/ABNbGF0zMp6zvH0vGMSZGwACdvLfrDRc8vlGti0VcYcv9LBPiGSxJSrUxYV82Dxh\n",
       "fLNcnwxRAAAAQ0GbRUmoQWyZTBRML//+jLAAAYLhOoMmfnpa0xhLTBwwQQARB40tIYV5yctSgojD\n",
       "+LlgKXipbDwbQf+7qqDh00eC6IAAAABEAZ9kakJ/AE+84gdc+DBM287JNvS8gVVDsLtCBnM7qjNc\n",
       "BAAhGEDJzooPRE6wdIwe8KGznv8b2O82VjeFQQjRFMfJvO4AAACeZYiEAD///vdonwKbWkN6gOSV\n",
       "xSXbT4H/q2dwfI/pAwAAAwAArqxz6KZIGF3rxgACbgAFbHIkzharp8LRyAz2+YAKkeH6SWXHcr0q\n",
       "vvnx/0nqfKKRvNjcTZz2VvaFb5AanGF5gqHf/SvPdGxtfIUqEWGJSGLoCM2RnOx5lET/8l4FyK9m\n",
       "sJT93r8EYx/uCYjFwTUOOJfSeIFNziAAPSEAAABAQZojbEL//oywABIfic9qfBKotwMAFpJKFdv+\n",
       "jkJtXc3RIhiWJcE7/xAFvBXPY882FIqRMJoehCN29LE1Dk38uQAAAF1BnkF4hP8ABNYprjNG7KZR\n",
       "NwAOxdObQgJM8w03Kc9zNB10vdittxE+uRA7EXfhnbYzbJnXAdweCpzDGutdySr0vf/CD1TvwU62\n",
       "+QigmSetzfFqaXuddoC0xlzZWsEAAAAeAZ5iakJ/AAE1imueE72aXyGMzePCgIEedNvWoO4cAAAA\n",
       "MkGaZEmoQWiZTAhf//6MsAAEgTSvcClafBdhQCL7e4f9mtbCZ5exSyMZRIS+2zCOKTYyAAAAJEGa\n",
       "hUnhClJlMCF//oywAASFhO2o8q0C88sWAoLZZ8dQhXXpbQAAADdBmqZJ4Q6JlMCF//6MsAAMFrT4\n",
       "PKf2gAjI9cJlsTF+KAq8TA6g+l8O6v9eXT4e+BzNiCUDmB2PAAAALEGax0nhDyZTAhn//p4QABfZ\n",
       "DLhMj3Bf/H/NYFKHtiQWiIpboT9/YzudNRTgAAAAKUGa6EnhDyZTAhn//p4QAC/jelwmA8rlEqHr\n",
       "6gzAw6XxPUySepFFzDftAAAAJEGbCUnhDyZTAhv//qeEABh6RUZXeTvP9lKJz1+VBZ8HJpQ91gAA\n",
       "AHZBmy1J4Q8mUwIZ//6eEABf/Y8J8UqjmuMPe/MyRFpgAaCad8m6ytApxEB1YB58uOiZ6UuWCCgl\n",
       "RzvpCcuDqyzUf8fnFQqqZY3S4yrStwazCguH8w5813Q4KWoRoOkp2rbGhmKvHxWKmvsGoHmEq7d4\n",
       "/WMrb69ZAAAAN0GfS0URPCv/ABPmnbORumzxVWESVmehf/1mADhxUNyJpjOqacD5OtJstYO71r75\n",
       "dOERVFVwUEEAAABDAZ9qdEJ/ABm/N5uYCtX78jqW1/PzYACIPJVVUdFB6InmS6Rg+EvpWmXxoY7z\n",
       "vkExvCm055BEHHOQLgEbTtv/anN4sAAAADkBn2xqQn8AArLNtsdfjwkIAJ28t+sNFzy+Ua2LRt6O\n",
       "vd3KcQl2WsQDjrm8XpC2Kc5Vq0YDjw2xImEAAABlQZtwSahBaJlMCGf//p4QAAL/wnShLRk+vYLS\n",
       "KhHwa32AAnHnBaPys7lfxnhOZWOJSu6xkXNCslrTk/KBk29nT59G0qalaSF5clY0WCRYNSlHlC7+\n",
       "DB8BenP53ShOIUTCTTND4hAAAAAzQZ+ORREsJ/8AAM4LHlqjnA+sBvE6//5YAD4IgZOdFB6Inmze\n",
       "SgyoyQX35dGUUXVNwbYpAAAAMAGfr2pCfwAAo7N1ooVS9M6cABLTouSTVzq+ZB3XdezZOUYUdw0i\n",
       "tlyxiHQbMhs9CQAAAE5Bm7NJqEFsmUwIX//+jLAAAYIfNv6627fgq9MAA2IbD83jYfibkC0Pj8zI\n",
       "jqPmtE3mNQP1lvVMnGo2EQekI94l2h41I/VY+oyXB8JU4zwAAABFQZ/RRRUsJ/8AAGceWykxP0u4\n",
       "O62xbYVEB8AFzrrVMGGeCbHWe+rPXwPnBcT+aIj94kkr2pJnle6qv2BHWurzvhHXYT0gAAAAOAGf\n",
       "8mpCfwAAZx5bKTCkP033KsIC//tS+YAIbzv1iZlvCBQK7ts79xadXZCHWDn4UkkjibhZPIHBAAAA\n",
       "QkGb9UmoQWyZTBRMK//+OEAAC6pJmeMLaH7jfPa/7UAA58VDntfNcGdHHsmd/z1w5N+XLorEQRDK\n",
       "rkJngoetn67zaAAAAE4BnhRqQn8AAWu4JyyYaIFL9ABOs6eIdB61VDBbEgE/a3XsZex8pQSH3JAP\n",
       "x0ZIzFR82TCs5cLkbeaROeb59s9Ko+7L//CCaNfGvdpX73kAAABYQZoWSeEKUmUwIT/98QAAOIGa\n",
       "ulRdXAvNugA2HKHyWwhHj9OJuPXa9+unN4/TKX6XGqIznE02jhX/nJdjJRy44YRDufpd/KY21fM0\n",
       "sn8wDhF7J/41kuKtiAAABu5tb292AAAAbG12aGQAAAAAAAAAAAAAAAAAAAPoAAALuAABAAABAAAA\n",
       "AAAAAAAAAAAAAQAAAAAAAAAAAAAAAAAAAAEAAAAAAAAAAAAAAAAAAEAAAAAAAAAAAAAAAAAAAAAA\n",
       "AAAAAAAAAAAAAAAAAAACAAAGGHRyYWsAAABcdGtoZAAAAAMAAAAAAAAAAAAAAAEAAAAAAAALuAAA\n",
       "AAAAAAAAAAAAAAAAAAAAAQAAAAAAAAAAAAAAAAAAAAEAAAAAAAAAAAAAAAAAAEAAAAABsAAAASAA\n",
       "AAAAACRlZHRzAAAAHGVsc3QAAAAAAAAAAQAAC7gAAAMAAAEAAAAABZBtZGlhAAAAIG1kaGQAAAAA\n",
       "AAAAAAAAAAAAADIAAACWAFXEAAAAAAAtaGRscgAAAAAAAAAAdmlkZQAAAAAAAAAAAAAAAFZpZGVv\n",
       "SGFuZGxlcgAAAAU7bWluZgAAABR2bWhkAAAAAQAAAAAAAAAAAAAAJGRpbmYAAAAcZHJlZgAAAAAA\n",
       "AAABAAAADHVybCAAAAABAAAE+3N0YmwAAACzc3RzZAAAAAAAAAABAAAAo2F2YzEAAAAAAAAAAQAA\n",
       "AAAAAAAAAAAAAAAAAAABsAEgAEgAAABIAAAAAAAAAAEAAAAAAAAAAAAAAAAAAAAAAAAAAAAAAAAA\n",
       "AAAAAAAAAAAY//8AAAAxYXZjQwFkABX/4QAYZ2QAFazZQbCWhAAAAwAMAAADAyA8WLZYAQAGaOvj\n",
       "yyLAAAAAHHV1aWRraEDyXyRPxbo5pRvPAyPzAAAAAAAAABhzdHRzAAAAAAAAAAEAAABkAAABgAAA\n",
       "ABxzdHNzAAAAAAAAAAMAAAABAAAAKAAAAE4AAAI4Y3R0cwAAAAAAAABFAAAAAQAAAwAAAAABAAAE\n",
       "gAAAAAEAAAGAAAAAAQAABgAAAAACAAABgAAAAAEAAAYAAAAAAgAAAYAAAAABAAAEgAAAAAEAAAGA\n",
       "AAAABwAAAwAAAAABAAAHgAAAAAEAAAMAAAAAAQAAAAAAAAABAAABgAAAAAEAAAYAAAAAAgAAAYAA\n",
       "AAABAAAEgAAAAAEAAAGAAAAAAQAABIAAAAABAAABgAAAAAQAAAMAAAAAAQAAB4AAAAABAAADAAAA\n",
       "AAEAAAAAAAAAAQAAAYAAAAABAAAEgAAAAAEAAAGAAAAAAQAAAwAAAAABAAAGAAAAAAIAAAGAAAAA\n",
       "AQAABgAAAAACAAABgAAAAAQAAAMAAAAAAQAABgAAAAACAAABgAAAAAEAAAYAAAAAAgAAAYAAAAAB\n",
       "AAAGAAAAAAIAAAGAAAAAAQAAAwAAAAABAAAGAAAAAAIAAAGAAAAAAQAAAwAAAAABAAAEgAAAAAEA\n",
       "AAGAAAAAAgAAAwAAAAABAAAHgAAAAAEAAAMAAAAAAQAAAAAAAAABAAABgAAAAAEAAAYAAAAAAgAA\n",
       "AYAAAAABAAAEgAAAAAEAAAGAAAAAAQAAAwAAAAABAAAGAAAAAAIAAAGAAAAABgAAAwAAAAABAAAH\n",
       "gAAAAAEAAAMAAAAAAQAAAAAAAAABAAABgAAAAAEAAAYAAAAAAgAAAYAAAAABAAAGAAAAAAIAAAGA\n",
       "AAAAAQAABIAAAAABAAABgAAAAAEAAAMAAAAAHHN0c2MAAAAAAAAAAQAAAAEAAABkAAAAAQAAAaRz\n",
       "dHN6AAAAAAAAAAAAAABkAAADKgAAAFEAAAAbAAAAcQAAAD0AAABEAAAAbwAAAEAAAABbAAAAXwAA\n",
       "AEEAAAA7AAAAYAAAAH8AAABjAAAAVwAAAG0AAABXAAAAcwAAAEIAAABUAAAARQAAAHYAAABCAAAA\n",
       "TgAAAHoAAAA9AAAAKwAAACQAAAAnAAAAJgAAAEwAAAAzAAAAVAAAADwAAAAhAAAANQAAAGUAAAA5\n",
       "AAAArQAAAHEAAABUAAAAQAAAAEcAAABJAAAAJAAAACgAAABRAAAAQAAAAC4AAABEAAAAIAAAABwA\n",
       "AABXAAAAMQAAADYAAABYAAAAMwAAADIAAABIAAAASAAAADkAAAA2AAAAKgAAAEsAAAAiAAAAYQAA\n",
       "AE8AAABnAAAAPwAAACAAAAA9AAAAYwAAAD4AAABAAAAARwAAAEgAAACiAAAARAAAAGEAAAAiAAAA\n",
       "NgAAACgAAAA7AAAAMAAAAC0AAAAoAAAAegAAADsAAABHAAAAPQAAAGkAAAA3AAAANAAAAFIAAABJ\n",
       "AAAAPAAAAEYAAABSAAAAXAAAABRzdGNvAAAAAAAAAAEAAAAsAAAAYnVkdGEAAABabWV0YQAAAAAA\n",
       "AAAhaGRscgAAAAAAAAAAbWRpcmFwcGwAAAAAAAAAAAAAAAAtaWxzdAAAACWpdG9vAAAAHWRhdGEA\n",
       "AAABAAAAAExhdmY1Ny44My4xMDA=\n",
       "\">\n",
       "  Your browser does not support the video tag.\n",
       "</video>"
      ],
      "text/plain": [
       "<IPython.core.display.HTML object>"
      ]
     },
     "metadata": {},
     "output_type": "display_data"
    },
    {
     "data": {
      "image/png": "[encoded data removed]",
      "text/plain": [
       "<Figure size 432x288 with 1 Axes>"
      ]
     },
     "metadata": {
      "needs_background": "light"
     },
     "output_type": "display_data"
    }
   ],
   "source": [
    "pong_utils.play(env, policy, time=100, preprocess=pong_utils.preprocess_single) "
   ]
  },
  {
   "cell_type": "markdown",
   "metadata": {},
   "source": [
    "# Rollout\n",
    "Before we start the training, we need to collect samples. To make things efficient we use parallelized environments to collect multiple examples at once"
   ]
  },
  {
   "cell_type": "code",
   "execution_count": 16,
   "metadata": {},
   "outputs": [],
   "source": [
    "envs = pong_utils.parallelEnv('PongDeterministic-v4', n=4, seed=12345)\n",
    "prob, state, action, reward = pong_utils.collect_trajectories(envs, policy, tmax=100)"
   ]
  },
  {
   "cell_type": "code",
   "execution_count": 17,
   "metadata": {
    "scrolled": false
   },
   "outputs": [
    {
     "name": "stdout",
     "output_type": "stream",
     "text": [
      "[array([0.52028984, 0.5202004 , 0.52041304, 0.5205442 ], dtype=float32), array([0.52028984, 0.47972703, 0.5201796 , 0.5202324 ], dtype=float32), array([0.5202919 , 0.5200891 , 0.5205876 , 0.47970808], dtype=float32), array([0.47936302, 0.52062005, 0.47942048, 0.47936302], dtype=float32), array([0.52084404, 0.47903275, 0.5208787 , 0.47902477], dtype=float32), array([0.5208724 , 0.47902954, 0.5208724 , 0.52068204], dtype=float32), array([0.4789437 , 0.47903323, 0.5210563 , 0.5210461 ], dtype=float32), array([0.4794399 , 0.52073884, 0.5205601 , 0.5207999 ], dtype=float32), array([0.4788959 , 0.52086675, 0.52097297, 0.52097297], dtype=float32), array([0.47959834, 0.52057356, 0.47940803, 0.47940803], dtype=float32), array([0.47949827, 0.520389  , 0.5202658 , 0.47973418], dtype=float32), array([0.4791547 , 0.5207375 , 0.47915226, 0.52097887], dtype=float32), array([0.47946393, 0.4791509 , 0.4794466 , 0.4792552 ], dtype=float32), array([0.52028763, 0.479155  , 0.4792363 , 0.5207637 ], dtype=float32), array([0.51986885, 0.4802919 , 0.5197605 , 0.47985762], dtype=float32), array([0.479733  , 0.47948384, 0.5204045 , 0.5205458 ], dtype=float32), array([0.520177  , 0.47993785, 0.5203914 , 0.52034307], dtype=float32), array([0.5198239 , 0.47982728, 0.51999396, 0.51999396], dtype=float32), array([0.47969478, 0.51996994, 0.52037126, 0.47962874], dtype=float32), array([0.52016103, 0.5201338 , 0.52013785, 0.47986215], dtype=float32), array([0.52073133, 0.4794258 , 0.47931063, 0.52082056], dtype=float32), array([0.48020655, 0.47999036, 0.48019958, 0.5199919 ], dtype=float32), array([0.520534  , 0.5199098 , 0.47955775, 0.52031106], dtype=float32), array([0.51990825, 0.48014897, 0.5196646 , 0.48014492], dtype=float32), array([0.5199999 , 0.4802454 , 0.5200554 , 0.52006555], dtype=float32), array([0.47898477, 0.4790017 , 0.47898477, 0.47922456], dtype=float32), array([0.5208126 , 0.5206489 , 0.47918743, 0.47931862], dtype=float32), array([0.4789486 , 0.52101034, 0.47933036, 0.47900885], dtype=float32), array([0.47930497, 0.47925335, 0.52079976, 0.52037346], dtype=float32), array([0.48007584, 0.48014444, 0.47983223, 0.52010447], dtype=float32), array([0.52050364, 0.52042794, 0.5204906 , 0.52050745], dtype=float32), array([0.5201881 , 0.47974664, 0.4798119 , 0.47986507], dtype=float32), array([0.47995824, 0.52017957, 0.5203302 , 0.5201073 ], dtype=float32), array([0.4800912 , 0.47976893, 0.5201658 , 0.4798873 ], dtype=float32), array([0.5206563 , 0.4795074 , 0.52035475, 0.47957963], dtype=float32), array([0.47955954, 0.52038854, 0.47937292, 0.47948152], dtype=float32), array([0.52061534, 0.47945714, 0.47947633, 0.5202021 ], dtype=float32), array([0.5205505 , 0.5205695 , 0.52030694, 0.47951287], dtype=float32), array([0.47941035, 0.52077365, 0.47935492, 0.47954863], dtype=float32), array([0.47915077, 0.5212359 , 0.47915077, 0.52128893], dtype=float32), array([0.47918022, 0.5204017 , 0.5208198 , 0.47936302], dtype=float32), array([0.47911602, 0.479109  , 0.5209395 , 0.5211092 ], dtype=float32), array([0.4793378 , 0.4796592 , 0.47938603, 0.5207327 ], dtype=float32), array([0.5199763 , 0.5205466 , 0.47988278, 0.52025557], dtype=float32), array([0.52006924, 0.4800163 , 0.5203873 , 0.52039117], dtype=float32), array([0.47995728, 0.5203989 , 0.5202435 , 0.47980964], dtype=float32), array([0.5208132 , 0.52062017, 0.5207222 , 0.5207878 ], dtype=float32), array([0.5204323 , 0.479393  , 0.47915787, 0.5206023 ], dtype=float32), array([0.5205222 , 0.5202495 , 0.5207194 , 0.47941178], dtype=float32), array([0.47971487, 0.47972095, 0.52048355, 0.4797079 ], dtype=float32), array([0.47963572, 0.51980263, 0.52014136, 0.47972745], dtype=float32), array([0.479654  , 0.5203353 , 0.47965157, 0.52015805], dtype=float32), array([0.4800278 , 0.52007085, 0.48001045, 0.48002058], dtype=float32), array([0.52022403, 0.4792891 , 0.47929996, 0.520365  ], dtype=float32), array([0.5205808 , 0.47945672, 0.47952747, 0.47934717], dtype=float32), array([0.52094734, 0.5212999 , 0.4786691 , 0.47910887], dtype=float32), array([0.4795183 , 0.52065116, 0.52054536, 0.5207837 ], dtype=float32), array([0.47907722, 0.52104163, 0.52094156, 0.47904724], dtype=float32), array([0.5206672 , 0.5209799 , 0.47932243, 0.47909254], dtype=float32), array([0.52017456, 0.47971278, 0.5205675 , 0.52034223], dtype=float32), array([0.5205785 , 0.479303  , 0.5206977 , 0.52068657], dtype=float32), array([0.5206114 , 0.52084655, 0.4794472 , 0.5206114 ], dtype=float32), array([0.52012694, 0.52050817, 0.48001134, 0.52012694], dtype=float32), array([0.47942173, 0.520281  , 0.5205744 , 0.52057827], dtype=float32), array([0.52085924, 0.52072805, 0.5207812 , 0.47927195], dtype=float32), array([0.4789977 , 0.47918916, 0.5207453 , 0.47918916], dtype=float32), array([0.52069503, 0.47943616, 0.47919637, 0.52069503], dtype=float32), array([0.479694  , 0.47975427, 0.52024573, 0.520306  ], dtype=float32), array([0.47960114, 0.4799227 , 0.47954088, 0.47973233], dtype=float32), array([0.5199445, 0.4796291, 0.5202662, 0.5201349], dtype=float32), array([0.47962284, 0.47961515, 0.47942126, 0.5203873 ], dtype=float32), array([0.47981137, 0.52037513, 0.52052367, 0.47960752], dtype=float32), array([0.52073324, 0.52032727, 0.5206887 , 0.5204973 ], dtype=float32), array([0.5207084, 0.5205892, 0.5206552, 0.5206552], dtype=float32), array([0.4790125 , 0.52104604, 0.521053  , 0.47894698], dtype=float32), array([0.52037996, 0.5205183 , 0.47941613, 0.52058387], dtype=float32), array([0.4791237 , 0.47887385, 0.52088636, 0.47911364], dtype=float32), array([0.4795243 , 0.5208107 , 0.47932047, 0.52067953], dtype=float32), array([0.47944295, 0.47948742, 0.47967887, 0.47967887], dtype=float32), array([0.47985107, 0.47971743, 0.47971743, 0.47984868], dtype=float32), array([0.479827  , 0.5199999 , 0.48000008, 0.52032155], dtype=float32), array([0.52044296, 0.47922236, 0.47897625, 0.47902077], dtype=float32), array([0.52052027, 0.47960156, 0.5205999 , 0.5207335 ], dtype=float32), array([0.5204406 , 0.52082413, 0.5206302 , 0.5207796 ], dtype=float32), array([0.47977394, 0.47965467, 0.5202851 , 0.4797079 ], dtype=float32), array([0.47983545, 0.47963572, 0.4799242 , 0.47985864], dtype=float32), array([0.5203311 , 0.520346  , 0.5201445 , 0.47952038], dtype=float32), array([0.5198195 , 0.47996843, 0.48002058, 0.5197992 ], dtype=float32), array([0.47949725, 0.47940797, 0.520365  , 0.5205587 ], dtype=float32), array([0.5206861 , 0.47935444, 0.47934717, 0.4790973 ], dtype=float32), array([0.52113694, 0.52075016, 0.52089113, 0.47877383], dtype=float32), array([0.5205408 , 0.47953433, 0.5205377 , 0.47964257], dtype=float32), array([0.520834  , 0.52049834, 0.5211393 , 0.5211355 ], dtype=float32), array([0.5209243 , 0.52060425, 0.47931546, 0.47926223], dtype=float32), array([0.47965539, 0.520197  , 0.5203446 , 0.5205675 ], dtype=float32), array([0.47935545, 0.4794215 , 0.52064455, 0.5206977 ], dtype=float32), array([0.52074957, 0.47935843, 0.52061844, 0.4794472 ], dtype=float32), array([0.52038395, 0.52017516, 0.4798075 , 0.51998866], dtype=float32), array([0.5203384 , 0.47983158, 0.5203384 , 0.52032834], dtype=float32), array([0.52072805, 0.47924656, 0.52072805, 0.5209678 ], dtype=float32)]\n"
     ]
    }
   ],
   "source": [
    "print(prob)"
   ]
  },
  {
   "cell_type": "markdown",
   "metadata": {},
   "source": [
    "# Function Definitions\n",
    "Here you will define key functions for training. \n",
    "\n",
    "## Exercise 2: write your own function for training\n",
    "(this is the same as policy_loss except the negative sign)\n",
    "\n",
    "### REINFORCE\n",
    "you have two choices (usually it's useful to divide by the time since we've normalized our rewards and the time of each trajectory is fixed)\n",
    "\n",
    "1. $\\frac{1}{T}\\sum^T_t R_{t}^{\\rm future}\\log(\\pi_{\\theta'}(a_t|s_t))$\n",
    "2. $\\frac{1}{T}\\sum^T_t R_{t}^{\\rm future}\\frac{\\pi_{\\theta'}(a_t|s_t)}{\\pi_{\\theta}(a_t|s_t)}$ where $\\theta'=\\theta$ and make sure that the no_grad is enabled when performing the division"
   ]
  },
  {
   "cell_type": "code",
   "execution_count": 18,
   "metadata": {
    "scrolled": false
   },
   "outputs": [
    {
     "name": "stdout",
     "output_type": "stream",
     "text": [
      "tensor(0.0069, device='cuda:0', grad_fn=<MeanBackward0>)\n"
     ]
    }
   ],
   "source": [
    "def surrogate(policy, old_probs, states, actions, rewards,\n",
    "              discount = 0.995, beta=0.01):\n",
    "\n",
    "    ########\n",
    "    ## \n",
    "    ## WRITE YOUR OWN CODE HERE\n",
    "    ##\n",
    "    ########\n",
    "    discount = discount ** np.arange(len(rewards))\n",
    "    rewards = np.asarray(rewards) * discount[:,np.newaxis]\n",
    "    \n",
    "    # convert rewards to future rewards\n",
    "    rewards_future = rewards[::-1].cumsum(axis=0)[::-1]\n",
    "    mean = np.mean(rewards_future, axis=1)\n",
    "    std = np.std(rewards_future, axis=1) + 1.0e-10\n",
    "    rewards_normalized = (rewards_future - mean[:,np.newaxis])/std[:,np.newaxis]\n",
    "    \n",
    "    # convert to tensor\n",
    "    actions = torch.tensor(actions, dtype=torch.int8, device=device)\n",
    "    old_probs = torch.tensor(old_probs, dtype=torch.float, device=device)\n",
    "    rewards = torch.tensor(rewards_normalized, dtype=torch.float, device=device)\n",
    "\n",
    "    # convert states to policy (or probability)\n",
    "    new_probs = pong_utils.states_to_prob(policy, states)\n",
    "    new_probs = torch.where(actions == pong_utils.RIGHT, new_probs, 1.0-new_probs)\n",
    "    \n",
    "    ratio = new_probs / old_probs\n",
    "\n",
    "    # include a regularization term\n",
    "    # this steers new_policy towards 0.5\n",
    "    # which prevents policy to become exactly 0 or 1\n",
    "    # this helps with exploration\n",
    "    # add in 1.e-10 to avoid log(0) which gives nan\n",
    "    entropy = -(new_probs*torch.log(old_probs+1.e-10)+ \\\n",
    "        (1.0-new_probs)*torch.log(1.0-old_probs+1.e-10))\n",
    "\n",
    "    return torch.mean((rewards * ratio) + (beta * entropy))\n",
    "\n",
    "\n",
    "Lsur= surrogate(policy, prob, state, action, reward)\n",
    "\n",
    "print(Lsur)"
   ]
  },
  {
   "cell_type": "markdown",
   "metadata": {},
   "source": [
    "# Training\n",
    "We are now ready to train our policy!\n",
    "WARNING: make sure to turn on GPU, which also enables multicore processing. It may take up to 45 minutes even with GPU enabled, otherwise it will take much longer!"
   ]
  },
  {
   "cell_type": "code",
   "execution_count": 19,
   "metadata": {
    "scrolled": false
   },
   "outputs": [
    {
     "name": "stdout",
     "output_type": "stream",
     "text": [
      "Requirement already satisfied: progressbar in /home/eka/anaconda3/envs/drlnd/lib/python3.7/site-packages (2.5)\r\n"
     ]
    },
    {
     "name": "stderr",
     "output_type": "stream",
     "text": [
      "training loop:   2% |                                           | ETA:  0:47:23\r"
     ]
    },
    {
     "name": "stdout",
     "output_type": "stream",
     "text": [
      "Episode: 20, score: -13.875000\n",
      "[-14. -13. -16. -15. -12. -15. -13. -13.]\n"
     ]
    },
    {
     "name": "stderr",
     "output_type": "stream",
     "text": [
      "training loop:   4% |#                                          | ETA:  0:46:42\r"
     ]
    },
    {
     "name": "stdout",
     "output_type": "stream",
     "text": [
      "Episode: 40, score: -14.500000\n",
      "[-13. -13. -16. -15. -14. -16. -13. -16.]\n"
     ]
    },
    {
     "name": "stderr",
     "output_type": "stream",
     "text": [
      "training loop:   6% |##                                         | ETA:  0:45:48\r"
     ]
    },
    {
     "name": "stdout",
     "output_type": "stream",
     "text": [
      "Episode: 60, score: -13.750000\n",
      "[-16. -13. -15. -15. -13. -15. -11. -12.]\n"
     ]
    },
    {
     "name": "stderr",
     "output_type": "stream",
     "text": [
      "training loop:   8% |###                                        | ETA:  0:44:53\r"
     ]
    },
    {
     "name": "stdout",
     "output_type": "stream",
     "text": [
      "Episode: 80, score: -14.250000\n",
      "[-16. -16. -16. -16. -13.  -8. -13. -16.]\n"
     ]
    },
    {
     "name": "stderr",
     "output_type": "stream",
     "text": [
      "training loop:  10% |####                                       | ETA:  0:43:58\r"
     ]
    },
    {
     "name": "stdout",
     "output_type": "stream",
     "text": [
      "Episode: 100, score: -13.500000\n",
      "[-15. -16.  -9. -13.  -7. -16. -16. -16.]\n"
     ]
    },
    {
     "name": "stderr",
     "output_type": "stream",
     "text": [
      "training loop:  12% |#####                                      | ETA:  0:43:01\r"
     ]
    },
    {
     "name": "stdout",
     "output_type": "stream",
     "text": [
      "Episode: 120, score: -14.375000\n",
      "[-16. -16. -14. -10. -13. -15. -16. -15.]\n"
     ]
    },
    {
     "name": "stderr",
     "output_type": "stream",
     "text": [
      "training loop:  14% |######                                     | ETA:  0:42:04\r"
     ]
    },
    {
     "name": "stdout",
     "output_type": "stream",
     "text": [
      "Episode: 140, score: -13.375000\n",
      "[-13. -16. -14. -13.  -9. -13. -14. -15.]\n"
     ]
    },
    {
     "name": "stderr",
     "output_type": "stream",
     "text": [
      "training loop:  16% |######                                     | ETA:  0:41:07\r"
     ]
    },
    {
     "name": "stdout",
     "output_type": "stream",
     "text": [
      "Episode: 160, score: -13.125000\n",
      "[-12. -16. -11. -13. -15. -14. -14. -10.]\n"
     ]
    },
    {
     "name": "stderr",
     "output_type": "stream",
     "text": [
      "training loop:  18% |#######                                    | ETA:  0:40:10\r"
     ]
    },
    {
     "name": "stdout",
     "output_type": "stream",
     "text": [
      "Episode: 180, score: -13.250000\n",
      "[-12. -12. -13. -12. -16. -13. -16. -12.]\n"
     ]
    },
    {
     "name": "stderr",
     "output_type": "stream",
     "text": [
      "training loop:  20% |########                                   | ETA:  0:39:14\r"
     ]
    },
    {
     "name": "stdout",
     "output_type": "stream",
     "text": [
      "Episode: 200, score: -15.375000\n",
      "[-15. -16. -16. -14. -16. -14. -16. -16.]\n"
     ]
    },
    {
     "name": "stderr",
     "output_type": "stream",
     "text": [
      "training loop:  22% |#########                                  | ETA:  0:38:18\r"
     ]
    },
    {
     "name": "stdout",
     "output_type": "stream",
     "text": [
      "Episode: 220, score: -14.000000\n",
      "[-16. -12. -16. -16. -10. -16. -16. -10.]\n"
     ]
    },
    {
     "name": "stderr",
     "output_type": "stream",
     "text": [
      "training loop:  24% |##########                                 | ETA:  0:37:20\r"
     ]
    },
    {
     "name": "stdout",
     "output_type": "stream",
     "text": [
      "Episode: 240, score: -15.000000\n",
      "[-15. -12. -16. -16. -13. -16. -16. -16.]\n"
     ]
    },
    {
     "name": "stderr",
     "output_type": "stream",
     "text": [
      "training loop:  26% |###########                                | ETA:  0:36:21\r"
     ]
    },
    {
     "name": "stdout",
     "output_type": "stream",
     "text": [
      "Episode: 260, score: -13.500000\n",
      "[-12. -13. -16. -15. -14. -11. -16. -11.]\n"
     ]
    },
    {
     "name": "stderr",
     "output_type": "stream",
     "text": [
      "training loop:  28% |############                               | ETA:  0:35:22\r"
     ]
    },
    {
     "name": "stdout",
     "output_type": "stream",
     "text": [
      "Episode: 280, score: -13.875000\n",
      "[-13. -13. -15. -16. -11. -16. -13. -14.]\n"
     ]
    },
    {
     "name": "stderr",
     "output_type": "stream",
     "text": [
      "training loop:  30% |############                               | ETA:  0:34:23\r"
     ]
    },
    {
     "name": "stdout",
     "output_type": "stream",
     "text": [
      "Episode: 300, score: -14.250000\n",
      "[ -9. -16.  -9. -16. -15. -16. -16. -17.]\n"
     ]
    },
    {
     "name": "stderr",
     "output_type": "stream",
     "text": [
      "training loop:  32% |#############                              | ETA:  0:33:24\r"
     ]
    },
    {
     "name": "stdout",
     "output_type": "stream",
     "text": [
      "Episode: 320, score: -13.125000\n",
      "[-14. -14.  -8. -10. -10. -16. -16. -17.]\n"
     ]
    },
    {
     "name": "stderr",
     "output_type": "stream",
     "text": [
      "training loop:  34% |##############                             | ETA:  0:32:25\r"
     ]
    },
    {
     "name": "stdout",
     "output_type": "stream",
     "text": [
      "Episode: 340, score: -13.125000\n",
      "[-12. -13. -12. -15. -10. -16. -15. -12.]\n"
     ]
    },
    {
     "name": "stderr",
     "output_type": "stream",
     "text": [
      "training loop:  36% |###############                            | ETA:  0:31:26\r"
     ]
    },
    {
     "name": "stdout",
     "output_type": "stream",
     "text": [
      "Episode: 360, score: -15.000000\n",
      "[-16. -11. -16. -16. -15. -15. -15. -16.]\n"
     ]
    },
    {
     "name": "stderr",
     "output_type": "stream",
     "text": [
      "training loop:  38% |################                           | ETA:  0:30:27\r"
     ]
    },
    {
     "name": "stdout",
     "output_type": "stream",
     "text": [
      "Episode: 380, score: -13.125000\n",
      "[-13. -14. -16.  -9. -15.  -9. -16. -13.]\n"
     ]
    },
    {
     "name": "stderr",
     "output_type": "stream",
     "text": [
      "training loop:  40% |#################                          | ETA:  0:29:28\r"
     ]
    },
    {
     "name": "stdout",
     "output_type": "stream",
     "text": [
      "Episode: 400, score: -12.500000\n",
      "[ -9. -16. -13. -13.  -7. -15. -13. -14.]\n"
     ]
    },
    {
     "name": "stderr",
     "output_type": "stream",
     "text": [
      "training loop:  42% |##################                         | ETA:  0:28:30\r"
     ]
    },
    {
     "name": "stdout",
     "output_type": "stream",
     "text": [
      "Episode: 420, score: -13.500000\n",
      "[-12. -16. -12. -12. -16. -11. -15. -14.]\n"
     ]
    },
    {
     "name": "stderr",
     "output_type": "stream",
     "text": [
      "training loop:  44% |##################                         | ETA:  0:27:31\r"
     ]
    },
    {
     "name": "stdout",
     "output_type": "stream",
     "text": [
      "Episode: 440, score: -14.250000\n",
      "[-10. -16. -14. -16. -12. -16. -14. -16.]\n"
     ]
    },
    {
     "name": "stderr",
     "output_type": "stream",
     "text": [
      "training loop:  46% |###################                        | ETA:  0:26:32\r"
     ]
    },
    {
     "name": "stdout",
     "output_type": "stream",
     "text": [
      "Episode: 460, score: -13.625000\n",
      "[-13. -16. -16. -17. -15. -14. -10.  -8.]\n"
     ]
    },
    {
     "name": "stderr",
     "output_type": "stream",
     "text": [
      "training loop:  48% |####################                       | ETA:  0:25:33\r"
     ]
    },
    {
     "name": "stdout",
     "output_type": "stream",
     "text": [
      "Episode: 480, score: -13.875000\n",
      "[-16. -10. -16.  -7. -15. -16. -16. -15.]\n"
     ]
    },
    {
     "name": "stderr",
     "output_type": "stream",
     "text": [
      "training loop:  50% |#####################                      | ETA:  0:24:34\r"
     ]
    },
    {
     "name": "stdout",
     "output_type": "stream",
     "text": [
      "Episode: 500, score: -13.625000\n",
      "[-16. -12. -13. -12. -16. -12. -12. -16.]\n"
     ]
    },
    {
     "name": "stderr",
     "output_type": "stream",
     "text": [
      "training loop:  52% |######################                     | ETA:  0:23:35\r"
     ]
    },
    {
     "name": "stdout",
     "output_type": "stream",
     "text": [
      "Episode: 520, score: -13.750000\n",
      "[-16. -15. -11. -14. -14. -10. -14. -16.]\n"
     ]
    },
    {
     "name": "stderr",
     "output_type": "stream",
     "text": [
      "training loop:  54% |#######################                    | ETA:  0:22:36\r"
     ]
    },
    {
     "name": "stdout",
     "output_type": "stream",
     "text": [
      "Episode: 540, score: -13.375000\n",
      "[-15. -16. -13. -12. -15. -13. -13. -10.]\n"
     ]
    },
    {
     "name": "stderr",
     "output_type": "stream",
     "text": [
      "training loop:  56% |########################                   | ETA:  0:21:37\r"
     ]
    },
    {
     "name": "stdout",
     "output_type": "stream",
     "text": [
      "Episode: 560, score: -12.500000\n",
      "[-11. -13. -16. -11. -16. -15.  -8. -10.]\n"
     ]
    },
    {
     "name": "stderr",
     "output_type": "stream",
     "text": [
      "training loop:  58% |########################                   | ETA:  0:20:38\r"
     ]
    },
    {
     "name": "stdout",
     "output_type": "stream",
     "text": [
      "Episode: 580, score: -12.375000\n",
      "[-10. -10.  -9. -16. -16. -12. -14. -12.]\n"
     ]
    },
    {
     "name": "stderr",
     "output_type": "stream",
     "text": [
      "training loop:  60% |#########################                  | ETA:  0:19:39\r"
     ]
    },
    {
     "name": "stdout",
     "output_type": "stream",
     "text": [
      "Episode: 600, score: -13.250000\n",
      "[-10. -16. -15. -15. -13.  -9. -16. -12.]\n"
     ]
    },
    {
     "name": "stderr",
     "output_type": "stream",
     "text": [
      "training loop:  62% |##########################                 | ETA:  0:18:40\r"
     ]
    },
    {
     "name": "stdout",
     "output_type": "stream",
     "text": [
      "Episode: 620, score: -12.875000\n",
      "[-13. -11. -16. -12. -13. -15. -15.  -8.]\n"
     ]
    },
    {
     "name": "stderr",
     "output_type": "stream",
     "text": [
      "training loop:  64% |###########################                | ETA:  0:17:41\r"
     ]
    },
    {
     "name": "stdout",
     "output_type": "stream",
     "text": [
      "Episode: 640, score: -13.375000\n",
      "[-11. -14. -15. -13. -14. -13. -13. -14.]\n"
     ]
    },
    {
     "name": "stderr",
     "output_type": "stream",
     "text": [
      "training loop:  66% |############################               | ETA:  0:16:42\r"
     ]
    },
    {
     "name": "stdout",
     "output_type": "stream",
     "text": [
      "Episode: 660, score: -13.625000\n",
      "[-13. -12. -13. -17. -11. -13. -14. -16.]\n"
     ]
    },
    {
     "name": "stderr",
     "output_type": "stream",
     "text": [
      "training loop:  68% |#############################              | ETA:  0:15:44\r"
     ]
    },
    {
     "name": "stdout",
     "output_type": "stream",
     "text": [
      "Episode: 680, score: -13.375000\n",
      "[-14. -11. -13. -12. -14. -14. -14. -15.]\n"
     ]
    },
    {
     "name": "stderr",
     "output_type": "stream",
     "text": [
      "training loop:  70% |##############################             | ETA:  0:14:45\r"
     ]
    },
    {
     "name": "stdout",
     "output_type": "stream",
     "text": [
      "Episode: 700, score: -13.375000\n",
      "[-15. -15. -14. -10. -13. -16. -13. -11.]\n"
     ]
    },
    {
     "name": "stderr",
     "output_type": "stream",
     "text": [
      "training loop:  72% |##############################             | ETA:  0:13:46\r"
     ]
    },
    {
     "name": "stdout",
     "output_type": "stream",
     "text": [
      "Episode: 720, score: -12.500000\n",
      "[-15. -16.  -8. -13. -10. -12. -11. -15.]\n"
     ]
    },
    {
     "name": "stderr",
     "output_type": "stream",
     "text": [
      "training loop:  74% |###############################            | ETA:  0:12:47\r"
     ]
    },
    {
     "name": "stdout",
     "output_type": "stream",
     "text": [
      "Episode: 740, score: -12.250000\n",
      "[-13. -10. -13. -11. -14. -11. -11. -15.]\n"
     ]
    },
    {
     "name": "stderr",
     "output_type": "stream",
     "text": [
      "training loop:  76% |################################           | ETA:  0:11:48\r"
     ]
    },
    {
     "name": "stdout",
     "output_type": "stream",
     "text": [
      "Episode: 760, score: -11.250000\n",
      "[-10. -12. -13. -13.  -9.  -9. -13. -11.]\n"
     ]
    },
    {
     "name": "stderr",
     "output_type": "stream",
     "text": [
      "training loop:  78% |#################################          | ETA:  0:10:49\r"
     ]
    },
    {
     "name": "stdout",
     "output_type": "stream",
     "text": [
      "Episode: 780, score: -11.125000\n",
      "[-11. -10. -13.  -6. -12. -14. -11. -12.]\n"
     ]
    },
    {
     "name": "stderr",
     "output_type": "stream",
     "text": [
      "training loop:  80% |##################################         | ETA:  0:09:50\r"
     ]
    },
    {
     "name": "stdout",
     "output_type": "stream",
     "text": [
      "Episode: 800, score: -12.250000\n",
      "[-13. -14. -14.  -8. -15. -16.  -8. -10.]\n"
     ]
    },
    {
     "name": "stderr",
     "output_type": "stream",
     "text": [
      "training loop:  82% |###################################        | ETA:  0:08:50\r"
     ]
    },
    {
     "name": "stdout",
     "output_type": "stream",
     "text": [
      "Episode: 820, score: -12.375000\n",
      "[-15.  -9. -10. -14. -15. -12. -14. -10.]\n"
     ]
    },
    {
     "name": "stderr",
     "output_type": "stream",
     "text": [
      "training loop:  84% |####################################       | ETA:  0:07:51\r"
     ]
    },
    {
     "name": "stdout",
     "output_type": "stream",
     "text": [
      "Episode: 840, score: -11.875000\n",
      "[-10. -10.  -9. -14. -13. -12. -15. -12.]\n"
     ]
    },
    {
     "name": "stderr",
     "output_type": "stream",
     "text": [
      "training loop:  86% |####################################       | ETA:  0:06:52\r"
     ]
    },
    {
     "name": "stdout",
     "output_type": "stream",
     "text": [
      "Episode: 860, score: -10.875000\n",
      "[-12. -11. -12. -13.  -8. -12. -11.  -8.]\n"
     ]
    },
    {
     "name": "stderr",
     "output_type": "stream",
     "text": [
      "training loop:  88% |#####################################      | ETA:  0:05:53\r"
     ]
    },
    {
     "name": "stdout",
     "output_type": "stream",
     "text": [
      "Episode: 880, score: -9.375000\n",
      "[ -9.  -8. -10. -15.  -4. -15.  -9.  -5.]\n"
     ]
    },
    {
     "name": "stderr",
     "output_type": "stream",
     "text": [
      "training loop:  90% |######################################     | ETA:  0:04:54\r"
     ]
    },
    {
     "name": "stdout",
     "output_type": "stream",
     "text": [
      "Episode: 900, score: -9.625000\n",
      "[-10.  -5. -10. -11.  -8. -11. -11. -11.]\n"
     ]
    },
    {
     "name": "stderr",
     "output_type": "stream",
     "text": [
      "training loop:  92% |#######################################    | ETA:  0:03:55\r"
     ]
    },
    {
     "name": "stdout",
     "output_type": "stream",
     "text": [
      "Episode: 920, score: -10.750000\n",
      "[-12. -10. -13. -12.  -8. -11. -10. -10.]\n"
     ]
    },
    {
     "name": "stderr",
     "output_type": "stream",
     "text": [
      "training loop:  94% |########################################   | ETA:  0:02:57\r"
     ]
    },
    {
     "name": "stdout",
     "output_type": "stream",
     "text": [
      "Episode: 940, score: -6.750000\n",
      "[ -6.  -5.  -3. -10. -12.  -3. -10.  -5.]\n"
     ]
    },
    {
     "name": "stderr",
     "output_type": "stream",
     "text": [
      "training loop:  96% |#########################################  | ETA:  0:01:58\r"
     ]
    },
    {
     "name": "stdout",
     "output_type": "stream",
     "text": [
      "Episode: 960, score: -7.750000\n",
      "[ -7.  -9.  -8.  -5.  -8.  -6.  -9. -10.]\n"
     ]
    },
    {
     "name": "stderr",
     "output_type": "stream",
     "text": [
      "training loop:  98% |########################################## | ETA:  0:00:59\r"
     ]
    },
    {
     "name": "stdout",
     "output_type": "stream",
     "text": [
      "Episode: 980, score: -6.875000\n",
      "[ -3.  -6.  -6.  -6.  -7.  -6. -11. -10.]\n"
     ]
    },
    {
     "name": "stderr",
     "output_type": "stream",
     "text": [
      "training loop: 100% |###########################################| Time: 0:49:13\r"
     ]
    },
    {
     "name": "stdout",
     "output_type": "stream",
     "text": [
      "Episode: 1000, score: -6.750000\n",
      "[ -5.  -6.  -8.  -2.  -6.  -9.  -6. -12.]\n"
     ]
    },
    {
     "name": "stderr",
     "output_type": "stream",
     "text": [
      "\n"
     ]
    }
   ],
   "source": [
    "# WARNING: running through all 800 episodes will take 30-45 minutes\n",
    "\n",
    "# training loop max iterations\n",
    "episode = 1000 # 500\n",
    "# episode = 800\n",
    "\n",
    "# widget bar to display progress\n",
    "!pip install progressbar\n",
    "import progressbar as pb\n",
    "widget = ['training loop: ', pb.Percentage(), ' ', \n",
    "          pb.Bar(), ' ', pb.ETA() ]\n",
    "timer = pb.ProgressBar(widgets=widget, maxval=episode).start()\n",
    "\n",
    "# initialize environment\n",
    "envs = pong_utils.parallelEnv('PongDeterministic-v4', n=8, seed=1234)\n",
    "\n",
    "discount_rate = .99\n",
    "beta = .01\n",
    "tmax = 320\n",
    "\n",
    "# keep track of progress\n",
    "mean_rewards = []\n",
    "\n",
    "policy.train()\n",
    "for e in range(episode):\n",
    "\n",
    "    # collect trajectories\n",
    "    old_probs, states, actions, rewards = \\\n",
    "        pong_utils.collect_trajectories(envs, policy, tmax=tmax)\n",
    "        \n",
    "    total_rewards = np.sum(rewards, axis=0)\n",
    "\n",
    "    # this is the SOLUTION!\n",
    "    # use your own surrogate function\n",
    "    L = -surrogate(policy, old_probs, states, actions, rewards, \n",
    "                   discount=discount_rate, beta=beta)\n",
    "    # L = -pong_utils.surrogate(policy, old_probs, states, actions, rewards, \n",
    "    #                           discount=discount_rate, beta=beta)\n",
    "    optimizer.zero_grad()\n",
    "    L.backward()\n",
    "    optimizer.step()\n",
    "    #bar del L\n",
    "        \n",
    "    # the regulation term also reduces\n",
    "    # this reduces exploration in later runs\n",
    "    #bar beta*=.995\n",
    "    \n",
    "    # get the average reward of the parallel environments\n",
    "    mean_rewards.append(np.mean(total_rewards))\n",
    "    \n",
    "    # display some progress every 20 iterations\n",
    "    if (e+1)%20 ==0 :\n",
    "        print(\"Episode: {0:d}, score: {1:f}\".format(e+1,np.mean(total_rewards)))\n",
    "        print(total_rewards)\n",
    "        \n",
    "    # update progress widget bar\n",
    "    timer.update(e+1)\n",
    "\n",
    "policy.eval()\n",
    "timer.finish()"
   ]
  },
  {
   "cell_type": "markdown",
   "metadata": {},
   "source": [
    "#### CPU Load"
   ]
  },
  {
   "cell_type": "markdown",
   "metadata": {},
   "source": [
    "![REINFORCE CPU Load](./images/reinforce-cpu-load.png)"
   ]
  },
  {
   "cell_type": "markdown",
   "metadata": {},
   "source": [
    "#### GPU Load"
   ]
  },
  {
   "cell_type": "markdown",
   "metadata": {},
   "source": [
    "```\n",
    "while sleep 0.2; do\n",
    "nvidia-smi --query-gpu=name,index,temperature.gpu,\\\n",
    "utilization.gpu,utilization.memory,\\\n",
    "memory.total,memory.free,memory.used --format=csv,noheader\n",
    "done\n",
    "```"
   ]
  },
  {
   "cell_type": "markdown",
   "metadata": {},
   "source": [
    "```\n",
    "GeForce GTX 1060, 0, 73, 4 %, 1 %, 6078 MiB, 4249 MiB, 1829 MiB\n",
    "GeForce GTX 1060, 0, 73, 4 %, 1 %, 6078 MiB, 4249 MiB, 1829 MiB\n",
    "GeForce GTX 1060, 0, 73, 22 %, 10 %, 6078 MiB, 4249 MiB, 1829 MiB\n",
    "GeForce GTX 1060, 0, 73, 24 %, 5 %, 6078 MiB, 4249 MiB, 1829 MiB\n",
    "GeForce GTX 1060, 0, 73, 3 %, 1 %, 6078 MiB, 4249 MiB, 1829 MiB\n",
    "GeForce GTX 1060, 0, 73, 4 %, 1 %, 6078 MiB, 4249 MiB, 1829 MiB\n",
    "GeForce GTX 1060, 0, 73, 4 %, 1 %, 6078 MiB, 4249 MiB, 1829 MiB\n",
    "GeForce GTX 1060, 0, 73, 4 %, 1 %, 6078 MiB, 4249 MiB, 1829 MiB\n",
    "GeForce GTX 1060, 0, 73, 3 %, 1 %, 6078 MiB, 4249 MiB, 1829 MiB\n",
    "GeForce GTX 1060, 0, 73, 5 %, 1 %, 6078 MiB, 4249 MiB, 1829 MiB\n",
    "GeForce GTX 1060, 0, 73, 4 %, 1 %, 6078 MiB, 4249 MiB, 1829 MiB\n",
    "GeForce GTX 1060, 0, 73, 4 %, 1 %, 6078 MiB, 4249 MiB, 1829 MiB\n",
    "GeForce GTX 1060, 0, 73, 3 %, 1 %, 6078 MiB, 4249 MiB, 1829 MiB\n",
    "GeForce GTX 1060, 0, 73, 4 %, 1 %, 6078 MiB, 4249 MiB, 1829 MiB\n",
    "GeForce GTX 1060, 0, 72, 4 %, 1 %, 6078 MiB, 4249 MiB, 1829 MiB\n",
    "GeForce GTX 1060, 0, 73, 5 %, 1 %, 6078 MiB, 4249 MiB, 1829 MiB\n",
    "GeForce GTX 1060, 0, 73, 41 %, 14 %, 6078 MiB, 4249 MiB, 1829 MiB\n",
    "GeForce GTX 1060, 0, 73, 10 %, 2 %, 6078 MiB, 4249 MiB, 1829 MiB\n",
    "GeForce GTX 1060, 0, 73, 5 %, 1 %, 6078 MiB, 4249 MiB, 1829 MiB\n",
    "GeForce GTX 1060, 0, 73, 4 %, 1 %, 6078 MiB, 4249 MiB, 1829 MiB\n",
    "GeForce GTX 1060, 0, 73, 4 %, 1 %, 6078 MiB, 4249 MiB, 1829 MiB\n",
    "```"
   ]
  },
  {
   "cell_type": "code",
   "execution_count": 20,
   "metadata": {},
   "outputs": [
    {
     "data": {
      "text/html": [
       "<video width=\"432\" height=\"288\" controls autoplay loop>\n",
       "  <source type=\"video/mp4\" src=\"data:video/mp4;base64,AAAAHGZ0eXBNNFYgAAACAGlzb21pc28yYXZjMQAAAAhmcmVlAAEAhG1kYXQAAAKuBgX//6rcRem9\n",
       "5tlIt5Ys2CDZI+7veDI2NCAtIGNvcmUgMTUyIHIyODU0IGU5YTU5MDMgLSBILjI2NC9NUEVHLTQg\n",
       "QVZDIGNvZGVjIC0gQ29weWxlZnQgMjAwMy0yMDE3IC0gaHR0cDovL3d3dy52aWRlb2xhbi5vcmcv\n",
       "eDI2NC5odG1sIC0gb3B0aW9uczogY2FiYWM9MSByZWY9MyBkZWJsb2NrPTE6MDowIGFuYWx5c2U9\n",
       "MHgzOjB4MTEzIG1lPWhleCBzdWJtZT03IHBzeT0xIHBzeV9yZD0xLjAwOjAuMDAgbWl4ZWRfcmVm\n",
       "PTEgbWVfcmFuZ2U9MTYgY2hyb21hX21lPTEgdHJlbGxpcz0xIDh4OGRjdD0xIGNxbT0wIGRlYWR6\n",
       "b25lPTIxLDExIGZhc3RfcHNraXA9MSBjaHJvbWFfcXBfb2Zmc2V0PS0yIHRocmVhZHM9OSBsb29r\n",
       "YWhlYWRfdGhyZWFkcz0xIHNsaWNlZF90aHJlYWRzPTAgbnI9MCBkZWNpbWF0ZT0xIGludGVybGFj\n",
       "ZWQ9MCBibHVyYXlfY29tcGF0PTAgY29uc3RyYWluZWRfaW50cmE9MCBiZnJhbWVzPTMgYl9weXJh\n",
       "bWlkPTIgYl9hZGFwdD0xIGJfYmlhcz0wIGRpcmVjdD0xIHdlaWdodGI9MSBvcGVuX2dvcD0wIHdl\n",
       "aWdodHA9MiBrZXlpbnQ9MjUwIGtleWludF9taW49MjUgc2NlbmVjdXQ9NDAgaW50cmFfcmVmcmVz\n",
       "aD0wIHJjX2xvb2thaGVhZD00MCByYz1jcmYgbWJ0cmVlPTEgY3JmPTIzLjAgcWNvbXA9MC42MCBx\n",
       "cG1pbj0wIHFwbWF4PTY5IHFwc3RlcD00IGlwX3JhdGlvPTEuNDAgYXE9MToxLjAwAIAAAAJaZYiE\n",
       "ADP//vbsvgU1/Z/QlxEsxdpKcD4qpICAdzTAAAADAAB4HShe6DhKq9DAABtzhIudv04MAiJb9tlc\n",
       "KY5TFihInQRSmexwALeXz8ADl9DyQ558UexZ+jcTpOTObFot6/dsi7q9mKgmRYAP5wFfiaY//0Rx\n",
       "s7x1bzsXHbIIk/QvIeKZdCWCVIcLOlfXXSiXw1SdKv/OdkV+pse/sLsdgd3wZP7t2ewn1Wy/mUug\n",
       "VK30Q8an+hBYghX15RMGhrBkpjxvCcy5Wyy7TsxMqF113RwpcRE5vO5mAcx20gZroBumWvGsXZQV\n",
       "E/8jaKeZWLxfQGUaTRlbo5o4x0lPTajM/JY7GINqDrbVk9axXOoXRDqxYvqg2hVvJBRYZMECDmsB\n",
       "7kt/j9j20a1ml6dCLsEN/U/+CdJHAsLczQuwxWuQHKPu6CPgykLjuV7hntprDO5gjxEI0ZU6dHz9\n",
       "IIimLL98LGAF9kAuIVI1blYCxgmrSVDscuwPe/pmknEJnHfBC6MyZJuvRwU3jxWrnEcKukY2GChT\n",
       "SgRo8rVjFWUJq4aHf/pZI36c3zEpEh09hV394HDaNDTbPlB87gzfSGr2fHmMwUkiEEc4ahhbS5hb\n",
       "qJQbPDIkmL4nrWP/ZxqTSviJo9uV9Tupf94U/qnQr9dkLsHsU+nWDwwXuDr4hIkPzJiB2Nh2dnaL\n",
       "JOmxB2rT2Bzszua74DgK15S1C2lJzxKCla0Founc9dnCdG41lBhoOeMxNdsMj1PBAuUttrBcl0ff\n",
       "2dDTulg63dp6e+UABg9TkCp/9Txzl1EA9t4AEfEAAACYQZoibEM//p4QH7xYmDQ5EZMBtPkAk0bo\n",
       "X1vu+9YmhOIsRJRCykUGva4GqALumYu30n6BwOjz6XhhCEvlQtz//MH8ikDV9r8MuKAK3SZBhNM5\n",
       "TRzXAc1q0+9ChHkt22Y1CjsvuCwh5EhhsdLAoAZuTAnL7/xuAhxNJ8g8guMut7M4rBWS+PZeDKF2\n",
       "X4HBOzocOHCTA471m2gAAAAgAZ5BeQn/AvM3OIHXQHkmBh9FNjItVT+FvksJ2keNIj8AAABsQZpE\n",
       "PCGTKYQz//6eEB+8WJg0ORGS73R8aLbfa+nHwl4wugAuo99Sb38HqF9hf0uFSfTUxgbyJqF9/Es8\n",
       "VFdMZqSxOfgNmuw1QLZ8Nepjb+qWIl5lsxr/pbTfHqZYFxycQQTu3Tutze+Fmm4fAAAAbgGeY2pC\n",
       "fwMPhl5dfZAu7/WH9exaCQ0AX72QA43kqrA5p5frzX5LdInfVoEE3s33xvJ2hmJkz8m8uhm4hLyo\n",
       "kjBvOTRnlHvRpJQ3FOrA5a+BAvyc9odQKEoEVnFemDqTTL9BqnOHapZYdQ6m5gclAAAAUkGaZknh\n",
       "DyZTBTwz//6eEAAF19n9nr1UFnJToxQs7jOLgQYIAQeOvsec+rKcLXQLN6VBUiLRG6BXpvkdoQIw\n",
       "jEhvJ2UnyevkH7paUYbfzwaunpcAAAA4AZ6FakJ/Aw+GhPVlwaeds9Zd08uD9gmIADjeSqsDmnl+\n",
       "vmLbjMJMxLG2QqoKvPB0ApTKt6KQTMEAAAA0QZqISeEPJlMFPDP//p4QAALr7P41pj4X3sPZ6TQB\n",
       "HK2sExzH//v+DuJQAGv7shTtwkaapwAAACQBnqdqQn8DD4aE8rLbvXcuR5ADfd//9/i+p5tL8SVF\n",
       "BS4ACGAAAABnQZqqSeEPJlMFPDf//qeEAWjy24AOAu9M/gtilQiQiHYDhA9rFrjJLW2xi+m5TiCH\n",
       "dwTs+E15nQGNqbby2ApzIEJNrabU0zLA+6LbLrSdn5V2GR/ds1mEQeheFVa2wMjqRtp6INoT2gAA\n",
       "ADsBnslqQn8DD4aJ8lwYmS0BPw35C2LrXFRCXxh08AWHFN8H7GpMW4Uc0TyAn+wSAUGiXP9nzOWr\n",
       "VDkv+QAAAG5Bms5J4Q8mUwIb//6nhAFo8tuAEyDaNEK02TUQifpX+sY8jMEpgRAL7FxejxFZQ61t\n",
       "f/neDHaA72xNhNCqj7MMDliVIwXg2/YJyJnMfYsQrJxoqFpbFi9QFZeMFQ6Y0UQ048l2Ot7yiz8g\n",
       "ZyS+/AAAAExBnuxFETwr/wJqg54JgXol3eprlrM/Rns1wfmzCAC6dfEyId3i5cFnpD1jNNBfbEYT\n",
       "fvodgX6BfSMQOnoVg9lhyEhK0YFhVm1Jdg/AAAAAMgGfC3RCfwFzRkp5qLf1f19gos6OeFJB4Aaq\n",
       "Q1cR23ETdfHrE/NdqEhcVMTGY9zPeOzDAAAAQwGfDWpCfwFzuANSdHvEBRuTbi3VoAOO+7mo3urH\n",
       "hup+GB9jAIzyrKO9NhdUP77/H8hcpTPKr9HGagBD+Et5nOfRMMEAAABkQZsRSahBaJlMCG///qeE\n",
       "AWjy24Am6700Fbq2TUQkHrOdH0aad4xn2TGedW/KhtaFPZ+hWJq1M6D/hX9GxcrPS+U2LJZIjufx\n",
       "pj77uS/ifP8Kep1GMqf+ik/uv93pR5B5lupV2QAAAFJBny9FESwn/wMgXiE17CoPbxpDMY9XEgCj\n",
       "vRP1giw2V2lwEluUEJE5F2CoxnfJgfDt6AX4r7LwKk6xTf06egjMps/7qLPjZfzpEkLS9aWQj5tQ\n",
       "AAAARQGfUGpCfwBYrgnQxIK2YABCcVtGJ2MasVlgZw7547GyeyZXV91qBUIyJoQYnAjssBe+HN4E\n",
       "rb4Hv7FB8KOYv9QPxN/8cAAAAGRBm1RJqEFsmUwIZ//+nhACs/nQQCD84yYP0Dy7LhMPxYjRK/3/\n",
       "86QNjgN+KFUqqKpWIwxbAqyd0RtiFl+sgjLcdMLfNSfx/peh0aJEy/eF+DWl+o1PxE+ApsVIPpl3\n",
       "puuOlt/BAAAARUGfckUVLCf/AyBeDAnx4AbrFNz7hiG7ytZt3A0Koev6on9CfTIxB/USPEfTamYE\n",
       "J8b6Rd/s+B5Pv/cDjDTZL8KXmts9IAAAADgBn5NqQn8AZIWnaKkFJaP58wAON5KqzobTWy81+I6Q\n",
       "J2gaP+NuuweBL1sFcTIHJ3rNSg6frXP13AAAAG1Bm5hJqEFsmUwIZ//+nhAFdQHaBbnsMw+qsSnK\n",
       "u3DVO5vwAX+A04/F/VGHRFufViL9fVn/gWClipgOcnK4hF9b/Z2U4LtjGBvh0TckmGAGjEc2I93a\n",
       "pDXe+z17MFKn1bBl7YbNjZpTuI80YJVBAAAAREGftkUVLCv/AnbOjLL+TSoqRhr1diQDEANEKrWz\n",
       "9DssO1i/vfzli/oHNhmDDpkesiSt88r7eIvbivkfqbt9doHzBLbgAAAALQGf1XRCfwAZHyfZYBpV\n",
       "RHrNhHgBtgJ+uRlpsJ4267B4KTutvVws2q9RQiF44QAAAEoBn9dqQn8ACj261KkAFm6cPN4tWVax\n",
       "tyAF064iEla//v2TqbF4FYcr2HKpxkQG2FdvKsYD+fSehpxbsEL3Lak8FpoW6o6moVTnwQAAAEtB\n",
       "m9lJqEFsmUwIZ//+nhAFbHjpKsMium+q/PaJ4qVLZdDgvEYMD7xqr1Aa9b6/oESoglU5gj5yavv5\n",
       "3BiW7h8RIaAnMN3LOHRbhLAAAABqQZv9SeEKUmUwIZ/+nhAFmsjZ0esgBmJp9kSY+sZboGhgVoJV\n",
       "UfN24h3cemUs5Kx8R/d/qEF+4Bi5HgBQGfbophL61hb3zQI8kLCwVb8csjmbWklX5ei+q3QweZHS\n",
       "4GQMRtGUj3kQVoGYnQAAAClBnhtFNEwr/wJ2i68R2h5lrgQH4ns8O3/E/FAlpZ8zQj4s1TvHiY6z\n",
       "bQAAADMBnjp0Qn8BfNN/N0AcM1Xv/jJ0rxAzTdLysmtjC6GgDZnW5uM4ALMif/7/F9TzaX7AO4EA\n",
       "AAAeAZ48akJ/AAZJ4Ck6AY8iBxic68ZR4of+GU39MaynAAAAJ0GaPkmoQWiZTAhn//6eEAAXRusJ\n",
       "zB9WhACKU5XWwYbjS3tDtC3ywAAAAENBmkFJ4QpSZTAhn/6eEAC677+GlfrABEGcWawXz03Q9OVf\n",
       "kdME7PEpy6a1iA+ZOCm6JouR8D1elXrWPHKJjeQKr/2AAAAAJEGef0U0TCf/Ax/zOnNI4r8xJgFP\n",
       "ea/JaSQtcqDmc8unK8EBTQAAAB4BnoBqQn8AMk8YM4T8Rr6MZRwJQg/svGvogbO4ZmkAAAB2QZqD\n",
       "SahBaJlMFPDf/qeEAC+2oXSyoJO5p25hC9AB+F2Y9MXPwg85+BpO5Y18XZLJyu8Ru5b79RUSPbdv\n",
       "/+f2diarjyAMmGmLMsk+Cy8yc0oM257iZ+2EOduQcxPMfSiZ4M7RSFn23D2ja7+jLYzW8qsqI6cj\n",
       "/QAAAHUBnqJqQn8DIF4IIctnb5gqxTfyZLvNrcDZO7AA4LF+anRhJqhM6CBNBQde5GbnzHB0xSqt\n",
       "+2b76bnISovFmm2DUFTpn7oAagwP1NEfxk4cmsVqDeh2TAjTOuy2gv88JNdueZCzp9EHs/zf6n2A\n",
       "m2FGtH9aVIUAAABXQZqlSeEKUmUwUsN//qeEAEui/WoAbx3gqg3HV1M6lvFMdlchYBVVSwO1cRme\n",
       "hkLpq4iwtoN/onuzGkc6zgHJNKC8yh86KYdlezj4AfV3zsCpqRwC7wvxAAAANAGexGpCfwACvStH\n",
       "2t3k9g07wAWB2pE4bTWzOyz0eQPdoFELAktTXrWvu5ne8Ti4wcnH/vEAAAA3QZrJSeEOiZTAhv/+\n",
       "p4QAAL/826RKskbUQGGUUJtAqIkADssauDvB5gBrqDeahOhNH/fJWr8tcwAAADxBnudFFTwr/wAC\n",
       "FKpKlqxa0u2QRGdHJmuudem9gBc17//3+LrghZkBU2gfH0Q/XFoJW4rwDx/I9KYfL38AAAAtAZ8G\n",
       "dEJ/AALEjM32cRn1jc5tNCaAG5ZJ+KFUqVVmAFgoOM+ghadhelGYmtWAAAAAKwGfCGpCfwACxXA0\n",
       "jpG1BJvnL4ouWqQALVmn/9/i6N1Tbx0jLzkwEYb8ocwAAABAQZsNSahBaJlMCG///qeEAAL7FyQA\n",
       "LqeSCwfgYqz907e4m4fiWMDThbrhTyiPouTHedErgNBtZ0VbGkfK+BtMwQAAAGFBnytFESwr/wAC\n",
       "a6uKa9cdU/qnBtKSYAijwAbCn//JksLgWQ5CoMplyrJuHk8ilUD1wD0YPB+YVhZ+t2AGsDT57SeR\n",
       "VxxLAafKLmkDCHNXAjLPnazb5otoc/1GZfN3ojvWAAAAMgGfSnRCfwADD+jEzKLkFXUPB0e/Uys5\n",
       "Bvjk88ALgj0y2Ml0aVgojwOesyChrG01aapgAAAASQGfTGpCfwADJPAWV1ZitH0G8qLYAA4OVVXi\n",
       "HH3mToopKlOECZFVEC/O9fdNBIGGrLn6Qz/+g6+NVP8extuqFERlXzzRd/Cw+oEAAABtQZtRSahB\n",
       "bJlMCG///qeEACtb+69t05QAB2ZlC0ISgTaLYGKUBHWQaPpYRQZ+YMdUAoRIfU3NyLrn2+SAMs6V\n",
       "c6TMzxJ54savZtUxk6iZLt1nsYodmkTiR7ae8I8H9y0+ILjo0a/WLFcY9oO7QQAAAGZBn29FFSwr\n",
       "/wAiuu5h7zZSCY/Sa97XLORRopgA/dURNrBKyuhDLzECB46VOx/ksXHXOz3/+t919F5ds+M5Oj9b\n",
       "P0OudaszMy+YeT2QQzKuDxvbEZIBhT+QHaej86MPV/ywPH+2tPMAAAAxAZ+OdEJ/ABh/OlCgmVbr\n",
       "oMqOiAgA4Hd/FCqVWE8bddg7+8sTrL0C10bd4rAfEcLR4AAAAGwBn5BqQn8ALXbrULuOXwGRMPqp\n",
       "9CwALXUIQjzb7QlY5sWMfbKy76lFvIWOCMi7vodVANlUbh9t69kN3VRYo4qRnr90HwzLs2gqXght\n",
       "ctWXVbHzePyii4CTCM030Gb15J4F3E2a5Vo9r1VRTugAAABuQZuTSahBbJlMFEw3//6nhABfYuSA\n",
       "Auz/hKIvKf81H237b0Wk2fkEXaNoTvWmVIX+15saJSDaZjU9Gmbp25Ian1VLeWOIc0/iV2I5PDZO\n",
       "Zp5zwtH7LjUFMZ7wgyznf6QwZ1F9Idoi0zmMikwKZssAAABmAZ+yakJ/AGSebvb7LlABpb2Q6mwy\n",
       "+jwMbRGJOA43xPGa3oxsucxLbQqsT9dEzQeScDFyxk8c4/ruD86G0DcBFC8BbXLXt8Vq0JFw5ccq\n",
       "rqgbCjjhQQobI/QXanL4dUxQszpbHQSAAAAAV0Gbt0nhClJlMCG//qeEAF9tRBMWXaTYiD+miADz\n",
       "Ju0kOviBn7/oKKyNUn47aqZS/yNM6POaZ0IyP7pHKJlFqRYaJAKEvyGjVwd4PMANdQbzUJzqBGQG\n",
       "fAAAAGVBn9VFNEwr/wBNZM7yBaudcSIG4j3LyiuD82x6AK3///7O2CrOCO32cite/Vw++rWA1s1I\n",
       "d5nHdD38c+r/H3RE/P5W/ikHlCEMQfCbnZxfnfi/3o8KTHeNwjcfXf4Md5xQQAAD/QAAAEUBn/R0\n",
       "Qn8AZH0ebX8jQAR7FOWwdkB2cc/ewHsP+Cjk2BS6uRX5NuBXzgNBDNkckS79qJXKfnW7mZhnytei\n",
       "O4davXQAVMAAAAAyAZ/2akJ/ACj3BioPWYm4QxdgQCA8GbFJ2PADTBf/7/F800iFYdQEFZAutYbh\n",
       "pWsABqUAAABeQZv7SahBaJlMCGf//p4QAJaqKfGr1bY+KyyHRScruuJ0d56QBYc4twBHkj/RyCUu\n",
       "fTbWlGMZkYHvIawRWyYXyKnPj2tVROi1v4piAqRoBVeB9SPNItMuiFzBFc59IQAAAEdBnhlFESwr\n",
       "/wA9+qV0mjPxGPBfpUkWAR1dBQhjgFUQ0rwfnJMgBdOviZDGp1U7/+XhSsVS1WElFdw1uav/ByvD\n",
       "5KfcF4ABbQAAADgBnjh0Qn8AUaQQx6nYQNzxgkPmwtyBRAES+LdJoUxjADoUG5rTwN3piRolKaRs\n",
       "33cpslJP2udBqQAAADkBnjpqQn8AUZU/79ttoAonEniIQPqPkFuRKphbKarP8gA40t//7/Fx1T81\n",
       "+6hGmQTbzgkue0/cD8gAAAB/QZo9SahBbJlMFEw3//6nhAATb5GwhXZE6DcOEL3AAXpLO9ph7Ucs\n",
       "ffHK0j8mNiyfI8q273q1QZe/m1DGqO4llCvk6qNaWDxZiFQhdjGOea6qtymvGAytsBCrF+i91xFz\n",
       "+U40LYRtNM6aHucwovcBPa9WuucM0iAwQh8yq8M7bQAAAF8BnlxqQn8AFHZmz64ALPC3tGOv/tre\n",
       "ypS5t2Nt1WTTF1AucQHO/AqM+vqsjI0SuvSa2ksczyfEvyG7G1putHIVhzNkfwzaPE3WXQQ+0UIq\n",
       "TPnqSrhggGfQOuX3hNUbYwAAAHVBmkFJ4QpSZTAhv/6nhAACaqDxlGgILyT914tkTkHhwio+ACcJ\n",
       "bVhDT7UctmyFtu1pbL3LLNCecWOXbpmXjVDYoYPGhEHlDFSO5EsyPMyO80Gn3EmZ8VXDv+6RE33x\n",
       "8dUs6yCs/HoaEL3e9NVHihjrMx1+r4gAAABzQZ5/RTRMK/8AB5o3oaOk/ctCU+Kkw0sQBQX6ngEh\n",
       "PG6ewf3S3tVIx5MpGo085bgc//f7TZq+cn0vt5da02KCMbm/zfO4YgTByKu+jaB+nu11Q3gDKY+v\n",
       "kRDx0eM7hfIE7ZHiLTzzrSZiWyzX8+4c84rK1QAAAEgBnp50Qn8ACfI0I2kHP9uxNs7OKJnNX64A\n",
       "UNhgFOdDvhlwpIAcbs+0nMbO88UXNkgPLBJpD3diMuh6TpC3BZNXDTHHskx7fLEAAABCAZ6AakJ/\n",
       "AAn1wYyVB2mkjFwrRVOSd3xJb2Ao18ajKUWm7HNLYeIAQp29MBQYe9+/SUyiNaNpPfFB5OzpiXSm\n",
       "0qqAAAAASEGahUmoQWiZTAhn//6eEAABdV+7ubeAA+9eUH/Yj/8+pYv+BxXj8aWxFNqCjNOEeeeg\n",
       "IqqbLNWCzXY/KQPVgYNxDEW+s9LuEwAAAF9BnqNFESwr/wAHmr1g3TA761T73kK6qvNLx0Wn6r/B\n",
       "L70Q/Iv6pyDbR/AC1PX9diktPdu25bGZEspkB4YebSpdAwQ/Ukh8E8jJYamV9tfRPQ5jdA1oXrU1\n",
       "T9ORBntvgAAAAFgBnsJ0Qn8ACfI0I2kHPwFqxvcTqhyxkDKvHlSABYHakThtNbM7LPR5A92gUQsC\n",
       "SzumMgBr3v//RgNlSkG/ceObI2fpqjfFN2MYKfBCVaJ7uA9vuFKnougRAAAAVQGexGpCfwAJ9cGM\n",
       "lQdppIxK51duct/virogBVonMNtS5amnRrUr7N4yGDPxYQTpd1WZsla5cK96jxTfB+zSRuI3OD9u\n",
       "M7MvxbZUjLH+z89nOkGThZcAAABkQZrHSahBbJlMFEwz//6eEAFscF2ICa3jYujlHZs+xRST0n23\n",
       "CgCwAyl8fiP20A3LwsrYPN5tubi0+HQo287XIsw8AbOlP/+fyzKldUpE8c2VtsilNgPIjFkTr3OF\n",
       "HOckYoKlgQAAADoBnuZqQn8ACfecsobGP9cMl8NlKKhWNYLAAGx9dN+7fzT6uazQ2ZzEVbad7K/p\n",
       "bFVx8stPy+O4s2v5AAAAN0Ga6UnhClJlMFLDf/6nhAABfh6EfWQ9csfABdPj7gHPrBotpmNT0vGs\n",
       "t3F+OPz+JOuKNw52PrYAAAA5AZ8IakJ/AAGRMsete7Oh3xkAFqzfq9ZaUXpojlx4GMDZY2NF3hIb\n",
       "oA5JDUOGFE+MJB2Dzbi9R7lAAAAAkUGbDUnhDomUwIZ//p4QBaMJiNsKX040AqQLe6hAaPb1KIGv\n",
       "tgVVyeQ4WLPAvEMDX2kXewEQbrFuILQuABynW015A1mHISeqyFvOk6uFrhK28+jWmiVoRrYRPXrn\n",
       "gcbMumHjUKHw4ZNnYljuqOKb2JmCAuBGxNUlSrgeR0Ss0UX5g1vdTjG1JIE9RUixYbrnUn0AAABA\n",
       "QZ8rRRU8K/8BJpHbOUqkurz16EHcH5qoAA42Lzw+B6EeVmhezB+4Xg5l9nc71+MuZ1b8FFa/xK4k\n",
       "+/cq2U4+oAAAACABn0p0Qn8BfEY5uFgtYd/yecAvuUobWaPdsx95sC1Y8AAAAEcBn0xqQn8AGSeA\n",
       "pAqu1zxVSfv2ENFz5T1ZGVLB+cxJgBurgIoXgLa5a9vitWhIuHLjlVNiNjfhGubI/QLurL4dUxQu\n",
       "uM4WwwAAAFVBm1FJqEFomUwIZ//+nhAFmFQwAbc9hYDycLKzQLAqAA/CWRoO2xetVsaOlinzMpwF\n",
       "6Ns5dzFAlQNrHOyAXIbDRhf6jPW76GxoPflq/CnFmM003rHBAAAANUGfb0URLCv/ASaSBDfHgA5v\n",
       "yTeEgsBATL6O3BhxZnSWD4LS7VwPPYeGliHPuegSU1t+7OOBAAAAIQGfjnRCfwBkpjgjwTE2vXgy\n",
       "Q8E2ZLFJLuWqh22xfkrqgAAAAE0Bn5BqQn8AZD40r7AADafFtRYLYdkYe14cTEcR7MyPPfbLg/Ns\n",
       "KEu4w2pltcte3xWrQkXDlxyqdIURuodTfN/wu1OXw6pihem5tWfqpgAAAElBm5JJqEFsmUwIZ//+\n",
       "nhAAJcwanJpOUynrQKv56Y4EAA+9eUH/bKXclLXhbNcruqxQBm/1/w7GTDTB3azQNI/h4SsW5rb7\n",
       "03HBAAAAaUGbtEnhClJlMFFSwz/+nhAAS7jz4aWHsADafvJqD4REvNSvmEmkNO729dQwvwW7Ul4P\n",
       "XeFRJCicqXPjwrXLUfdKnH4Wkih/YtK5fft1UB64sG2i7eyjkCQlVjz8qqeEFQTCi/onReKZeAAA\n",
       "AD4Bn9NqQn8AFHt1p/Palica5QUITUQn2okAK1N374dN9a4mMH79E1x7Fc7sF442hD1hyvaCL/b3\n",
       "Wl09v9UbLgAAAFVBm9ZJ4Q6JlMFEwz/+nhABLSdwAAaNnFhp85/aLkDr0kgjuVHv7GQ7MiTHk2qC\n",
       "Xih2JWxnnT5V8eOr5bhqhXl39ArL7yawizlFxE9DRwOT0p3yrBtTAAAANQGf9WpCfwBR7fub8IyA\n",
       "WkgBb7HUnUlNhiDQM+ZA4b2ferzFHZ02mqq4u0cJQdHB5HlF1tKCAAAAYkGb+EnhDyZTBTw3//6n\n",
       "hABc9UARyYrrBauN8C2bKOX0GJP/5GZwOYUp85Uy74g5M4mPe3xjB343wXglcSoVDNnEos31W7Dn\n",
       "aJ1GJOIknwXhrRdtYMFgbrYvdx1psNkO2+RZAAAAMAGeF2pCfwBRvQNkS0DmwO6g+iPLJADgQqWO\n",
       "oAVfa18esT8xV59gRliEftRt8fYk2QAAADlBmhxJ4Q8mUwIZ//6eEAF13n3xEa3QAS95Gixbm6fn\n",
       "ZIALKf9gz/PmRJc3Ua5NzwiAAVhXw+qbjQgAAABBQZ46RRE8K/8ATXbmIATVi875zwPldx+Vw00+\n",
       "mfISaPTRGth6WGfcG1tPQPHf8MYv9Q7nA6NtysRYKwj0gg7AK1cAAAAgAZ5ZdEJ/AGSmftIP+72D\n",
       "Fmx7+fH4zHMA1lCtDFZhsycAAAAtAZ5bakJ/AGSFp/a+43ACFPHvbJnwMOb+fVpVliqsLPkwkLs3\n",
       "RF6tG13wUHtBAAAAPkGaXUmoQWiZTAhv//6nhABfbUP1j3oACpwKrdmKGmO3JDxMKdm4LhO/zCN2\n",
       "rzqEUNBzTwT8eibbnMi/mDZhAAAAWEGaYUnhClJlMCG//qeEAF/T677Xd2quOmgMNFm7QSjqAOYb\n",
       "4Y68K57pq/+jGlikbGBhRax5xoBnKc1pPGy6Krm0RfIsdzZCsgDpPF5+rtp7hGMJmkRk5vwAAABp\n",
       "QZ6fRTRMK/8ATWTG9kA4+ACdsXn8Kaf+xkD82Y43Er4kDFso4eSCVKnYAX33iiN+wdRxU2T2JPCe\n",
       "0dLW7ars8knn7Z91ZtfHpN9oaoSFkvUpBDCvhLKcZtOTddTaKIrh2BvB/a2fIXUwAAAAOgGevnRC\n",
       "fwBkfRianWw4t+JOUzVf+KiADjeSqs6G01svNfiOkCdoGj/jbrsHfT9Ujd6MgZZH8Coe1TEAAAAv\n",
       "AZ6gakJ/AFGaIcqM5g7RL7ms9T/zqqAsAAr0lvNGCo3HChAiCEhOdioQ2EAmaqYAAABcQZqlSahB\n",
       "aJlMCG///qeEAF/1t+SoOBQABdn/BNoXahVeaO0DvIdTpnAJHrUqFPTPxRxIQul9QBCVr9ddiCAl\n",
       "THxKPYxQ7pJXUXoV7wjwf3LT4g2zo0ZXayuZ07EAAABdQZ7DRREsK/8ATXYgJ3XAJXuA2tCJQsB1\n",
       "K0Kn2pUW2YMGbjJSfYg/tEeQlhs252yewwdOOjpgu3p6SHpZ/Esk+ah+zA7kIINL+5VkRdg4Hg8C\n",
       "gqtxEU1JrzgUcxHWAAAAMwGe4nRCfwAyWCI65jkAHByqrOhtNbMFFInoB7tACe39N2on8E1nSRN2\n",
       "3Vd5xmk7ixT6kQAAADIBnuRqQn8AZEyzDN7wAQ0UtyBUOjNkgxUlad8P9buv2L7T3z3W/0liW7sR\n",
       "bPmbPhy7FwAAAE1BmulJqEFsmUwIb//+p4QAX21D2j1Tzi/wSC4YG6EUevylKzDUTNSUbVGfduXw\n",
       "z/rOKQHeRKQ8eO1NTjlo1C+7QKs5XQbwd3NHW1StmQAAADVBnwdFFSwr/wBNZL/0WSJI803QAcba\n",
       "Y/fEi+rpMyxXsBs6zCWpkLmjjt/DwlUqG1WFKhnVgQAAAC4BnyZ0Qn8AZDzhPACDfhEHuq5jmEKY\n",
       "QwdAE17C/GaoS3JiR2XWrtX047ZwDEk4AAAANwGfKGpCfwBRlS6O9kmj4epY0mABdRGyCUEddfTr\n",
       "cCJqTqVpg/fhyF7iGsoT7XKWpzl9PoBiQbgAAABcQZstSahBbJlMCGf//p4QBZaHSGy56AFBgNO8\n",
       "RMbHk71S9rWjB7+WFrHV5j9WFE0KnKvhfsG8+7b2jYQB+oxAxOkHY7lQ543CxN1Sb0yK+/GEIYMU\n",
       "VNlATH5SRTUAAAAkQZ9LRRUsK/8BJpHbRXj19y+knuIFJIAt81OXIgxn5fc6xHUwAAAAIgGfanRC\n",
       "fwF8Rjm8dJn3ftev2DGuNJLHlRlY+bYDnaU831MAAAAhAZ9sakJ/AGNHY2m0AGznFdOXJomrbGvu\n",
       "CWLK2c4+fQF3AAAAUUGbcUmoQWyZTAhn//6eEAALni9AAJwqWawEuf/n4qy/go4pvAXevDvTm2Q8\n",
       "fSh8BFRshvo/b5zEtLCanWdk2mgScSA0KEg/Gimt0M1K83njgQAAAB1Bn49FFSwr/wAlwZpSXQ7L\n",
       "FY1xUOdxdHDGe6fHpwAAABMBn650Qn8AMP5032ZAc70Y/mPgAAAAGQGfsGpCfwAxDxzg6GyecMF1\n",
       "sZ49YZOG5cAAAABIQZuySahBbJlMCGf//p4QAAuvvG/7vYEtV2XVSJHez3gC/S+lmAJVjast0ZsF\n",
       "rwLf4Kc661ahIPR26x1+9q1Km9sX4Kunrh15AAAAXUGb1EnhClJlMFFSw3/+p4QATUuqIAFTk/92\n",
       "gfza5yg2CWZZZouxIQ9OqjidMKKflP5wgO6/09waDAyIuc5SAg4EqXHl1EOgctwMEv1goZQAiuNC\n",
       "9S7H1ROJJjaqgAAAADMBn/NqQn8AUe3+fFtr7MFguzEkAScJEANuuBpcNprZnZZ6PIHu0CiFgSWm\n",
       "sPSKvC4SL64AAABgQZv4SeEOiZTAhv/+p4QATb6DghUdPixL5TWQAnbB2rCD8D+dY5ptYMR4SLNn\n",
       "uKaaFxA0HO2v/6/M3y/Nos3jXvES2EJq1ZlFTaBhQDFZNviUaqGPAbxIvjAaD5jZWh3hAAAAVkGe\n",
       "FkUVPCv/AD4gaXKI4XPumC1lsALU8AEptm18lXKWS7YunDgL7lVxWq7/8uDrYUaogPOlO/TtK6Ly\n",
       "cntRh3IiTgvqj3/voUUgbAcMvj8xmhUOwD0LAAAATgGeNXRCfwBR0Y6D7gA4+H/8dap7BYMq4I9Q\n",
       "+ZDlp5y80OFrC1Rn6fIt8wgv7Fv1RKoAFePAlw0NS3R7irv8MEXaRI2lyt1FWeYw00fMkQAAADEB\n",
       "njdqQn8AFHZmtTMbUN24tm0o/lCWQe4zfuCWRxEAHEan/+/xdG6pt46cFBkJzVHBAAAAbEGaPEmo\n",
       "QWiZTAhn//6eEAWYdFbQDQry7xExqzTSRQdnf0qFnp1IE9NEj/gOIVGnNQ1zX/wgNOY3kJ/38k4Z\n",
       "b8RdHLVzc4+Q7SY2uCj6OLTkgM6APo3MjzML7KTgDuqluU8AzDEGmJzqlVPpwAAAAFBBnlpFESwr\n",
       "/wEm1/EaKEFi+v1AAS163wiiCd/P4JIvhCu8HyVK4BAWolHXgKOB0oDcDQJrEENHhuVqGOY2n/LT\n",
       "/+DVJPIeyvP+K8ohBm38wQAAAFcBnnl0Qn8AFH0ynbg/J3oAONim59reQXiXkj0dogEwKb2r/dEP\n",
       "Cb9fOaGMkBzcRg4gYiHPDdLPHANximaF3L1EMFEA6F7LJ0EpUT//0p91H4WR7RXHy1AAAAA/AZ57\n",
       "akJ/AXxma7FOLyACIM6xuPgh6SLcGKhANNciSehm15/ex/HkMo2XqkJHwCiCNId9hWWT5jEDNXbF\n",
       "41/tAAAAG0GafUmoQWyZTAhv//6nhAAAX2kRjXuSpL3JIQAAAFBBmoFJ4QpSZTAhn/6eEAEtVFWb\n",
       "R338NLXlACas4skQx4hXQn//4Rou4yl80ywPfnZeIbq+I8D5FmVeJgELPeeXfWv5lo8Eu1d0GBOw\n",
       "M5sseAAAAC1Bnr9FNEwr/wA+IGriAy52p/2Mvje6B9l7ce9wfmtCADjf//z4Yw0Whfzyp3wAAAA4\n",
       "AZ7edEJ/AFH3LcADak/5CBgV7Zwh/RqC/6wyJV4nrJjifWoAon03ImBXJBiVSBLsFFHbJ8o+YIEA\n",
       "AABBAZ7AakJ/ACjszXGa2mC06cALPC3Pt6GAUlDPt8YdpnDeWTqXJqOQAIon/wcQNhRL5uqOU7+Q\n",
       "fmRW3cZkNOjPcrUAAABcQZrDSahBaJlMFPDP/p4QABdfd/OYDW9rUtAC/uFVpOPGKimNUkJzPa5r\n",
       "0lqJcyyGvtst6K9PTLxomfVqpuYAfjmOKuw+c9+Ir+qboFsmGG8Fgu8FAdp3OZxBzPkAAAAlAZ7i\n",
       "akJ/AAya9AARXH/40eGCBnuyNZFVOs5rJjIreWNRRRrvHAAAAElBmuVJ4QpSZTBSwz/+nhAE8LUm\n",
       "wAzQz5EX+BEBJ/xp63RVmc2EfH45D/yn+YuWgJSHgW3ulxgncLT2hEfZznboVUaolVp+ZKuxAAAA\n",
       "QQGfBGpCfwADJB4WGzKU/tmblZUbSzkUWXAAXQVv1iYK1yXRk5enV4t02a5g1JymPP+O/1vuvJsd\n",
       "Zn/Rkt4eivXBAAAAWkGbB0nhDomUwUTDf/6nhAAE2+RsIV2m9bwlXfLE6NIb7BOf6gCMsP/8LMwb\n",
       "f1s4mQAQOL/zfuSBIel96Jb/oy04gzTT+k+l92GTboHntZtIJmBjYOq3SXrVwQAAAFUBnyZqQn8A\n",
       "BR2ZrvVqPqb60wW+KAA4DDc+3oYBSUM+3xh2mcN5ZOpWGKY1kSeLpJYaa8svHbE/WRBRKpkZvtop\n",
       "pq2qmQgVeO3Q2T6Y4YpQsQF0z1VhAAAARUGbK0nhDyZTAhn//p4QAALr7v5zAa31ENna7mOhtxBb\n",
       "AALs//8qbLV1Vvxf7n5CKCuMoNa1YiHz9R0nTd1oWtllt9oMBAAAAFRBn0lFETwr/wAAmsleuhtA\n",
       "Pssi2PZ6Q26cF3XIAFvbP/9/i6YLOu/tnlNuLkPRxKoRPvZ1g49fn2B3crpgNlXuoNL1WWfcTlTX\n",
       "FNIksH1W5o4YCsAAAAApAZ9odEJ/AADI+g8JnkPToA88ANoif/7/F9TzaX5iUbY7/RlggWyjTKEA\n",
       "AAA4AZ9qakJ/AACj3BipELIwWXxmWP0a3zBAA4Od+sTBW8RakglpMxNtWAMVsGQseiPKqUCaGMV6\n",
       "+IAAAABcQZtuSahBaJlMCGf//p4QAn37BkAtD59F/fxvpB5POAFroO/gjAN4uhJGR7ny801OV14C\n",
       "pT/VTt8TfWzKAkDECOf/v8W3xCgm84Spu2O5BTHW5suwy9V4v7xWScAAAAA2QZ+MRREsJ/8AAo9v\n",
       "9Fq1Or3WfaNDeG92GADjXARQya/wTXZ/0iu4dy6NMnWJyB0r2NpxDJ/BAAAAWgGfrWpCfwACj2+h\n",
       "24Pyd6ADjYpufa3kF4l5I9HaIBMCm9qp8ayu5bqyfbA6adbYKGzl8OsIxMLLyt15kZWpC/wuI5NE\n",
       "0F1LIKYfqugfQeE8X7AIsM5uiuiRhwAAAIJBm7FJqEFsmUwIZ//+nhAE99m/pYgLFFFmburbpTOv\n",
       "Z3sUe6Bh2qv+GlhkgpH7ygW4rfCitXWYh9kRIwuDdIRHdGK2qc9r+uP/2yHTkRGqaSwmmZMSYoGj\n",
       "8AjLEWYHk7wau+MKcn9RVQLVyiCW2yFJWXA/FvCAzaIbMEDvH6F9g9txAAAAM0Gfz0UVLCf/AAo8\n",
       "ehQLQVytkIFabQR8y8Cf+ioAbrW38UKpOtjXl3gW84S0l0XM8HHPgAAAAEsBn/BqQn8ADEPLX96o\n",
       "AVglMbS7OlYm9CZvWSYE+agLXN1PEMwVvEFTrkTPqlfOtyOi0e6WRfNY32rspXV6qZqUu2Himx5a\n",
       "UEcGy4AAAAB6QZvzSahBbJlMFEwz//6eEATSQHCcRuANavLvETCegTwdIkJYcSy+KVn1z6yW/ukm\n",
       "k0wxingBEVvpiLKacrWreViTgvh0Ywe3xt/lihZtBCzm8Xfx7e7Ys3EkoijeQZAmDK6O2/wcmEoZ\n",
       "N9hUC21Ws1vDqIHVzsvzly8AAABTAZ4SakJ/AU+3+irC6OjVpugBWzH+a7YPv5/BJFZxN3g+Spc2\n",
       "V/s+1Ubs9AklA2i5fkeDZSquh+7VfkWV/1DSl672Gx6B63JJzJ++oH76Ie304vAAAAA6QZoUSeEK\n",
       "UmUwIb/+p4QATUyiIAJ2wD/HoHX6X/E+DyUPxjV+IRZUQA3JqHJmiZyx1u+qbmF4SWwKuAAAACNB\n",
       "mjhJ4Q6JlMCGf/6eEAEucn2IASzzAR/nDfRnmeJeB2xeQQAAACxBnlZFETwr/wBMpObaEF7nABEG\n",
       "LumL9Z5SdXg//zNXNU4kG8B9NoHuNz1csAAAABsBnnV0Qn8AZKZ/YjT/ak0Cvlg03sEio348loUA\n",
       "AAAdAZ53akJ/AGNHY2m0AGznFdEXAw7kctKYumQA0IEAAABIQZp7SahBaJlMCGf//p4QAS5LjStc\n",
       "ALd+8uHhFGpeXpuWRWTm3NA3lRBcll3gHWRq8Ql0cPI/3Vq0tOj6FxmjZ3tlQqE9+Ud5AAAAQUGe\n",
       "mUURLCf/AFDmGzL7VjwZwAv+H//nWqelvjKuI79VG7JPOXHW3wtYJdE5phi3zCDCOiMK3MR5lO9s\n",
       "hQIK+QoJAAAAHQGeumpCfwBR7gtw8J5cJjoPPa/+1Nlstg7IRYqmAAAAQUGavUmoQWyZTBRMN//+\n",
       "p4QATVbTWLimKQ4EAN152Y/k3XmqWen/fQt+dGvi9tL//WCXWmgrYiogU5iCmIgJr6mBAAAALQGe\n",
       "3GpCfwBR2bbw0wM40jrUzmZNxabqVgA4EKljqAFX2tfHrE/JokbSNMJR6wAAAElBmt9J4QpSZTBS\n",
       "w3/+p4QATUuqIAHaYf/qgyszROkm0BCOyEnl166oAtbmak0gnvcxFwyEKALFKUI1qrxd9TwrOq9A\n",
       "Vbl6+4WAAAAAJwGe/mpCfwBR2ZrvWzhHLCeTXqWBvABZkT//f4vqebS/SvCcWlgoIAAAAFxBmuNJ\n",
       "4Q6JlMCG//6nhABfZF9ABE6JdZ4B/9vLynbdWKk9kXhWm+hBGyOSIGE+rcQVblusN7EUs6LWa0tc\n",
       "zTEw1RgW2Y2GGrVlmcUn7Gqo4bwTACVqPtJpEGRipwAAAEBBnwFFFTwr/wBNddzPnUuyCQBy/JTG\n",
       "SGqhtvCRPMOz20x7niNWTPnKaw5s33fU3/1SYbyNyWv/smZ/typo9BqwAAAAKgGfIHRCfwBR9PrS\n",
       "eNo8DPZz8AgA4Hd/FCqVVZatKUB17lfui/AmdGKg4QAAACsBnyJqQn8AZJ4CvcZ1MCS3XJABxUk+\n",
       "mZmEujxjYvBFuUrGPCBD+VRJ/eUEAAAAd0GbJ0moQWiZTAhv//6nhABfbTM/b5mQ/kawPgjt1aNQ\n",
       "YAQdLO9s67/rsiUm66hmxmLi+j9z1QTgXeMpQFH1UuAOtX/5XAJzeojU9Ke8vcU5X6EIhzEFE0hZ\n",
       "va8hQK4oFHPCstgg2he8VPPuka3mfb92FhYCiw0vAAAAX0GfRUURLCv/AE1kJ5uM4M4BB3RIAAsx\n",
       "3j1h5Re6xJSw4ExZ5kcGMHPmqqb/pGPR1IDSc75vVoCkq5SyXbF04cBfcq5QioNpZqAemP/lwdbC\n",
       "jVEB50p3eSJaXFmAmxHBAAAAOgGfZHRCfwBkfgPgBCmKYq+Vb7NQ8Pv8DlXP4+lRrolvbbeFx5qW\n",
       "AX8Zckdr7gT1l8xWD0VvlqN4iCEAAAA4AZ9makJ/ADJC5Oz/cGNde9i46/PsgZa6ZgBuGgjOgmV8\n",
       "lf2yjIF/TyfOO30AgwGXbjSSVXKyV8EAAABNQZtrSahBbJlMCGf//p4QAC6+7+cx8GGIQWL8VvF6\n",
       "Avszwaj8qdGyPhpaqYATt///ijLD2Lgcwq75Ch1XZId/Kq7YlV5Mx7UYH3mRbPAAAABIQZ+JRRUs\n",
       "K/8AHyBpDbgY/ZROooASGeKX0G90vPaYbwoaK0U/y875s//Kp5KfKRfli0veoJHJG+d9xZ13UHNR\n",
       "ONIz0BIUlA/wAAAASwGfqHRCfwAUfT6nnSB5kyDL3TEfSgAijpqxjncqW8N2rXF+8ZAP/bPCJcTa\n",
       "Oywr0lS/xHWB162eRpfdZujvXZkhXrRKJFOHKMhJ6QAAAEEBn6pqQn8AKPmKKtLzJulpFCpaM7yD\n",
       "yNowvzkALZcBFDKwTNiDqF51JbS0fdGuHzcyV+PuXlKRfoenfekaMmocWAAAAD5Bm69JqEFsmUwI\n",
       "X//+jLAATBHAiuN5/PrfK0KIGgBxs2Lo+Yej/28+SEVd7aYwn8HWpOE8M9RAk1fZSei4fQAAAEFB\n",
       "n81FFSwr/wAPiyru5XkpQY8XpZoAyoxce84uY8TZm0A4pvgfWIYDEn8tNYYqNRbQRddboKzW1qo/\n",
       "hnkha/aDwQAAADUBn+x0Qn8ADD+hXJw1x5Kbqsu4teMMItVS70CvqeJ7v/W+AHGvi6b92/mJLsDV\n",
       "yIoHjT3qgQAAAEEBn+5qQn8AFHuC3DcSu9Vh9etakvDnckl99Sf0AI9///mdnZTNYvSvQIBV8Nc1\n",
       "zPDXEWv5ptQ+r8cYwbykBjhc3QAAAFlBm/BJqEFsmUwIX//+jLABMeKp+IjUgABtP1EnhmPr+img\n",
       "8MbTpx71JCpVhCNuhs9R4+U00Cy9dzDd9lEs2qrDCH23u0TvMaC0vvmpVV6bAz+Q+DRzQikvwAAA\n",
       "AEFBmhFJ4QpSZTAhn/6eEAEtKEdgAl7w/ib3loI45++xtl/BR44Vl53QcSw/bWISkm8Yk92Vfisf\n",
       "OyKURRB127dktwAAAE9BmjJJ4Q6JlMCGf/6eEAEu+Z31q+2nguuqTn8zhzYwAbF2SmpQY2nUt+lu\n",
       "+nY/18l82vstvzdMPh2nhUg4nlWtGxtMMhOnbZ+aTGUjWNOfAAAAjEGaU0nhDyZTAhv//qeEAXIK\n",
       "fkAJ1N346U7FNldB9FV8BmXMA9DPQ6r+h+hkCBq05N6shAYPjSU8c5k30ippcsKUTRqUf/8H+VbY\n",
       "/Ach60BW6lmgDvMu1IiLwv4vvZTJHjYGFInT5/Nb23ZgXo8c033DJXwbaw4HzqiSHNgBsbqvbSUi\n",
       "ZZlY5ZEBEyJXAAAAO0Gad0nhDyZTAhn//p4QAS3NOKABBpuo7jmtJY4+HlAt5P/5aUGQhEwzupe/\n",
       "M/8IxZPUMJeKwOzahIxeAAAAQEGelUURPCv/AmqDm6Tmzo9o7geu0X6cwj0W/C4PzIKABxriiZEO\n",
       "fSFscWJhQ7f401PANUHUsBwhcuMZCA8keYEAAAAfAZ60dEJ/Ax2o+97GuIXRwW2uSUSTAnnBK7Ke\n",
       "/QvYUwAAACoBnrZqQn8DH2/wGkHaLgAiDOsanKEMMJHOE/j3yc2G4CVVPGvZ3S4M1U0AAAArQZq6\n",
       "SahBaJlMCGf//p4QAS5LjStcAJqziyQ2IpB5paDU3Mh2nBX2zvMELQAAACxBnthFESwn/wMgXgwJ\n",
       "8eAEG/CIFK/w8WPMlCfcQ4xSCUqxgD/2/Fuls4ACvgAAACwBnvlqQn8DH2/0q/gADafFtRTo+coL\n",
       "mkBtCcz5T/7FW8VEEP5obZWI9IKI2QAAAFBBmv1JqEFsmUwIZ//+nhABLqS/dwAXHH/89aPRRbxb\n",
       "ou+4zxo59nkW9e4BlMvypzu8qvNtqNZfOZHp+vlVt/z+GVZ/TTg5yEwAk/OJ0vaqoAAAAEZBnxtF\n",
       "FSwn/wMgXgqv0C4UV8kfa+RTEK+V8qmNXzLVVrMxAWxgQogA4s3AzlDj7zJ3ss+V3hAnBaMwFbhN\n",
       "aRfVAf//OGHdAAAAPAGfPGpCfwMfb+mFIyD5Z9m0bKTDY7tJlQIgA4s3AzlDj7zJwoT1xl4tSwoQ\n",
       "QHBMBbtz69t7ctBbo6MWUQAAADJBmz9JqEFsmUwUTDP//p4QAC6N1kbrPTH6oAIegP/+/xeF8/Zl\n",
       "4mSfoePF+LeI/CiLjgAAADEBn15qQn8DIF4IDZVnFfAlXMQgq2USilEwAOI1P/9/i5y0B/tkXngz\n",
       "AuBsnywdlYYsAAAAPEGbQUnhClJlMFLDP/6eEABc+DJKOWStUsG/8PABLc+pN7+GGl9h8MogdJpS\n",
       "bemTP3v3APuJPZvPFlkccQAAAC4Bn2BqQn8AKPcGNIbqT8dwA3LJPfk59SMtVQmBH9Rm7Pf+egMx\n",
       "EpaeSo9yhiy8AAAATEGbY0nhDomUwUTDP/6eEAEu+Z31RIeAE1f//3tXoot4tzoY6kkuSNADu3t8\n",
       "dnmXFKBqs+MhD4KQ5bpnvpzJJfmoUwdSyfM4e4GUOqEAAABSAZ+CakJ/AFHvPOABtSf+q/P+oJqh\n",
       "3tO8ZJpLG0fNf31wsbXTuvpdUZLlfuLRRuF4Xr04cE9Yxx1B2pFdpI83z9PtUan0eQVY+m76mdXc\n",
       "LawFJAAAAFZBm4dJ4Q8mUwIX//6MsATAdwSeiYPrXifER6JBlc2KYlmhr+img8MbTpx7jmH2VSuX\n",
       "aGz1Hj5TknUZ/3EJYlDNRnNIxFP/5ik+vRGfEJpDoi+LCj0FwQAAAGVBn6VFETwr/wA+LKVuX8Wu\n",
       "9jBN/2GgSn/DTfBBbg/LFYAIx8lL9u1kHtgzWsFm1TJuWmMOLeDae31cY7z+pJ9Y+iz3zgnQbOJo\n",
       "xnRyP62ecb5iRYiv5+jeMqTCrB7Si+kpIgBlQQAAADEBn8R0Qn8AKOjQjXKtlaPfy50O+bcYAON2\n",
       "faTmNneeKLmyQHlgvltu9F8LISTveVrjAAAAUwGfxmpCfwBR7f6LQLUIt6boAVsx/mu2D7+fwSRW\n",
       "cTd4PkqUzmFg/XYynC4wG5i/jZQ4DkyLqxVrknPnEAI0PxcuTWvhMZ1qEkL8oTN9YRJCzZbBAAAA\n",
       "TEGbyEmoQWiZTAhn//6eEASwq5lV8HGnkyX6J4AkxP3/trUr6ZgyG5vr3eSb+gQKg/b9u8q/Mt/h\n",
       "bXlksseAbaJ+f1SgOaPk0tvI/kAAAABdQZvpSeEKUmUwIZ/+nhACWx6Qg2FVbejAALqT//x8jGEe\n",
       "GDNQziWuzImF/louDmUm8BeA1rScjQN8IRE7gWZTbTLzu4T21Li7vHeObjV5VoSqBfFZ9aZ7AyCi\n",
       "Ya/VAAAAW0GaDEnhDomUwIZ//p4QBLC4K7/6k8r+BSEl51HnfFauo8WHXE62pLEP59bUbO7YiRq1\n",
       "AIQN/+NThnh/9lLnKfXU63SNt7b+dG4GcwAYu+Z/5WYoL3OypHf1dLMAAABAQZ4qRRE8J/8AKOzb\n",
       "dRaL1cvkuTay3H7r0AEbrQQJMF82PIgwjGUANtEbnvNJaezy+qZCUI49JXTWsPzyW+o+ggAAAC0B\n",
       "nktqQn8AGIeWym5wVOCAll6bBM1/L3wf/MRng8ACGfjIBYO5C2DWtZJSgLgAAABdQZpNSahBaJlM\n",
       "CG///qeEAJqYY8MCAUsCjICGiY+3AOT4iVTQCQ6vDeYji0KdXwMXgIa97eRxIdVK9OVGOCcfKYrn\n",
       "d7JNBgCly+v068fDnh0mHAdJTrUpos5fLYqNAAAAa0GacUnhClJlMCG//qeEAJqVxjDf90x1xmQo\n",
       "dPmZTzrEOZOtcxwwALDn6FQC/wGtdhH10Bai6R2s9AkkkK+baAe///8yRMvOVyJlplA+ibmP/ewy\n",
       "dTl5hk/83qEvuC6jVqrNX1P1AvXrs9znAAAATEGej0U0TCv/AD4gazuGmCCjzz2GrAD+/bI4Heiw\n",
       "+ZACw///+/X+pHynVKBo2y/Zxqczvr34SaE8GL6IfBSZKeb4hs8H5WdMTAQkq4EAAABDAZ6udEJ/\n",
       "AFH47GABEFs+ex81OC+JRR636w6dco61cv1udASrLORR+tf3+IhjVIIVkTa6K9mKfzCYbteELmxV\n",
       "EzuyuAAAAFUBnrBqQn8AKOzbcVtuACiFJUwXGVwAs8Lc+3oYBSUM+3xh2mcN5ZOpX3WmdqP/zEuV\n",
       "hRL5uqOU797KF5tnku9oRDtlQ1pfzjwRVxReuZRWlckR2WL4AAAAsEGatUmoQWiZTAhn//6eEATX\n",
       "XfiAVP/ShAMm2eT0BZFNHahSzs9ZfRF2hDDw6JzEbGj/NplgPe0bD5rGh06uWEK6VqjvS3ElxMML\n",
       "EnxFQF6+P9wn1cMSyEbztGKKN4jWZfEsCTM8jqCZP+xylfvrv/8HrjWScP1A/zNjhn2MhqTThQfX\n",
       "oasdmDXBgmh+ojFLNnAxclPsp0Fl58IN/Nzhs1N2F6Lly5/3isau5lRYGeBZAAAAY0Ge00URLCv/\n",
       "AP7X8RmgZKAO1oxmkVABc17//3+L5wWb1+6hptYwPzzCm2Uhf0wXmlhUd5XDcFHCB4X9fvF6LBxl\n",
       "wDBSLKkFbo5KmpsqhRJXGVwg3Uc8+c7lT67brw8lsxZXwAAAAD4BnvJ0Qn8AMj5wL1E45HWwQA4s\n",
       "3A1A5N10S3ss8z1AZbA9kx3s2AjEdh9+SfxaWk5Blym8ABMYb1tTijwfgAAAACQBnvRqQn8BT2Zr\n",
       "rQ2KrNGDH5TUjjhKe9Ju+N+q6WCMNCXYX6kAAAArQZr5SahBbJlMCGf//p4QBNCW1gBs6aDKXlzy\n",
       "U/Vulqo7xAxbZWBP9io0IAAAACtBnxdFFSwr/wBNrsMAEQYvN5FhYZ/3AtFvXCTrtO89Y0glvmdx\n",
       "tt4w7geBAAAAMAGfNnRCfwBk6E4AQoOSBL/zEeZOsoZ2Y8bHzHizwBINELey/+FrTHjC8I0pkZYq\n",
       "fwAAABkBnzhqQn8AZIVAOWGDEwc1qzwfOTBWxnQ8AAAAREGbO0moQWyZTBRMM//+nhABLuL5+Ijc\n",
       "nADdZxbcAuK8xG2Le+YSajRkvuhgGoYfE65EkfqhSpatIH4/EcBLmFaRHkXBAAAAOgGfWmpCfwBR\n",
       "7gxvcEUONUbfk3QArZj/NdsH38/gkis4m7wfJUulsAvN1NveiHZi/jZQ2kurz1U4aLAAAABbQZtc\n",
       "SeEKUmUwIZ/+nhABLShHYAWy+v+uno/XsnmoYo9SOOfwVueeemL2sUTN87ZKWJiFK0Q7VaCqMKo0\n",
       "4VpVz/DMArDzXb7qWUIk5j6H+ll1VjU872VI5CkjYQAAAEZBm35J4Q6JlMFNEwz//p4QABdK+1y1\n",
       "Zb1xSgA/b5ulx3H+X6V8QgZCNA/1WKVerMaO4HeBAbe0vQ/rt+YjRC1f4Spfvk6lAAAAQAGfnWpC\n",
       "fwALhK0czcmyE2B4/ABaIjdzmNneeeXv3LxlbOsn1lRJSxfPIJOzcKrWvS7kP2ElXzdu6iRpvktm\n",
       "HswAAABQQZuASeEPJlMFPDf//qeEAE1LqiAC6sP/87KQFDWepUM+yiEfcp5ci0t/EE4oBhbhIF9x\n",
       "p7hLpsZLsrD5MbSfSL7o+UDblkxio+eqqU1rluIAAAAzAZ+/akJ/AFHt/osfS2xCV9EOiAHByqrT\n",
       "OTddEtFFIcQgMsACpppKe8nColfo8+/0D0rZAAAAOUGboknhDyZTBTw3//6nhAAvsXJAB0ol346U\n",
       "7Tpxqoq1ha1+1/8tXcv1Ko6QR4fDq98ciiqNsPkZ8AAAACYBn8FqQn8AMcWJQvT59AZkAOBCpY6g\n",
       "BV9rXx6xPyQr8dQrMtHizwAAAEBBm8ZJ4Q8mUwIb//6nhABNVtN54eU6T2tAB/B5GYJTAiAX2Lda\n",
       "TBERjQzIXwpvB5RYgUwyjm+ghtMxqemFHgqYAAAAN0Gf5EURPCv/AEyk5vCZUygAvq4okje0eQ9x\n",
       "OHvBuLAeVza4/M+9ZVgGvOq2wembmcFTpI7biTkAAAApAZ4DdEJ/AGSl+SrO+JJ7w23ABuSi5TXb\n",
       "fzT6uazQ2Z8jqD7u3j0+JOEAAAAuAZ4FakJ/AGSHh8AIUxTaiVTMXqPulCfToSWBJHziWesuj10s\n",
       "W/k/qEMIPHSLKQAAAE9BmglJqEFomUwIb//+p4QATVbTen8ZkC+T48eA5x9IyUm8v4TXSSAE7Z+h\n",
       "UOxdoHeG7V5CskAuGEV/5FqeQGbQQ30YG3V3E5JUgBAqKjqhAAAAMEGeJ0URLCf/AFHuDFTtrMtU\n",
       "WYJn3QgjP/ooAG0yfTMzCgRnlWUd6a2brm4RtGjjBgAAADoBnkhqQn8AUe3+i1Vq3jqfjV8TLHYH\n",
       "QAIWWuBbYoxR/JkELfbdvvUEtky++freDar9lcPPh+GHQ5OAAAAARUGaTUmoQWyZTAhv//6nhABN\n",
       "VB63gntfkZzYMBavRz1cLPbmFcsAJxBoVlgMbguKTSvaBRpO2c5j2jyGlnxPRk6gsWNNwQAAAERB\n",
       "nmtFFSwr/wA+LKU4TygQSqiqkeFDSQXB+cS8AHG///n28jA8M+6DF7zlQFfiYBar6vG5jPPX/IgZ\n",
       "64Hgs6HBsgQR8AAAADABnop0Qn8ABkfJ9vm8jUHsRbAoONXkRIEANdkEZ0Eyvkr+2UZAv5zVLrsa\n",
       "H+GFZeAAAABFAZ6MakJ/AFHt/ooAZ2Pxtgn2tettJtYWXS8cVAxmXyAFXP+TrBC60f9j89/QTYpp\n",
       "DBc4YyIZc9F7YK/mtzMiizNBjDFhAAAAM0GakUmoQWyZTAhv//6nhABNVB63gnrPkZ1uomHwAbVA\n",
       "GSWtldPXUwOkvlwOJcX7D3+xmQAAAGRBnq9FFSwr/wA9itoY6ygDo6/JVHjvwUVwO5RsKop9p5kV\n",
       "IDYFkUe3Pj0IHFF7uxwToKOcwLzR303pHbR8sv05lM/44TyRn3KtWPQVezDC4REXePC72TkSIhuX\n",
       "a8phSeFgtGNBAAAALQGeznRCfwBR0Y7HzUU5mDwo7RQmyvdB7q1EPwbyzGAljVnEAIU1t83SBGrf\n",
       "gAAAADoBntBqQn8AULfrZtwAhTOsagmxPFhDqKCxwhJLbfSRtWExYaS2le5ckq1j33iyhC1YgHfI\n",
       "mmlRMQF7AAAAVUGa1UmoQWyZTAhn//6eEAWWhfejLsygFiTl3iJjzbTSROl5Lv6VNpeyZyhf8E4+\n",
       "OuFnNpDwFPrHSMeC9SV3f5i4l0oTtUg4YxdN8YHouIkjth3e1uEAAABJQZ7zRRUsK/8BJtfxGiiC\n",
       "/iLa5+jPevvfvu3MQAXUIr6JmYLXb79KgF5pvB+Z/P/+PFaygl0PIYI45J4hTj+tVmAzSpEh4UTr\n",
       "VgAAADcBnxJ0Qn8AUfTfzjlsJX6XQEixkXCADjZNSx1ACr4W7htHLaD3bl9I1Gy47UzkJP42kBEj\n",
       "KC6YAAAAOgGfFGpCfwF8t/oqT2M5pg5KF3n7sIq6aAG6yaljqAFXwt3Be+PXKSAEr5H5cdqZo2lW\n",
       "YxuV9P9zsWEAAAA2QZsXSahBbJlMFEwz//6eEAEtVFUhKsaJPgBtVH3yJyf//dz5dYS0QT7zoRev\n",
       "/z+yb7fsKueMAAAAKgGfNmpCfwBQt+tm3ACFM6xqCbFKN7La6EBfxkKXqRf2fJZkNWFa9NWyvwAA\n",
       "AC9BmzlJ4QpSZTBSwn/98QANypT4AQpim1FgCvSlL5ATOupmBdBJdjrkFZmrbl0jYQAAABoBn1hq\n",
       "Qn8AZJ5XyaX5OhSv1VlWgkzcNIitgAAAAstliIIAD//+92ifAptaQ3qA5JXFJdtPgf+rZ3B8j+kD\n",
       "AAADAACurHPopkgYXevGAAJuNymFSSe+AAiK802KnYqdvvFAmWm6n5FvuM+5hDr2v5u/fAJf4An0\n",
       "gDt9i0MWDZt0UcLj5WQyoPqEdlG/E8Os06TMt1Q9eAWy2B6dB1hQml/Cp0O8TesHFXW8DDLpBzkX\n",
       "tchjm+YDyd47mw6vuxfU7XYdtkwm023/piaCg8Dzs4uKHaK6gSlb/qFCDh7dIhpeTrXre2dlaRI6\n",
       "XLXCupdyAELZMXgL+p/Dkxwq1NTy2WU6IpStgQyg7I0zFFNmXpvEjVqFKqU3e+WwKVj7QMP2RNt5\n",
       "hFcvWdCnw1b2hx2broNvjbgeq73ua2ZNbdZ5XbNUwbSK2vguaIIKEqkJJ7aGKT9Uz7FZB2XFihWY\n",
       "gTUaEDLAFe3a8CE7SFiiO57ni7PZos8hVysW/1EsEbpPY117bBrb7oRyCYJGiot5FhYwmd7VKZqk\n",
       "S/8GiK0l51u8OAWoEjKAjfbQP/zCrKjzwUlRWaUHyEqqb5LPSfFtSCIcsi4RLyipzBDaKc9K3SgP\n",
       "LMf5rIq7ZNGnPoMDephv9Bskuu1deG4SCrcYKKtkQsUMvHOhR7gCMzKbfds7zNW7HKlHVlqtJDiJ\n",
       "Yc/++L1KOtnACcuNCntmSdnKTUldv+rvgB2q/6kaWaGe7zqmWgIhlG0co7s5t6TBVx5Ev9O/jBfY\n",
       "dnNKu/tuqpZ3b7AGCvi3ub/+2ji2o1eIVAwOZtigUNLYHEG4RVAOR7JNGjgpNV9VIJ9bcCslXFzv\n",
       "Fy0d3QBt4m59XHM/GCghp8lk7Qs9kRTncq3DYodJyQReyNdcYDK4qdWYu2QpHTdG9sDp/jtS/Mlh\n",
       "BYbplP9zBgHZBlTiEMFy4qUO8orapZextSce9b0dwW1dy3UQAgvUrZ0ZMJq0DC0GN63ABAFsAA35\n",
       "AAAAWUGaI2xDP/6eEAJqv/5QB1Cymdl95/9508wfmLmLwSR8oaxpvMIoAtnFt4msnft8Gqt992pS\n",
       "Df/fXNtb694D0iwSmRWyxw1fLkHky5p6Fc2wLqvFB0Pxq88sAAAAQ0GeQXiE/wBkhVFAQPn7Z5/4\n",
       "6/WIlVDADf73NSePL5KGhsD2h3cN5UWpb9s++g6ed80DouUQYE4n1eA/OROlJdAXqsEAAABIAZ5i\n",
       "akJ/ABQ5P4+IL1NdtwPBMTg3B0GHbP4oAaL4yOIkuyQwrGXHZOsJRK9iXcTweV9QMO7EaTkGPYi+\n",
       "qnKc6gEmxpJuoHGrAAAAYEGaZUmoQWiZTBTwz/6eEAEtJ3AACds4s1gJP/+eREl1IAuKyQc4PQih\n",
       "Nwrfa2+JLUgyI/+BERSalIx3kKf3KgDGUc3qggGHpuGO8588EFF2iW/zkiCNQT35lgdxC/1lMAAA\n",
       "AEsBnoRqQn8AUitJABEGdY3HwQ/DVVgxUIBpxGVff1XYk9a4Ro0sHAV4tVtOG8p4HmzVPiipLUW5\n",
       "1uitJhQS88SEWoyLDxcR+ykdcz4AAAA/QZqISeEKUmUwIZ/+nhAAXXffThFIRADa15cOEEsFN4Xc\n",
       "RbB//3+L7TeTtWnDI+s+zLxe1JOBldOTo3osMPSBAAAANUGepkU0TCf/ABkngK9/XQtcDtjjDkAC\n",
       "102pAUOPvMneyz5XeECcFozAVuE1rxzp1B8E9M+AAAAALAGex2pCfwAZKQnjWoBp3ADcorAUXqBR\n",
       "2iKUMBR55/ANvmrI/LjtTO4NKioJAAAAUEGaykmoQWiZTBTwz/6eEAEu+Z30TJIATt///e1eii3i\n",
       "3OhjqSS+4EaohL44wAbAixseOz+PCV8WiXL5QpKQo1CloV3A61wIRK9pAJz0QUM+AAAARAGe6WpC\n",
       "fwBR7zzgAbUn/qv2KxBNZCGyTwIOxt6YdMNLUhYz+f8vYkFHKcaYI3r+UEGofVRdSjNcwd/hj9T6\n",
       "XogYtdkHAAAAQkGa7UnhClJlMCF//oywAJgjgmXqOVEXZ1jSIjCVq6zrrpwkGqAEpeHb4DYBi96F\n",
       "++haB9I+dbYmGQtKbhDGwNzWlwAAAFRBnwtFNEwn/wAo7NxWKdkp9X3RhfhHwA42TUs37EHE0G5Z\n",
       "OoI0Kys87TAi96h89WfQCkoaGt7g5fW0Ik+pdLl+DmDXzrEGADOdXPcZSjxNmVEv6XEAAAA1AZ8s\n",
       "akJ/ABiHllBrTlCEZkw5u3M6dMMxiO2TAA4Hd/FCqVWE8bddg8JWFyhyUbK9efVtss0AAABcQZsu\n",
       "SahBaJlMCGf//p4QAS7i+fiI3JwAc395NQxFAncFvZnB45r4966hhvxXW56nG/ePlQX7Q4jIxEnG\n",
       "VbBuJm4w0ZBIFoBgtDvIfQ1WWAA9lbLMOkYZEB+G5TAAAABMQZtPSeEKUmUwIZ/+nhABLShHYAJe\n",
       "8P25JueWgjjn78qajeq5hOub1I5l7xMYzkIfGcDOAKpYPUTcA7/LedzCX4E2lmIQaA08XQoLgAAA\n",
       "AEFBm3BJ4Q6JlMCG//6nhABNVtNY6RSy70aMqo95OaMHA4ms+6xY+KP/8ePAA55XOIkBY4cIFoJr\n",
       "TMadgHbK3CGdGQAAAEBBm5RJ4Q8mUwIZ//6eEAEtVFUhKPQs9z2fciwvi5wPj5CZFwAhOj6l87Ub\n",
       "Kw/9ZUk+ZBsBqLUWppdfeWITFg7cAAAAakGfskURPCv/AD4so6DjqzXwxlwflqWAHHfqdmHayEEA\n",
       "7WsFm1TJuWmMOLeDX47Rlw/7Tqx7er5oymsKsJVEYIuJG0hJP5IjpeTyZjMaZkP+A5NyEP84oQJi\n",
       "aeWvBWAUke0XUbAirmu3dnwAAAAyAZ/RdEJ/ACjoxzaoHNsQr7opjAB2cfslC5aNACuCraMTsY9w\n",
       "RE9B63FvEVO257Dwh5cAAAA1AZ/TakJ/AFHt/ogOcc//E/cDQZWuiD1Q8mTQoAOLGN3OY2d59hzf\n",
       "uXjLB+PIMyf/h2D37cEAAABHQZvWSahBaJlMFPDP/p4QAWz86CAVMiroaHLe1i4tC0COdf//Opwz\n",
       "xtW8NO6pg7vu0PsBEe72J6TK+CB+0r9dh69UbZPttMEAAAA+AZ/1akJ/AFHwRTAAiC2fGROSams+\n",
       "r5arbUxIWgk0RQ7dzn9i3Uo5VePOH+VWJFS31ljCKZinhlZOcmP00M4AAABFQZv3SeEKUmUwIb/+\n",
       "p4QAJqtps8lFKcvdFBKfq0gBKc3eXkUEP/88QAy3PprLpJoYu8zBYa0Z1+Swjb2Iu/dzrvdZ6T7g\n",
       "AAAAfUGaG0nhDomUwIb//qeEATvlye2F3QBMiL9dEgC1SKe8RG+6z3P8IpHcF0TFB8uT1GksOcQw\n",
       "enbXwoMCy/4KJo2SfZ7P8y3RjnM+/pa33YIJMUTMLFKph3HPbTLZP9RcUUAqLJ6HBocRTdTc0j2H\n",
       "WH0a4jak78u8cgvPUHHBAAAATEGeOUURPCv/AP7X8RphXBv2Fs0OgF+EpZJ78F1DsAJbCoc/Xe44\n",
       "gYtxXz48237j/4NGMmNCaVq5FP6edTo8KoxmW0AHyk7r9SRCaSAAAAAwAZ5YdEJ/ABkpn9gEGvWm\n",
       "lfles10ejwA1UhrEJBEFmg3LJ1BG+sRQzT282fDcPSPcAAAAQAGeWmpCfwFPt/oqshsbuQAIgSeQ\n",
       "2L4jZZKivufDSAJM48BefHz03zHjtqLRClkOdeM9+cWEmp8xpmdb+E/Mh4EAAAAoQZpfSahBaJlM\n",
       "CG///qeEAE1UD/AW/54jct36RY7B7adt7wn5gqSmgAAAADNBnn1FESwr/wBMpObaEF7nAA7PyOmL\n",
       "9Z4ei7HP2aWNNAH32ABeSjvEyQXUZumMUXsOakEAAAAgAZ6cdEJ/AGSmftIP/7eXIqbb61Bf7V9J\n",
       "6Ldf/JnEP6UAAAAbAZ6eakJ/AGSFPZTQ8PnQw85n9yRggPdVDYqwAAAAWEGag0moQWyZTAhn//6e\n",
       "EAEtzUncAF1J///fD572I5j/cIi7jK9CpYjd5b7FzK93dtuoXCeVLqr4HQ332FgFV4hLR27xTStC\n",
       "aiqFXNlSaafWIR89AmCHTssAAAAeQZ6hRRUsK/8APiBvk/gZwF8ZBv5I49QIIlbOAEfAAAAAMwGe\n",
       "wHRCfwBSK0kAEQJPJj27fVgqewWErpw4UF9/XFiT1rhGjSwcB9rWCCahYwgMbCbSJwAAABYBnsJq\n",
       "Qn8AE+uBFLn0WyQNQXjIYcRdAAAAOEGaxUmoQWyZTBRMN//+p4QAC+xckADjYO1Y5OlvLYC0UqQy\n",
       "ayL//eCX29Xj6PsgU5p+uMe1TfnYAAAALAGe5GpCfwAT7zl+FXIM2ydSGgA4EKljqAFX2tfHrE/L\n",
       "s12IB9aoNcUAgAk4AAAAOEGa50nhClJlMFLDf/6nhAAX2LkgAXU8kFg++hMMxBbukMn9iJumjWrV\n",
       "LCMZkDmZfsl/W9AVtlxBAAAAJAGfBmpCfwAZJ1sLk/Ni9SyxRADfd//9/i+p5tL9fjkEwg7dMAAA\n",
       "AGBBmwtJ4Q6JlMCG//6nhAF/WHEB4Ahw8b7T2h+cXdn5QefZ9xfbudIhUw0JSE/E///mV2jda0oG\n",
       "GeW9KpVYxRL4Xl+jQNSz0YI1XERORK/UEJSvtqiaJ/M3Li7kUd8q1bEAAABZQZ8pRRU8K/8ATXXc\n",
       "z4x7kAHOJ/6r9BQUGACUgvbCqO6qXWTn2JR8UOPQS2X1fv5CFDKbNrTYX4M26b/c2GAkrB3roG90\n",
       "hLvqY39IoYsrzVUk2ImB9h98esAAAAAsAZ9IdEJ/AFH0+tJ42jo+xBlbTeAC0AT9cjLTVlq0pQHX\n",
       "IHXz9foYVYvQWUEAAAAwAZ9KakJ/AGSeAr3GdTAmU14hABxUk+mZmEujxjYvBFuSqj3O2Y8lusWt\n",
       "iaJ5KyXdAAAAWEGbT0moQWiZTAhv//6nhAGC54cBUzVg/TqYiG/+F81REWAS3w6cDpHMVrrK6soN\n",
       "5v+tfbjXsBAovGYuL5R5h1Oaci1ylAUfVS4A61f/lcAnN6iKj0pv0v8AAAA5QZ9tRREsK/8ATWQn\n",
       "3nk98VHKjJTpbcebSIASEZx6w8ovdYkpYcCYs8yODGDxJFcbpj/fBfELjRcvAAAAPAGfjHRCfwBk\n",
       "fgPgBCmKYq+Wz4sHjsASPzf0egw71D0h42SXl7XnYc3Ko/lHy0mTS7bPHexqcu+6o3AUMAAAADMB\n",
       "n45qQn8AUe4MVB3TfC03oZrWLtxzERDkElVyyAFhj6GdBMr5K/tlGQL+xDL7CjP25cAAAABQQZuT\n",
       "SahBbJlMCG///qeEAE1T6AADuRNDeRHRR+0rdcJl27txh/ArH3wKWk7B//1djGSrmKG3vdKU2+qW\n",
       "pWmNUpBwNTzDQGDK1oNOuiRn2MEAAAA9QZ+xRRUsK/8APiB3dyPS5QcFXkD/RARAY8uD85x4ALZi\n",
       "88PjC1bfJNYDbo/kT4BTD1ByC1KFyQ2osGXIsAAAAEYBn9B0Qn8AUfT4xKG8u/4oycm8waBQAijp\n",
       "qxjZ5KUBXG6IscYknTmuNT/HdehqFeKjhWhYIx5fFVnyyI2jjy78j6bN3TBnAAAAOgGf0mpCfwAx\n",
       "Dyvk0nMpG17GLmkopA0kijnJZ4iqhdogA42tv4oVSp8m/QF4L7L3ka8u8C3SFJ6sUWkAAAA+QZvX\n",
       "SahBbJlMCG///qeEAE1W01i4n679RhoKcgA/n/D4ngZi/+pyma6vdcbnEeQtX/1WegDpAlR1qEvB\n",
       "rpsAAAA7QZ/1RRUsK/8APiyru5IjuTgFLOl89qn1uCBf46KrR3AA4DOfy1ETl1J+Fwg72gNtNbWq\n",
       "j+GeSFr9oPEAAAAxAZ4UdEJ/ADD+g8Jm6jbRYlG6MmyoSAkrxHq9horJoAHGvi6b92/mJLsDVyIo\n",
       "dWJGoAAAAD8BnhZqQn8AUe4LcPAC0SJB4KLXiD+n00QoWAEe///w8TxrgC9gG66gUcNc1WJW28dB\n",
       "XNLUPv++G/czzfmMm2YAAAB6QZobSahBbJlMCG///qeEAXTCB/GwR0rXAJIMfx0p2f7mNoGpmEih\n",
       "NrTIJ7XWjDtZXxvvF3lwc2doArWVyLPP1pB3mqvaNxIlpl+HpousZK54tOUy3g2EMzMG9wxgMNQy\n",
       "hWl0wpDmwA22daDhrTFz2s/WP2Nljhv3XyEAAABJQZ45RRUsK/8BJtfxGii6jNdxvPjScpJPlzkp\n",
       "dqe9ZZC//6mgvA2WS0AH1fL7Bq1dvsGDOSAo5Fqd+7llXeZBDpXpe2IoXRrbMAAAADcBnlh0Qn8A\n",
       "UfT4xKG8u/4oygIhah2vOKewCa4py7BdSCLQxq1OqZhWD05sphhQcmf6UgZcGoMqAAAAcAGeWmpC\n",
       "fwF8t/oqT2gNBEoeAImT//HWqewWDKuCPULhZ060nnL3GUWsLVGfp8i3zCC/salriEgKNbQKVOmx\n",
       "219RbfREA93xmu98BiB0mqCdQNDRrJjooHjPQVB/SqRSW6TriX3x0sxUmyjsq+tOMeEAAABEQZpf\n",
       "SahBbJlMCG///qeEAXGX53JIBLuc5YBSpruYUnafnlBx7bYR1qUL2D//N8bpZOw8hECnCUpF/3iu\n",
       "V1ZVs3fGHaAAAABEQZ59RRUsK/8BJpH/7Rdjax24ACVF9HWteIvB+cS8AHGuKJkL/DxpsIUO3+NN\n",
       "TwDVm6kMVkNvFbWdAs+ElUodLmKUmBEAAAAlAZ6cdEJ/ADD+g8Jm7A5SsDNjz2Gi20J4BWJgWxGN\n",
       "oumDsE+rZQAAACsBnp5qQn8AULfyrbgBCiTyOtMfmBCjKIULcOtj1SJ7AQM0ZZqV/RB61d2AAAAA\n",
       "REGag0moQWyZTAhn//6eEAEtSBwtuqXF8ShtKKnlqtBGt+Uha3Z0tbDQDdBrVKoB58Um/5d0QQcg\n",
       "TgtcRb4KtUSgkZTBAAAAOUGeoUUVLCv/AE2q5AAvrF5vDBf7THRKzRfsaFX+/AZUg1Ik9074eZjf\n",
       "eRMcSe7DAZ+9LvLoABEkPAAAACkBnsB0Qn8AZE0NGh8AIOvaO3qDS/9rC14wxOdFMHhvtH4ococ8\n",
       "1bW7VQAAACABnsJqQn8AZIU9f9NkcTd5Rjh69rCfxZNm9DtnbiQbMQAAAEhBmsVJqEFsmUwUTDf/\n",
       "/qeEACalOIljkWzFHtDh5CKtztR9RGPupLZUAF8o9cHeDzADXUG81CdAltWFnLx76su8pPJQfzmY\n",
       "2YAAAABAAZ7kakJ/ACfecbT9EehJgG5XQisSu0M8AOLNwM5Q4+8ycKE9cZeKXcBCSWXusZAfopMY\n",
       "zac+kPwuMWLq/T8+XgAAAD9BmudJ4QpSZTBSw3/+p4QAJqgHUmzpiUfUEMdb7ZgA5on////F50Qv\n",
       "toP20+ohFtUfKM77dh8+8ST775SxfFkAAAAnAZ8GakJ/ACjszXesng9OFhABxGp//v8XOWgP92om\n",
       "2ybriCyLgxLgAAAAekGbC0nhDomUwIb//qeEAC/694cIleoANjPHJf2cM9Bz1X0hCRBltpZHtD00\n",
       "fRD/NQXCd9fq57jQHZCPAoqNkS62US5b/CZICqQCzR7YJCZR79bI45uCHHSYabz2UdDRGYS9NW31\n",
       "X0jsf6kHd1afA1mg6Tle/gPhVa2RAAAAQkGfKUUVPCv/ACa6uKafc3twAbYAh1Hz+MA3wL/+fQAW\n",
       "rRU8MFOH7PW/nzR60FYKopO/jG8efTYmVOsf7Gum8XflgAAAACwBn0h0Qn8AMP6FnUgEPVBLoopg\n",
       "AcVJPpmZhKMtVQmBJjGX+Az8vrYAgGAFOwAAAFABn0pqQn8AMlITxrTeXmIANtxu5zGzvPsOb9y8\n",
       "ZX6X8rIzWILytiOVxIkTGPX/fh0H/7xFWDE5NpNzuo/7/nm6fsXpTj5eEoIveThlkfp0ewAAAIBB\n",
       "m09JqEFomUwIb//+p4QBcguykAg52P46U7UH/goWWss0oYKX1ig5E2JZm3FSOZc4As4KXy67HJsg\n",
       "ZnPl9Zny4dwPzn7+FVHn61cHHBYYrOd6NynzMhgnsNRN1dqrT9NrHItmKQZVsuyQOaY+Z+flJLfz\n",
       "1KfUvefoAodayndowQAAAFRBn21FESwr/wEmkdtFl/YAF9YvN4YL/aY6JV+omjSUSJZZmmVqHPL3\n",
       "T5YU8eKV+mC75D54QdT+uAUmPm4kthMi3iGk/dS0I8D+fCmBURTutkac55EAAAA1AZ+MdEJ/AXzT\n",
       "f0DGspFz1mAAIMlEaQ/6GrvMyrcmR6Er6jl2KUEXL9mC8P6sOJtm69mpTeAAAAAYAZ+OakJ/AGSF\n",
       "PbTamAe2YQ+Dr3+ugR+AAAAAQkGbk0moQWyZTAhn//6eEAAS0g3EFWy/8hyBYJ7A/4U70ht34I0P\n",
       "v3eE5D8N86iypavW4rldYn6gQ+iKo9mdYSSZ5QAAABlBn7FFFSwr/wAlSqRwt8XUHN+RDta6ZmNL\n",
       "AAAAEQGf0HRCfwAw/nFZHW0DkvdUAAAAOQGf0mpCfwAxDxmknN7ywflb+AFsxTc+1vILxLyR6O0Q\n",
       "CYFN7TfG3CcyIdNOtsFDZy+HWEYmGSEF2QAAAF5Bm9VJqEFsmUwUTDP//p4QAEu/ukQAbrx/wp3p\n",
       "CA/wRgG8XQkjI+IAAcGryuvAVKf6qdw5PSKGVu/3eRROkpotMDHAbNG2odqhgJrN+cy7kwK2BXmS\n",
       "h7EfR1npmBWBAAAAPAGf9GpCfwAxF72spBgbg/K38ALZim59reQXiXkj0dogEwKb2myRxiY125fj\n",
       "8Zn5zQxkgOYHTkH+W6RTSwAAAFpBm/dJ4QpSZTBSw3/+p4QATbjfae03FvgBuv+H4TJtFDffRjmC\n",
       "g9kckXLit5af4SonSnGdDFpDHyCaBJ072aWhqPReX4KWJ/tqOy//4ChePL3jGLhxfxf5q2AAAABG\n",
       "AZ4WakJ/AFIrSQARBnWNx8EPw1VYMVCAacRlX39V2JPWuEaNLBwFcdcOgvd34mz7WsPYdhxV124U\n",
       "+EikcgmlUOvCeSPMCAAAADdBmhlJ4Q6JlMFEw3/+p4QAF9i5IAF1PJBYPvoTDMQWOpDK0Rv/74PH\n",
       "iERNtwpgc7r3fQIVVI2BAAAAJAGeOGpCfwAZJ4ClNF6qVTjwA2iJ//v8X1PNpfjfJzU0qZqsoAAA\n",
       "AG9Bmj1J4Q8mUwIb//6nhABfYuSAAqb/hrdppdHfy///ns91UaJp4DYlT+Isy5bk5vxoJ6vTFpZ8\n",
       "ocEZL99i7DKelwmGT1xV1TJoRuEtUObL2umtkkWXd7eNlglRW8PSLu98JmcnQuKLBGnSS6lPP8AA\n",
       "AAA8QZ5bRRE8K/8ATXYXl5p75ugB0fJTGSGs32+CNroe97UU6bgA69DruNjvLSmlPtbIAtxjiMgj\n",
       "jWUsvab1AAAAKQGeenRCfwAyUmrtKiJmMF/jsaCADgd335OfVWcJvZvwkYgnvjdW8kHAAAAAKgGe\n",
       "fGpCfwBknleYaVeu3KbOEngBdRkbs9AklAIRvZDZUlG5g0HxggzGzQAAADhBmmFJqEFomUwIb//+\n",
       "p4QBcf9aQCDnY/CpMnr3pvtR3B47lFBACxSTFVOJgN3reGV0KNettUNDewAAACFBnp9FESwr/wEm\n",
       "kdtFaWhQAhTF5/CowwBfo9v2ducoMWAAAAAiAZ6+dEJ/AXxGObxoIoQsgAG064gMhvvbWspUuTvR\n",
       "hQZCpwAAAA8BnqBqQn8AZIVAL/csDpgAAAATQZqlSahBbJlMCGf//p4QAAAHTQAAABBBnsNFFSwr\n",
       "/wAmwZT7IAGNAAAADgGe4nRCfwAyPk+eABjQAAAADgGe5GpCfwAyTwFOABjQAAAAO0Ga6EmoQWyZ\n",
       "TAhn//6eEAAXXffThEysALVTlw8Te/FkO3O8wesj0/X7a5HOFPHs3Ov6/9h9F8SHW/M/AAAAWkGf\n",
       "BkUVLCf/AFIdzgAlrD/3bpMW3KVq0dYmGsaaSxn8FONLg6jJVKAgNzZ8Fz/WwQwOzHFjPRdfaz+3\n",
       "/g0PaTSbazefRzo7OLsd2SV2BKSv5NhJMVb/8vh1TAAAADkBnydqQn8AUe4MZFp8euAfWWC7+ZYE\n",
       "AHFm4GcocfeZOFCeuMvFBmldWO/azgj9FJjGbTn0h9JBxvMAAAA1QZsqSahBbJlMFEwz//6eEAAu\n",
       "jdZJRz0x+qACHoD//v8XhfP2ZeJkn5/UZ8H12wWbPp3iUj4AAAAqAZ9JakJ/ADJXs1rnVV5TUamA\n",
       "BxGp//v8XOWgP9zJ5vO9gAxaSUauGRQRAAAAQEGbTEnhClJlMFLDP/6eEABc+DJKOTDEaAAtXtUm\n",
       "9/B6hfYR9/XAPSYeT2Bz70R0xkz9+HU6Ou09YxHh2TuPQsEAAAAmAZ9rakJ/ABkpCeWv2wABuWSe\n",
       "/Jz6kZaqhMCSDz/HztXGXifFKqkAAABGQZtuSeEOiZTBRMN//qeEAE1LqiACIP//49nzPBT0GuqL\n",
       "QSzLLNGDiEQOAhD3OGOPSKafYdwXuvZqx3Oj+m7NWfiMv52Y/wAAADIBn41qQn8AUdm4u8iRT5iA\n",
       "C1N9oegSSgbRcvyPBsejBKi3RBeUdORy2j1Ln2rzdOp4QAAAADJBm5JJ4Q8mUwIZ//6eEABdfd/O\n",
       "ZreLD/9ANfUAGhOF2DcYsB3ysj//v8X5LXvzL6e0wAAAADhBn7BFETwr/wA+NejZUbMm57ONB6GG\n",
       "1XbNxzy/7cEALd+2L2RzBxQNRgelOSGz90Nhgy75aeRFgQAAAC0Bn890Qn8AUdGOZsdmCxlGBbmU\n",
       "9p4AON2faTmNneeKLmyQHlg7VhDSAZ81akAAAAAxAZ/RakJ/AFHt/oXozWLbgf4Cz86d3KHTDABb\n",
       "MmpZv2IOJoNyydQRoVlsotidnql1QAAAAFZBm9NJqEFomUwIb//+p4QATb6DfuMggARB///Hs+Z4\n",
       "KdJJe6r5Dy7DNxlVMTZtc+LTEnWOCwAvXh/a2yrpzOm2Ar8JMg6t+J+vK7gtjFZ0tGjiPYNuPwAA\n",
       "AGtBm/dJ4QpSZTAhv/6nhAAm3xVqy9qmiOfwmqUwAXVEu8kEGornkvia7GCBjFDpXv46Rk6kK7yZ\n",
       "0nMRWU7xVZdfdSbKW3KWPBgHY3//z+lALacC7xlKAovOwMCajAzmADF3zQE0G3p8/C+a8QAAAFxB\n",
       "nhVFNEwr/wAfECWjyyZCL5gDTz+HQAsP///nWp+jI+MitW/WnWvK/p5upfoaETsxmsBxq9dEV2xm\n",
       "S5J7Ij5okN9R17gxzqAr9AesVe/m3QjuFL2kNODr7kWntQAAADcBnjR0Qn8AKOinmTyDiH0uZ6zQ\n",
       "SBKSsK8uFO3W99w3u2TiADg5VVeIcfeZOiikqU4QJav/CQvNAAAAMQGeNmpCfwAn1wIedbSZSOMe\n",
       "wA/VeOBHvNNPfS8B4N27gwAbAkPzDCspGwa1rJKMxIAAAABHQZo6SahBaJlMCG///qeEAAmp/W8C\n",
       "iyg9UVt+xLrLdusKhgA5s+jMnNXxbdxFh6OZSYPYsuduHc/TYi6b3IGO//lZRiL+AYEAAAA6QZ5Y\n",
       "RREsJ/8AKQfRBRAKKdJnvIP2AGyGT2N4aqeFal0AbYq7Lc3pSHL7W7e80YKjccKECHXKpM2atwAA\n",
       "AD8BnnlqQn8AKPmKGOA525+iwZ96lWfLzGdj1/vAERbLORSB0MANzUIQjzb7QlY5sVirACCKYzMp\n",
       "vz0PKSEBIE4AAABlQZp8SahBbJlMFEw3//6nhAAJt8VbYDclADdf8Pkgep5/bjKQw82IukdrPQJJ\n",
       "JCvxAfb0//1kZXX+l/jkeEFQDOEOVpyUsJ5RK0dthDMzTfcMJ11I8021dRXhSnfNBxSqJLzi9M0A\n",
       "AABQAZ6bakJ/ACfecS3liv+b49OcEQAjJP/8dap7BYMq4I9RWnI0+MLjd6mMxwx5OLv3aGUNyghu\n",
       "ebqCielOPju2XqGZNq1+k1FFDrZi6/9M9uAAAACXQZqASeEKUmUwIb/+p4QBO/IGI3NCgExRM5Pj\n",
       "F9xde4O5vetreRAK7ox3JtJjh/zSeQ6V6L53EOXay1plGVPgdx2vfYCf+EkcXBzUR3gaAYiuM78s\n",
       "BzuWWnFOQLvbC82X5zWNSQbH852KvWP2i+7rv/RwFOxpwBQyts+RJCi7Aju17O8w0c1WIh3Z50mI\n",
       "djHEJ3OK+EuG8QAAAFJBnr5FNEwr/wD+1/EZoYri6DYCKgAua9//7/F84LN6/dQ02sYH53WAJ/TB\n",
       "eWEeV3lnE+HmWHwlm+bZeZm/xhquAxv5V7nhhENYjBPeWwkk6U3BAAAAPgGe3XRCfwAnyNFKOPve\n",
       "QAcWbgagcm66Jb2WeZ6gMtgeyY72bAOs42iBsr5YObwAExiqU7q97fRK0UmYM6ybAAAAJgGe32pC\n",
       "fwFPZmutDYn00mx35B9gBinUGQnUZiCpP0WBjRNXOHl5AAAAKUGaxEmoQWiZTAhn//6eEAC68qcd\n",
       "yp/hUkcNl6lWGBzz5FAtxEWQf66oAAAALUGe4kURLCv/AE2uwwARBi8/hQfyN1PPVn7/qw/fdyHl\n",
       "RdRKqqCSTZd1ETIOOQAAADEBnwF0Qn8AZOhOAEKG2Ybf+oL1+pBrcYjxYQN/S0M3/Car+bsWz7RX\n",
       "i39WmWd4pBoxAAAAFQGfA2pCfwBkhVDzvKQoBGmBWg4ZgQAAAG5BmwdJqEFsmUwIZ//+nhAAlpGB\n",
       "wAjHkffSS04w6LlPJCwq6CA72gckdmdLq9B4vFS74ajYJLPTFOHzEL4ZpxMrZFhz1Z0Q7VaCqMKo\n",
       "04VpVz/DMArDzXb7qWUIk5j6H+ll2jPYCwlh0HdCFQt3bAAAAB9BnyVFFSwn/wAo9vDBlyzmJD+C\n",
       "0AdOZ2de9/WFZDtNAAAAIwGfRmpCfwAo9utSVrqhUQACyxhEbVJcNU9+sezbgC5GyynuAAAAZUGb\n",
       "SUmoQWyZTBRMM//+nhABLuL5+IjcnACas4skO8kRz6NZSCTSGnd7euoYbYweJbG/V3bOiTUG1PqJ\n",
       "Qe4kQOqEJKOZssA39VAjg6d2p1nwaLElgHNwrjBOGj2VWt8um0LUQymBAAAARgGfaGpCfwBR7f6E\n",
       "0zCRFnw8YsKWIm/GOcIAODP7Scxs7zzy9+5eMrZ1k+sqJKl688gp7TdVa16Xch+wkpw8BDoyTIq9\n",
       "0vcAAABZQZtrSeEKUmUwUsN//qeEAE1MoiAC6nd/r2i6/QMMK5Ub6SS9C1fhMWxmLEFplJOXdZ1W\n",
       "wjlvEJex7TfpfUqreNG6UqeI1iVqnChlyQ5TRrE132Poj3s1BcEAAAAwAZ+KakJ/AFHZmu6BhKOr\n",
       "+7GMIAODlVWmcm66JaKKQ4hAZYAFTTS+chZ4Iz/Mv7+ZAAAANEGbjUnhDomUwUTDf/6nhAAvsXJA\n",
       "B0ol346U7Tpxqoq1ha1+1/8tXcv1Ko6QCeZdho8iM+EAAAAkAZ+sakJ/ADJPFhZCX1ADa1KWOoAV\n",
       "fa18esT8i9/SdMEQ55kvAAAAQkGbsUnhDyZTAhv//qeEAE2etKp18fKpWMgA/g8jMEpgRAL7Fumh\n",
       "skT9i5JmQvhRbLyixAphlHN9BDaZjU9MKPBUwAAAADpBn89FETwr/wBNquQAL6uKJJQf71PXg1DT\n",
       "wKj4+QeWAI3cS47FZgGWM8Rbkf/TWpjfk6W0/kvLSRcQAAAAKgGf7nRCfwBkpfkqzviSe8NtwAbk\n",
       "ouU12380+rms0NmfI5hKNA2UdMSW0QAAADUBn/BqQn8AZIeHwAhTFNqJU8e4IL3QfszYBOBcqsCr\n",
       "7UvrDWlifjWwQCNWpk5SL4GRWapIwAAAAE5Bm/RJqEFomUwIb//+p4QATVbTemKb6f2NAndkrKHX\n",
       "oFwfhNhZYATtn6FQ7GQcrGnriJZoGoavIzTkWp5AZtBDfRgbdXcTklSev5rc3cAAAAA1QZ4SRREs\n",
       "J/8AUdm4rduUL1OgVACKEfKe/uB9wQ62n/bvn78qoQcJY5Il37SNf5KjQLIeMYMAAAA6AZ4zakJ/\n",
       "ABkhMj376fLv+xYMrUrwhIAgpa+nU+f0T+TIIW+27feoJbJl98/W8G1X7MTjlQGeM14VTQAAAElB\n",
       "mjhJqEFsmUwIb//+p4QATVbTd/2U90Ln1vJljyZzCOQ9HmXw4Ry2YATiDQrLAW9vMi3QuJBE+Vrl\n",
       "La9tHkNLPdNk1dBYq+fBAAAAR0GeVkUVLCv/AD4sq7MaCEPyvFkzRaF2pSnFfg/OIQAFs///n2uz\n",
       "A8M+2pv6vJfYd5BRar6vG5jPPX/IgZ64HzH4/y16GMWAAAAAMAGedXRCfwAw/nIy1/KhXjkSzKri\n",
       "3rfkXMUUALDH0M6CZXyV/bKMgX82JA1EnjgvgAAAAEMBnndqQn8AUe3+igBnY/G2Cfa1620m1hY0\n",
       "ax3UDfQAjPCNOsELrR/2Pz39BNimkMFzhjIhlzcyCXz7KCunHqr1gDFhAAAAM0GafEmoQWyZTAhv\n",
       "//6nhABNVB63gnrPkZ1uomHwAbVAGSWtldPXUwOkvlwOJcX7D3+xmAAAAGJBnppFFSwr/wA+HHov\n",
       "3AsAcvX5Ko8d+CiuB3KNhVEvdPMrFQbAsij258ehA4ovd2OCc47num9Ghg4PUZYxFpwDPxzFvtZH\n",
       "H2f1iPh7ArhEO3rdvx6uRIiG34m6CtvdOFoxoAAAACsBnrl0Qn8AUdGOx81FOZg8KO0TpkZBKRiS\n",
       "QhAUTl6KPmAAbUIT3VvLoROBAAAAOAGeu2pCfwBQt+tm3ACFM6xqCbE8WEOooLHCEktt9EJs0DbV\n",
       "k0afo++Fc++FaOgn3u+RNNK5FhU+AAAAZ0GaoEmoQWyZTAhv//6nhAF/cgXQAnU3fjpTs4/8FEaw\n",
       "nemTz9oIFG6oHWyNgdHkCHQMB0JZk0LzZP7vvCWxwy4kF7Ri60P29dJ4Tnn8dogd905XoZXSDKqB\n",
       "1wQOvCer3OBtgQauWb8AAABHQZ7eRRUsK/8BLtdy+ahlrNTJqsEOWsrI1u/WIAW8Ir6JmYLXb79K\n",
       "gGPMnB+adX/+PMbSgl0PIYI45J4X3q/CxbiTeP//zjkAAAAzAZ79dEJ/AAWtGb5AjT9bk3RgEAHG\n",
       "yaljqAFXwt3DlR9kloNQJXyPy47Uzks5JBcmNv+AAAAANgGe/2pCfwGGeApR6o3N5BS83Lnm2g7g\n",
       "BusmpY6gBV8LdwZLf6slWvpGo2XHamaMf9ogJxkkHQAAAFJBmuRJqEFsmUwIb//+p4QAX2LkgAKm\n",
       "/4a3abPYWY8Yly7DKc/keQyyuAZdtkkP//PZ7qcWcTChpQQAv1dO1oPIbfibJxeRJ1jguR29NgXj\n",
       "dol4AAAAMkGfAkUVLCv/AE12F69R1tUdAT8AEZH5KZo6//71NdN2k9KCxNacH82VOaPs0JCoFJ8x\n",
       "AAAAHgGfIXRCfwBR0Y5vx8TRjgqe9zsLdEiwn/cShG+XcQAAACABnyNqQn8AZJ5X7e2wCfBVw8ad\n",
       "+QWoA5jBWWJar0BLwAAAAEtBmyhJqEFsmUwIZ//+nhABc/VsbJUBuEd3M+m7NEH4zCZL34NXYEAH\n",
       "88lloWyo+VJK7CIWnBLwCSbbOor2hAbVAtlu/o7YSs6AvLAAAAArQZ9GRRUsK/8ATWSsH3ebkAC+\n",
       "s9jwItOQh0fXYB77YFZn/eS7ZB9Qm8mDKwAAACsBn2V0Qn8AZGmdBoAADafFtRYLYdolvaQK1K3I\n",
       "7QhijLpOF2KAkQgZ4BywAAAASAGfZ2pCfwBR2bbitti7HseQ6wQfINziJIAftIyOIkuyQwrGXHZO\n",
       "sJRK9iXcTweVrNFEwij9N+FG98OpynOoBJvFUa74g8ABoQAAAEJBm2pJqEFsmUwUTDP//p4QAC54\n",
       "vQAEZJ//8vr1Z0jZVSp66PUzLCaX90NTuURM3lV+L7y2w8y9H8mp9vQgj9T9etgAAAAyAZ+JakJ/\n",
       "ADEXvSfeUB2oW3vbiNWRPugAcWMbnvNJae7DnVMhKEzzcJ6Nb/7GhVIwbMEAAAA/QZuNSeEKUmUw\n",
       "IZ/+nhAAXXffThEysANrXlw4QTEbwu6K2D//v8X2m8natOGSpqd/AkjccDJR/FD5HfqiVod1AAAA\n",
       "PEGfq0U0TCf/ADETzUzrdjHZGd7zbNWP7gBuabUgKHH3mTvZZ8rvCBOC0ZgK3Ca2Qjg/nNCNZlCR\n",
       "CXqS8QAAADIBn8xqQn8AMQ8dNMN0gr75oAOKOUsdQAq+4pFOLfLOEdoP/LjtTO4e8/3KB3zFoQxX\n",
       "wQAAAFFBm89JqEFomUwU8M/+nhABLvmrACdY0/r23///+fIvCt8TK2gGce/LuBGqIS+OMAG9dkWG\n",
       "mexE7q+EQ+aJNTgULCpeC2FXsBCJXtaVeeiChnwAAABGAZ/uakJ/AFHvPOABtSf8hBFbylCvIbJO\n",
       "9/FSMyf2C9VPx3/CVjAdPDiWXbOjgfd1ygKmXmqxbnyyfr7PkIK9vcpQhoA3oAAAADdBm/BJ4QpS\n",
       "ZTAhv/6nhAAmqAli6fZT4kN5nmzcFp1PI8AF9aa5DcsUvJZKv20i+pLBYDvl2sz5AAAAXUGaFEnh\n",
       "DomUwIZ//p4QAS1U2HAAuz//S8kgx7BkQEK67xCqbchLiyBxGdOfGJC8+Uyl1GY2uCc+dBRd4Zuh\n",
       "csXV8RsaHoQ+M4GcAVSweom4B3+WK/1IYinnR1u4IAAAADxBnjJFETwr/wA+MbzufPGqRwKjLfte\n",
       "CHwCJc7U+Q56C+MigAuGu/XIy01aZZcsbizn7icKNti6cimPnpAAAAA5AZ5RdEJ/AFC39Ir0ADag\n",
       "RjXGiR/cSQMSJqu4moyfOoQYdq2EjvoUZ9UW0y+84EE7wowZX+cFfa49AAAANwGeU2pCfwBR7gtx\n",
       "AWFTAgSi+6wgmbh2g5XwZUohIwAWinAzlDj7zJ0UUlSnCBH8p6BE+wMAoIEAAABDQZpVSahBaJlM\n",
       "CG///qeEAE1W01jqd5sYoAK+Rmp6PYhR9WVutZOyhgdH/gvYALqU8tXgLHDhAtBNaZjTsA7ZW4Qw\n",
       "iQAAAGlBmnlJ4QpSZTAhv/6nhAAmq2mzyUW79mn4TXRBAC6ol3l5GbLktPtK3tuyxXcPN6Pti5dj\n",
       "agl/Dgy7V0d7ls1lwcUmlmmH2QoFH2doWV3uTSporYAmmUX8fiUAMkA3HjiwRqXyXPsH9pgAAABr\n",
       "QZ6XRTRMK/8AJb61fe1dXc3ZGvR6+aQCxABxv//461T2D9jIq2dRbzTF+nm6k1oRTj5rAcavOSdt\n",
       "sXg7UWYZ93J+0TXukO4+eB55ama3YxwLZCjH8f+C4bS6/XTLzLkNdwAsopNqFpOy/tAAAABeAZ62\n",
       "dEJ/ADD+h3XKHb3eLWE9TBcwxACzwtz7ehgFJQz7fGHaZw3lk6le3utqSf/BxA2FEvm6o5Tvy379\n",
       "W9YCi3bvYOhDEHC5nFyHGJ2Me4Iieg9bi3iKnbc/FoQxOQAAAD8BnrhqQn8AMQ8vnQYJv32REr3P\n",
       "EWq2WPuVsXWkK3QrGuEImLQdNUAFrmmg+n7b+a4c37l4ywfSE24T/m925roAAABIQZq8SahBaJlM\n",
       "CG///qeEAAL7FyQALjPHy8igh//qYmOkc+msukmhi7zMFhrZ/oth5AcSHsl3wt84II/rZj3EymYn\n",
       "3Kw379NwAAAASUGe2kURLCf/ADEXxbfT3lA7QbT1pMuFkQCmNo2ieqS/gpq2Mx8VOh7VgBuWSe/J\n",
       "z6tI1d1DJf9xIMX1r9IdMKmxryCbgkRqsVEAAAA5AZ77akJ/ADEPL50GCb99kRKtZuBGvq6INznC\n",
       "AL0NADcZp//f4u86s0vLehca0ehtv7+D61iKCAS8AAAAp0Ga4EmoQWyZTAhn//6eEATQs4WAaN3C\n",
       "0GXX+RgAW84n2XUZORPXoySL5ImTEHIY5fKxOqMu9yE0bskSRKbmcCAEIrhmn0deyaIdYg0ZUyKx\n",
       "EkeyujIqfH4GdCz0nv4UD/CWDTcE/9TsTKic8d7cGKfO9uZO7x7EHxL60wVcQTh6XayvV4w4/SOU\n",
       "vGVSjxNUijKki8aMqSO4kdXpOR7EyIczHWtfBBnBAAAAUUGfHkUVLCv/AP7X8Rmhh+8vPpCtfjrW\n",
       "r8F0DwAJnCoc/Xe44gYtxXz48237j/4NGMmNCaVq9oVPF35ak4Lq/qvMwNcRL2cl/lWgOyMhb1AE\n",
       "7QAAADYBnz10Qn8AMP6HdloHkWekZ1b8h0fQYAaqQ1iEgiCzQblk6gj1lrY2Q1Lel30LHrWqDh8g\n",
       "HTAAAABbAZ8/akJ/AU+3+ilDMB+l7sqQ+pgAWB2pAUOPvMneyz5XeECaIUshzkBDywdoTpizrg/N\n",
       "bgwAGVRwWDjLUd+RiGTHne1LSqqFzKG5H6nCVx47ONjEpW0ooACTgQAAAEVBmyFJqEFsmUwIb//+\n",
       "p4QATbjffERvvgBNWfn8DXaGKGi1tuYodK9/HWrebA6814toQVFtEcoRWUTS0QgqcSFMU0hbIOAA\n",
       "AAA2QZtFSeEKUmUwIZ/+nhABLSdwABGPD/9x31j82ckJjrRFudDHWLw7wLVdvCFxVcKk0YbxpghZ\n",
       "AAAAJEGfY0U0TCv/AD35xuYPHgN28iIVP+fZuc182MSm5rdBAWgGLQAAACcBn4J0Qn8AY5hzxpAS\n",
       "ygA2nxV6b9Ouo/29pTPCfXPGA+6gU061Yz4AAAAYAZ+EakJ/AFHZtuLbd6IqmCgFHlD3AMUkAAAA\n",
       "OkGbiEmoQWiZTAhn//6eEAAXPF6AAsOcW31VgKDG+TMhq8QmJkaHeceaaYxxccYSid+G9B60zRzy\n",
       "wsEAAAAgQZ+mRREsJ/8AMRfFt9XKE80G8XjOPUg/Cqp8sRRaAg4AAAAaAZ/HakJ/ADEPL50StcOJ\n",
       "JEAnBC9XnrlYD5kAAAA/QZvKSahBbJlMFEw3//6nhAAL7FyQAONg7Vjk6W8tLDzPvoW/PGAYwbS/\n",
       "/1gl1poK2IqIFOZ3zs1KPj533dccAAAAMwGf6WpCfwAxF8W31fQm2ye7/VgtKgBZ6lLHUAKvta+P\n",
       "WJ+U18Nw2yptcHeDGi/DQl0CtwAAADlBm+xJ4QpSZTBSw3/+p4QAF9i5IAF1PJBYPvoTDMQW7pDJ\n",
       "/Yibpo1q1SwjGZA5mX7Jf1Q8GH/60IEAAAAoAZ4LakJ/ABkngJndKm860AIAN93//3+L6nm0v1++\n",
       "pEKVIupIi/WWpQAAAGVBmhBJ4Q6JlMCG//6nhABf9bfkqDgUAAVN/wTZpcOs7SlukQrTd6POUZwy\n",
       "7Ke1QWvv80ZHA3QbUZqiSMfwan3cQjdIybWyyOn6bUKVRqg9L7O7wUbw1WsAXz6qEU/1JbvQmBCy\n",
       "gQAAAF1Bni5FFTwr/wBNddzPjHuQAc4n/qv2QyJuUEpBe2FUd1UusnPsSj4oceglsociWM/jrmjq\n",
       "EvTXeWH+Wdq52T/kd+GQ/MCpgZeEBwBQTQUalhRnWhwVxSTEJ/2sVnYAAAArAZ5NdEJ/AFH0+tJ4\n",
       "3JjJ4lkIzKeAHA7v4oVSqrLVpSgOt+tsba9Rnd3SrAAAAC8Bnk9qQn8AZJ4CvcZ1MCZTXiEAHFST\n",
       "6ZmYS6PGNi8EXhCP5ZDqglyx9NP146n30wAAAE9BmlRJqEFomUwIb//+p4QBZhpoAExvoxUlHPXn\n",
       "KMuQDSkcoN5v+tUqtLikQ4RZpB6OLpsKQfX/kWuUoCj6qXAHWr/8rgE5vUTs+6Hyq4mYAAAAO0Ge\n",
       "ckURLCv/AE1kJ955PfFR1jtdJLEO73UMALMd49YeUXusSUsOBMWeZHBjB8nUhyqjBAOux1hAtmBA\n",
       "AAAAPQGekXRCfwBkfgPgBCmKYq+Wz4sHkA5ZHzk+fIPT6CLqk2MXt3XXOq5uVR/KPzT8Rwngc6av\n",
       "9hnByskQ1VkAAAA2AZ6TakJ/AFHZuHZ8XOxWGolTioyjjq3KoTMExSX+7sgBrsgjOgmV8lf2yjIF\n",
       "/ZNGOJomE7+lAAAAUUGal0moQWyZTAhv//6nhAAmqAdSZaJbKt01yNNui483V2LQDTL+E2ItgAiD\n",
       "BzvaMIk1EtZDMMs1PTbNGn36to71ZLmbujF8t6jyJFOlfUMZQQAAAFRBnrVFFSwn/wBRma3YQAXT\n",
       "4tz2TJcdnfRIYs10bOMfGZ7MWTSi33/XGRpm37C+une1Hp4hk3muuHio4VoWCOeXxVZ8siW26RXG\n",
       "AaHkE7l0XDZcouAAAAA+AZ7WakJ/AFHwRTAAiC2fGcplfDeFzzBM6R/QUpsq873p6QT6cBjqAo6e\n",
       "C/XWd6WKfLulXZ9ArHYTCriuUrYAAAByQZrbSahBbJlMCGf//p4QAJd+fV54kj8DPImSQCguFXY9\n",
       "xuuO5DglAzSuZtPSOrfcTC59MLrZlj51fjeIpHGL7pcXPLi9v1MzGGiHKFvBmDt///W2vGEAUHOa\n",
       "2CtqpqzA/cjtKGQCR7r8EgxjdvhCcobRAAAARkGe+UUVLCv/ACXBnjsZEFYaaQU51n3vp1KQDQZI\n",
       "g+eWmC720AIo8Bmft/C1kZvP/+dECxpU7nJVnMoWr7RMDJEZMQDA7oAAAABbAZ8YdEJ/ADD+h3XK\n",
       "N1dLHmG0wXGVwAs8Lc+3oYBSUM+3xh2mcN5ZOpXXh2P/zEuVhRL5uqOU739wvqcxY076DOHL5B2O\n",
       "HxInJBWFSk6dFGUJw3F17pcARjvTPgAAADYBnxpqQn8AMQ8vnRO/jPHYMuXKqwBMq9QK9PkECypa\n",
       "oCzAANgSH5ht62tvvdQr/O3FFxo+c5cAAABIQZsdSahBbJlMFEwz//6eEAKvieoBY9dF0fUTOeaa\n",
       "fZRizi2+qr5DEz12Bt9QW8GwPeQ1gsmSM98xChsFwEHRnXxfg4cjfaVAAAAANQGfPGpCfwAxF8W3\n",
       "1fH2sVr29LwYuFqoEMHG5iK0toCADja2+/Jz5l4WbXeaHGlQNuqPPB2ZAAAAQEGbPknhClJlMCG/\n",
       "/qeEAWXF3qzlyqTurKeQuvAXggSThEP+MydlfFtuLcy4RHYNiNsHDDtn/EF2FqZ9xbGiI4EAAABQ\n",
       "QZtCSeEOiZTAhn/+nhAFmsjZ0f6YAZiad4iY5ebe76J08UI3eU57+iaIFzbPw0shMAr1GmzHJl/8\n",
       "nzcLxnKpgSwo+UjZ/TMxZ+JeoT8S26AAAAA7QZ9gRRE8K/8Cdjo8R2nkZmUBbos0z2rm9wvTBdcQ\n",
       "AFniTw+JWmuaEQTQFA5bTAkxOmejc8OjWfYIyoEAAABPAZ+fdEJ/AXzTfzsghB1m3XQJNiNcbpUe\n",
       "Og2uwAJUkQhGJhOMIt36aWhrs/ufBjCES+QGrEeJXEgqS4XxPFB+/jHCCHmHwbW4MlHGvAAsoAAA\n",
       "ACYBn4FqQn8DH2/phS7wi46uRqnwZ5EyOKeGqPJBJ6BGaoWhElLYvQAAAFFBm4NJqEFomUwIb//+\n",
       "p4QAF9i5IAEOQ/+ddOR6XL9Y7MYyn1c0/CazussCQ8opn1S5L4muxggYxQ6V7+OkIDrHhbQ7pnSc\n",
       "xFZTvAjrCtCTlgcAAABHQZunSeEKUmUwIZ/+nhAAlpGBwA6PI++vHZQ9FFvWAkuaPdAklBnTDcY7\n",
       "hQ7hM5h2k5Oz40VLvhqNgYrOrXgQz8At2O891XwAAAA6QZ/FRTRMK/8Cdou2lPjwAckmb5wn+4Li\n",
       "K/1xTLfS4daKO/nmPKBVphCS0X8UqnSofpR15z7AKwlhQAAAAC0Bn+R0Qn8DHakJaiIDkjREAIo6\n",
       "asYtfllZePt0EWyR6vMcaJkyPET68uQYeEEAAAAvAZ/makJ/Ax9v9JPCIAIgxTairf+0xGAWPtXf\n",
       "Ecn6w7anf2v1Zk7VCzhhvkNci4AAAAA+QZvqSahBaJlMCGf//p4QAEm9/G6QZk04RQNACUvacPE3\n",
       "XNo1ClkKkoH6fr9tcjnCnj2bnGqb9h9F8SHQPl8AAABJQZ4IRREsJ/8DIF4IAdsRBqEWCBXzaM6t\n",
       "qbSdPZn6v/EqANnJVVeIcfeZO9lnyu8IE4LRmArcJrZCf5f//454O2YMhIm7Tu5lwAAAADsBnilq\n",
       "Qn8DH2/phS7wikONEXJIwbwAWum1IChx95k4UJ64y8TnzW8HujHbtz69t7ctBbvyEaqO6k580wAA\n",
       "AFVBmixJqEFsmUwUTDP//p4QAS7i+dLQpOJwAmrOLV5yYGS6kAXFZIOcHoRjxsSacYaBS19OpzWS\n",
       "UMOTdC88T/+/xeFaqBA0Gx53P0UpwnTKd8tAKflxAAAATwGeS2pCfwMgXgq27pABEGdY3HwQ/DVV\n",
       "gxUIBpxjcnpRMdvXdzBUlrhGjSwb5axFYQjwsM045MXThAOZIx4WtXdRNmqwA+5/8wGC+gbAxE0A\n",
       "AAA9QZpOSeEKUmUwUsM//p4QAFz4Mko5ZK1Swb/w8AEtz6k3v4YaX2HwyiB0mlJt6ZM/e/cA+4k9\n",
       "nDMv68MjjwAAAC0Bnm1qQn8AMILTEcX3Sz05QR8AFrZJ78nPqRlqqEwJMwSa+d0gJrzlf9P3RswA\n",
       "AAArQZpwSeEOiZTBRMM//p4QAS1UrBAJHaoFnX+WyP7MvLrTMLLIzPecBW2NCAAAAE0Bno9qQn8A\n",
       "Ue884AG1J/6r9isQTkW3tO7xiGzm6iqa4r++uFja6d19LqjJcr9xZaDcMabh+AigYxp1B2pFSpMC\n",
       "HKiUVur/NZoK89BvIQAAADlBmpFJ4Q8mUwIb//6nhAAmqAli6fZT9W5wTcV/fU2tlkgA5yz0TZsb\n",
       "bGLK4pvtGPcHcSDjsJ6AfdMAAABcQZq1SeEPJlMCGf/+nhABLVTYcAC7P//DRugx7BhQIvpX/GdG\n",
       "K+aSrMJvZ58zeNmvTk1FeB8xWN/YJgkLF3EdGSm47uGjS7lPm7Vdo8NfJ9N8jSyTc8s0dzT/mPAA\n",
       "AABAQZ7TRRE8K/8APjG84QmE3WlIy92MoHhoopnRm4fhAiQr32IALp+2L2RzBxQNRgelOSDCJeHM\n",
       "NS5FygNT/HTmgQAAAD4BnvJ0Qn8AULf0ivQANqBGNcaI9T5Ic13gCqLVM/3nxODZYxcaVWCfJX/m\n",
       "GCtSZxl8luLU1QtL/bipPgAm4QAAAC8BnvRqQn8AUe4LcPAC11jYaTukHPqLYmsVbeACzIn/+/xf\n",
       "btEg/Hfeuty+Y4sdwQAAAEFBmvZJqEFomUwIb//+p4QATVbTWOp0oLtfwLr9ooox9aaiByF25Ofy\n",
       "hIqwgA67/fy9qT4pN4PDlB8zLfh7qtOtvQAAAGVBmxlJ4QpSZTAhP/3xAAWr5wf0RUZuD8newA3W\n",
       "Kb2jGH3V67p1aO9uIfhy42V04VbzH8zWElo9bF2CRqdtnH7g7jaFa8Ad/4/p3IAkOMTsY9wME4HC\n",
       "v+DpdkheT3oeVx1g1D8pwAAAAENBnzdFNEwn/wAxE9FfJ8j23wuLm9S+II4wK0AXefpbamgBUzE3\n",
       "raVhnADgz+y7zSWns8vqmQlCOPSV01rD80rNRVcxAAAALQGfWGpCfwAxDxrR8IOJPELyMY/PlcGR\n",
       "a577y5PzAAhn4yAWuNHwm9a1klDM8AAAAslliIQAEP/+94G/MstfIrrJcfnnfSyszzzkPHJdia64\n",
       "0AAAAwAM3Yie4PCtdD0V4AAgIx0YVJJ8EABlnPhFHIr07feKBMv2CEyP/gjdHCIjtfb7d20wAvEn\n",
       "8uod+XxX+X9rkMhsN2fn9tpqT43uRfuK8Vu84Vfn/4Mhfbqyp5B2gYrgkq978ICaT3p994MSPrqI\n",
       "RZdGc4DB8SfGrN0TKAfbYKjUo6oNRKLIK1a9fZBOlaDExlncOOjh9az5u3qNFOOzxrH7HzOHkNC/\n",
       "d8ku8xfMxovhaE6Q/ipLB0xirDlUQKMXLWWa1qplNEE3w9lkbTB1J4rIhH2XCGLPlqp35gAxKqhz\n",
       "UXa6NEHicNIq1uZNx0FyKV/mS4Bd5EK29hHTm5PKF0fb59+pChdqV1e4jCmG8BYW3OXL1vMa6mYD\n",
       "fxI24iMz+G2LAbzTINMUs0h1LpiG3ZvsQmNKrxsRxYCSNoneK8FnPd4D41q3dlBBfnXv0N5AlZnv\n",
       "yt1qPzvCci8VXaMTiB66Adix7YQ2Spz+3Td+W7DpfQq5jyWJeBk8HmJ0j9AayPitoYqxAHFi8LKV\n",
       "ZFlqHfC0yr5zIwxPNIa30/cNhfPp7m1Nj6kihwx/zx2qOeWnvwaWeDPaf/Qr/EpU/lVIpiuTR9EM\n",
       "rHE1/o/dONM4lM682pNC91IrSs9K1R2ZAyshJyCjRou33S5H4678/8CBI4RGWW0nmAawOnDukR/J\n",
       "NxaIUAQgbT571tBtrnFci+xo5i/33hni3v2KmC7xgtXmZxQF/H/DdpFSYpjCxAk2gL19vqeLYLrq\n",
       "xYAjiiAAaaQdmLwMh1NflNddhvpuYQMbu+zxDfDAubhX58ir1ILGcT0lpATyw1VQjAYkZb286yiC\n",
       "YtTVGLGMCgiJYDan7ngALznQS2ZhyKQ+xmHE4eg2FaDxANP9V7jEv1e3+sEiJOzF8ACf5oAC9gAA\n",
       "AGRBmiRsQ3/+p4QEr6UYWkuFW21OPyLkAONn6FQC+9WZbu1mHmxF0jtZ6BJJIV5WAKK/rcweE7r6\n",
       "CXR1qIKfdxCMy7c2psMLRYoRc6mOfD9Ol8ZUgExA02wu51tJIu9ejCE6I7zBAAAARUGeQniFfwHr\n",
       "ryNShN5B+QxFblacLoPz8S0AWH///36/0+8rl9gaHMP2canM769+EmhPBi+iHxHqCQFCrU164ros\n",
       "PoKypgAAADgBnmF0Qn8CeNRm7tx5kknmvzqWlEECsy2Wcij/DAAtdQhCPNvtCVjmxWKsAIIpjMyn\n",
       "D06lm7QIJwAAACsBnmNqQn8ABkngK9xT04hHBYMADixjdzmNnefYc37l4ywfFOBL7gQMmV2LAAAA\n",
       "gEGaaEmoQWiZTAhv//6nhAE8A2EGIX8eIAngy7paGp02v2XEEx//ORQI+NoQheiw24GcsNeNUD9X\n",
       "Mgri69s5yNxbjJvCR4A8mKieD5GRhx2NeKkIWq9o54PNPzOYPM6cBL63/+QdrLu3f+n7BOWmRxAO\n",
       "XUrVsCwIwgSE+6okE3+AAAAAQUGehkURLCv/AP7X8RmhiTKOnQAXNe//9/i+cFm9fuoabWMD88E5\n",
       "RvTBeTCspjP6GzsN1Mb03PGiyl54otrOnkd/AAAANwGepXRCfwAZKY+FNIAOLNwNQOTddEt7LPM9\n",
       "QGWwPZMd7NgIjrwcX5+d2hsbmuSaAIExiLSjf8AAAAAdAZ6nakJ/AU9ma60Nf8gPB3i/7qDMwV2v\n",
       "5Vl8a58AAABHQZqsSahBbJlMCGf//p4QAS7i+fiIx6ABxs4tuAY04EUHEbYt75hJpDTvx0jBZAIW\n",
       "E8JkllJ6aGmITx+Ij1xn+nGQNX3+6YEAAAAhQZ7KRRUsK/8ATa7DABEGLz+FMrE/dRLZEQgyWR33\n",
       "M+DcAAAAJwGe6XRCfwBjmHPncKMwAbTriID5wkM4XDhQ4yozM8biLpJuOrWwZgAAADMBnutqQn8A\n",
       "ZIWPmiZDKLdsfEAK2Y/zXbB9/P4JIrOJu8HyVLMGKKcLjAbmL+NlDdqv2TkAAABZQZrvSahBbJlM\n",
       "CGf//p4QAS0oR2AD+X1/lcDhRI5YBFtX6Ve5svpwi7OkzoT0WJn8Sls5CU+gqjCqNOFaVc/wzAKw\n",
       "812+6llCJOY+h/pZdVY1yw12jVgpI2AAAAAVQZ8NRRUsJ/8AUdma6WVY6xo53guBAAAAFAGfLmpC\n",
       "fwAFruCRDEhnxBP/D0xxAAAAVkGbMUmoQWyZTBRMM//+nhABLSMDgAnb///r5EwC8MGdPdd+BFPJ\n",
       "1ZPsG5cOGGwGznCWrIUtRyF/sz2DU0orHW6ePqP66rYmwRWYkM0MdnDgdADdi1O1AAAAQQGfUGpC\n",
       "fwBR7f6KSF2ALSCAz88ANtEbucxs7zzy9+5eMrZ1k+sqJKBK88go3TdVa16Xch+wkqc+FhTaTn4A\n",
       "F9VZAAAAOkGbU0nhClJlMFLDP/6eEAAujdY5X+0cavEJw8AEH8apfO1GysPuAiSfMUPcadlTypd5\n",
       "8yStMJc6aqEAAAAsAZ9yakJ/ABfnjsCfcO+IAODlVWmcm66JaKKQ4hAZYAFTTTZ3vwO9VZXch5cA\n",
       "AAA3QZt1SeEOiZTBRMN//qeEAE1W03nYDcAcyJd+OlOzuMixrTnj6LZ1X/y1d3EIibbl2GT3COuK\n",
       "CAAAACUBn5RqQn8AUe4MZJnW+KZ0QAWepSx1ACr7Wvj1ifmkQ9m9/COOAAAAakGbmUnhDyZTAhv/\n",
       "/qeEAE2+g4YBet60X8gATrV7+MLLZgl9jAR8jBdFuqexdu15RYgUwyjm+iz1A1qemFU+awcC4j2e\n",
       "P9LqpasIjy+pQfiPc6aru8tJzpe7qAR8tk/G6JL9aAoMte9bb4EAAABAQZ+3RRE8K/8ATKTm8JlT\n",
       "KAC+riiSN7R5D3E4e8G4sB5XNrj8z7toW1ryLK2Mb+mZK9GeI5mtW71ds+YQYInZ8AAAAEoBn9Z0\n",
       "Qn8AZKX5Ks74knvDbcAG5KLlNdt/NPq5rNDZnyTXd//sQVPYLBlXBHqNw+7E/yGAgJiLMyqLCpOW\n",
       "+Rb5hBf2EgbBOQCLgAAAADMBn9hqQn8AZIeHwAhTFNqJVMxeo+6UJ9NVmopYKmWesuj10sW/k/qD\n",
       "jkTlpQ8c1nXOm2cAAABoQZvdSahBaJlMCGf//p4QALox4Lb3d+U3pmFDVRejzJngfw0vVUAJ2ziz\n",
       "WAePSN6w5P/F7gH+CMA3i6EkZHqOjlKJydO0IHCKSRbNcruqxP/bbezIwzO6HGFW+NsnIpEu/iu7\n",
       "gtl3p/kAAABvQZ/7RREsK/8AJrJrsfBAPSdYAbb//zpcM7HSDeuVWQxaaRHMDH3a2utcpD7F4wYJ\n",
       "7MADQJ4STBiEFt76xBGr9meZarSTBXRQA5ktRhep5fJVyGh7p67NVY/1IPiWwvJnQlq2agbCjpe4\n",
       "3tqbiiPhAAAAPQGeGnRCfwAyPpJktYofQEAIoR8p7/IKQruI5L2GAT9P+h+31bmN8uR5VlHem38K\n",
       "WWtC3t9ngKec3f/rM9MAAAA4AZ4cakJ/AAyQsSlMHoX4T7r5s8dW0xhAAGw+Q4xOxj3AwTgcLhgu\n",
       "SSxZzwi62hoL2adhpWDyOOAAAABBQZoeSahBbJlMCG///qeEAAmub+fDrVpMtsVUZ6UTrRBzxZr+\n",
       "qOO3faDh/iCKlJiEAHDK5xEgLHDhAtEb/YJ661sAAABOQZoiSeEKUmUwIZ/+nhAAJakDZR1Nw9ht\n",
       "0VspgpXwdFl3n1TKbIAbrAKvkTcZ1mTOqqRr8taxUi6rbDlXgDVBogXLbLwZ1WrOtjvuO1y8AAAA\n",
       "RUGeQEU0TCv/AAfECWi2oebUE0wk0nx1SyV8397fxvrTBd7aADgM5/4DYh83q6DEo721+/5bpjd8\n",
       "MIXloiRKo04aFbs2iQAAAE0Bnn90Qn8ACj+32lQArBIr7s8qmB5j5dfBPwxPnKL5Elo9BSJ2wN7f\n",
       "rEwVvEFTrkTPqlfOtyOi0e6WRfNY32xe2DCcmfW6rN5KVPK2sQAAACsBnmFqQn8ACfXA4k2U1mh8\n",
       "S50+cZHZbFG8D0iIaIUreShABEGtvm6QHc8sAAAAN0GaZUmoQWiZTAhn//6eEAAEtOHTeAA7QB9m\n",
       "pKSdRQbP+fFQOPCvh7TLkoCKYjpzdzcZiN7GKGUAAABGQZ6DRREsJ/8ACfeccXVTLSk1PoJHDoMO\n",
       "fgBmx0tq00zMaLEQxqez4CNgS9Ypy7Bj+n5xDcDGU1jKpgqlBXS6BEPd1VLspwAAADsBnqRqQn8A\n",
       "CfXA45Hsc71ABlDbacDfmpkgVg2wARjxrpv3KwKoAxotJIwjhdgap4IrNF4BTZdZBvMggAAAAFxB\n",
       "mqdJqEFsmUwUTDf//qeEAAE2+KrwnrwIQuIsSCwAbVZ6JNtZqqwswepJKi5pBDs/RAxSmts2qa4A\n",
       "0dDvIhGDTjyx98crSPyY2LJ8jyqzG/8xL5X2XJzJ33728QAAAE8BnsZqQn8ACfecBdMfZniRe3Lf\n",
       "6WM/1B6UtABxsmpY6gBV9mZ8derU/R7pX//sQVPYLBlXBHqRmHgOw+aVPN1EhvSnHx3bL1DMm+Mq\n",
       "gQPgAAAAXkGayUnhClJlMFLDf/6nhAAAv/qM6Nd6rlj1PPB+CrgxACE6GlrU2Qv52itc4ixGeT35\n",
       "XurHS+rjZW5C2Nhimjr6g1/rnlau6WYI3GnXixU9b9jgK9/IzQVuJX1fI3UAAAA+AZ7oakJ/AATq\n",
       "VolrP9P/7VNW++UhdkALoF7Cb2DGxtmgCNa8iL1zk3LwEqQrzFtzsQNC+mW3VHLxAFXcykEAAABb\n",
       "QZrtSeEOiZTAhv/+p4QAAF/9Rnfa8lLuuwAup5ILB8wULc8PO1QQYBsld51L0MC+9l8jEhpHoKou\n",
       "lLcPU0s2tnD/xKdUw/FW7b5lmfa8LdFdvf0lSPx55MaUjAAAADVBnwtFFTwr/wADwqOduNGGoiXx\n",
       "iXLtt7neyABGBYqeiSx6ME+Aqm44CT9YZAgismnaysDpmAAAADcBnyp0Qn8AAKgjP7bMaggFlDww\n",
       "bFm8aAG5ptSC808v2dlnwMSO76vfN5VEX+1rnCHJ5iiYgkFhAAAAMgGfLGpCfwAAqFwPVFphCEzk\n",
       "BulNa/aViQ2YecgA2nXEQIBqCCuArXSHDLx9wMRKzU7gAAAAbUGbMUmoQWiZTAhn//6eEAAKNkWQ\n",
       "AQpvzvWGCtWl28IERG7Q/w0raz/7PfRHadPzPptybXK0aApIhwRe+2XTMWbstI21clZpAcpIEeWO\n",
       "Tybgviy1Uw386C+WH/Z6eZsrbxhpmrb+SwYKfNcKJ4EAAABcQZ9PRREsK/8AA81ep4BdyycRo0FA\n",
       "G3i9Mfi/g0FFOBWd6DGti7GPXpOxHN1W6zE9shTdhOlGdQAPkzgLTpPM7w4GqWYFhFEH8fFRwRBP\n",
       "k8S20P7eJJJMzPLgtSAAAAA6AZ9udEJ/AAFH0nvJJ6VLN/HRoYRdV74ARkZG7v6XrZYTxGn/o4Q4\n",
       "KTQQJHGSURYu3iehuHkIqtGf4QAAAFABn3BqQn8AAsVwTog1juCo/GABxvLfrC6vHttZpZJdj133\n",
       "bmJF/eNwFEw+TiaVAi7UDtDHqJemayASpnOzXlH3PN8PjaJ3Ge7WVLZa0HkrwQAAAEZBm3RJqEFs\n",
       "mUwIZ//+nhAAS0iXIAQFPtxVYifly0mD0sXBCCpqn/yzvLz2aHf0yK6BYfZOem9LxibexmjzESB2\n",
       "9nXWbzD/AAAAWkGfkkUVLCf/ABR7gxkpJ2FXzwA3LJPxQqlSThcBt4v4pPerg/L0KeHe/475VYiX\n",
       "znxu5DS6K5RFut9HoYLCaA1ie0ThrtgssC9mxqKM9cGa0HbGdRJEqFbTgQAAAD8Bn7NqQn8AFHuD\n",
       "GS3CtAArrWAx/zB1JGj106gjxApa2L/p89kAItHFg4BbPjFmVbvhpmYqmiRyg/wXpKtpRPAAAABz\n",
       "QZu1SahBbJlMCG///qeEALBq9AC8Reb6sZqkl+U5qG2bGGzXB9ox7UyRQsEffu9J59+CDyAYXcEI\n",
       "gkiciTpInfL2noMqPv8teKAPI+YVVm8Z0m7Za/3sozAo9jutMiQ4n8ukINwzjSTp7QqDeI9ixIXA\n",
       "UAAAAINBm9lJ4QpSZTAhn/6eEAWjCYjbCl9JGAYyafDynJcZYYIOZBK5sq8Q4VWuk0vcDMk6QkUP\n",
       "h0v3tZRtuBygW/xuskmHEuj7hymcxTycdXC25Wc3KGHXz6qASnWFGIgraKWNGvgMCJaU3y4MShEF\n",
       "4MAO72cvLfPgvJEwKv8WLmA0uYYm8QAAAEhBn/dFNEwr/wJ2Oj6avACw/tXvz/y1huj0r5FgXvC8\n",
       "8CkBM6p/WwaBqN9i9OxO13686lW7ml+7/5QUaM2jxTMcm0zrAssgZ8AAAAAnAZ4WdEJ/Ax/dgQDQ\n",
       "CvLQCYi3Ruv4/4zGpmQAqGy2xiInVuPp6aa0AAAAVwGeGGpCfwMgXf3ux+Tr0DgAIgxTaiwWw8N5\n",
       "zz95mnf95ip3AHNbSe44L1dloS7jDamW1y17fFatCRcOXHKsZNu7ks9Te1Ogu1OXw6pihf5+YgpJ\n",
       "B/mU3QAAAEpBmh1JqEFomUwIZ//+nhAj2x32FN3AJyVs3lSAqzAyFTxPdsjsem5E0tCj6FjefOPR\n",
       "i939AJUOeNMYw/ixryNOgTH+ZIZsxE3FgQAAADpBnjtFESwr/wJ1Xi+3U2Lj8AAEtet8Iog7Qn4J\n",
       "IvhCu8HyVU0PTVksaidLRyUrmOp13JBoj2PBrEDBAAAARQGeWnRCfwMdqLiAQ9EGYAlwfmKzADdY\n",
       "pufa3kF4l5I9HaIBMCm9sqaZkty6IOmnW2Chs5fDrCMSt/iW8328u0Kf0vmjAgAAAB8BnlxqQn8A\n",
       "UbPmM2gyVkjDl+U2RYjcN20nGo0pmkK2AAAAMkGaXkmoQWyZTAhn//6eEAAXPF6AAsOcW31VgKDG\n",
       "96K6fRod5DhDNiCFtsWxslHpqsUVAAAAPEGaYEnhClJlMFFSwz/+nhAALni9AARjyPvpJ0nOaj37\n",
       "9pRN/TNWclad//rBLba5ci4D32wb1Fsolig8zAAAACgBnp9qQn8ADHCJ5u3uQ63rQYACz1KWOoAV\n",
       "fa18esT8sKQ7o8xGXt/gAAAAN0GagknhDomUwUTDP/6eEABc8XoACw4BV9shm4JyTARVwgNHmbe/\n",
       "/uBnKenFsxTFZt8dfjvG0HEAAAAkAZ6hakJ/ABknjBmenLK/ABZkT//f4vqebS/EwngE2QgTVO6A\n",
       "AAAAXEGapknhDyZTAhn//p4QAS75ngVeCxMRdDp8D5aOADaj31KoB58Um0qmWXR1GknqKYFKdGRi\n",
       "AVEotvhZYcn2qRiPqUVx3n7wYKG0A8dvcqrjlQjDDS0+Fwz1rIz5AAAAV0GexEURPCv/AD4tQxgA\n",
       "5xP/VfoKCgz/UY102FUe/SDrsUsai+zh5oY05x7B/Ga2a7C6ft5Yf5demLphZEI439iHTHihyGyo\n",
       "G4dyVdqG2qJS/fNWKfub1wAAACoBnuN0Qn8AUfT61NkttiWGmdmgBtgJ9MzMJrOE3s34S3onabOE\n",
       "1M+o+4AAAAA9AZ7lakJ/AFHZuMnYHF/svwAS1h/7t0mLbgrLSs0zMt/qkFmBzm05i1ggVjeuUbZS\n",
       "s7uj/3YZgJ67mixGLQAAAFZBmudJqEFomUwIZ//+nhAAXQHn7PSNgATt4q2wRYsqv0djpc3rkPWT\n",
       "NN2fBxaybm7HgWJEtxr3H///PkXhW+JlbQDOPairHTGh8XfyHp5o8FP5Z37dwAAAAG1BmwlJ4QpS\n",
       "ZTBREsM//p4QASb2WnE1OkdFlN3NMPzOKolCPZRkg825Krk3crMkGgfJELmAATrL+qDnz+4QEThE\n",
       "LTgl0BDTAT4kt9s2pAw4onh0ku42hlcrycSjImN3bSsaeV4vAPWvbb428mpBAAAAQQGfKGpCfwAZ\n",
       "IWeAzZkl7WZMzoy9uP9m4Abmcvys1uAKhtZwGVJypptq+w8jmVJ+tnM2dAuCv95Bx6OFQNhafSz5\n",
       "AAAAZkGbK0nhDomUwUTDP/6eEAEu4vn4iMegAXT95NjaT3CIlQle+YSaQ078daoWJ4JKUHxUY36H\n",
       "W/DuDwMHKwAYSt3l/w3ANMxWxRHYBxL8AS/4virbWwfptUHXvdUN9F5aGvpPHN2y7gAAAFkBn0pq\n",
       "Qn8AUe3+iCkpAALCY/zXbB9/P4JIrOJu8HyVLvxH2v6gAgVLBqFxgNzF/GyhuerxheanXv6gG+lK\n",
       "AzZOUGnWwL6ZZlUlF1LV5uHK/elM/g5g9BWn+AAAAEZBm01J4Q8mUwU8N//+p4QATUyiIARk7v/f\n",
       "6+//MpJhvAr6aSS92gEPCbnhA147YJ7Pblx0Ixn7/m246TznGSXDq3p8UjSBAAAAKwGfbGpCfwBR\n",
       "2ZrqBsQWp9DtGXxxUQAcUcpZv2IOpI0eunUEeDigX1fhqR8AAAA6QZtwSeEPJlMCG//+p4QAL7Fy\n",
       "QAdKJd+OlO19ZhbWsD5NGomPsEikd69zytxpyh1gjf/MsPHT8tpswQAAAC9Bn45FETwn/wAyTzR8\n",
       "tLyDQjN/OLRABwcqq0zk3XRLRRSHEIDLAAqaabDFOoXHZQAAAEABn69qQn8AMk80fLS56o3ErpgA\n",
       "cHKqtM5N10S0UUhxCAywAKmmhqrzyCivopW16f1mtLACzsEOypkgD2ZUiENnAAAAQEGbtEmoQWiZ\n",
       "TAhn//6eEAC5+rffiwm+WPmwTy9fQAQ/S4WctPqr/d9wrBaHtLnU48fqIX/4d8sg3LCKxt2wc9MA\n",
       "AABNQZ/SRREsK/8ATZ4iADkkzfOE/3sc2Qkv14F63hVW//zrVPmbbB7rZcsTzZolwtIom3Jw94JI\n",
       "LR7hXxzOUrdJXk6/FQh2YHywaZkcAg8AAAA3AZ/xdEJ/AGSmjH3BoAQnNMrXxx7W6+/7jDSlhRPj\n",
       "2cakIaQ7rIm9dqgo/Wu1w/tJydKnAAAdUQAAADEBn/NqQn8AZIWV6hJYDQX+lEplABuUVgKL1Ao7\n",
       "RyieRkNQkjNWR+XHamchNT99AZZQAAAASEGb9kmoQWyZTBRMN//+p4QBcZgoV63xwCa5+hm4zqgm\n",
       "4oXpRi+ae1nt9PFCXwv3rK0RPOIhUZ3FskLw1bB4RqUXPO4MR5tLKAAAACcBnhVqQn8BfGZrp1XI\n",
       "WrcwW+uaBSAG/+EUOnyJw7yBAe5vj9YtqmEAAAAYQZoaSeEKUmUwIZ/+nhAAXX3fwIkjNDKgAAAA\n",
       "IUGeOEU0TCv/AE0vwvDmwAhS4okk/bIDeOyy7UZIIoxCwAAAABcBnld0Qn8AZKZ/YjT/dEoGPOz8\n",
       "JPhiwQAAABoBnllqQn8AZEzYtwAhTFMpCw5jWTbf9CjQgQAAAFNBml5JqEFomUwIZ//+nhABLvmd\n",
       "9EySAE7f//3tXoot4tzoY6kdNL2hspEw5hWsH3dvIiePUQC7bfQ5fwn/+ruu407SBxeLO2JVm+58\n",
       "Y5IRby37gQAAABlBnnxFESwr/wA+LKU42bqcbHtWLA0PTvFgAAAADQGem3RCfwAYfzigTcAAAABS\n",
       "AZ6dakJ/AFHvPOABtSf+q/P+oJyKzhUsZ+fRDS1W+vXdmNnF0f/ZuDmPoyVeaZ0QWN1ukIYGO0yD\n",
       "HiT7a0nHOiAppLxao5VZdOpvkb6j/43b5wAAAFNBmp9JqEFsmUwIZ//+nhAAl3woepzmpsb04Ryj\n",
       "AA2FOTUVnomkrlLZoHubhwHFyr4ZvppVDSMPNEun5XisxKkJTRCJ4M5//f4ukX8gZcjXISkakAAA\n",
       "AGFBmqFJ4QpSZTBRUsM//p4QACWo+vrLWPHDvk3zjq72tOEdkYAQ1Usisdz4rlLZoHubhwHFyrNT\n",
       "tu2uq5pt5OY6UyqLiIkiCAa57rtBpgj+6rMc1i/0AzkQb+LBDO3fnR2AAAAATwGewGpCfwAKOyYg\n",
       "in4AOPh//HWqewWDKuCPUjC1EBMOYtDCcfHdsvUMyd+bqdZpgXoLUh5Ej4Hzg8PG+7s1Ggtm6aUF\n",
       "sfazxjhewdNl62cAAABdQZrDSeEOiZTBRMM//p4QAAS75nhNaLKSaBsgawj4HEf8u0AGz6V9jzn1\n",
       "LjdFYlj6C5DvaYEZW+x+rtVDgPdhtTkJp9Jjfg/zqsEHgXdvDqvVGCnzESKqis93OvEsAAAAUgGe\n",
       "4mpCfwABR2WMG/BgyFZgAjJP/8dap7BYMq4I9SNExJv8svIKgalgyt+2YiO6/DdcJaKp/fYglyc1\n",
       "qZ083Wh+XpToMYkAV4XJtVn+CFceirEAAAAwQZrlSeEPJlMFPDP//p4QAAEtSc1gATt4q2wRYsqw\n",
       "rys6gASOApuvvodhU7PGRhHlAAAAKwGfBGpCfwAAY4RQd4PP0ga4/4KAF0FKrQrI13IdUdgaOcok\n",
       "fNjegjDbj0AAAABjQZsHSeEPJlMFPDf//qeEAAC+4Geq/74ABL6Bq/Sy2aoR6FGhMayEs4QXCUZQ\n",
       "X472T+is4Gc3QWsMycjr5OTvHdV2NAiBMdvLb9QWzknWfITRr7yaBdOKGZhUZ+3OgWakHkuTAAAA\n",
       "NAGfJmpCfwAAyTy2U0EF6ePWyl4IAcbyVVnQ2mtl5r8R0gTtAz1Jl01XukUudGKbUVme+x4AAABA\n",
       "QZsrSeEPJlMCGf/+nhAAC677+CjfWADgVLbgGODaIqyAhnrJCEuR6IVAhbNsteoMKM3DQi2YUGJz\n",
       "Cjs8WP4wGwAAAGJBn0lFETwr/wACa7EdF8tkN0AOkn//lo1PFhsz3j1h5RcrKTx/GVLKMJsnjZm7\n",
       "A8iFajXfNi6vhXfEbsprZVtLfXRU9dsOFU+U0rRbgxs8ck4bwGwwpMIhf+CPRXd49lJx3wAAAEEB\n",
       "n2h0Qn8AAZKaS0P/v3LCHjY5yKN9wAHFj4EJNbgCobWcBlRi+y6d6zmS/RBTAHnYrCbHWXh832nU\n",
       "5DiA8O70eAAAAEIBn2pqQn8AAyTzR8tL1WtltlscZcxUACWQ/tD0CST6I2w+2FQH0lPF0s0C5Gvs\n",
       "cnBfziqQc7d1ctBwRZ46VWUNp0sAAABsQZtuSahBaJlMCGf//p4QABdd99OETKwAtVOXDwCYmtqP\n",
       "HIMwitaj0+NUJnbDqiIacmG2T2VIVG81u/T9oL43U+s3d0Mt+ikIHcRJkX6HXLpVz00rGx+gVcXs\n",
       "XaXAW+pB5CujS3CjLaKdt1VrAAAAOEGfjEURLCf/AAZJ5riOuwm/CvecgA4s3A1A5N10S3ss8z1A\n",
       "ZbA9kx3s2AXbMU/kl05gcuMRWihQAAAAUQGfrWpCfwAMk8Xqit4ShQCCYAHFm4GoHJuuiWH5VVom\n",
       "JPwKg7us1N255++gGW69qKhlMBR0Gldo5tN/xVI4o2gWOqhCza+cbf7NNcl0m11WSQAAAD1Bm7BJ\n",
       "qEFsmUwUTDf//qeEABdeZdqOq4hHx1ZysUAHNE////4vBwq8ZzreicfoGEIiQW26/dKL2k5Zzx/B\n",
       "AAAAKgGfz2pCfwAYgVUx4WNZamP4QAcRqf/7/F0bqm3kV96g/SzHKEz8lXIfpQAAAFRBm9NJ4QpS\n",
       "ZTAhv/6nhAAvsXJAA4INCsTVsH/8u+F1pjWa+w+j60Rj7cVXOFrJVdVZj0jFf1F2pAGSZgWpWqTA\n",
       "dP5daRz9vrAzPGEPeF+NQA+UcuEAAABFQZ/xRTRMJ/8AMk62F+lNxfXcORABxUk/XIy0qqzACwUH\n",
       "oTxoQmw4xHF7Qq+YQD43aBj8xEC54zk6f8i1ksSUYl/KgjOBAAAANgGeEmpCfwAyTwFJz4FeL8RM\n",
       "HEABt1wNLhtNbM8paDlR1Qz9miFt2HGAPz5BOVuixQapbS+SZwAAAGlBmhZJqEFomUwIb//+p4QA\n",
       "L7R5azKIQ+TLToTAB14LNek8+FZCYOT+Aqi/0zbHCu+rjQ4FFyBDCOso4zmrFzjc6sKVajUuHm0G\n",
       "3+IBPLuGtNbQsJw5aYNIWHCjXayFDjNbmJjPMVU+TFQAAAAwQZ40RREsJ/8AZNegAEQYptRMWh2r\n",
       "Dvov+zymQEcfqSjdvF/tDkG+RmG9LkpwiYPAAAAANAGeVWpCfwBkiVnACFLgIgUP+9T1gUuQTO/B\n",
       "yruWFpOFFTTUS/OWXivfdjmFJxcjzpjtrcEAAABKQZpaSahBbJlMCGf//p4QALoABq257u/MgfYL\n",
       "SUtoBq5xb3UICkvems/g/o4bGxrKQQZHgIo6ye+tS/rgB9kQVnwFGS1JoSDla8AAAABOQZ54RRUs\n",
       "K/8AJrJrsfAXXwrQtMFwZwAs4+JkiH3WxjYP/3bMM/SylzibuMEISU5x+/piMQSgvaIuMjn0HfdP\n",
       "+Hm1a7NQugNU1JUlIvoPAAAARAGel3RCfwAyPpJkuFNSU5IuYACCTd++/rY7ZvnaF55ihbJxOiPG\n",
       "PzcRXnS7nKSvQTlEzP3NoN+sb8oSkQqKtRctjisNAAAAUQGemWpCfwAZITllkHIaxaT5gE+bjMbg\n",
       "bIP4Ah748QzFt7V2mkES1pz8Trx3IdfyBmJQQ/6p+po6VR/rk9+M/NeSWUI9YwikOpazTpqSK/oj\n",
       "bQAAAFlBmptJqEFsmUwIb//+p4QABf/ZURICYjWdd6gsejRwuVwAc11H76KpUx/N1+7F1Ii1rh8v\n",
       "D+g+Ihw9ZNJ9NUvM+I9sbVzZBU85BWrdsce8TiYrX+pN/TP0gQAAAFVBmr5J4QpSZTAhv/6nhAAC\n",
       "/+yoigf+dBfD2dBJz9Ubs/gg16gBcZ4+XkUD+3USh8ZerVk4cbZTk9tPPopwlt2Yg0G66yz30G9G\n",
       "1lMEOYgkHkxkrhfAAAAARkGe3EU0TCf/ABfp5pq7Xs8HnD/nBoQn5FBWwvk+PbOFwgA4s3AzlDj7\n",
       "zJwoT1xl4tC7OUIwRNtz69t7ctBbyURXCcYEL/AAAABeAZ79akJ/ABfnjnB0HD8njFlGV6gGHMfn\n",
       "iXJQXb2eIwA3KKwFF6gUdo5RM1zaYLjdFOtKNcApMCNE3uLQ+GBQgL6lZTtPvvGSj6c4RP2VnZda\n",
       "tlGVA2yCkCrM4ix5jwAAAEFBmuFJqEFomUwIb//+p4QAATVbTWLi82eVpXExgAdl1H3AOfU/fOja\n",
       "g7beQ7p8F5fa7tE+h6ztNdBNy0OH3i6ZUAAAAERBnx9FESwn/wAX697yZVB5X03+h0BsGYDo0SRw\n",
       "VVU1LxCWvq6m7GHqNGvkAIfHKWJLveDbPiIAgjsnzj+tijP+tQpggAAAAGMBnyBqQn8AF+eOcHQZ\n",
       "x9PBE3QbLGH8twfnBjAAtlwEULwFtcte3xWrQkXDlxyqnc8MrPazyGmy7Rm/00FFNzBmufV5lsY7\n",
       "bZVdBbHL4n2L/8wXwUBTO9GMLgRzQnf+rdaJjIEAAABdQZslSahBbJlMCG///qeEAAE1UHx/ka3U\n",
       "7BLUAWMWbc1VuM05FqeQGbQQ30Zfycl6lHpi/xAszExheH/OFG8NGFUfEv/0WHwJM7T60PD5cWw/\n",
       "x/5GKHU2cCapBvBcAAAAWEGfQ0UVLCv/ABJgzSkuhZzGlrO4LWL4JbV4iAC4vl9d7FvPj5Wqc/2m\n",
       "9JtglE2n9MFz4Kkh6VrgFJj5qH7MDuQgg0v7lUnbz+yrJSSnqVBVJ6kYrUfoJ/EAAAAzAZ9idEJ/\n",
       "ABffOm+zA70yAeMd62ZUyWM9jcACSJLqH79vs7MSqrvPZRVUWUATdYAlCK7hAAAAUAGfZGpCfwAX\n",
       "545wdBnH00Rq8JTNaaABwcqqvEOPvMnRRSVKcIEyNW640ezQlwA1E0f/dusjVT/HsbbqG2oAx5aE\n",
       "aJ5zJVhX+pSH3an/8BeUAAAAUEGbaUmoQWyZTAhv//6nhAAAp/UD6AC7JRmiMENlYgAW5Y50jo3b\n",
       "J5cxevLTLqTMEo1uwj3aNqJW2mCxcIsUMmwMzB6Ijl/89DF+emNGq5IHAAAANUGfh0UVLCv/ABJg\n",
       "zSkuhZzEzJnB3SXfxAACzHePWHlF7rElLDgTFnmRwYwVyKrccXZyZm4zAAAAMgGfpnRCfwAX3zpv\n",
       "swO9PlBXamrcf6ekAGw+Q4xOxj3AwTgcK/4Ol2SF5ZXSXuxMEBLLAAAAPgGfqGpCfwAX545wdBnH\n",
       "d93v1z4dBEAIzwjTrBC60f9w0VkTneV+/CZVmyHb2+YiYc8d7MxbbgJAOX9HaeTBAAAAK0GbrUmo\n",
       "QWyZTAhv//6nhAAAsPUD6AC6NVwd4PMANdQbzUJ0O74pbTkBDKAAAAAyQZ/LRRUsK/8AEmDNKS6F\n",
       "nMSVWDMtxf4GAC1aKn9vUa6Jb3ScRnWtWr99aUeRRNozfHcAAAAvAZ/qdEJ/ABffOm+zA6ydggqP\n",
       "R6IAa5EDUDk3XRLeyzzPUBlr0UYj4vFMvTO77UcAAAAtAZ/sakJ/ABfnjnB0GW7lGeoELG0AFdaw\n",
       "FF6gUdzr49Yn5pR/0IaHQkg4JvnAAAAAM0Gb8UmoQWyZTAhn//6eEAAC1az/cAIFynuUR58Um/5d\n",
       "0QQcgTL6C5R2m8+g7PFyccKImQAAADRBng9FFSwr/wASYM0pLoW6ZiC8TLsBca0gBZNFTtQee8yd\n",
       "7pOf7Teky+S0SZRQUkRjNDhkAAAALAGeLnRCfwAX3zpvswULbvlZV1yiAGqkNXEdtxE3Xx6xPzOl\n",
       "Piqp8fPSCkoRAAAALgGeMGpCfwAX545wdBr/MgxxHgVBEAG3XAzlDj7zJ3ss+V3hAmeUNuE7aZcp\n",
       "xN0AAABSQZo1SahBbJlMCGf//p4QAC54vQACcjf/jU4Z92QdeESy8ws+2Sn7gZDh1fEpozvEKWOH\n",
       "wdFphdhhHOIGXzNRS9JwhZj/QPMB7EQPP7/Jh6nJgQAAAElBnlNFFSwr/wASYM06oOWF4P11IqvB\n",
       "+aqAARj5KY0C9YHdkaR70WDgvTPaQC7SdrImrgClm9G2O57GosY/QaEZVrp4GRxfLoOBAAAAOAGe\n",
       "cnRCfwAX3zpvs1/iDj15YdtOitvz0ADg5VVgc08v2Cikkfkd30v4o6kNva/o0HLTEOYTmQvAAAAA\n",
       "QQGedGpCfwAX547IPoogmjABZFLy+qE39ADbR4EJNbgCpM11/99g1WhnLsaQOMObddMVkHpErvZo\n",
       "IAm73vOkLFFwAAAAZUGadkmoQWyZTAhn//6eEABdd9/BRvrABwDlXyJ28tzrdeWXdhYiH6D3kKjD\n",
       "eM8DbTLQmiCQaFic40wnSXSgsOad4S+tYW980CPJCwsFW/HK4VZS9aG3v6wcweZHS4GQMOtQRVrB\n",
       "AAAAS0GamEnhClJlMFFSwz/+nhABc8XoABEGcWZw7JRJaFEfTFuRrcJYF7Q4O7KApQhQgQJfnQv/\n",
       "K24RTkyv7V3WKVFqsy8wpqvJI5nLwAAAADgBnrdqQn8AZJ5o+gV5PHpfZgCHcofkLGcAVj5b4wtN\n",
       "XbQSsS43+Ry/8Df+7VdDWQdXtJi4O4WPFgAAADlBmrxJ4Q6JlMCGf/6eEAFz9W+B6vo1GEfTMbFh\n",
       "QTRIAQmV9uKrET8uWkweli4AlerA4ug0v3J5eXkAAABBQZ7aRRU8K/8ATWTG9EDxv3GYd7d6xDNc\n",
       "zS4gBbhYqdqDz3mTvFDUlR0+vgAVyFx2A3dbySsviJp/SKqR6MOrZNsAAABCAZ75dEJ/AGR9GJl3\n",
       "cjHqh+/FBABxZuBnKHH3mTvZZ8rvCBOC0ZgK3Caj3X20VAxI5anvW+s2GPfz2ue6kuPmqaYxAAAA\n",
       "LgGe+2pCfwAulwQnHgRlhs9rfxyq/rNADclFymu2/mn1c1mhsz1FCXBZ3EKa20AAAABaQZr9SahB\n",
       "aJlMCGf//p4QAC6+z+NaYYVd7D0Deob/kNCIAQmV9uKrET8uWkweli4A4NjwRJxuTFR1QCF3g5NI\n",
       "T/MQ/0BZicFgpoI8H7aJrk+QMGuASw0dnfmjAAAAREGbAEnhClJlMCGf/p4QABdfd/AjpwvXHWPO\n",
       "Oy3tX/BRkVACZKlmsBRLh6eyncW7DQr8j4xMe7/wwNA6dhVkfnqLvgZhAAAAZUGfPkU0TCf/AC6b\n",
       "GvWn4lvnjA2tZ+TM8jFrg/NgxAEeuBpXO29f1q+QI75bQfmkXDPuiv/r73fD+qcrxDAAqRHhQeKj\n",
       "x6UxzaN9LbaxIoTY+DJPIj1SV96j4tW+Pyrmzl6GuRu3AAAAQwGfX2pCfwAulwPVFqr5VS3B8KrT\n",
       "qvLb9m/VukGbquhWyV7TXJ9FqAF0FKqwOaeX7aEjhxS/Lzy9RP710v2ljLQ4nEgAAABbQZtDSahB\n",
       "aJlMCGf//p4QBZhzzwAnPtO7qY1ZpoooOzv/nQfetqFOZOYMoaF+WoHEQ3v/4O7nMdSTFCN5k+Dk\n",
       "Ho5htm/WHhh2XPOjOOSloPUCGqMLcvRqiNdZPwAAAHBBn2FFESwn/wF8t/oowjYA1850ExmKr7rt\n",
       "AkwiVpWpW8o9tMF4FHADfrJqHxXSMTBGAR3y2gd88VydScBj6Scacs7MBRygKZj2Jm3FuWrNLmfk\n",
       "6wQutH/cNFZE53lfvwmVZsh29yFDkCuxTl3TZ3jsAAAAPQGfgmpCfwF8t/oowXXsmFnmf3rXghC+\n",
       "wFHBOjSvahs1wgZ+wauTRgZAUqQgMbIAIQHvEycf6Oc2jpwZlisAAABPQZuESahBbJlMCGf//p4Q\n",
       "AAl3Hnw0sPYAOO4VWjk2X2hcR4e9mg3pVvk0nwL+gGbag5Ep1mNh673FybI6XCPOKSVpSosDkHuT\n",
       "MRr/3yvGYQAAAChBm6VJ4QpSZTAhv/6nhAACaoB1KNAfIAgjbm0gv4oTyCrQXAhewvvgAAAAS0Gb\n",
       "yUnhDomUwIZ//p4QAC54vQACcjf/jU4Z2G3Bdr3Z/TBS2PbZy7mKBLOS1aTVa6fJif35a7566k/H\n",
       "1GE4oOe3Pjo0pCZGNX1DEQAAAC5Bn+dFETwr/wAjvrJZ1aQ2hB0s3R6WgleuD83uQAWzF5/4C4vj\n",
       "F4BO6qJh6XLPAAAAHwGeBnRCfwAuiM2J2mXyjadX1Bp1SH8Bq6/7CwnVwEEAAAApAZ4IakJ/AC6X\n",
       "A9UWqx0nV6r3rgq1v+sMuLXgBGPisTtT3PfANI+klIUAAAA7QZoLSahBaJlMFPDP/p4QAC5+rY1R\n",
       "xtBRUAI9nFt9VXxGvSfe3DwfBO8avNEXW3MGF01Re3DwB++Ut2YAAAAzAZ4qakJ/AC6ecgaDAAb9\n",
       "ZNQ93//pwlHjPRd0rJNwLe1+x7lsg3Nu7+sx6KJgUL+q4D/AAAAASkGaLUnhClJlMFLDP/6eEACX\n",
       "f3SIAN14/4U71hJfgiCMdCUZkiirqZesb/dltLNDwkm8FXKscf/9/i6zGs8kdseH8w7eMdluWfsX\n",
       "AAAATwGeTGpCfwAo9wUbjfTtg/J3sAN1im59reQXiXkj0dogEwKb21Q6dFyVHDpp1tgobOXw6wjE\n",
       "ujJhU2pMC6ug5IjWlu+ssB4rsuaKCXlX/lgAAABOQZpPSeEOiZTBRMM//p4QAS0ncAAJ2zizWAk/\n",
       "/55ESXUgC4rJBzg9CKE3Ct2esYCpeyqC7VhqVZvNmcQc6o/EG4CpbAEc5L8YnAEUrnpBAAAALAGe\n",
       "bmpCfwBRs+YzaDTUnnRhfAFUnzecWiADfd//9/i+p5tL8Iv2UjU8RyygAAAAYEGac0nhDyZTAhf/\n",
       "/oywAXbGZAAVJmxQPF5yxuZuFLM5oWqPFKEbPslF9ML4wb4wLdG3vbGxb7/8fIxhGy+3T2YllW7o\n",
       "ls4ITzZ8KihoH7ND09nXeVGAEJCtJsf3lRzjLwAAAEFBnpFFETwr/wBNdheXmnvm6AHR8lMZIZrl\n",
       "6SflCROZmDUU6agWN6hEX8aBo28tKaU+1sgC3GOIyCOTnWpQ5YkKGQAAACkBnrB0Qn8AMlL8lZ/Z\n",
       "bkwWVG9lABtgJ9MzMJrOE3s34RWG32u0obqNgQAAADsBnrJqQn8AZJ5XzJ3AA2pP/Vgfi25ScImg\n",
       "i2sVaMjsPo5yudkVvpdHm96fxBtIoBrrEYdzcIWx0RVRNwAAAGxBmrRJqEFomUwIZ//+nhAFmHf/\n",
       "QDQry+HlOPNpUMKcZf83boyu7m/dxEbL1Z4wWH17iy3zrwIHdMrrPRqudabj6+eWHYtsL/+HEjVm\n",
       "4AAv4fJQKcSIrPayGhaDW1Mp8OtjCyzC0Y9CHQACjjgAAABDQZrVSeEKUmUwIZ/+nhABdV9dPAAX\n",
       "ZnFk4OybN+IjcAjK2QhyPr+rezODxzXx7sX+SrffUnwnBwphtb94+U2Uc2Q+YAAAACJBmvdJ4Q6J\n",
       "lMFNEw3//qeEAF/95WwLtEC8CYve/X94qGSLAAAAIQGfFmpCfwBkhY+kFNACFLZ9AhVwz1kbcR3d\n",
       "sJSI+LCFgAAAADxBmxtJ4Q8mUwIb//6nhAAm35r3Eloh502ltuAE7f//86+EvBTpJL33BJSkVqJ0\n",
       "Ja/aMf0PXDOoSpFPi4AAAABBQZ85RRE8K/8AHxA7Hef3lmh8H5YrwBYcXpjJF+wDZrKNltUybluF\n",
       "hv72xWUa625V7TUWDAJi+FrWieAS79Ppe/EAAAAVAZ9YdEJ/ACjoz1CdWOEo8m+S6Iw9AAAAEwGf\n",
       "WmpCfwAX5448ce26/9f6ysEAAABKQZteSahBaJlMCGf//p4QABdd99OETKwAtVOXDwCYkiWQ7cgz\n",
       "CK1qPT41QmdsOqKdQIAcPHpb+n69aIJohMVY7fawkE1/f8hTQrAAAABgQZ98RREsJ/8AF+veloz9\n",
       "YEeEbSVers9kP1L+I8AFrptSAocfeZO9lnyu8IE4L9o5Sa1rvkrCXBo5HiJbwYAGUT+qWubs8hy+\n",
       "1tAGrlWFYyk3h9+zXcRXj0QiFGTPNZDAAAAAPgGfnWpCfwAX547IQJciH+bycLCADizcDOUOPvMn\n",
       "ChPXGXimZNKAdovX/RSYxm059If3w/yjly6ODJW8GXFhAAAAYEGbgEmoQWyZTBRMN//+p4QAJqVw\n",
       "16gpP0sGujQAsTGOYItnIKqfzaG6X29Gn1LwiWEGYTnmmWjv//P+DvEHn3JdogvJdITg1Nyry4mm\n",
       "gax2W9/QVB/ZcbgGtkcPLu5g4AAAAEwBn79qQn8AF+vi1xc0vAhzHBmpgAcRqf/7/FzloD/eQrEI\n",
       "GpomsHpCM7seyg0OvdUuuPYFDbYh7jvNsK9/oyJinPqVx0L1P5vKHZE+AAAAR0GbpEnhClJlMCG/\n",
       "/qeEAF9i5IADtIl2Tr10vlH7e65ahmozzYZyMBJaIKnTVl5q8eH5tWBHPMtGEMsZbS3FeE2Mw6MH\n",
       "jFbBAAAAYUGfwkU0TCv/AE12Fla9tCDDjoAQpi7phpOmadatf2cXjXJYtZ2YJORQKc3MM52KH7Rl\n",
       "Nh1YUfm4NoXOq6p2uWoXy1gv0G+z235CfbSy6adcY7on8HwnN1bSiQu+UmlQCPgAAAA6AZ/hdEJ/\n",
       "AFC37/7cAIUzrGmK2939GrdEFA6+vsI7rnSOhlqqEwJDT37hL1R/iVTBbsEGZQFJYnALyQAAADYB\n",
       "n+NqQn8AZJ5X7e2vegTJBPACyN9oegSSgbRcvyPBsejBKiooXt2+Rs7/jvNj0Oi9PyVXAWUAAABD\n",
       "QZvmSahBaJlMFPDf/qeEAF9tQ5f/OAAXW0lA0chW7j8bjszTkWp5AZtBDfRgbdXcTklOi8vFzu9Q\n",
       "2Uost6jr5LlRBwAAADsBngVqQn8AZIlZwAhS4CIFD/vU9l0FezP+g5V26nj9Tha1cay0YGXZ39HV\n",
       "tDo4o7+1dyydMdh2E4gMCQAAAEJBmgpJ4QpSZTAhv/6nhAAv/re0a7z73wpdzJTHi87AEe/4fNYw\n",
       "EaPnU/AlmhTzg+gTrZO3cxZStB1UAsy/rTemMPAAAAAzQZ4oRTRMK/8AJrJcvCC0HXqOgFMuLPv9\n",
       "v4gBZUGiV5BRar6ZUWlFOKMbvOwqcQtNdnWBAAAALwGeR3RCfwAyPod1yhwqAlRVMvPEANdkEZ0E\n",
       "yvkr+2UZAv6HqgrUzAeiZ+b3FJixAAAARgGeSWpCfwAYh4CnvNtwdYZSx6ukLLqUQAq5/ydYIXWj\n",
       "/tTzkJwvE3tIpHme5oTR8YLxx3ZGFkUjl9wDBveh+XbcfQbFVbAAAABoQZpOSahBaJlMCG///qeE\n",
       "AE2+g4IVIInQbhwiThAC4zx8kEHbPUqV4GJwMzAvmrcJH6teGoWQ5ZF620NvvPYQsesRYRKc10ze\n",
       "JPuuJNMPuIWxtjaSVH1/n3nnqwylQRV2uYfrWnn2LtAAAABQQZ5sRREsK/8APiylONm57fzXipKs\n",
       "mgAt5fre80b0AR7///3Op1POcwe3CnLzFfuXhOJ9yow0YmYgJgn8SMc/MDWkOanqJMAUdjUeM14g\n",
       "l8EAAAAyAZ6LdEJ/ABh/J89QOvjeEDAM/vbQVV29JwgA4qSfTMzCUZaqhMCT/RwoQOTttRb94cAA\n",
       "AABcAZ6NakJ/AFHZmz64AOPh//HWqewWDKuCPUhDm3OhpPOXqXgtYWqM/T5FvmEF/X9fZ5Sf0VbF\n",
       "e2gYo4qF0IntzFsF0MVjhvT7wMhJsE40Z2maBy8Sx7UgcgrU8OEAAAA4QZqSSahBbJlMCGf//p4Q\n",
       "AALoAAFSL/GgAIRynvNCotuq52GHtSh0ppYF+a/sh5dTzfzb7HPvLwkAAABVQZ6wRRUsK/8AHyBp\n",
       "DbgZBnUKjbdTIVIsQv/AHI8BHfLbM5LCRV5zCq3y1nXA1pGE3+oD8u/loWKyzsbXPSF2AloKMc/J\n",
       "zCDJ95ZYu9uZZrHBdfED3wAAADMBns90Qn8AGH8n2G6HnSM4yGWIXPRyiGfqrUGXh+lZReqAEJjl\n",
       "LEl3vBtnxEAQSHk7WkEAAAA2AZ7RakJ/ACj5ijE4Un6IZh2An3/8teqRcXm9biaiSAgA4qSfrkZa\n",
       "WaFwgAUCEB/BqGOkFY5RAAAAb0Ga1EmoQWyZTBRMM//+nhAAJd8KIil705CrewANjFT3RMpw/b38\n",
       "SqdRyS+4rbXUWn/CWZUugHTC91WYIKfpXdoxocXl/rQ5WhO4HIDoIzdqdGC/+G/1/b2TRytINYnU\n",
       "Rszs3pGijq9jUVzgDdBjLwAAAFoBnvNqQn8AF+ve2pCTMg7Ech3/mACMk//x1qnsFgyrgj1I2V8C\n",
       "uM1EP0uisRxxhWE8ytvGQga1++xllm4GZkeJD0RmO9QSm2TWe8APmf7axgywIUa16nE79dMAAABH\n",
       "QZr3SeEKUmUwIZ/+nhABWMiyABam/O1MQ/QnA04YUKM6998ujgZcn69ocTTkmIccus2prCMvJlLv\n",
       "IUJujSFs3d1YvO7/upAAAABPQZ8VRTRMJ/8AXS3zewpo3tvuN/1IagBwadhN8BxBUma6/++warQz\n",
       "l2NIHGHNuwwCLQSgMlHCUgIDslqBv2bUPMqJQHCcHyNER74CIsSg4QAAAGgBnzZqQn8AXS4G2Qtc\n",
       "FkmgBwZEIRi1s7W1mhxJUrkA5+G3Xv9+5X+7GrMoAywO6oaKyEHn6nsllHfWkVZteN3SW8yl5rtg\n",
       "+/n8EkVnE3eD5Kli50oskE5FgYUX8bKGmd+mF5iy7FPMzAAAAEBBmzlJqEFomUwU8M/+nhABWPVm\n",
       "gx4F9hsuUaXt7vQAQ/R9SqAefFJuxaX90NTw2taUTy6uPg9K298vj3/usyesAAAAUQGfWGpCfwBd\n",
       "GZrttLN9jwbNzcITLcAEZCmH5Cxm4HLEcgeCW1bMV/QTPyA96hpGNFC9hKvbuiGs8ayNlXC2TD9u\n",
       "QHCAKMMv2y3OTXOI/XXiwQAAAGZBm1tJ4QpSZTBSw3/+p4QATbjffERvvgAy7Pz4zYQbYbLwMXgI\n",
       "a97eyIXrySMvUoxwTj5UW3LdO/11xy8Q1dbtd9u6Ka+mmGYNCINrV3baTR/uw4E3w89/JNJXcCRm\n",
       "7yLnxU5vvcEAAABXAZ96akJ/AFHt/osfS1osvwAsHj/NdsH38/gkis4m7wfJUt6HEdZzvpt70Q7M\n",
       "X8bKGxlpe+aMYABPbHuNO3nvtwXldHSm3L1xESriEIyBdT3Ml+7DdWYFAAAAXkGbfUnhDomUwUTD\n",
       "f/6nhABNVB63zngA2rD/+PZ8zwU6SS91XyMgm6/uZ17uGS2fFpiTrHBYAX+mmmSkv7T+k/zJVJVL\n",
       "INqK4X8tcQSbqNeM3VDx/SUBRmcYlncM7uAAAAA4AZ+cakJ/AFHwRTAAiC2fQIVcNOB8RuN9KmX/\n",
       "z23lpxcRM9+R+SCvHn6bAYX///xg5KTtM089ipgAAABaQZuBSeEPJlMCG//+p4QAJt8jVvBPD3dI\n",
       "eW45OAEPz3U70+M24WhuGuK8CaFoG7FqO09M7aJC/GMdf//57PdTiziYUNKB8APG67vlOkqyAM8h\n",
       "+1oLujFiMi9ZAAAAWkGfv0URPCv/AB8QOx3n90mxn4L2gA43//8dap7B+xkVbOoke4QEw3UUMJx8\n",
       "1gONXnJ0c4oz5i8JDbhc2QJ3m8vtwjtb9sxEeWgf+4S0VShTOvVRwMNQBRpjBgAAAFIBn950Qn8A\n",
       "KOjPUJ1FbHmtMFvigAOAw3Pt6GAUlDPt8YdpnDeWTqXlAyE/+DiBsKJfN1RyngGcWSviM547HpLE\n",
       "gbf6UCyYh2yT9LRrIKlOQqrAAAAAVwGfwGpCfwAX541uZeVv+T4sxquE8bYAEskqqwOaeX7QqXTR\n",
       "EzC5jnKTO32Ih+z8qmd+4I63bKeXmpsq9RsHEa9ARKpvJf2ZDTC6fsRVDXKypngNvEkrfwAAAGxB\n",
       "m8VJqEFomUwIZ//+nhAFn2vfUmpAHJmLb6qwafyn5F4uHDj//CVmqnwiizUq/XUfSZP2aBUK3F+R\n",
       "dUfdKoVuXmdkWPlBzKSRrQ+PavO5RZfiVd/opDBuVYxRZdy31tCJRj+Sna4wU83bFVIAAABkQZ/j\n",
       "RREsK/8BJtfxGT8+mAC58mPmZTiJvm37XS+Wz9lvAFkst45ToO4Aoa2wERb3RDaCs4m2KxP9i5lF\n",
       "oF20A25W9sMHGXFMlxaU5vW9rhc9Yur8K9twI7BQ2gsgxhxbfh76+QAAAEgBngJ0Qn8AJ9p9TzpN\n",
       "7rEEL3ZXL/ikABdBSqtM5N13HmyZtFIiOid2BMfwtkAa6oxThDmwC3YCNL6H0MuEHoF353/w2t4y\n",
       "SrEAAABKAZ4EakJ/AXxma6nzyVHxU5fdjHAPceT5t1UFQAihIi6KBiiAyq4cyl5rtg+/n8EkVnE3\n",
       "eD5KlsTJOTVxcOHPvxsobAiHn6LhQYAAAABWQZoISahBbJlMCGf//p4QAXXefbez8EQALsziZlZx\n",
       "V5SyN+dqogJ2LvctZWfMAyvfM7+v8Ozeyu0ViD5Zs1iAmll30/DfOYk551dZNmdXK+ITUuTy2DkA\n",
       "AABDQZ4mRRUsJ/8DD4aGScerPdbk74sSz2v8+j4+kAK14/zXbB9/P4JIrOJu8HyVLJ+ZFqVNveiH\n",
       "Zi/jZQ2cUXNiRaZ+bwAAACkBnkdqQn8AZJ9T4AQpim1FVYnGJE7MKLOFZAZk6bcUa/qHJHsKpZiJ\n",
       "8QAAAB1BmktJqEFsmUwIZ//+nhABc/VsbJVosFBLiDRTQQAAAB5BnmlFFSwn/wMgXgwDpJXwOfC1\n",
       "R6oODOr7OTyFmWAAAAAXAZ6KakJ/AFHt/oXplf7YthZx16DhZmkAAABfQZqMSahBbJlMCGf//p4Q\n",
       "AJd7+NwwrL5c9MUxIAXCnJsQ59FOq1O3KR4pbbhPl/PXmQkiiZW9p00vexRIKjZ4X2TrvTTm8HR8\n",
       "UyQeN0O1Q1BiD0RhzyaZ7sIeXdy9ykkAAABOQZquSeEKUmUwUVLDP/6eEABLqI4NVkRE7QAcdwqt\n",
       "HJzJPBmbL7CdUJFUqabazVaDNMypjem82Or/6Lf/1lkMysIHIOfpeeRSVn9nB2ZgAAAAMQGezWpC\n",
       "fwAXoWmP+QVKs2fsNVmH2R140lADgQqWOoAVfa18esT8ptBMd1Df9hkTeWEAAABQQZrQSeEOiZTB\n",
       "RMN//qeEAE1MoiACIM/PzIGE//PNqTdsyxS4HVnLjno2sexJ0ab1qSNG7T2Zu9zET+7o8LG/EG4C\n",
       "pv81L7xOYrPEp3GoGHgAAABGAZ7vakJ/AFIrSQARBnWNx8EPw1VYMVCAacRlX39V2JPWuEaNLBwk\n",
       "VWly367rPfXDU6JVDHJigeDoVrIim1MVp+oxVGrJwQAAAFNBmvRJ4Q8mUwIZ//6eEAFzxegAC7M4\n",
       "sNCC/psOT2fPi3CaH9fomzn6a9e0KcLvnXfBbHm/RPhnW4ia6ZvB5Pa0IBv7q+Qahnmsha7+KWDq\n",
       "3OhbQQAAAEBBnxJFETwr/wBNdheXmnvm6AHR8lMZIZrl6SflCROZmDUU6Tdtw+R36RsmNoy3lpTS\n",
       "n2tkAW4xxGQRy3vOXSUHAAAAKgGfMXRCfwAyUvyVnRcK+BaadMqhmABwO778nPqrOE3s34TMRtMM\n",
       "TorpMwAAADsBnzNqQn8AZJ5XzJ3AA2pP/VgqewWEzrCo4i2sVaMjsPo5yudkVvpdHm96fxBtn96H\n",
       "ltRw2uHg2BEb8AAAAFJBmzdJqEFomUwIZ//+nhAFowmI2lSOdPIBjJp8SlOS4ywQQNfbAqrlGNgm\n",
       "cBvRbkGxAZ+OQ+8uMNwq0akQssAyzNzNxtq5PoIw72zAckSPOmLAAAAAT0GfVUURLCf/AXxma7WC\n",
       "4MAIUuAiBQ/71PZ5YG0Py0LuRc1D6VkR0mOhVCLeMF4WhGrgFJQz7fGHaZw3lk6lLUfZv135Otbm\n",
       "G83VadxkSwMAAAAhAZ92akJ/AGRM2LcAIUxTkT0M8QP7+E0U1hR0Dp0KVkjAAAAATkGbeEmoQWyZ\n",
       "TAhv//6nhAFzKvaQCa8EgkGbBrmjJ92unxEbU5nHayscwx9G9bbmKHSve9uUgmgCWJjVPcoRXHsX\n",
       "eMkMdcoCP9VQeKUUkAAAACFBm5lJ4QpSZTAhP/3xAAtVZsIAIgtn0IPbmsGHdecAnYEAAAKqZYiC\n",
       "AA///vdonwKbWkN6gOSVxSXbT4H/q2dwfI/pAwAAAwAArqxz6KZIGF3rxgACbjcphUknvgAIivNN\n",
       "ip2Knb7xQJlpup+Rb7jPuYQ69r+bv3wCX+AJ9IA7fYtDFg/EpDkahaD4fvKZ8WR4dZp0mZpyT6vB\n",
       "f9HUJu2ta5xKeGOdpgvA9EXOul3p5DLWuYlLyVnPx8agZwo0T1TZpUaY4i4Pa0+BIGSCVSS2vgop\n",
       "zeh865WykY9PlUzeS9pIf3x4bxBoYdKXfDRMIKsINbKgbqdRFwZ29MNDGahKKX89WiajDDfswDDt\n",
       "dNVIcybQph7uwgdm6dfNRFneZw//2cF/68hb1gxiYhsVXB6Z5on5RL2dHlCHl0UwDbKbrRQjy361\n",
       "K6CsJuAWQ2n6Iyz6WWRODQiR4sPKGhAl1KKvkgVA0R6wRYccvPf5hljTudzQ7u5z6tPcr5ZYkQWa\n",
       "Nk9m5atOrh0wYBEyp2NdMiSopdolGe4zlk0HZk96c6F7lD4fQRX4ZRo3JbsBr3TZ17RuIoqr4bLU\n",
       "ijA9AhaXcxus+dfOVmLHnsMgJRZ77XO9rPaxM8FUnEa/SY32KO4ocsrrkinxGSlrtpb63YhH3Ycb\n",
       "Jo/39YZdHdncKTxLekmrViBgzO2lWuAGTA2rTzYvmCUL4CV26v+ANnsB2Bm9ePcyQsYxEINkZmj9\n",
       "uASsvleE2FQ8jvfnJny6TX4nSQDvXA7rgYOGMeNQThzkKHlH4LfpRwWKMekU79ShNe8904hVdBy9\n",
       "AC/F4/B1u2KyU+Tqdo6eykpzvYKYVfPR6RAa7gbwE2jTjD/VjqLmVfPQdpsuLLoxKykB54qeM+8f\n",
       "9zBgHmikQAlyy/VTuns5rxnjGa1/axUx4hSkq9BEAKmlOxNh34Q0FV3/xP+8AFCVuAD7gQAAAFhB\n",
       "miRsQz/+nhAFmVYgBqz2FgO8p3BM4jWlVv+PPoJ2Ar7C5esmWn/LL767R+HB0P//Lu2gNyC0ZFI+\n",
       "wd5sRtjdDU3zNy+aEd7zaHtmiwHk2nZaVfG4MYPpAAAAKEGeQniFfwEmkv/SHnkjwATt//9Gvy2c\n",
       "vkpwHuVU58uGFoy5oJEnofcAAAAOAZ5hdEJ/AFHRjm3IHVAAAAAyAZ5jakJ/AFHZmuoKsa4zxIiu\n",
       "4mEf3ADc02pAUOPvMneyz5XeECcFozAVuE1HXCMO9O0AAAA1QZplSahBaJlMCGf//p4QABdG6ni7\n",
       "/u8183YANnpmG4UAWAGUvj8R+2ub6ht+Simce8lSUkAAAAA4QZqHSeEKUmUwURLDP/6eEAEtVFWU\n",
       "yHcLneSVDXjGCAEJQH//f4vC+fsy7L1AZorT2voGa87kvyAAAAAnAZ6makJ/AFHt/opVKvKajUwA\n",
       "OI1P/9/i5y0B/uaJs5/VdLVmKTZhAAAAPEGaqUnhDomUwUTDP/6eEABc+DJKOWStUsG/8PABLc+p\n",
       "N7+GGl9h8MogdJpSbemTP3/QMZzWla5NSKPQsAAAACkBnshqQn8AKPcGNIbqT8dwA3LJPfk59SMt\n",
       "VQmBJsiVM7Y+3efpNCLegQAAAEtBmstJ4Q8mUwU8M//+nhAE8IaCAZaBHE98zJRMZfP//7wHfhwR\n",
       "MrZeVc83BbXM7i4Z2k5cUoGqz4yEPgzyzOn+lOZJL8lB11rOKCEAAABJAZ7qakJ/AFHvPOABtSf8\n",
       "hAwK352yER2eMk0ljaPmv7645trp3eUxAvDpJfTYbOytTU5cGrtwH1B3pgNpLU8FkcIjwUhIbQWp\n",
       "OAAAAFJBmu9J4Q8mUwIZ//6eEATwTqjPy3Jt3v4oN+nbXTY6bswAunkffIuQjDoi35MtbHH4GuCY\n",
       "PRueHDhXl1i2Ax/ME4mLwhM8d//fgZs8sNX+tjbRAAAAO0GfDUURPCv/AB8QPC0fRplcgWPz0uTk\n",
       "rxX/qIgAun7YvZHMHFA1GB6U5IbP2lHfU1Pzos3mRNaA9Qe2AAAAUwGfLHRCfwAo6NCNqwPMYiio\n",
       "V1+F4AON2faTmNneeKLmyQHlggG7AHz9WrWH96OXyUM+3xh2mcN5ZOpeRnRbG8c//i862FEvm6o5\n",
       "TwLOujyjqQXhAAAANAGfLmpCfwAT64MZKi4+0So5WK/96fau7SkAHGyalm/Yg4mg3LJ1BGhWW2Gg\n",
       "5lgPmnIEbuEAAABjQZswSahBaJlMCGf//p4QABLvixgjpH//xQfKRJa8v56YaFAAhqpZFZnomkrl\n",
       "LZoHubhwHFyr1kAKBmPN35OY6UyqIzxgwl6T5OxBYkALm+qGkYl7GLB+zdMqpa8nTsIvY0lmAAAA\n",
       "ZEGbUUnhClJlMCG//qeEAF1cHWoA9qje1yfvSE7qQJjMUcg/FBLsqYyMsj3OT//HPsgMOMTCcqr5\n",
       "h+nRQfUc9Lr38C9hcrXUaT0NqHiNp5nfcKaTCzAqfYidNOM1PGtBYAiAJWAAAABBQZt1SeEOiZTA\n",
       "hv/+p4QAATXFCWEwACxwy0+ovZOqnfwhGcPEJXmFaE1WLhX3ozBT9ijNApfqm1L1cqUWxdHA8K8A\n",
       "AABjQZ+TRRE8K/8AD+RvNR8xKD/65cppmasXxxV+HDMOHkdE/t5m3ADLj2rg/OTjgCMfJS/btZB7\n",
       "YM1rBZtUyblpjDi3g0nxgNGsWY8spiDVQGPlnJjVs/8TnTThiRyGp4x+MKZgAAAAOwGfsnRCfwAD\n",
       "D+cyW1BugPx7CzJ+f5d2zycIAODP7LvNJaezy+qZCUI49JXTWsPz6mbbEPJYnz+jK87RAAAANwGf\n",
       "tGpCfwADEPHGTk9uBPgkyZ9gEZiudrMQVtnQArgq2jE7GPcDBOBwuGC5JLFnMoHhTEsVZksAAABZ\n",
       "QZu4SahBaJlMCG///qeEAUfy24u3olWHgKGAuLp57FAEGcs24CE087Mekuv+n3urGBBGZe6Lnfnh\n",
       "tIecvPbJ79EMRItMRQ8ssi5DJSIl4v5+0l9wCWHwTMEAAABVQZ/WRREsJ/8AFQ84ghYQiiAUGpe9\n",
       "duaTRCkdACu9V5Q83wq6bQ/LhOOXPEbi0Odln7lnIo5dFYPmi1BoFnxnRaK3xCgANpSaC5oQCPqg\n",
       "Y66C+Hc0+QAAADsBn/dqQn8ABR8xRjZFBdIYm+r4t/nzQA3NNqQXmnl+zss+BiR3fV8F//jPdhrr\n",
       "+/6Lca6sNKv5CUfPgQAAAJJBm/xJqEFsmUwIb//+p4QBPB7GjIBAEw0wCDBFOTyR6ftf3MfjXefg\n",
       "baBwIZS0WkdA8L/0jZ6x9ik0vMFfxogmZq6ByQL8FS1hr5c6DdYnx+X64KVgkaIW/5f2XHTn3bmE\n",
       "tyjIPsIDv+rf9+uwFByqc6Sv14PoLXQ06oZOHOjCb9Zp8xTLCKuSQ5ggusFj0oq94QAAAHVBnhpF\n",
       "FSwr/wD+1/EZAMOVufqLfyAFuFip/b1GuiW90nEZ1rVsD2ytlC3SHyLKaW/63PJQPsIxPiCkX8Nf\n",
       "cZ10YObIo6M6Qy6XIoIKJiIB6YLvkbFYUequegEVBGAbnE7j0CDchG3e4O7B437NMBFvCoj7l+gA\n",
       "AAA3AZ45dEJ/AAyUx76ngE1xTl2C/29hz/f49nit9OFpkiW7Mn1dH4rNSyFIXLx+LHX+JaN5UA8S\n",
       "oAAAADcBnjtqQn8BT7f6KAGyHogA4jU//3+L5ppEKw6hps723x3INbYK/FY51YN4cMy/Ke/RNGRA\n",
       "ouhxAAAAR0GaIEmoQWyZTAhv//6nhAE8LDiASgcRv2q5DARRmfLoFVTI7JM1UXX/D4nfgEOoki6U\n",
       "jAI9suBg/+yw9mTJ5gWt6zXTFJkYAAAANkGeXkUVLCv/AEyk5vCZUygA2nXxJIAVJw//mcA+b+pP\n",
       "+Tu+l+kEFdQxOj2nq8S3F4KCFKK6LAAAACEBnn10Qn8AZKY+f+TN/QzQlhFmE5BGEouGFVhzpyCL\n",
       "u4EAAAAtAZ5/akJ/AGRM2LcAIUxTJ3wUq5OB5QBhghAv18byHroTCUBokbLa0lLvmTgPAAAAdUGa\n",
       "ZEmoQWyZTAhn//6eEAAlpGBwBQYDT4eU4C9G2cu5igS6TZBgbz+IBchsNGF/qM9cAobWfPTE/BNa\n",
       "800GfYDEV5nISn0FUYVRpwrSrn+GYBWHmu33UsoRJzH0P9LLt7WPiKvCwoZh3EnvmN+ikf1B4JkD\n",
       "3QAAADhBnoJFFSwr/wAS4M8dkLKJ/kFuo018jvFgSRB7CCmuMQAsOL0w77sbbgYlYYlzw4h2SI+S\n",
       "aPv5swAAAEIBnqF0Qn8AGH9DuyFYeDW4j4BPDbCKFg/ODGABbLgIoXgLa5a9vitWhIuHLjlUlWNj\n",
       "euGubI/QXanL4dUxQvM6R4AAAABJAZ6jakJ/ABiHl86Kr01phv1wRjA1qYuhuD86G0ABxrgIoXgL\n",
       "a5a9vitWhIuHLjlXddLlmxOFXihsj9Bdqcvh1TFC0wKNn3fMwQAAAExBmqZJqEFsmUwUTDf//qeE\n",
       "AAmqAdS6IkhDbjki64AL2IF2BMO2MW3PpUaMetsbjPwfnpVHvxJJHVdIF7lgoRoRIcgr+7Aijfff\n",
       "8aBeAAAASwGexWpCfwAYi+Lb6xcFkpnTvshoA8ANtEbucxs7zzy9+5eMrZ1k+sqJKGO88go3TdVa\n",
       "16Xch+wkqhmcDufqTOU4IL2PYbQoZ8PMjAAAAGRBmspJ4QpSZTAhv/6nhAAvsXJAB0ol346U7Tpx\n",
       "qoQSytftf/LV3L9SqOkQuftuYJ71x1lhKelUzgztnPQy2vuWWQV9V+l3ChBMX365h1strTorlIcr\n",
       "4Qvel6rpKXViNtOPhRUxAAAAQ0Ge6EU0TCv/ACa7C55avEYUFEWEJCx4MygRY7ytv/a0BuNCp/b1\n",
       "GuiWjBmzdcGV+HJtRJXfZNMaPYWoabaF+HGPIh4AAAA3AZ8HdEJ/ACj6fGIo2gsL0Nxw8nl4QAcH\n",
       "KqtM5N10S0UUhxCAywAKmmpLUGxp40UJd4uD2wAi4QAAADMBnwlqQn8AUZUujvadFOngn55zgBta\n",
       "lLHUAKvta+PWJ+VUNqeMYr+wh5jNxbNIZ0ngGpEAAAA9QZsOSahBaJlMCGf//p4QALnwIt++FsAC\n",
       "6DWqTe/g9QvsWpuzCjntPrsOniorpjoCbJOFe0tWcFcE3UwSsAAAAEhBnyxFESwr/wBNquQAL6uK\n",
       "JJQf71PXg1DTwKj4+QeWAI3cSuACdxniLcj/6a4sGXExTl9C7xkPw8fWPbtMHQXMaiXt9LE+TB8A\n",
       "AAAvAZ9LdEJ/AGSl+Mv2amd3oAOJ3XTfu380+rms0NmfI/x8+ZK+kwAySj48RDWuFjQAAAA4AZ9N\n",
       "akJ/AGSHh8AIUxTaiVTMXqPulCfThPGFPiueerDGYNqTT7SY+oIvOxXlfuj+Yt3Eb6XaG4cAAABx\n",
       "QZtRSahBbJlMCGf//p4QALrJsL7zH0WHFL6q0o4lfRoL3e/DS0SQAlqA04eIuO6P5jeQ4KCdt2bk\n",
       "9sh05ERqibnhNdIv1OofdFAv2buOk5D/+T4D+rX+2fTk6HQhjR9htV9hO8sV3p37QukMubRxGZMA\n",
       "AABDQZ9vRRUsJ/8AMkLk7NZ/wgAb9ZNRBzMNoRvb+vTR/3H5+/KqEHCWOSJd+0x369Npy1p044AP\n",
       "Rh8DjBbfVFW6hG5mBAAAAEEBn5BqQn8AGSEyPfvp8vAhUH/gbsI1YoAELLXcXhz4J/JkELfbdvvU\n",
       "Etky++freDar9mAVrTFctXXb3i4P5UycbAAAAFRBm5JJqEFsmUwIb//+p4QACal1RACw5+hXVWBc\n",
       "/nWORbMUhBBDZPa2fYyk1ru9+vr7re9QakTldRxMYCqladA34hCi5xEgLHDhAtEb/YJ5xHcBk+EA\n",
       "AABgQZu2SeEKUmUwIZ/+nhAAJd8WMEdNG55HF9O3GR+1PNVIRWvTAHR+8uPxhOdLpwf0jG7KWge9\n",
       "E0qz0hUmxG9Jk930O2F+q1zxdYHA8Uh1v5LIoYTEDrWM+LcYLn5SSRR4AAAAUEGf1EU0TCv/AAfE\n",
       "CWjl9ZXbL7tBPAqqsZh5sgx6iqapyV1pd8sUMoAAlOOgfcYDuLGVhI/iKD4c/NoqgVxDMjowLBjq\n",
       "ZZjX9dE4eu1MVpDZAAAAOAGf83RCfwAKP68VndXN+j6ddlb7/lUtKpVJQ3iFW5T1vTGDmUALDH0M\n",
       "6CZXyV/bKMgX9mz4gtoYAAAAXAGf9WpCfwAJ9cE6H7M1dXQYqCADgMN7Rjr/7a3sqUubdjbdTtOz\n",
       "2rE/4gOePs6M+vqsjI0SuvSa2kr/Se3iijrf1AsHmVJlp0fQP+3nHEBCv6y35xcPSXIa/iOBAAAA\n",
       "TUGb+EmoQWiZTBTwz/6eEAALZ7v4Mhn+SAUGA0+HlOAvRtnLuYoErtdlzsxz0llw7HfiYP5IElUS\n",
       "c2P41p8DHIph4VJU+davvxIfo0ThAAAARwGeF2pCfwAJ95yS+xZca3haBCuhbKZmxqn3Esc4tWjc\n",
       "AF/bThXNIDthRDTE88e4nW+Eysaq6C/3HgOFkLlXBxLDB8zvTTvhAAAARkGaGUnhClJlMCG//qeE\n",
       "AAE1P63jlfArQAGjZCu1BYVl4DyHwkr1QHmu7qfA6Qv4Wc+WWjTxuSjta2QFw6XecbpNsHQ0r4EA\n",
       "AACHQZo9SeEOiZTAhn/+nhAFmHx5QC0TFvdQgNk//B//I/CKDuGwu2BFb8QFVQwYXEIFsR4ARyke\n",
       "AKxr42vNRP7G3XZKh147HT5T742GkLBZkV5ZcYyKs+y3ASt+Zc6ciU9jRC2YdqXfpSfTEh27AMuV\n",
       "7+v8Y4pwe8m93FdQPhARDPddXOxeucRwAAAAUUGeW0URPCv/ASbX8RiXsezf0OR97XPN35iAC6hF\n",
       "fRMzBa7ffpUAuhK4PzKl//wHLB2wDHl0PIYI45J2XdgCV/sVLdEYq3wwVIFrXMZD8lSfgAAAAF8B\n",
       "nnp0Qn8ACfIzsSthwAaVN/nVw8AN112dT2I0SDalWsc9oIPzUxv3qUgt+3QYfrgnnsVT9vETKlUf\n",
       "QUQgm83gI0Te4tD4YFCAvqSvrNGq3WlJcpO4V4XxmW5AnThO5wAAAEIBnnxqQn8BfLf6Jy9a1GYW\n",
       "o/7CYAHGyaljqAFXwt3CRPg6zHckr5H5cdqZgY6r2f+3eaFins2/i0RESm4cmnnvuLAAAABNQZp/\n",
       "SahBaJlMFPDP/p4QAWrE9QgYnM1HZhqHVWg+7H/+5CFzDO6IKy9f/QyUiIKeyuNEZOSNQdxdEW59\n",
       "WIitxelUjpaxQc9rCDmD2bwAAAArAZ6eakJ/ABkngKQKqoUzF948LPATPDy0ggZClnK5pI415r3l\n",
       "+lcp8M3x4QAAADFBmoJJ4QpSZTAhn/6eEAFzzAwAC7M4sNBef2oDI29Zd8WA3t/CSS9DUhD/RMQx\n",
       "Kl75AAAALEGeoEU0TCf/AGSeMGcKDOlHsHFf16P+fl8afh/SQDYNHmjTBBCcyoh74CnBAAAASwGe\n",
       "wWpCfwBkn1PgBCmKbUUXop8nDOCT7eLo2jjv5/CygNWmC68/BTYZ/1wCkwIwCO+W0DvniuTqR31n\n",
       "m60NgbnAcLtR+VmeiM7N0AAAAFNBmsVJqEFomUwIZ//+nhABc/VmmNFNoALZnFt4mswCefg1UDlu\n",
       "1KQb/765trfXvAekV+fks50kNH54o+TILF96QcQuq8UHQ/G7TU3e4t2dHLqHjgAAAC9BnuNFESwn\n",
       "/wBkhUihmGoN4mgjYLfFy10YY7QvURHho0LSaq+X8ADYDfkJ3sdDnQAAAG8BnwRqQn8ADEPK+TgU\n",
       "nSsW8EweRPwzQAIHSMjiJLskMKxlx2TrCUSvYl3E8HlfQDDuxGk5Bj2IvqpynOoBJsatzqpwr6Jd\n",
       "DrW5duNYh+Atrlr2+K1aEi4cuOVT+Wpo3y+p2+/TXQkmhYkm3lxDCUAAAABpQZsHSahBbJlMFEw3\n",
       "//6nhAAL7FyQAON///jBiTRkuHGY/EB+KTdt2slkrHPdhWl4M0+jdHrH9/M8rAZNbF+XwpTBJqgU\n",
       "cd4bnHMD9vvkO8Cjb/YuDq123XWjy9axDR6Z5fTGvvFq56NWAAAAXwGfJmpCfwAMk8Gxb0+S69BF\n",
       "CgAjUEfthFQA3M0z+EvuuNXDnVMhKEz5qog4mF3Sxi4PziySUW/zdZOY9WjtEUJFw5ccqolsRLtj\n",
       "gYLBwI1fproSTQsSTZHDwIBGy8kXAAAAW0GbKknhClJlMCGf/p4QAS0jA4AF2f/6Xj21X02IIvph\n",
       "e7AF0gCZRPeNPMIfV3tMaNqhQWH7taftx9xQo+/+/4ul15FH03BpZpGbk6DWuNs+ovDVTfFUbeKl\n",
       "hZQAAABjQZ9IRTRMJ/8AUe3+i1abefFi4Py38AC2Ypufa3kF4l5I9HaIBMCm9se3usu1/EhG7SUn\n",
       "Cg8obHzznHk0qUR9MrTP0XVLlSkgflY78BHk80cxs13dHUfHLGYzSsKODt5vRh8xAAAANwGfaWpC\n",
       "fwBR7fuRxCo6NksjkumABxRyljqAFX2iKUrZuJuCTUwtEGasj8uO1M5WZ7tnDUYRvN0AAAA7QZts\n",
       "SahBaJlMFPDf/qeEAE1UHx8xDGdXmDn6OoAGitiPoepTGG1n+yqGx2wMP+f0xkAGreNbpeJZhoQA\n",
       "AAA2AZ+LakJ/AFHZuNE7on0xABxGp//v8XOWgP98iPkQtW6qG3fczqgk5w7Dbg3iev6F3sPEAGtB\n",
       "AAAAZ0GbkEnhClJlMCG//qeEAXH/WkAg52PwqTJ696b7Q3B47sGrZJgnWGk9qUGkh5wLIXqnkpj6\n",
       "DmTJN45Bh6RThlk47X//5Z1EZAjZNNHYKHlA5DX6tYNUyxhenEPjny1sB8poCWYvncAAAAAxQZ+u\n",
       "RTRMK/8BJpHbRP5fbQgxhgAIgxd0xgAQKXDwISPXKJKfMw/RZ/E2DQgWstgpOQAAAC0Bn810Qn8A\n",
       "v0yeVKOeAEG/CIPeRdLCaquDxx2rzrubPnsZrd7G7UqRjytpekEAAAAWAZ/PakJ/AGSFPbjDQEo4\n",
       "fnXZbzWCLgAAAEFBm9RJqEFomUwIZ//+nhAAS7jz4aWHsADafvJqD4REvNSvmEmkNO729dQwvwW7\n",
       "Ul4PXeFRJCicqXOAcXj/sM+LgAAAACBBn/JFESwr/wAS4M7qAaLAlm7e5duuyOXKQR3QTHGqmQAA\n",
       "ABIBnhF0Qn8AGH83m7gLRbmVQuAAAAAyAZ4TakJ/ABiHlspMUNHBkwAdHxcu21YxRAKKt8hQOqfj\n",
       "b+e8L6GQG/4ZO5qrzP/qZYEAAABcQZoWSahBbJlMFEwz//6eEAEtJ3AAC6fvLjQMHP/5jMtb1kEt\n",
       "EmRShzwePstaVQ386DSbVBEqnpwbsvAMtAClHkAVYOyRm1NoWEidWJ/7bb2ZGHgCOaGH5Di+xegA\n",
       "AAAoAZ41akJ/AFHt+5vr1IBaSAFvs44Kk2bFqyBTJD9UnrNyXlYuA6ACtwAAAEZBmjhJ4QpSZTBS\n",
       "wz/+nhABLo1HDk2gTe2EzXYxsswQAg/Ctn8DuvVakBqXwUfXFJAH0Q6MvldEbvxMPAmF+q6J0VKe\n",
       "af5BAAAAOgGeV2pCfwBR2ag4m+yhz9493vodwAjoRfvh031riYwfv0TXHsVzuwXjjaEPV/ZcpCBz\n",
       "wtEdkr702qcAAAA0QZpaSeEOiZTBRMM//p4QAC6GxHK57VXwAEH8apVAPPik3tnEHbTek18FbQbT\n",
       "105j4GNUEQAAAC0BnnlqQn8AGEFpBUs1b0VAAtFOBnKHH3mToopKlOECV0T5qbvIKYGmT6dvtCAA\n",
       "AAA0QZp8SeEPJlMFPDf//qeEAC+xckAKDEu/HSnaZPDHNYWkMdeG3/34PHiERNtwGuW23m2jPgAA\n",
       "ACcBnptqQn8AMk8WFeUl8T5rwgA4EKljqAFX2tfHrE/K9eLA/V6PIeEAAABVQZqASeEPJlMCGf/+\n",
       "nhABLSMDgAupP//HyMYR4YM1J8G6YhQGrz+qpKxhHBslFQyx8HiVeYiVE5/mcwpdFnbXSiqqGdVC\n",
       "QE5Yxcl2dWHKDLz6g2nBZQAAACZBnr5FETwr/wA+IHhoR45QuLg1QAj+B0cMFRYLn0YfEmhgREo/\n",
       "zAAAACQBnt10Qn8AUdGhH5yFxKvABb2r/+/y+9bO3RQ1nBxtIIutEPEAAAAtAZ7fakJ/ADJCx5aL\n",
       "No/CcVxwzwA3Ut//7/Fx1T81+6hLRiSOCY9sY6rw2CHHAAAATUGawkmoQWiZTBTwz/6eEAEtVFWU\n",
       "3QadZh9Bhy64eAOkn//wlPxn07RmuYHTo9TMSvdvqlgHjf0QpiA7YX5G0gdx8YV0uODcqYdxR+Dh\n",
       "AAAANwGe4WpCfwBR2ZrcnHXKoRrhVEfH7auiQgA43kqq8Q4+8yczX5ZZkgTa8jXl3gXA813kv6H0\n",
       "6YAAAABAQZrkSeEKUmUwUsM//p4QAT9wXYgGPM1f+T26QBK1dFbthMdEiICUE1ifXXtwxu45MFhZ\n",
       "biJK3uJgfuGnN5/MWAAAADsBnwNqQn8AJ1K0WFQDIIwrxe2uX3fbj/e8AHFj4EJNbgCobWcBlScq\n",
       "abavsPI5lSfrZqUc9kTWqDZJbwAAADJBmwZJ4Q6JlMFEw3/+p4QAT/4n3h1TBznYHgAvlmXwwc+p\n",
       "XAvaeF2RlyoXjOk/TYa/IAAAACwBnyVqQn8AJ1K0SzeyB1VX14PdjjADczTQfT9t/NcOb9y8ZYPQ\n",
       "yI7ulbsHbAAAAF1BmylJ4Q8mUwIZ//6eEAEtIwOABdn//ho0bVfVnOIKnYeE8vJrGb+xZQ1+yVvw\n",
       "SzQcBRc0+v7En3B+XaqJPUIr/jNythdZoscL0OQ3oiKy9I0FGpVGa4Z6v/kjrfkAAAA0QZ9HRRE8\n",
       "J/8AUe4MZMbEdXAEaKO2X4UkANOshxidjHuCInoPW4t4ip23PBHKudO1I4oi+AAAADYBn2hqQn8A\n",
       "Ue4MZMbEdWXgeSD97+pAAAbD5DjE7GPcERPQetxbxFTtua7Ml0xSJ9FwLKMA1sEAAABbQZtsSahB\n",
       "aJlMCGf//p4QAXVwXYgGPNku746SbZKv/s2Ta+CkQ8P2+pXCKcP29/EqnUci13mqSV0YYvS1rCGo\n",
       "PigDfp8sYlkVs7SjTBO3d+h+2Pq8z26MifcM+QAAADNBn4pFESwn/wBY214AQdCpYku94Kmc3KA8\n",
       "CofaS90kZJwxizfr564kXDhPqRuJO8Or6YEAAAAyAZ+rakJ/AGTXoABDPwiBSv8TpHaksnhBbUnb\n",
       "N7oDiPcJpLCJbPvOB1v0nXKJ+ceBAUEAAABWQZuuSahBbJlMFEw3//6nhAAnwQ0QgAdmfRmehkLp\n",
       "q4iwtkUpKLsYXLQi7czZPkY3JGeaaw7pCcrXf///oRr1ODCooy2oH0ULyPF/hiPws9M40ZUYWxcA\n",
       "AABcAZ/NakJ/ADHCKICceRePT0LBunF7oEcdkwAWtFYDH/MHUkaPXTqCPBMeon0vf/6+P16bI0wM\n",
       "7mygvLWBSUNDLfhalw3k24FpnuwuStZsKPbsQ3pqBRyKHjcm35kAAABAQZvRSeEKUmUwIb/+p4QB\n",
       "jeBxAeAILmd1gIYT2HRYB9BSfnyPPO0hXj3+l8MHPq3O4u9RfiSdLmkLsBuQqMAYMwAAAE1Bn+9F\n",
       "NEwn/wBk16AATf8IgUr/E+bZ+kXSNz4dUSP7XvjZm198EBZXSyBQGMOQhWn1ykBS9IWoAB/wQRPq\n",
       "iF1EN8BLn+e2hWa0/UC+YAAAAFYBnhBqQn8AZIeHwAhTFMV9LLx4ULK0zCSrxIc+q7QnAwECvxT4\n",
       "V0/kptT/ch2Obv7SUJO8L1Q2pLcUpsHGWq0FZ6DNiuPKqBiZREipwlbqu6bZzKliYAAAAEZBmhVJ\n",
       "qEFomUwIb//+p4QBjfjRSB0/L8I9BaqpRv208/sNn7gu0Wz6QEBlxquiQKP1ab0saBM5TyHyx4oA\n",
       "Lf/6TBqJb1BnAAAAXUGeM0URLCv/ACZKN4npTH3/sOONAYwAtb5fbFzA78KVqnEZ1rVenMBxZnG/\n",
       "YiV2f6V6OotpkCfmRuBSVctJMgi9cOASGpZQwTzkv/2IuVhRpvCrAU8NmrIvQyyFbAAAAC4BnlJ0\n",
       "Qn8AMj6MTVK/DzcLGuBpZptZ0fhegAXCMM+Q+5mqw+cjkOIPjjU9OIb1AAAANQGeVGpCfwAyWNip\n",
       "FGEPszyUCEQAcDu+/Jz6rtCcDAQK58MTmJOSnuyMarK2OqNlGNI2f0kgAAAAb0GaWUmoQWyZTAhn\n",
       "//6eEAXKhuY9hzABuDUKNDai7lvrMaUBS5v2EjbKtRVAJ7d5/ok0hjW9q7LvA3///h2X9HaEViB2\n",
       "Iimu7fY2PqcWZdekGV5b9rATQz6CqooAGSzFJ4woXatEUwVqnDB/YeyFgQAAAERBnndFFSwr/wKR\n",
       "X5S/qLtshhe8JmkHAB/LiiTE3V5J5Z23IJD3tK73KN9mDpDrYXFTRIL9sZSal8QJH3oTFYK4s6Ui\n",
       "4QAAAC8BnpZ0Qn8AZKhrwAhTFMV6NfRHe1naK10/vSWVfQiqVgVJwblxwBXWIjHmKBJq2QAAAEkB\n",
       "nphqQn8DPt/FXnnCyZGlEAIUxTKhqDG2k0wue9wuPD7qAn8tGNCMmTdr/+/v1Vr2UGkRHSX7x4tV\n",
       "uZSAGBMU5/WmW65epDuhAAAAQkGamkmoQWyZTAhv//6nhAu2lF/BKDplZhf4iNnwAG1RLsFDI67m\n",
       "k1fAxih0r3vbcKSgC3zbrsGnBOPYnD484GyVgAAAAC1Bmr5J4QpSZTAhn/6eEAEtJ3AACdr6/Zvr\n",
       "H/8QH5sgzUJXfGzcWEeyAvfQLKAAAAAbQZ7cRTRMK/8APfnGDv9GXTFqpN429nUxSKKBAAAAFAGe\n",
       "+3RCfwBR0Y5vRwryFBsnAK2AAAAAFAGe/WpCfwBR2ZruBBBCcBtk2OhAAAAASUGa4UmoQWiZTAhn\n",
       "//6eEAEtSBo35fLc6c9MbbwAlJ1VoQ1Vt6CtbrCT+vBWi1g9bzpj7MAkInOvMLmh5EUuEQf9SJMw\n",
       "tknwZRsAAAAcQZ8fRREsJ/8AUe3+iwGXitELdM0V5dysmeMBFwAAAEcBnyBqQn8AUe3+iwDbLWFc\n",
       "ZqPriJK3A2QzIARVhAiZ0YSaoTOggTQUHXuRm5+3cvboOgnIRcCm5yEqLxZptg+aF5RRFrCqsQAA\n",
       "AGdBmyNJqEFsmUwUTDP//p4QAS75nfVEh4AiXkffSS04w6LlPJCwq5Jpe0DL03WY2KPa4AaKl3xF\n",
       "fcwzZItBH0mfRBbBfC7FRaI2KhyoPry1mjBbMLEExg4n+GhnDlXQhcksN5bN42HEAAAAOwGfQmpC\n",
       "fwBR2Zw1K4Zi12O+/3aRGEMxlOd0bwPzyAG3XA0uG01szss9HkD3aBRCwJLS7ixtf2bE/8g4AAAA\n",
       "Q0GbR0nhClJlMCF//oywAJj/cBJwq+TovfDP/D5n4ie91AQqenpJ02T25bL+HfMn0dg+qAK4jJ+Z\n",
       "J0/bXE4ZJAsqh0EAAABgQZ9lRTRMK/8AHxBX2CPJf8KF5lu5KVFdMFuNQAWeJPD4z8Ckq5aNdt2U\n",
       "TuI01qmwwGm3h43WIMakG6SP5aRGwsL0yjiCavxcjkXQmqRD2lLP/7/F1mq4mKUJ6qOChol4AAAA\n",
       "MwGfhHRCfwAo+noCbBSPwfRrvJ2u8kUT/JG0QXbOAC1sk/FCqVKqzACwT+QfOK44/ACdgAAAAC8B\n",
       "n4ZqQn8AFQtSrdl5Euek41f4tzyMAU5pMLakQA4jU//3+Lo3VNvF8NadkSlVgQAAAEZBm4lJqEFo\n",
       "mUwU8J/98QALVVj4AG0+Lairf+4sXq23R1oFC1OPbtheB271GbJ3ma8HKF56VloZf9IvCWC6FERx\n",
       "DAeDyGIwAAAAVwGfqGpCfwBSK0kAEQJPJj27fVgqewWErpwtnL7+uLEnrXCNGlg4P2hogwV6Z28Z\n",
       "TXnPxod8ArhJrKeVVIgq/FoXwuuFYSDkZeMO3N0w60+OcfmubQ3HgQAAKwJtb292AAAAbG12aGQA\n",
       "AAAAAAAAAAAAAAAAAAPoAABoEAABAAABAAAAAAAAAAAAAAAAAQAAAAAAAAAAAAAAAAAAAAEAAAAA\n",
       "AAAAAAAAAAAAAEAAAAAAAAAAAAAAAAAAAAAAAAAAAAAAAAAAAAAAAAACAAAqLHRyYWsAAABcdGto\n",
       "ZAAAAAMAAAAAAAAAAAAAAAEAAAAAAABoEAAAAAAAAAAAAAAAAAAAAAAAAQAAAAAAAAAAAAAAAAAA\n",
       "AAEAAAAAAAAAAAAAAAAAAEAAAAABsAAAASAAAAAAACRlZHRzAAAAHGVsc3QAAAAAAAAAAQAAaBAA\n",
       "AAMAAAEAAAAAKaRtZGlhAAAAIG1kaGQAAAAAAAAAAAAAAAAAADIAAAU0AFXEAAAAAAAtaGRscgAA\n",
       "AAAAAAAAdmlkZQAAAAAAAAAAAAAAAFZpZGVvSGFuZGxlcgAAAClPbWluZgAAABR2bWhkAAAAAQAA\n",
       "AAAAAAAAAAAAJGRpbmYAAAAcZHJlZgAAAAAAAAABAAAADHVybCAAAAABAAApD3N0YmwAAACzc3Rz\n",
       "ZAAAAAAAAAABAAAAo2F2YzEAAAAAAAAAAQAAAAAAAAAAAAAAAAAAAAABsAEgAEgAAABIAAAAAAAA\n",
       "AAEAAAAAAAAAAAAAAAAAAAAAAAAAAAAAAAAAAAAAAAAAAAAY//8AAAAxYXZjQwFkABX/4QAYZ2QA\n",
       "FazZQbCWhAAAAwAMAAADAyA8WLZYAQAGaOvjyyLAAAAAHHV1aWRraEDyXyRPxbo5pRvPAyPzAAAA\n",
       "AAAAABhzdHRzAAAAAAAAAAEAAAN4AAABgAAAACBzdHNzAAAAAAAAAAQAAAABAAAA+wAAAfUAAALv\n",
       "AAAZ+GN0dHMAAAAAAAADPQAAAAEAAAMAAAAAAQAABIAAAAABAAABgAAAAAEAAASAAAAAAQAAAYAA\n",
       "AAABAAAEgAAAAAEAAAGAAAAAAQAABIAAAAABAAABgAAAAAEAAASAAAAAAQAAAYAAAAABAAAHgAAA\n",
       "AAEAAAMAAAAAAQAAAAAAAAABAAABgAAAAAEAAAYAAAAAAgAAAYAAAAABAAAGAAAAAAIAAAGAAAAA\n",
       "AQAAB4AAAAABAAADAAAAAAEAAAAAAAAAAQAAAYAAAAABAAADAAAAAAEAAAeAAAAAAQAAAwAAAAAB\n",
       "AAAAAAAAAAEAAAGAAAAAAQAAAwAAAAABAAAGAAAAAAIAAAGAAAAAAQAABIAAAAABAAABgAAAAAEA\n",
       "AASAAAAAAQAAAYAAAAABAAAHgAAAAAEAAAMAAAAAAQAAAAAAAAABAAABgAAAAAEAAAeAAAAAAQAA\n",
       "AwAAAAABAAAAAAAAAAEAAAGAAAAAAQAAB4AAAAABAAADAAAAAAEAAAAAAAAAAQAAAYAAAAABAAAE\n",
       "gAAAAAEAAAGAAAAAAQAAB4AAAAABAAADAAAAAAEAAAAAAAAAAQAAAYAAAAABAAAHgAAAAAEAAAMA\n",
       "AAAAAQAAAAAAAAABAAABgAAAAAEAAASAAAAAAQAAAYAAAAABAAAHgAAAAAEAAAMAAAAAAQAAAAAA\n",
       "AAABAAABgAAAAAEAAAeAAAAAAQAAAwAAAAABAAAAAAAAAAEAAAGAAAAAAQAABIAAAAABAAABgAAA\n",
       "AAEAAASAAAAAAQAAAYAAAAABAAAHgAAAAAEAAAMAAAAAAQAAAAAAAAABAAABgAAAAAEAAAeAAAAA\n",
       "AQAAAwAAAAABAAAAAAAAAAEAAAGAAAAAAQAAAwAAAAABAAAEgAAAAAEAAAGAAAAAAQAABIAAAAAB\n",
       "AAABgAAAAAEAAASAAAAAAQAAAYAAAAABAAAHgAAAAAEAAAMAAAAAAQAAAAAAAAABAAABgAAAAAEA\n",
       "AAMAAAAAAQAAB4AAAAABAAADAAAAAAEAAAAAAAAAAQAAAYAAAAABAAAHgAAAAAEAAAMAAAAAAQAA\n",
       "AAAAAAABAAABgAAAAAEAAAeAAAAAAQAAAwAAAAABAAAAAAAAAAEAAAGAAAAAAQAAB4AAAAABAAAD\n",
       "AAAAAAEAAAAAAAAAAQAAAYAAAAABAAAHgAAAAAEAAAMAAAAAAQAAAAAAAAABAAABgAAAAAEAAAMA\n",
       "AAAAAQAABIAAAAABAAABgAAAAAEAAAeAAAAAAQAAAwAAAAABAAAAAAAAAAEAAAGAAAAAAQAAB4AA\n",
       "AAABAAADAAAAAAEAAAAAAAAAAQAAAYAAAAABAAADAAAAAAEAAAeAAAAAAQAAAwAAAAABAAAAAAAA\n",
       "AAEAAAGAAAAAAQAABIAAAAABAAABgAAAAAEAAASAAAAAAQAAAYAAAAABAAAEgAAAAAEAAAGAAAAA\n",
       "AQAAB4AAAAABAAADAAAAAAEAAAAAAAAAAQAAAYAAAAABAAAGAAAAAAIAAAGAAAAAAQAABgAAAAAC\n",
       "AAABgAAAAAEAAASAAAAAAQAAAYAAAAABAAADAAAAAAEAAAeAAAAAAQAAAwAAAAABAAAAAAAAAAEA\n",
       "AAGAAAAAAQAABgAAAAACAAABgAAAAAEAAASAAAAAAQAAAYAAAAABAAAEgAAAAAEAAAGAAAAAAQAA\n",
       "B4AAAAABAAADAAAAAAEAAAAAAAAAAQAAAYAAAAABAAAHgAAAAAEAAAMAAAAAAQAAAAAAAAABAAAB\n",
       "gAAAAAEAAAeAAAAAAQAAAwAAAAABAAAAAAAAAAEAAAGAAAAAAQAAB4AAAAABAAADAAAAAAEAAAAA\n",
       "AAAAAQAAAYAAAAAEAAADAAAAAAEAAAeAAAAAAQAAAwAAAAABAAAAAAAAAAEAAAGAAAAAAQAABgAA\n",
       "AAACAAABgAAAAAEAAAYAAAAAAgAAAYAAAAABAAAEgAAAAAEAAAGAAAAAAQAABIAAAAABAAABgAAA\n",
       "AAEAAASAAAAAAQAAAYAAAAABAAAHgAAAAAEAAAMAAAAAAQAAAAAAAAABAAABgAAAAAIAAAMAAAAA\n",
       "AQAABgAAAAACAAABgAAAAAEAAAMAAAAAAQAAB4AAAAABAAADAAAAAAEAAAAAAAAAAQAAAYAAAAAB\n",
       "AAAHgAAAAAEAAAMAAAAAAQAAAAAAAAABAAABgAAAAAEAAAeAAAAAAQAAAwAAAAABAAAAAAAAAAEA\n",
       "AAGAAAAAAQAABIAAAAABAAABgAAAAAEAAAMAAAAAAQAABIAAAAABAAABgAAAAAEAAASAAAAAAQAA\n",
       "AYAAAAABAAAEgAAAAAEAAAGAAAAAAQAAB4AAAAABAAADAAAAAAEAAAAAAAAAAQAAAYAAAAABAAAG\n",
       "AAAAAAIAAAGAAAAAAQAAB4AAAAABAAADAAAAAAEAAAAAAAAAAQAAAYAAAAABAAAHgAAAAAEAAAMA\n",
       "AAAAAQAAAAAAAAABAAABgAAAAAEAAAeAAAAAAQAAAwAAAAABAAAAAAAAAAEAAAGAAAAAAQAABIAA\n",
       "AAABAAABgAAAAAEAAASAAAAAAQAAAYAAAAABAAADAAAAAAEAAAYAAAAAAgAAAYAAAAABAAAEgAAA\n",
       "AAEAAAGAAAAAAQAABgAAAAACAAABgAAAAAEAAASAAAAAAQAAAYAAAAABAAAGAAAAAAIAAAGAAAAA\n",
       "AwAAAwAAAAABAAAHgAAAAAEAAAMAAAAAAQAAAAAAAAABAAABgAAAAAEAAASAAAAAAQAAAYAAAAAB\n",
       "AAADAAAAAAEAAAeAAAAAAQAAAwAAAAABAAAAAAAAAAEAAAGAAAAAAQAAB4AAAAABAAADAAAAAAEA\n",
       "AAAAAAAAAQAAAYAAAAABAAAHgAAAAAEAAAMAAAAAAQAAAAAAAAABAAABgAAAAAEAAASAAAAAAQAA\n",
       "AYAAAAABAAAEgAAAAAEAAAGAAAAAAQAAB4AAAAABAAADAAAAAAEAAAAAAAAAAQAAAYAAAAABAAAH\n",
       "gAAAAAEAAAMAAAAAAQAAAAAAAAABAAABgAAAAAEAAAeAAAAAAQAAAwAAAAABAAAAAAAAAAEAAAGA\n",
       "AAAAAQAAB4AAAAABAAADAAAAAAEAAAAAAAAAAQAAAYAAAAABAAAHgAAAAAEAAAMAAAAAAQAAAAAA\n",
       "AAABAAABgAAAAAEAAAeAAAAAAQAAAwAAAAABAAAAAAAAAAEAAAGAAAAAAQAAB4AAAAABAAADAAAA\n",
       "AAEAAAAAAAAAAQAAAYAAAAABAAAEgAAAAAEAAAGAAAAAAQAABIAAAAABAAABgAAAAAEAAAeAAAAA\n",
       "AQAAAwAAAAABAAAAAAAAAAEAAAGAAAAAAQAAB4AAAAABAAADAAAAAAEAAAAAAAAAAQAAAYAAAAAB\n",
       "AAAHgAAAAAEAAAMAAAAAAQAAAAAAAAABAAABgAAAAAEAAASAAAAAAQAAAYAAAAABAAAEgAAAAAEA\n",
       "AAGAAAAAAQAABIAAAAABAAABgAAAAAEAAAeAAAAAAQAAAwAAAAABAAAAAAAAAAEAAAGAAAAAAQAA\n",
       "B4AAAAABAAADAAAAAAEAAAAAAAAAAQAAAYAAAAABAAAHgAAAAAEAAAMAAAAAAQAAAAAAAAABAAAB\n",
       "gAAAAAEAAAYAAAAAAgAAAYAAAAABAAAEgAAAAAEAAAGAAAAAAQAABIAAAAABAAABgAAAAAEAAASA\n",
       "AAAAAQAAAYAAAAABAAAHgAAAAAEAAAMAAAAAAQAAAAAAAAABAAABgAAAAAEAAAMAAAAAAQAAB4AA\n",
       "AAABAAADAAAAAAEAAAAAAAAAAQAAAYAAAAABAAAGAAAAAAIAAAGAAAAAAQAABIAAAAABAAABgAAA\n",
       "AAEAAAeAAAAAAQAAAwAAAAABAAAAAAAAAAEAAAGAAAAAAQAAB4AAAAABAAADAAAAAAEAAAAAAAAA\n",
       "AQAAAYAAAAABAAAGAAAAAAIAAAGAAAAAAQAABIAAAAABAAABgAAAAAEAAASAAAAAAQAAAYAAAAAB\n",
       "AAAEgAAAAAEAAAGAAAAAAQAAB4AAAAABAAADAAAAAAEAAAAAAAAAAQAAAYAAAAABAAAGAAAAAAIA\n",
       "AAGAAAAAAQAAB4AAAAABAAADAAAAAAEAAAAAAAAAAQAAAYAAAAABAAAHgAAAAAEAAAMAAAAAAQAA\n",
       "AAAAAAABAAABgAAAAAEAAAeAAAAAAQAAAwAAAAABAAAAAAAAAAEAAAGAAAAAAQAAB4AAAAABAAAD\n",
       "AAAAAAEAAAAAAAAAAQAAAYAAAAABAAAHgAAAAAEAAAMAAAAAAQAAAAAAAAABAAABgAAAAAEAAASA\n",
       "AAAAAQAAAYAAAAABAAAGAAAAAAIAAAGAAAAAAQAABIAAAAABAAABgAAAAAEAAAMAAAAAAQAAB4AA\n",
       "AAABAAADAAAAAAEAAAAAAAAAAQAAAYAAAAABAAADAAAAAAEAAAeAAAAAAQAAAwAAAAABAAAAAAAA\n",
       "AAEAAAGAAAAAAQAABgAAAAACAAABgAAAAAEAAAeAAAAAAQAAAwAAAAABAAAAAAAAAAEAAAGAAAAA\n",
       "AQAAAwAAAAABAAAHgAAAAAEAAAMAAAAAAQAAAAAAAAABAAABgAAAAAEAAAYAAAAAAgAAAYAAAAAB\n",
       "AAAEgAAAAAEAAAGAAAAAAQAABIAAAAABAAABgAAAAAEAAAeAAAAAAQAAAwAAAAABAAAAAAAAAAEA\n",
       "AAGAAAAAAQAAB4AAAAABAAADAAAAAAEAAAAAAAAAAQAAAYAAAAABAAAGAAAAAAIAAAGAAAAAAQAA\n",
       "B4AAAAABAAADAAAAAAEAAAAAAAAAAQAAAYAAAAABAAAEgAAAAAEAAAGAAAAAAQAAAwAAAAABAAAH\n",
       "gAAAAAEAAAMAAAAAAQAAAAAAAAABAAABgAAAAAEAAAMAAAAAAQAAB4AAAAABAAADAAAAAAEAAAAA\n",
       "AAAAAQAAAYAAAAABAAAGAAAAAAIAAAGAAAAAAQAABIAAAAABAAABgAAAAAEAAASAAAAAAQAAAYAA\n",
       "AAABAAAEgAAAAAEAAAGAAAAAAQAAAwAAAAABAAAHgAAAAAEAAAMAAAAAAQAAAAAAAAABAAABgAAA\n",
       "AAEAAAMAAAAAAQAABgAAAAACAAABgAAAAAEAAAMAAAAAAQAAB4AAAAABAAADAAAAAAEAAAAAAAAA\n",
       "AQAAAYAAAAABAAAHgAAAAAEAAAMAAAAAAQAAAAAAAAABAAABgAAAAAEAAAeAAAAAAQAAAwAAAAAB\n",
       "AAAAAAAAAAEAAAGAAAAAAQAABgAAAAACAAABgAAAAAEAAASAAAAAAQAAAYAAAAABAAAEgAAAAAEA\n",
       "AAGAAAAAAQAABIAAAAABAAABgAAAAAEAAAeAAAAAAQAAAwAAAAABAAAAAAAAAAEAAAGAAAAAAQAA\n",
       "B4AAAAABAAADAAAAAAEAAAAAAAAAAQAAAYAAAAABAAADAAAAAAEAAAeAAAAAAQAAAwAAAAABAAAA\n",
       "AAAAAAEAAAGAAAAAAQAABgAAAAACAAABgAAAAAEAAASAAAAAAQAAAYAAAAABAAAEgAAAAAEAAAGA\n",
       "AAAAAQAAB4AAAAABAAADAAAAAAEAAAAAAAAAAQAAAYAAAAABAAAHgAAAAAEAAAMAAAAAAQAAAAAA\n",
       "AAABAAABgAAAAAEAAAYAAAAAAgAAAYAAAAABAAADAAAAAAEAAAeAAAAAAQAAAwAAAAABAAAAAAAA\n",
       "AAEAAAGAAAAAAQAAB4AAAAABAAADAAAAAAEAAAAAAAAAAQAAAYAAAAABAAADAAAAAAEAAASAAAAA\n",
       "AQAAAYAAAAABAAAEgAAAAAEAAAGAAAAAAQAAB4AAAAABAAADAAAAAAEAAAAAAAAAAQAAAYAAAAAB\n",
       "AAADAAAAAAEAAASAAAAAAQAAAYAAAAABAAAEgAAAAAEAAAGAAAAAAQAABIAAAAABAAABgAAAAAEA\n",
       "AAYAAAAAAgAAAYAAAAABAAAHgAAAAAEAAAMAAAAAAQAAAAAAAAABAAABgAAAAAEAAASAAAAAAQAA\n",
       "AYAAAAABAAAHgAAAAAEAAAMAAAAAAQAAAAAAAAABAAABgAAAAAEAAAeAAAAAAQAAAwAAAAABAAAA\n",
       "AAAAAAEAAAGAAAAAAQAAAwAAAAABAAAEgAAAAAEAAAGAAAAAAQAABIAAAAABAAABgAAAAAEAAASA\n",
       "AAAAAQAAAYAAAAABAAAEgAAAAAEAAAGAAAAAAQAAB4AAAAABAAADAAAAAAEAAAAAAAAAAQAAAYAA\n",
       "AAABAAAGAAAAAAIAAAGAAAAAAQAABIAAAAABAAABgAAAAAEAAAYAAAAAAgAAAYAAAAABAAAGAAAA\n",
       "AAIAAAGAAAAAAQAAB4AAAAABAAADAAAAAAEAAAAAAAAAAQAAAYAAAAABAAADAAAAAAEAAAYAAAAA\n",
       "AgAAAYAAAAABAAAGAAAAAAIAAAGAAAAAAQAAB4AAAAABAAADAAAAAAEAAAAAAAAAAQAAAYAAAAAB\n",
       "AAAHgAAAAAEAAAMAAAAAAQAAAAAAAAABAAABgAAAAAEAAAeAAAAAAQAAAwAAAAABAAAAAAAAAAEA\n",
       "AAGAAAAAAQAAB4AAAAABAAADAAAAAAEAAAAAAAAAAQAAAYAAAAABAAAHgAAAAAEAAAMAAAAAAQAA\n",
       "AAAAAAABAAABgAAAAAEAAAMAAAAAAQAABIAAAAABAAABgAAAAAEAAAeAAAAAAQAAAwAAAAABAAAA\n",
       "AAAAAAEAAAGAAAAAAQAAAwAAAAABAAAGAAAAAAIAAAGAAAAAAQAABgAAAAACAAABgAAAAAIAAAMA\n",
       "AAAAAQAAB4AAAAABAAADAAAAAAEAAAAAAAAAAQAAAYAAAAABAAAEgAAAAAEAAAGAAAAAAQAABIAA\n",
       "AAABAAABgAAAAAEAAASAAAAAAQAAAYAAAAABAAAHgAAAAAEAAAMAAAAAAQAAAAAAAAABAAABgAAA\n",
       "AAIAAAMAAAAAAQAABIAAAAABAAABgAAAAAEAAAeAAAAAAQAAAwAAAAABAAAAAAAAAAEAAAGAAAAA\n",
       "AQAABgAAAAACAAABgAAAAAEAAASAAAAAAQAAAYAAAAABAAAHgAAAAAEAAAMAAAAAAQAAAAAAAAAB\n",
       "AAABgAAAAAEAAASAAAAAAQAAAYAAAAABAAAHgAAAAAEAAAMAAAAAAQAAAAAAAAABAAABgAAAAAEA\n",
       "AAeAAAAAAQAAAwAAAAABAAAAAAAAAAEAAAGAAAAAAQAAB4AAAAABAAADAAAAAAEAAAAAAAAAAQAA\n",
       "AYAAAAABAAAEgAAAAAEAAAGAAAAAAQAABgAAAAACAAABgAAAAAEAAASAAAAAAQAAAYAAAAABAAAE\n",
       "gAAAAAEAAAGAAAAAAQAABIAAAAABAAABgAAAAAEAAAeAAAAAAQAAAwAAAAABAAAAAAAAAAEAAAGA\n",
       "AAAAAQAAB4AAAAABAAADAAAAAAEAAAAAAAAAAQAAAYAAAAABAAAGAAAAAAIAAAGAAAAAAQAABgAA\n",
       "AAACAAABgAAAAAEAAAMAAAAAAQAABIAAAAABAAABgAAAAAEAAASAAAAAAQAAAYAAAAABAAAHgAAA\n",
       "AAEAAAMAAAAAAQAAAAAAAAABAAABgAAAAAEAAAYAAAAAAgAAAYAAAAADAAADAAAAAAEAAAeAAAAA\n",
       "AQAAAwAAAAABAAAAAAAAAAEAAAGAAAAAAQAAAwAAAAABAAAEgAAAAAEAAAGAAAAAAQAABIAAAAAB\n",
       "AAABgAAAAAEAAASAAAAAAQAAAYAAAAABAAAHgAAAAAEAAAMAAAAAAQAAAAAAAAABAAABgAAAAAIA\n",
       "AAMAAAAAAQAAB4AAAAABAAADAAAAAAEAAAAAAAAAAQAAAYAAAAABAAAGAAAAAAIAAAGAAAAAAQAA\n",
       "B4AAAAABAAADAAAAAAEAAAAAAAAAAQAAAYAAAAABAAAHgAAAAAEAAAMAAAAAAQAAAAAAAAABAAAB\n",
       "gAAAAAEAAAeAAAAAAQAAAwAAAAABAAAAAAAAAAEAAAGAAAAAAQAABIAAAAABAAABgAAAAAEAAAeA\n",
       "AAAAAQAAAwAAAAABAAAAAAAAAAEAAAGAAAAAAQAAB4AAAAABAAADAAAAAAEAAAAAAAAAAQAAAYAA\n",
       "AAABAAAGAAAAAAIAAAGAAAAAAQAAAwAAAAABAAAHgAAAAAEAAAMAAAAAAQAAAAAAAAABAAABgAAA\n",
       "AAEAAASAAAAAAQAAAYAAAAABAAADAAAAAAEAAAeAAAAAAQAAAwAAAAABAAAAAAAAAAEAAAGAAAAA\n",
       "AQAABIAAAAABAAABgAAAAAEAAAYAAAAAAgAAAYAAAAABAAAGAAAAAAIAAAGAAAAAAQAABIAAAAAB\n",
       "AAABgAAAAAEAAAYAAAAAAgAAAYAAAAABAAAEgAAAAAEAAAGAAAAAAQAAB4AAAAABAAADAAAAAAEA\n",
       "AAAAAAAAAQAAAYAAAAABAAAHgAAAAAEAAAMAAAAAAQAAAAAAAAABAAABgAAAAAEAAASAAAAAAQAA\n",
       "AYAAAAABAAAEgAAAAAEAAAGAAAAAAQAABIAAAAABAAABgAAAAAEAAASAAAAAAQAAAYAAAAABAAAH\n",
       "gAAAAAEAAAMAAAAAAQAAAAAAAAABAAABgAAAAAEAAASAAAAAAQAAAYAAAAABAAAEgAAAAAEAAAGA\n",
       "AAAAAQAABIAAAAABAAABgAAAAAEAAAYAAAAAAgAAAYAAAAABAAAGAAAAAAIAAAGAAAAAAQAABIAA\n",
       "AAABAAABgAAAAAEAAAYAAAAAAgAAAYAAAAABAAAHgAAAAAEAAAMAAAAAAQAAAAAAAAABAAABgAAA\n",
       "AAEAAAeAAAAAAQAAAwAAAAABAAAAAAAAAAEAAAGAAAAAAQAAAwAAAAABAAAHgAAAAAEAAAMAAAAA\n",
       "AQAAAAAAAAABAAABgAAAAAEAAAYAAAAAAgAAAYAAAAABAAAEgAAAAAEAAAGAAAAAAQAAB4AAAAAB\n",
       "AAADAAAAAAEAAAAAAAAAAQAAAYAAAAABAAAEgAAAAAEAAAGAAAAAHHN0c2MAAAAAAAAAAQAAAAEA\n",
       "AAN4AAAAAQAADfRzdHN6AAAAAAAAAAAAAAN4AAAFEAAAAJwAAAAkAAAAcAAAAHIAAABWAAAAPAAA\n",
       "ADgAAAAoAAAAawAAAD8AAAByAAAAUAAAADYAAABHAAAAaAAAAFYAAABJAAAAaAAAAEkAAAA8AAAA\n",
       "cQAAAEgAAAAxAAAATgAAAE8AAABuAAAALQAAADcAAAAiAAAAKwAAAEcAAAAoAAAAIgAAAHoAAAB5\n",
       "AAAAWwAAADgAAAA7AAAAQAAAADEAAAAvAAAARAAAAGUAAAA2AAAATQAAAHEAAABqAAAANQAAAHAA\n",
       "AAByAAAAagAAAFsAAABpAAAASQAAADYAAABiAAAASwAAADwAAAA9AAAAgwAAAGMAAAB5AAAAdwAA\n",
       "AEwAAABGAAAATAAAAGMAAABcAAAAWQAAAGgAAAA+AAAAOwAAAD0AAACVAAAARAAAACQAAABLAAAA\n",
       "WQAAADkAAAAlAAAAUQAAAE0AAABtAAAAQgAAAFkAAAA5AAAAZgAAADQAAAA9AAAARQAAACQAAAAx\n",
       "AAAAQgAAAFwAAABtAAAAPgAAADMAAABgAAAAYQAAADcAAAA2AAAAUQAAADkAAAAyAAAAOwAAAGAA\n",
       "AAAoAAAAJgAAACUAAABVAAAAIQAAABcAAAAdAAAATAAAAGEAAAA3AAAAZAAAAFoAAABSAAAANQAA\n",
       "AHAAAABUAAAAWwAAAEMAAAAfAAAAVAAAADEAAAA8AAAARQAAAGAAAAApAAAATQAAAEUAAABeAAAA\n",
       "WQAAAEkAAABYAAAALQAAADwAAABgAAAAOgAAAF4AAACGAAAANwAAAE8AAAB+AAAAVwAAAD4AAAAn\n",
       "AAAAMAAAAB8AAAAhAAAATAAAAEUAAAAhAAAARQAAADEAAABNAAAAKwAAAGAAAABEAAAALgAAAC8A\n",
       "AAB7AAAAYwAAAD4AAAA8AAAAUQAAAEwAAABPAAAARQAAAEIAAABFAAAAOQAAAEUAAABdAAAARQAA\n",
       "AFMAAACQAAAAPwAAAEQAAAAjAAAALgAAAC8AAAAwAAAAMAAAAFQAAABKAAAAQAAAADYAAAA1AAAA\n",
       "QAAAADIAAABQAAAAVgAAAFoAAABpAAAANQAAAFcAAABQAAAAYQAAAF8AAABEAAAAMQAAAGEAAABv\n",
       "AAAAUAAAAEcAAABZAAAAtAAAAGcAAABCAAAAKAAAAC8AAAAvAAAANAAAAB0AAABIAAAAPgAAAF8A\n",
       "AABKAAAARAAAAFQAAAA3AAAAPQAAACoAAABEAAAAOwAAAC0AAAAyAAAAUwAAADQAAAA+AAAASQAA\n",
       "AEgAAAA0AAAASQAAADcAAABoAAAAMQAAAD4AAABZAAAATQAAADsAAAA+AAAAOgAAAC4AAAAzAAAA\n",
       "HgAAAs8AAABdAAAARwAAAEwAAABkAAAATwAAAEMAAAA5AAAAMAAAAFQAAABIAAAARgAAAFgAAAA5\n",
       "AAAAYAAAAFAAAABFAAAARAAAAG4AAAA2AAAAOQAAAEsAAABCAAAASQAAAIEAAABQAAAANAAAAEQA\n",
       "AAAsAAAANwAAACQAAAAfAAAAXAAAACIAAAA3AAAAGgAAADwAAAAwAAAAPAAAACgAAABkAAAAXQAA\n",
       "ADAAAAA0AAAAXAAAAD0AAABAAAAANwAAAFQAAABBAAAASgAAAD4AAABCAAAAPwAAADUAAABDAAAA\n",
       "fgAAAE0AAAA7AAAAdAAAAEgAAABIAAAAKQAAAC8AAABIAAAAPQAAAC0AAAAkAAAATAAAAEQAAABD\n",
       "AAAAKwAAAH4AAABGAAAAMAAAAFQAAACEAAAAWAAAADkAAAAcAAAARgAAAB0AAAAVAAAAPQAAAGIA\n",
       "AABAAAAAXgAAAEoAAAA7AAAAKAAAAHMAAABAAAAALQAAAC4AAAA8AAAAJQAAACYAAAATAAAAFwAA\n",
       "ABQAAAASAAAAEgAAAD8AAABeAAAAPQAAADkAAAAuAAAARAAAACoAAABKAAAANgAAADYAAAA8AAAA\n",
       "MQAAADUAAABaAAAAbwAAAGAAAAA7AAAANQAAAEsAAAA+AAAAQwAAAGkAAABUAAAAmwAAAFYAAABC\n",
       "AAAAKgAAAC0AAAAxAAAANQAAABkAAAByAAAAIwAAACcAAABpAAAASgAAAF0AAAA0AAAAOAAAACgA\n",
       "AABGAAAAPgAAAC4AAAA5AAAAUgAAADkAAAA+AAAATQAAAEsAAAA0AAAARwAAADcAAABmAAAALwAA\n",
       "ADwAAABrAAAASwAAADcAAAA6AAAAVgAAADYAAAAiAAAAJAAAAE8AAAAvAAAALwAAAEwAAABGAAAA\n",
       "NgAAAEMAAABAAAAANgAAAFUAAABKAAAAOwAAAGEAAABAAAAAPQAAADsAAABHAAAAbQAAAG8AAABi\n",
       "AAAAQwAAAEwAAABNAAAAPQAAAKsAAABVAAAAOgAAAF8AAABJAAAAOgAAACgAAAArAAAAHAAAAD4A\n",
       "AAAkAAAAHgAAAEMAAAA3AAAAPQAAACwAAABpAAAAYQAAAC8AAAAzAAAAUwAAAD8AAABBAAAAOgAA\n",
       "AFUAAABYAAAAQgAAAHYAAABKAAAAXwAAADoAAABMAAAAOQAAAEQAAABUAAAAPwAAAFMAAAAqAAAA\n",
       "VQAAAEsAAAA+AAAAMQAAADMAAABCAAAATQAAAD8AAABZAAAAUwAAAEEAAAAxAAAALwAAAFEAAAA9\n",
       "AAAAYAAAAEQAAABCAAAAMwAAAEUAAABpAAAARwAAADEAAALNAAAAaAAAAEkAAAA8AAAALwAAAIQA\n",
       "AABFAAAAOwAAACEAAABLAAAAJQAAACsAAAA3AAAAXQAAABkAAAAYAAAAWgAAAEUAAAA+AAAAMAAA\n",
       "ADsAAAApAAAAbgAAAEQAAABOAAAANwAAAGwAAABzAAAAQQAAADwAAABFAAAAUgAAAEkAAABRAAAA\n",
       "LwAAADsAAABKAAAAPwAAAGAAAABTAAAAYgAAAEIAAABfAAAAOQAAADsAAAA2AAAAcQAAAGAAAAA+\n",
       "AAAAVAAAAEoAAABeAAAAQwAAAHcAAACHAAAATAAAACsAAABbAAAATgAAAD4AAABJAAAAIwAAADYA\n",
       "AABAAAAALAAAADsAAAAoAAAAYAAAAFsAAAAuAAAAQQAAAFoAAABxAAAARQAAAGoAAABdAAAASgAA\n",
       "AC8AAAA+AAAAMwAAAEQAAABEAAAAUQAAADsAAAA1AAAATAAAACsAAAAcAAAAJQAAABsAAAAeAAAA\n",
       "VwAAAB0AAAARAAAAVgAAAFcAAABlAAAAUwAAAGEAAABWAAAANAAAAC8AAABnAAAAOAAAAEQAAABm\n",
       "AAAARQAAAEYAAABwAAAAPAAAAFUAAABBAAAALgAAAFgAAABJAAAAOgAAAG0AAAA0AAAAOAAAAE4A\n",
       "AABSAAAASAAAAFUAAABdAAAAWQAAAEoAAABiAAAARQAAAEgAAABnAAAAYQAAAFwAAAA3AAAAVAAA\n",
       "AFQAAAA5AAAANgAAAEIAAAAvAAAANgAAADMAAAAxAAAANwAAADgAAAAwAAAAMgAAAFYAAABNAAAA\n",
       "PAAAAEUAAABpAAAATwAAADwAAAA9AAAARQAAAEYAAAAyAAAAXgAAAEgAAABpAAAARwAAAF8AAAB0\n",
       "AAAAQQAAAFMAAAAsAAAATwAAADIAAAAjAAAALQAAAD8AAAA3AAAATgAAAFMAAABSAAAAMAAAAGQA\n",
       "AABFAAAALQAAAD8AAABwAAAARwAAACYAAAAlAAAAQAAAAEUAAAAZAAAAFwAAAE4AAABkAAAAQgAA\n",
       "AGQAAABQAAAASwAAAGUAAAA+AAAAOgAAAEcAAAA/AAAARgAAADcAAAAzAAAASgAAAGwAAABUAAAA\n",
       "NgAAAGAAAAA8AAAAWQAAADcAAAA6AAAAcwAAAF4AAABLAAAAUwAAAGwAAABEAAAAVQAAAGoAAABb\n",
       "AAAAYgAAADwAAABeAAAAXgAAAFYAAABbAAAAcAAAAGgAAABMAAAATgAAAFoAAABHAAAALQAAACEA\n",
       "AAAiAAAAGwAAAGMAAABSAAAANQAAAFQAAABKAAAAVwAAAEQAAAAuAAAAPwAAAFYAAABTAAAAJQAA\n",
       "AFIAAAAlAAACrgAAAFwAAAAsAAAAEgAAADYAAAA5AAAAPAAAACsAAABAAAAALQAAAE8AAABNAAAA\n",
       "VgAAAD8AAABXAAAAOAAAAGcAAABoAAAARQAAAGcAAAA/AAAAOwAAAF0AAABZAAAAPwAAAJYAAAB5\n",
       "AAAAOwAAADsAAABLAAAAOgAAACUAAAAxAAAAeQAAADwAAABGAAAATQAAAFAAAABPAAAAaAAAAEcA\n",
       "AAA7AAAANwAAAEEAAABMAAAAMwAAADwAAAB1AAAARwAAAEUAAABYAAAAZAAAAFQAAAA8AAAAYAAA\n",
       "AFEAAABLAAAASgAAAIsAAABVAAAAYwAAAEYAAABRAAAALwAAADUAAAAwAAAATwAAAFcAAAAzAAAA\n",
       "cwAAAG0AAABjAAAAXwAAAGcAAAA7AAAAPwAAADoAAABrAAAANQAAADEAAAAaAAAARQAAACQAAAAW\n",
       "AAAANgAAAGAAAAAsAAAASgAAAD4AAAA4AAAAMQAAADgAAAArAAAAWQAAACoAAAAoAAAAMQAAAFEA\n",
       "AAA7AAAARAAAAD8AAAA2AAAAMAAAAGEAAAA4AAAAOgAAAF8AAAA3AAAANgAAAFoAAABgAAAARAAA\n",
       "AFEAAABaAAAASgAAAGEAAAAyAAAAOQAAAHMAAABIAAAAMwAAAE0AAABGAAAAMQAAAB8AAAAYAAAA\n",
       "GAAAAE0AAAAgAAAASwAAAGsAAAA/AAAARwAAAGQAAAA3AAAAMwAAAEoAAABbAAAAFHN0Y28AAAAA\n",
       "AAAAAQAAACwAAABidWR0YQAAAFptZXRhAAAAAAAAACFoZGxyAAAAAAAAAABtZGlyYXBwbAAAAAAA\n",
       "AAAAAAAAAC1pbHN0AAAAJal0b28AAAAdZGF0YQAAAAEAAAAATGF2ZjU3LjgzLjEwMA==\n",
       "\">\n",
       "  Your browser does not support the video tag.\n",
       "</video>"
      ],
      "text/plain": [
       "<IPython.core.display.HTML object>"
      ]
     },
     "metadata": {},
     "output_type": "display_data"
    },
    {
     "data": {
      "image/png": "[encoded data removed]",
      "text/plain": [
       "<Figure size 432x288 with 1 Axes>"
      ]
     },
     "metadata": {
      "needs_background": "light"
     },
     "output_type": "display_data"
    }
   ],
   "source": [
    "# play game after training!\n",
    "pong_utils.play(env, policy, time=2000) "
   ]
  },
  {
   "cell_type": "code",
   "execution_count": 21,
   "metadata": {},
   "outputs": [
    {
     "data": {
      "text/plain": [
       "[<matplotlib.lines.Line2D at 0x7fbdb8115e50>]"
      ]
     },
     "execution_count": 21,
     "metadata": {},
     "output_type": "execute_result"
    },
    {
     "data": {
      "image/png": "[encoded data removed]",
      "text/plain": [
       "<Figure size 432x288 with 1 Axes>"
      ]
     },
     "metadata": {
      "needs_background": "light"
     },
     "output_type": "display_data"
    }
   ],
   "source": [
    "plt.plot(mean_rewards)"
   ]
  },
  {
   "cell_type": "code",
   "execution_count": 23,
   "metadata": {},
   "outputs": [],
   "source": [
    "# save your policy!\n",
    "torch.save(policy, 'pong-REINFORCE.policy')\n",
    "\n",
    "# load your policy if needed\n",
    "# policy = torch.load('pong-REINFORCE.policy')\n",
    "\n",
    "# load your policy if needed\n",
    "# policy = torch.load('pong-REINFORCE_solution.policy')\n",
    "\n",
    "# try and test out the solution!\n",
    "# policy = torch.load('pong-PPO_solution.policy')"
   ]
  },
  {
   "cell_type": "markdown",
   "metadata": {},
   "source": [
    "## Watch a Smart Agent!"
   ]
  },
  {
   "cell_type": "code",
   "execution_count": 49,
   "metadata": {},
   "outputs": [
    {
     "data": {
      "image/png": "[encoded data removed]",
      "text/plain": [
       "<Figure size 360x360 with 1 Axes>"
      ]
     },
     "metadata": {
      "needs_background": "light"
     },
     "output_type": "display_data"
    }
   ],
   "source": [
    "time=2000\n",
    "nrand=5\n",
    "\n",
    "plt.figure(figsize=(5,5))\n",
    "state = env.reset()\n",
    "env.step(1)\n",
    "img = plt.imshow(env.render(mode='rgb_array')) # only call this once\n",
    "\n",
    "# perform nrand random steps in the beginning\n",
    "for _ in range(nrand):\n",
    "    img.set_data(env.render(mode='rgb_array')) # just update the data\n",
    "    display.display(plt.gcf())\n",
    "    display.clear_output(wait=True)\n",
    "    \n",
    "    env.render()\n",
    "    frame1, reward1, is_done, _ = env.step(np.random.choice(\n",
    "        [pong_utils.RIGHT,pong_utils.LEFT]))\n",
    "    frame2, reward2, is_done, _ = env.step(0)\n",
    "\n",
    "for _ in range(time):\n",
    "    img.set_data(env.render(mode='rgb_array')) # just update the data\n",
    "    display.display(plt.gcf())\n",
    "    display.clear_output(wait=True)\n",
    "    \n",
    "    frame_input = pong_utils.preprocess_batch([frame1, frame2])\n",
    "    prob = policy(frame_input)\n",
    "\n",
    "    env.render()\n",
    "    # RIGHT = 4, LEFT = 5\n",
    "    action = pong_utils.RIGHT if rand.random() < prob else pong_utils.LEFT\n",
    "    frame1, _, is_done, _ = env.step(action)\n",
    "    frame2, _, is_done, _ = env.step(0)\n",
    "\n",
    "    if is_done:\n",
    "        break\n",
    "\n",
    "env.close()"
   ]
  },
  {
   "cell_type": "code",
   "execution_count": 51,
   "metadata": {},
   "outputs": [],
   "source": [
    "time=2000\n",
    "nrand=5\n",
    "\n",
    "env = wrappers.Monitor(env, \"./gym-results-REINFORCE\", force=True)\n",
    "state = env.reset()\n",
    "env.step(1)\n",
    "# perform nrand random steps in the beginning\n",
    "for _ in range(nrand):\n",
    "    env.render()\n",
    "    frame1, reward1, is_done, _ = env.step(np.random.choice(\n",
    "        [pong_utils.RIGHT,pong_utils.LEFT]))\n",
    "    frame2, reward2, is_done, _ = env.step(0)\n",
    "\n",
    "for _ in range(time):\n",
    "    frame_input = pong_utils.preprocess_batch([frame1, frame2])\n",
    "    prob = policy(frame_input)\n",
    "\n",
    "    env.render()\n",
    "    # RIGHT = 4, LEFT = 5\n",
    "    action = pong_utils.RIGHT if rand.random() < prob else pong_utils.LEFT\n",
    "    frame1, _, is_done, _ = env.step(action)\n",
    "    frame2, _, is_done, _ = env.step(0)\n",
    "\n",
    "    if is_done:\n",
    "        break\n",
    "\n",
    "env.close()"
   ]
  },
  {
   "cell_type": "markdown",
   "metadata": {},
   "source": [
    "Convert mp4 file to GIF."
   ]
  },
  {
   "cell_type": "code",
   "execution_count": 58,
   "metadata": {},
   "outputs": [
    {
     "name": "stdout",
     "output_type": "stream",
     "text": [
      "total 128\n",
      "-rw-r--r-- 1 eka eka    162 Oct  9 04:36 openaigym.episode_batch.1.15323.stats.json\n",
      "-rw-r--r-- 1 eka eka    234 Oct  9 04:36 openaigym.manifest.1.15323.manifest.json\n",
      "-rw-r--r-- 1 eka eka   2121 Oct  9 04:36 openaigym.video.1.15323.video000000.meta.json\n",
      "-rw-r--r-- 1 eka eka 115775 Oct  9 04:36 openaigym.video.1.15323.video000000.mp4\n"
     ]
    }
   ],
   "source": [
    "%%bash\n",
    "ls -l ./gym-results-REINFORCE"
   ]
  },
  {
   "cell_type": "code",
   "execution_count": 60,
   "metadata": {},
   "outputs": [
    {
     "name": "stderr",
     "output_type": "stream",
     "text": [
      "ffmpeg version 3.4.6-0ubuntu0.18.04.1 Copyright (c) 2000-2019 the FFmpeg developers\n",
      "  built with gcc 7 (Ubuntu 7.3.0-16ubuntu3)\n",
      "  configuration: --prefix=/usr --extra-version=0ubuntu0.18.04.1 --toolchain=hardened --libdir=/usr/lib/x86_64-linux-gnu --incdir=/usr/include/x86_64-linux-gnu --enable-gpl --disable-stripping --enable-avresample --enable-avisynth --enable-gnutls --enable-ladspa --enable-libass --enable-libbluray --enable-libbs2b --enable-libcaca --enable-libcdio --enable-libflite --enable-libfontconfig --enable-libfreetype --enable-libfribidi --enable-libgme --enable-libgsm --enable-libmp3lame --enable-libmysofa --enable-libopenjpeg --enable-libopenmpt --enable-libopus --enable-libpulse --enable-librubberband --enable-librsvg --enable-libshine --enable-libsnappy --enable-libsoxr --enable-libspeex --enable-libssh --enable-libtheora --enable-libtwolame --enable-libvorbis --enable-libvpx --enable-libwavpack --enable-libwebp --enable-libx265 --enable-libxml2 --enable-libxvid --enable-libzmq --enable-libzvbi --enable-omx --enable-openal --enable-opengl --enable-sdl2 --enable-libdc1394 --enable-libdrm --enable-libiec61883 --enable-chromaprint --enable-frei0r --enable-libopencv --enable-libx264 --enable-shared\n",
      "  libavutil      55. 78.100 / 55. 78.100\n",
      "  libavcodec     57.107.100 / 57.107.100\n",
      "  libavformat    57. 83.100 / 57. 83.100\n",
      "  libavdevice    57. 10.100 / 57. 10.100\n",
      "  libavfilter     6.107.100 /  6.107.100\n",
      "  libavresample   3.  7.  0 /  3.  7.  0\n",
      "  libswscale      4.  8.100 /  4.  8.100\n",
      "  libswresample   2.  9.100 /  2.  9.100\n",
      "  libpostproc    54.  7.100 / 54.  7.100\n",
      "Input #0, mov,mp4,m4a,3gp,3g2,mj2, from './gym-results-REINFORCE/openaigym.video.1.15323.video000000.mp4':\n",
      "  Metadata:\n",
      "    major_brand     : isom\n",
      "    minor_version   : 512\n",
      "    compatible_brands: isomiso2avc1mp41\n",
      "    encoder         : Lavf57.83.100\n",
      "  Duration: 00:01:01.87, start: 0.000000, bitrate: 14 kb/s\n",
      "    Stream #0:0(und): Video: h264 (High) (avc1 / 0x31637661), yuv420p, 160x210, 12 kb/s, 30 fps, 30 tbr, 15360 tbn, 60 tbc (default)\n",
      "    Metadata:\n",
      "      handler_name    : VideoHandler\n",
      "Stream mapping:\n",
      "  Stream #0:0 -> #0:0 (h264 (native) -> gif (native))\n",
      "Press [q] to stop, [?] for help\n",
      "[swscaler @ 0x56052a09a240] No accelerated colorspace conversion found from yuv420p to bgr8.\n",
      "Output #0, gif, to './gifs-REINFORCE/001.gif':\n",
      "  Metadata:\n",
      "    major_brand     : isom\n",
      "    minor_version   : 512\n",
      "    compatible_brands: isomiso2avc1mp41\n",
      "    encoder         : Lavf57.83.100\n",
      "    Stream #0:0(und): Video: gif, bgr8, 160x210, q=2-31, 200 kb/s, 30 fps, 100 tbn, 30 tbc (default)\n",
      "    Metadata:\n",
      "      handler_name    : VideoHandler\n",
      "      encoder         : Lavc57.107.100 gif\n",
      "frame= 1856 fps=0.0 q=-0.0 Lsize=     695kB time=00:01:01.84 bitrate=  92.0kbits/s speed= 223x    \n",
      "video:680kB audio:0kB subtitle:0kB other streams:0kB global headers:0kB muxing overhead: 2.248985%\n"
     ]
    }
   ],
   "source": [
    "%%bash\n",
    "ffmpeg -i ./gym-results-REINFORCE/openaigym.video.1.15323.video000000.mp4 ./gifs-REINFORCE/001.gif"
   ]
  },
  {
   "cell_type": "markdown",
   "metadata": {},
   "source": [
    "## Hardware Specifications and Software Versions"
   ]
  },
  {
   "cell_type": "code",
   "execution_count": 54,
   "metadata": {},
   "outputs": [
    {
     "name": "stdout",
     "output_type": "stream",
     "text": [
      "NAME=\"Ubuntu\"\n",
      "VERSION=\"18.04.3 LTS (Bionic Beaver)\"\n",
      "ID=ubuntu\n",
      "ID_LIKE=debian\n",
      "PRETTY_NAME=\"Ubuntu 18.04.3 LTS\"\n",
      "VERSION_ID=\"18.04\"\n",
      "HOME_URL=\"https://www.ubuntu.com/\"\n",
      "SUPPORT_URL=\"https://help.ubuntu.com/\"\n",
      "BUG_REPORT_URL=\"https://bugs.launchpad.net/ubuntu/\"\n",
      "PRIVACY_POLICY_URL=\"https://www.ubuntu.com/legal/terms-and-policies/privacy-policy\"\n",
      "VERSION_CODENAME=bionic\n",
      "UBUNTU_CODENAME=bionic\n"
     ]
    }
   ],
   "source": [
    "%%bash\n",
    "cat /etc/os-release"
   ]
  },
  {
   "cell_type": "code",
   "execution_count": 55,
   "metadata": {},
   "outputs": [
    {
     "name": "stdout",
     "output_type": "stream",
     "text": [
      "nvcc: NVIDIA (R) Cuda compiler driver\n",
      "Copyright (c) 2005-2018 NVIDIA Corporation\n",
      "Built on Sat_Aug_25_21:08:01_CDT_2018\n",
      "Cuda compilation tools, release 10.0, V10.0.130\n"
     ]
    }
   ],
   "source": [
    "%%bash\n",
    "nvcc --version"
   ]
  },
  {
   "cell_type": "code",
   "execution_count": 56,
   "metadata": {},
   "outputs": [
    {
     "name": "stdout",
     "output_type": "stream",
     "text": [
      "Wed Oct  9 04:40:53 2019       \n",
      "+-----------------------------------------------------------------------------+\n",
      "| NVIDIA-SMI 410.104      Driver Version: 410.104      CUDA Version: 10.0     |\n",
      "|-------------------------------+----------------------+----------------------+\n",
      "| GPU  Name        Persistence-M| Bus-Id        Disp.A | Volatile Uncorr. ECC |\n",
      "| Fan  Temp  Perf  Pwr:Usage/Cap|         Memory-Usage | GPU-Util  Compute M. |\n",
      "|===============================+======================+======================|\n",
      "|   0  GeForce GTX 1060    Off  | 00000000:01:00.0 Off |                  N/A |\n",
      "| N/A   55C    P5    16W /  N/A |   1823MiB /  6078MiB |      0%      Default |\n",
      "+-------------------------------+----------------------+----------------------+\n",
      "                                                                               \n",
      "+-----------------------------------------------------------------------------+\n",
      "| Processes:                                                       GPU Memory |\n",
      "|  GPU       PID   Type   Process name                             Usage      |\n",
      "|=============================================================================|\n",
      "|    0      3073      G   /usr/lib/xorg/Xorg                           206MiB |\n",
      "|    0      3371      G   /usr/bin/gnome-shell                         131MiB |\n",
      "|    0      4308      G   ...uest-channel-token=17735089549949372026   118MiB |\n",
      "|    0     15323    C+G   /home/eka/anaconda3/envs/drlnd/bin/python   1318MiB |\n",
      "|    0     25204      G   ...uest-channel-token=15892002652477638930    43MiB |\n",
      "+-----------------------------------------------------------------------------+\n"
     ]
    }
   ],
   "source": [
    "%%bash\n",
    "nvidia-smi"
   ]
  },
  {
   "cell_type": "code",
   "execution_count": 57,
   "metadata": {},
   "outputs": [
    {
     "name": "stdout",
     "output_type": "stream",
     "text": [
      "atari-py==0.2.6\n",
      "attrs==19.1.0\n",
      "backcall==0.1.0\n",
      "bleach==3.1.0\n",
      "box2d-py==2.3.8\n",
      "certifi==2019.6.16\n",
      "cffi==1.12.3\n",
      "cloudpickle==1.2.2\n",
      "cycler==0.10.0\n",
      "Cython==0.29.13\n",
      "decorator==4.4.0\n",
      "defusedxml==0.6.0\n",
      "entrypoints==0.3\n",
      "future==0.17.1\n",
      "glfw==1.8.3\n",
      "gym==0.14.0\n",
      "imageio==2.5.0\n",
      "ipykernel==5.1.2\n",
      "ipython==7.8.0\n",
      "ipython-genutils==0.2.0\n",
      "ipywidgets==7.5.1\n",
      "jedi==0.15.1\n",
      "Jinja2==2.10.1\n",
      "jsonschema==3.0.2\n",
      "jupyter==1.0.0\n",
      "jupyter-client==5.3.1\n",
      "jupyter-console==6.0.0\n",
      "jupyter-core==4.5.0\n",
      "kiwisolver==1.1.0\n",
      "lockfile==0.12.2\n",
      "MarkupSafe==1.1.1\n",
      "matplotlib==3.1.1\n",
      "mistune==0.8.4\n",
      "mkl-fft==1.0.14\n",
      "mkl-random==1.0.2\n",
      "mkl-service==2.3.0\n",
      "mujoco-py==2.0.2.5\n",
      "nbconvert==5.5.0\n",
      "nbformat==4.4.0\n",
      "notebook==6.0.1\n",
      "numpy==1.16.5\n",
      "olefile==0.46\n",
      "opencv-python==4.1.1.26\n",
      "pandocfilters==1.4.2\n",
      "parso==0.5.1\n",
      "pexpect==4.7.0\n",
      "pickleshare==0.7.5\n",
      "Pillow==6.1.0\n",
      "progressbar==2.5\n",
      "prometheus-client==0.7.1\n",
      "prompt-toolkit==2.0.9\n",
      "ptyprocess==0.6.0\n",
      "pycparser==2.19\n",
      "pyglet==1.3.2\n",
      "Pygments==2.4.2\n",
      "pyparsing==2.4.2\n",
      "pyrsistent==0.14.11\n",
      "python-dateutil==2.8.0\n",
      "pytz==2019.2\n",
      "PyYAML==5.1.2\n",
      "pyzmq==18.1.0\n",
      "qtconsole==4.5.5\n",
      "scipy==1.3.1\n",
      "Send2Trash==1.5.0\n",
      "six==1.12.0\n",
      "terminado==0.8.2\n",
      "testpath==0.4.2\n",
      "torch==1.2.0\n",
      "torchvision==0.4.0a0+6b959ee\n",
      "tornado==6.0.3\n",
      "traitlets==4.3.2\n",
      "typing==3.6.4\n",
      "wcwidth==0.1.7\n",
      "webencodings==0.5.1\n",
      "widgetsnbextension==3.5.1\n"
     ]
    }
   ],
   "source": [
    "%%bash\n",
    "pip freeze"
   ]
  }
 ],
 "metadata": {
  "kernelspec": {
   "display_name": "Python 3",
   "language": "python",
   "name": "python3"
  },
  "language_info": {
   "codemirror_mode": {
    "name": "ipython",
    "version": 3
   },
   "file_extension": ".py",
   "mimetype": "text/x-python",
   "name": "python",
   "nbconvert_exporter": "python",
   "pygments_lexer": "ipython3",
   "version": "3.7.4"
  }
 },
 "nbformat": 4,
 "nbformat_minor": 2
}
