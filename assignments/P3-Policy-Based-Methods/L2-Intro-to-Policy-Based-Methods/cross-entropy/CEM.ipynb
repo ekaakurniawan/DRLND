{
 "cells": [
  {
   "cell_type": "markdown",
   "metadata": {},
   "source": [
    "# Cross-Entropy Method\n",
    "\n",
    "---\n",
    "\n",
    "In this notebook, we will train the Cross-Entropy Method with OpenAI Gym's MountainCarContinuous environment."
   ]
  },
  {
   "cell_type": "markdown",
   "metadata": {},
   "source": [
    "### 1. Import the Necessary Packages"
   ]
  },
  {
   "cell_type": "code",
   "execution_count": 1,
   "metadata": {},
   "outputs": [
    {
     "name": "stdout",
     "output_type": "stream",
     "text": [
      "Python 3.7.4 (default, Aug 13 2019, 20:35:49) \n",
      "[GCC 7.3.0]\n"
     ]
    }
   ],
   "source": [
    "import sys\n",
    "print(\"Python %s\" % sys.version)\n",
    "import math\n",
    "from collections import deque"
   ]
  },
  {
   "cell_type": "code",
   "execution_count": 2,
   "metadata": {},
   "outputs": [
    {
     "name": "stdout",
     "output_type": "stream",
     "text": [
      "NumPy 1.16.5\n"
     ]
    }
   ],
   "source": [
    "import numpy as np\n",
    "print(\"NumPy %s\" % np.__version__)"
   ]
  },
  {
   "cell_type": "code",
   "execution_count": 23,
   "metadata": {},
   "outputs": [
    {
     "name": "stdout",
     "output_type": "stream",
     "text": [
      "OpenAI Gym 0.14.0\n"
     ]
    }
   ],
   "source": [
    "import gym\n",
    "print(\"OpenAI Gym %s\" % gym.__version__)\n",
    "from gym import wrappers"
   ]
  },
  {
   "cell_type": "code",
   "execution_count": 4,
   "metadata": {},
   "outputs": [
    {
     "name": "stdout",
     "output_type": "stream",
     "text": [
      "matplotlib 3.1.1\n"
     ]
    }
   ],
   "source": [
    "import matplotlib\n",
    "print(\"matplotlib %s\" % matplotlib.__version__)\n",
    "import matplotlib.pyplot as plt\n",
    "%matplotlib inline"
   ]
  },
  {
   "cell_type": "code",
   "execution_count": 5,
   "metadata": {},
   "outputs": [
    {
     "name": "stdout",
     "output_type": "stream",
     "text": [
      "PyTorch 1.2.0\n"
     ]
    }
   ],
   "source": [
    "import torch\n",
    "print(\"PyTorch %s\" % torch.__version__)\n",
    "import torch.nn as nn\n",
    "import torch.nn.functional as F\n",
    "from torch.autograd import Variable"
   ]
  },
  {
   "cell_type": "code",
   "execution_count": 19,
   "metadata": {},
   "outputs": [],
   "source": [
    "from IPython import display"
   ]
  },
  {
   "cell_type": "markdown",
   "metadata": {},
   "source": [
    "### 2. Instantiate the Environment and Agent"
   ]
  },
  {
   "cell_type": "code",
   "execution_count": 6,
   "metadata": {},
   "outputs": [
    {
     "data": {
      "text/plain": [
       "<TimeLimit<Continuous_MountainCarEnv<MountainCarContinuous-v0>>>"
      ]
     },
     "execution_count": 6,
     "metadata": {},
     "output_type": "execute_result"
    }
   ],
   "source": [
    "env = gym.make('MountainCarContinuous-v0')\n",
    "env.seed(101)\n",
    "np.random.seed(101)\n",
    "env"
   ]
  },
  {
   "cell_type": "code",
   "execution_count": 7,
   "metadata": {},
   "outputs": [
    {
     "name": "stdout",
     "output_type": "stream",
     "text": [
      "observation space: Box(2,)\n",
      "action space: Box(1,)\n",
      "  - low: [-1.]\n",
      "  - high: [1.]\n"
     ]
    }
   ],
   "source": [
    "print('observation space:', env.observation_space)\n",
    "print('action space:', env.action_space)\n",
    "print('  - low:', env.action_space.low)\n",
    "print('  - high:', env.action_space.high)"
   ]
  },
  {
   "cell_type": "code",
   "execution_count": 8,
   "metadata": {},
   "outputs": [],
   "source": [
    "class Agent(nn.Module):\n",
    "    def __init__(self, env, device, h_size=16):\n",
    "        super(Agent, self).__init__()\n",
    "        self.env = env\n",
    "        self.device = device\n",
    "        # state, hidden layer, action sizes\n",
    "        self.s_size = env.observation_space.shape[0]\n",
    "        self.h_size = h_size\n",
    "        self.a_size = env.action_space.shape[0]\n",
    "        # define layers\n",
    "        self.fc1 = nn.Linear(self.s_size, self.h_size)\n",
    "        self.fc2 = nn.Linear(self.h_size, self.a_size)\n",
    "        \n",
    "    def set_weights(self, weights):\n",
    "        s_size = self.s_size\n",
    "        h_size = self.h_size\n",
    "        a_size = self.a_size\n",
    "        # separate the weights for each layer\n",
    "        fc1_end = (s_size*h_size)+h_size\n",
    "        fc1_W = torch.from_numpy(weights[:s_size*h_size].reshape(s_size, h_size))\n",
    "        fc1_b = torch.from_numpy(weights[s_size*h_size:fc1_end])\n",
    "        fc2_W = torch.from_numpy(\n",
    "            weights[fc1_end:fc1_end+(h_size*a_size)].reshape(h_size, a_size))\n",
    "        fc2_b = torch.from_numpy(weights[fc1_end+(h_size*a_size):])\n",
    "        # set the weights for each layer\n",
    "        self.fc1.weight.data.copy_(fc1_W.view_as(self.fc1.weight.data))\n",
    "        self.fc1.bias.data.copy_(fc1_b.view_as(self.fc1.bias.data))\n",
    "        self.fc2.weight.data.copy_(fc2_W.view_as(self.fc2.weight.data))\n",
    "        self.fc2.bias.data.copy_(fc2_b.view_as(self.fc2.bias.data))\n",
    "    \n",
    "    def get_weights_dim(self):\n",
    "        return (self.s_size+1)*self.h_size + (self.h_size+1)*self.a_size\n",
    "        \n",
    "    def forward(self, x):\n",
    "        x = self.fc1(x).relu()\n",
    "        x = self.fc2(x).tanh()\n",
    "        return x.cpu().data\n",
    "        \n",
    "    def evaluate(self, weights, gamma=1.0, max_t=5000):\n",
    "        self.set_weights(weights)\n",
    "        episode_return = 0.0\n",
    "        state = self.env.reset()\n",
    "        for t in range(max_t):\n",
    "            state = torch.from_numpy(state).float().to(self.device)\n",
    "            action = self.forward(state)\n",
    "            state, reward, done, _ = self.env.step(action)\n",
    "            episode_return += reward * math.pow(gamma, t)\n",
    "            if done:\n",
    "                break\n",
    "        return episode_return"
   ]
  },
  {
   "cell_type": "code",
   "execution_count": 9,
   "metadata": {},
   "outputs": [
    {
     "data": {
      "text/plain": [
       "device(type='cuda', index=0)"
      ]
     },
     "execution_count": 9,
     "metadata": {},
     "output_type": "execute_result"
    }
   ],
   "source": [
    "device = torch.device(\"cuda:0\" if torch.cuda.is_available() else \"cpu\")\n",
    "device"
   ]
  },
  {
   "cell_type": "code",
   "execution_count": 10,
   "metadata": {},
   "outputs": [],
   "source": [
    "agent = Agent(env, device).to(device)"
   ]
  },
  {
   "cell_type": "code",
   "execution_count": 11,
   "metadata": {},
   "outputs": [
    {
     "data": {
      "text/plain": [
       "Agent(\n",
       "  (fc1): Linear(in_features=2, out_features=16, bias=True)\n",
       "  (fc2): Linear(in_features=16, out_features=1, bias=True)\n",
       ")"
      ]
     },
     "execution_count": 11,
     "metadata": {},
     "output_type": "execute_result"
    }
   ],
   "source": [
    "agent"
   ]
  },
  {
   "cell_type": "markdown",
   "metadata": {},
   "source": [
    "### 3. Train the Agent with the Cross-Entropy Method\n",
    "\n",
    "Run the code cell below to train the agent from scratch.  Alternatively, you can skip to the next code cell to load the pre-trained weights from file."
   ]
  },
  {
   "cell_type": "code",
   "execution_count": 12,
   "metadata": {},
   "outputs": [
    {
     "name": "stdout",
     "output_type": "stream",
     "text": [
      "Episode 10\tAverage Score: -1.44\n",
      "Episode 20\tAverage Score: -3.98\n",
      "Episode 30\tAverage Score: -4.18\n",
      "Episode 40\tAverage Score: 2.57\n",
      "Episode 50\tAverage Score: 18.74\n",
      "Episode 60\tAverage Score: 29.35\n",
      "Episode 70\tAverage Score: 38.69\n",
      "Episode 80\tAverage Score: 45.65\n",
      "Episode 90\tAverage Score: 47.98\n",
      "Episode 100\tAverage Score: 52.56\n",
      "Episode 110\tAverage Score: 62.09\n",
      "Episode 120\tAverage Score: 72.28\n",
      "Episode 130\tAverage Score: 82.21\n",
      "Episode 140\tAverage Score: 89.48\n",
      "\n",
      "Environment solved in 47 iterations!\tAverage Score: 90.83\n"
     ]
    },
    {
     "data": {
      "image/png": "[encoded data removed]",
      "text/plain": [
       "<Figure size 432x288 with 1 Axes>"
      ]
     },
     "metadata": {
      "needs_background": "light"
     },
     "output_type": "display_data"
    }
   ],
   "source": [
    "def cem(n_iterations=500, max_t=1000, gamma=1.0, print_every=10, \n",
    "        pop_size=50, elite_frac=0.2, sigma=0.5):\n",
    "    \"\"\"PyTorch implementation of the cross-entropy method.\n",
    "        \n",
    "    Params\n",
    "    ======\n",
    "        n_iterations (int): maximum number of training iterations\n",
    "        max_t (int): maximum number of timesteps per episode\n",
    "        gamma (float): discount rate\n",
    "        print_every (int): how often to print average score (over last 100 episodes)\n",
    "        pop_size (int): size of population at each iteration\n",
    "        elite_frac (float): percentage of top performers to use in update\n",
    "        sigma (float): standard deviation of additive noise\n",
    "    \"\"\"\n",
    "    n_elite=int(pop_size*elite_frac)\n",
    "\n",
    "    scores_deque = deque(maxlen=100)\n",
    "    scores = []\n",
    "    best_weight = sigma*np.random.randn(agent.get_weights_dim())\n",
    "\n",
    "    for i_iteration in range(1, n_iterations+1):\n",
    "        weights_pop = [best_weight + (sigma*np.random.randn(agent.get_weights_dim())) \n",
    "                       for i in range(pop_size)]\n",
    "        rewards = np.array([agent.evaluate(weights, gamma, max_t) \n",
    "                            for weights in weights_pop])\n",
    "\n",
    "        elite_idxs = rewards.argsort()[-n_elite:]\n",
    "        elite_weights = [weights_pop[i] for i in elite_idxs]\n",
    "        best_weight = np.array(elite_weights).mean(axis=0)\n",
    "\n",
    "        reward = agent.evaluate(best_weight, gamma=1.0)\n",
    "        scores_deque.append(reward)\n",
    "        scores.append(reward)\n",
    "        \n",
    "        torch.save(agent.state_dict(), 'checkpoint.pth')\n",
    "        \n",
    "        if i_iteration % print_every == 0:\n",
    "            print('Episode {}\\tAverage Score: {:.2f}'.format(i_iteration, \n",
    "                                                             np.mean(scores_deque)))\n",
    "\n",
    "        if np.mean(scores_deque)>=90.0:\n",
    "            print('\\nEnvironment solved in {:d} iterations!\\tAverage Score: {:.2f}'.format(\n",
    "                i_iteration-100, np.mean(scores_deque)))\n",
    "            break\n",
    "    return scores\n",
    "\n",
    "scores = cem()\n",
    "\n",
    "# plot the scores\n",
    "fig = plt.figure()\n",
    "ax = fig.add_subplot(111)\n",
    "plt.plot(np.arange(1, len(scores)+1), scores)\n",
    "plt.ylabel('Score')\n",
    "plt.xlabel('Episode #')\n",
    "plt.show()"
   ]
  },
  {
   "cell_type": "markdown",
   "metadata": {},
   "source": [
    "```\n",
    "while sleep 0.2; do\n",
    "nvidia-smi --query-gpu=name,index,temperature.gpu,\\\n",
    "utilization.gpu,utilization.memory,\\\n",
    "memory.total,memory.free,memory.used --format=csv,noheader\n",
    "done\n",
    "```"
   ]
  },
  {
   "cell_type": "markdown",
   "metadata": {},
   "source": [
    "```\n",
    "GeForce GTX 1060, 0, 60, 9 %, 1 %, 6078 MiB, 5246 MiB, 832 MiB\n",
    "GeForce GTX 1060, 0, 60, 8 %, 0 %, 6078 MiB, 5246 MiB, 832 MiB\n",
    "GeForce GTX 1060, 0, 60, 8 %, 1 %, 6078 MiB, 5246 MiB, 832 MiB\n",
    "GeForce GTX 1060, 0, 60, 9 %, 1 %, 6078 MiB, 5246 MiB, 832 MiB\n",
    "GeForce GTX 1060, 0, 60, 8 %, 1 %, 6078 MiB, 5246 MiB, 832 MiB\n",
    "GeForce GTX 1060, 0, 60, 8 %, 0 %, 6078 MiB, 5246 MiB, 832 MiB\n",
    "GeForce GTX 1060, 0, 60, 8 %, 1 %, 6078 MiB, 5246 MiB, 832 MiB\n",
    "GeForce GTX 1060, 0, 60, 8 %, 1 %, 6078 MiB, 5246 MiB, 832 MiB\n",
    "GeForce GTX 1060, 0, 60, 8 %, 1 %, 6078 MiB, 5246 MiB, 832 MiB\n",
    "GeForce GTX 1060, 0, 60, 9 %, 1 %, 6078 MiB, 5246 MiB, 832 MiB\n",
    "GeForce GTX 1060, 0, 60, 8 %, 1 %, 6078 MiB, 5246 MiB, 832 MiB\n",
    "GeForce GTX 1060, 0, 60, 8 %, 1 %, 6078 MiB, 5246 MiB, 832 MiB\n",
    "GeForce GTX 1060, 0, 60, 9 %, 1 %, 6078 MiB, 5246 MiB, 832 MiB\n",
    "GeForce GTX 1060, 0, 60, 8 %, 1 %, 6078 MiB, 5246 MiB, 832 MiB\n",
    "GeForce GTX 1060, 0, 60, 9 %, 1 %, 6078 MiB, 5246 MiB, 832 MiB\n",
    "GeForce GTX 1060, 0, 60, 8 %, 1 %, 6078 MiB, 5246 MiB, 832 MiB\n",
    "GeForce GTX 1060, 0, 60, 8 %, 1 %, 6078 MiB, 5246 MiB, 832 MiB\n",
    "GeForce GTX 1060, 0, 60, 8 %, 1 %, 6078 MiB, 5246 MiB, 832 MiB\n",
    "GeForce GTX 1060, 0, 60, 8 %, 1 %, 6078 MiB, 5246 MiB, 832 MiB\n",
    "GeForce GTX 1060, 0, 60, 8 %, 1 %, 6078 MiB, 5246 MiB, 832 MiB\n",
    "GeForce GTX 1060, 0, 60, 8 %, 1 %, 6078 MiB, 5246 MiB, 832 MiB\n",
    "GeForce GTX 1060, 0, 60, 9 %, 1 %, 6078 MiB, 5246 MiB, 832 MiB\n",
    "GeForce GTX 1060, 0, 60, 11 %, 1 %, 6078 MiB, 5246 MiB, 832 MiB\n",
    "GeForce GTX 1060, 0, 60, 9 %, 1 %, 6078 MiB, 5246 MiB, 832 MiB\n",
    "GeForce GTX 1060, 0, 60, 11 %, 1 %, 6078 MiB, 5246 MiB, 832 MiB\n",
    "GeForce GTX 1060, 0, 60, 11 %, 1 %, 6078 MiB, 5246 MiB, 832 MiB\n",
    "GeForce GTX 1060, 0, 60, 13 %, 2 %, 6078 MiB, 5246 MiB, 832 MiB\n",
    "GeForce GTX 1060, 0, 60, 11 %, 1 %, 6078 MiB, 5246 MiB, 832 MiB\n",
    "GeForce GTX 1060, 0, 60, 8 %, 1 %, 6078 MiB, 5246 MiB, 832 MiB\n",
    "GeForce GTX 1060, 0, 60, 8 %, 1 %, 6078 MiB, 5246 MiB, 832 MiB\n",
    "```"
   ]
  },
  {
   "cell_type": "markdown",
   "metadata": {},
   "source": [
    "### 4. Watch a Smart Agent!\n",
    "\n",
    "In the next code cell, you will load the trained weights from file to watch a smart agent!"
   ]
  },
  {
   "cell_type": "code",
   "execution_count": 14,
   "metadata": {},
   "outputs": [
    {
     "data": {
      "text/plain": [
       "device(type='cpu')"
      ]
     },
     "execution_count": 14,
     "metadata": {},
     "output_type": "execute_result"
    }
   ],
   "source": [
    "device = torch.device(\"cpu\")\n",
    "device"
   ]
  },
  {
   "cell_type": "code",
   "execution_count": 15,
   "metadata": {},
   "outputs": [
    {
     "data": {
      "text/plain": [
       "<All keys matched successfully>"
      ]
     },
     "execution_count": 15,
     "metadata": {},
     "output_type": "execute_result"
    }
   ],
   "source": [
    "agent = Agent(env, device).to(device)\n",
    "agent.load_state_dict(torch.load('checkpoint.pth'))"
   ]
  },
  {
   "cell_type": "code",
   "execution_count": 36,
   "metadata": {},
   "outputs": [
    {
     "data": {
      "image/png": "[encoded data removed]",
      "text/plain": [
       "<Figure size 720x720 with 1 Axes>"
      ]
     },
     "metadata": {
      "needs_background": "light"
     },
     "output_type": "display_data"
    }
   ],
   "source": [
    "plt.figure(figsize=(10,10))\n",
    "state = env.reset()\n",
    "img = plt.imshow(env.render(mode='rgb_array')) # only call this once\n",
    "while True:\n",
    "    img.set_data(env.render(mode='rgb_array')) # just update the data\n",
    "    display.display(plt.gcf())\n",
    "    display.clear_output(wait=True)\n",
    "    \n",
    "    state = torch.from_numpy(state).float().to(device)\n",
    "    with torch.no_grad():\n",
    "        action = agent(state)\n",
    "    env.render()\n",
    "    next_state, reward, done, _ = env.step(action)\n",
    "    state = next_state\n",
    "    if done:\n",
    "        break\n",
    "\n",
    "env.close()"
   ]
  },
  {
   "cell_type": "markdown",
   "metadata": {},
   "source": [
    "Save video to file."
   ]
  },
  {
   "cell_type": "code",
   "execution_count": 37,
   "metadata": {},
   "outputs": [],
   "source": [
    "env = wrappers.Monitor(env, \"./gym-results\", force=True)\n",
    "state = env.reset()\n",
    "while True:\n",
    "    state = torch.from_numpy(state).float().to(device)\n",
    "    with torch.no_grad():\n",
    "        action = agent(state)\n",
    "    env.render()\n",
    "    next_state, reward, done, _ = env.step(action)\n",
    "    state = next_state\n",
    "    if done:\n",
    "        break\n",
    "\n",
    "env.close()"
   ]
  },
  {
   "cell_type": "markdown",
   "metadata": {},
   "source": [
    "Convert mp4 file to GIF."
   ]
  },
  {
   "cell_type": "code",
   "execution_count": 38,
   "metadata": {},
   "outputs": [
    {
     "name": "stdout",
     "output_type": "stream",
     "text": [
      "total 116\n",
      "-rw-r--r-- 1 eka eka    172 Oct  2 23:27 openaigym.episode_batch.2.21965.stats.json\n",
      "-rw-r--r-- 1 eka eka    238 Oct  2 23:27 openaigym.manifest.2.21965.manifest.json\n",
      "-rw-r--r-- 1 eka eka   2136 Oct  2 23:27 openaigym.video.2.21965.video000000.meta.json\n",
      "-rw-r--r-- 1 eka eka 103346 Oct  2 23:27 openaigym.video.2.21965.video000000.mp4\n"
     ]
    }
   ],
   "source": [
    "%%bash\n",
    "ls -l ./gym-results"
   ]
  },
  {
   "cell_type": "code",
   "execution_count": 39,
   "metadata": {},
   "outputs": [
    {
     "name": "stderr",
     "output_type": "stream",
     "text": [
      "ffmpeg version 3.4.6-0ubuntu0.18.04.1 Copyright (c) 2000-2019 the FFmpeg developers\n",
      "  built with gcc 7 (Ubuntu 7.3.0-16ubuntu3)\n",
      "  configuration: --prefix=/usr --extra-version=0ubuntu0.18.04.1 --toolchain=hardened --libdir=/usr/lib/x86_64-linux-gnu --incdir=/usr/include/x86_64-linux-gnu --enable-gpl --disable-stripping --enable-avresample --enable-avisynth --enable-gnutls --enable-ladspa --enable-libass --enable-libbluray --enable-libbs2b --enable-libcaca --enable-libcdio --enable-libflite --enable-libfontconfig --enable-libfreetype --enable-libfribidi --enable-libgme --enable-libgsm --enable-libmp3lame --enable-libmysofa --enable-libopenjpeg --enable-libopenmpt --enable-libopus --enable-libpulse --enable-librubberband --enable-librsvg --enable-libshine --enable-libsnappy --enable-libsoxr --enable-libspeex --enable-libssh --enable-libtheora --enable-libtwolame --enable-libvorbis --enable-libvpx --enable-libwavpack --enable-libwebp --enable-libx265 --enable-libxml2 --enable-libxvid --enable-libzmq --enable-libzvbi --enable-omx --enable-openal --enable-opengl --enable-sdl2 --enable-libdc1394 --enable-libdrm --enable-libiec61883 --enable-chromaprint --enable-frei0r --enable-libopencv --enable-libx264 --enable-shared\n",
      "  libavutil      55. 78.100 / 55. 78.100\n",
      "  libavcodec     57.107.100 / 57.107.100\n",
      "  libavformat    57. 83.100 / 57. 83.100\n",
      "  libavdevice    57. 10.100 / 57. 10.100\n",
      "  libavfilter     6.107.100 /  6.107.100\n",
      "  libavresample   3.  7.  0 /  3.  7.  0\n",
      "  libswscale      4.  8.100 /  4.  8.100\n",
      "  libswresample   2.  9.100 /  2.  9.100\n",
      "  libpostproc    54.  7.100 / 54.  7.100\n",
      "Input #0, mov,mp4,m4a,3gp,3g2,mj2, from './gym-results/openaigym.video.2.21965.video000000.mp4':\n",
      "  Metadata:\n",
      "    major_brand     : isom\n",
      "    minor_version   : 512\n",
      "    compatible_brands: isomiso2avc1mp41\n",
      "    encoder         : Lavf57.83.100\n",
      "  Duration: 00:00:14.93, start: 0.000000, bitrate: 55 kb/s\n",
      "    Stream #0:0(und): Video: h264 (High) (avc1 / 0x31637661), yuv420p, 600x400, 52 kb/s, 30 fps, 30 tbr, 15360 tbn, 60 tbc (default)\n",
      "    Metadata:\n",
      "      handler_name    : VideoHandler\n",
      "Stream mapping:\n",
      "  Stream #0:0 -> #0:0 (h264 (native) -> gif (native))\n",
      "Press [q] to stop, [?] for help\n",
      "[swscaler @ 0x55ff96b3b640] No accelerated colorspace conversion found from yuv420p to bgr8.\n",
      "Output #0, gif, to './gifs/001.gif':\n",
      "  Metadata:\n",
      "    major_brand     : isom\n",
      "    minor_version   : 512\n",
      "    compatible_brands: isomiso2avc1mp41\n",
      "    encoder         : Lavf57.83.100\n",
      "    Stream #0:0(und): Video: gif, bgr8, 600x400, q=2-31, 200 kb/s, 30 fps, 100 tbn, 30 tbc (default)\n",
      "    Metadata:\n",
      "      handler_name    : VideoHandler\n",
      "      encoder         : Lavc57.107.100 gif\n",
      "frame=  448 fps=0.0 q=-0.0 Lsize=     241kB time=00:00:14.91 bitrate= 132.4kbits/s speed=70.7x    \n",
      "video:237kB audio:0kB subtitle:0kB other streams:0kB global headers:0kB muxing overhead: 1.809367%\n"
     ]
    }
   ],
   "source": [
    "%%bash\n",
    "ffmpeg -i ./gym-results/openaigym.video.2.21965.video000000.mp4 ./gifs/001.gif"
   ]
  },
  {
   "cell_type": "markdown",
   "metadata": {},
   "source": [
    "## Hardware Specifications and Software Versions"
   ]
  },
  {
   "cell_type": "code",
   "execution_count": 30,
   "metadata": {},
   "outputs": [
    {
     "name": "stdout",
     "output_type": "stream",
     "text": [
      "NAME=\"Ubuntu\"\n",
      "VERSION=\"18.04.3 LTS (Bionic Beaver)\"\n",
      "ID=ubuntu\n",
      "ID_LIKE=debian\n",
      "PRETTY_NAME=\"Ubuntu 18.04.3 LTS\"\n",
      "VERSION_ID=\"18.04\"\n",
      "HOME_URL=\"https://www.ubuntu.com/\"\n",
      "SUPPORT_URL=\"https://help.ubuntu.com/\"\n",
      "BUG_REPORT_URL=\"https://bugs.launchpad.net/ubuntu/\"\n",
      "PRIVACY_POLICY_URL=\"https://www.ubuntu.com/legal/terms-and-policies/privacy-policy\"\n",
      "VERSION_CODENAME=bionic\n",
      "UBUNTU_CODENAME=bionic\n"
     ]
    }
   ],
   "source": [
    "%%bash\n",
    "cat /etc/os-release"
   ]
  },
  {
   "cell_type": "code",
   "execution_count": 31,
   "metadata": {},
   "outputs": [
    {
     "name": "stdout",
     "output_type": "stream",
     "text": [
      "nvcc: NVIDIA (R) Cuda compiler driver\n",
      "Copyright (c) 2005-2018 NVIDIA Corporation\n",
      "Built on Sat_Aug_25_21:08:01_CDT_2018\n",
      "Cuda compilation tools, release 10.0, V10.0.130\n"
     ]
    }
   ],
   "source": [
    "%%bash\n",
    "nvcc --version"
   ]
  },
  {
   "cell_type": "code",
   "execution_count": 33,
   "metadata": {},
   "outputs": [
    {
     "name": "stdout",
     "output_type": "stream",
     "text": [
      "Wed Oct  2 23:24:59 2019       \n",
      "+-----------------------------------------------------------------------------+\n",
      "| NVIDIA-SMI 410.104      Driver Version: 410.104      CUDA Version: 10.0     |\n",
      "|-------------------------------+----------------------+----------------------+\n",
      "| GPU  Name        Persistence-M| Bus-Id        Disp.A | Volatile Uncorr. ECC |\n",
      "| Fan  Temp  Perf  Pwr:Usage/Cap|         Memory-Usage | GPU-Util  Compute M. |\n",
      "|===============================+======================+======================|\n",
      "|   0  GeForce GTX 1060    Off  | 00000000:01:00.0 Off |                  N/A |\n",
      "| N/A   52C    P8    12W /  N/A |    947MiB /  6078MiB |      7%      Default |\n",
      "+-------------------------------+----------------------+----------------------+\n",
      "                                                                               \n",
      "+-----------------------------------------------------------------------------+\n",
      "| Processes:                                                       GPU Memory |\n",
      "|  GPU       PID   Type   Process name                             Usage      |\n",
      "|=============================================================================|\n",
      "|    0      2391      G   /usr/lib/xorg/Xorg                           167MiB |\n",
      "|    0      2657      G   /usr/bin/gnome-shell                         129MiB |\n",
      "|    0      3438      G   ...quest-channel-token=2428535032653719587   195MiB |\n",
      "|    0     21965    C+G   /home/eka/anaconda3/envs/drlnd/bin/python    448MiB |\n",
      "+-----------------------------------------------------------------------------+\n"
     ]
    }
   ],
   "source": [
    "%%bash\n",
    "nvidia-smi"
   ]
  },
  {
   "cell_type": "code",
   "execution_count": 34,
   "metadata": {},
   "outputs": [
    {
     "name": "stdout",
     "output_type": "stream",
     "text": [
      "atari-py==0.2.6\n",
      "attrs==19.1.0\n",
      "backcall==0.1.0\n",
      "bleach==3.1.0\n",
      "box2d-py==2.3.8\n",
      "certifi==2019.6.16\n",
      "cffi==1.12.3\n",
      "cloudpickle==1.2.2\n",
      "cycler==0.10.0\n",
      "Cython==0.29.13\n",
      "decorator==4.4.0\n",
      "defusedxml==0.6.0\n",
      "entrypoints==0.3\n",
      "future==0.17.1\n",
      "glfw==1.8.3\n",
      "gym==0.14.0\n",
      "imageio==2.5.0\n",
      "ipykernel==5.1.2\n",
      "ipython==7.8.0\n",
      "ipython-genutils==0.2.0\n",
      "ipywidgets==7.5.1\n",
      "jedi==0.15.1\n",
      "Jinja2==2.10.1\n",
      "jsonschema==3.0.2\n",
      "jupyter==1.0.0\n",
      "jupyter-client==5.3.1\n",
      "jupyter-console==6.0.0\n",
      "jupyter-core==4.5.0\n",
      "kiwisolver==1.1.0\n",
      "lockfile==0.12.2\n",
      "MarkupSafe==1.1.1\n",
      "matplotlib==3.1.1\n",
      "mistune==0.8.4\n",
      "mkl-fft==1.0.14\n",
      "mkl-random==1.0.2\n",
      "mkl-service==2.3.0\n",
      "mujoco-py==2.0.2.5\n",
      "nbconvert==5.5.0\n",
      "nbformat==4.4.0\n",
      "notebook==6.0.1\n",
      "numpy==1.16.5\n",
      "olefile==0.46\n",
      "opencv-python==4.1.1.26\n",
      "pandocfilters==1.4.2\n",
      "parso==0.5.1\n",
      "pexpect==4.7.0\n",
      "pickleshare==0.7.5\n",
      "Pillow==6.1.0\n",
      "prometheus-client==0.7.1\n",
      "prompt-toolkit==2.0.9\n",
      "ptyprocess==0.6.0\n",
      "pycparser==2.19\n",
      "pyglet==1.3.2\n",
      "Pygments==2.4.2\n",
      "pyparsing==2.4.2\n",
      "pyrsistent==0.14.11\n",
      "python-dateutil==2.8.0\n",
      "pytz==2019.2\n",
      "PyYAML==5.1.2\n",
      "pyzmq==18.1.0\n",
      "qtconsole==4.5.5\n",
      "scipy==1.3.1\n",
      "Send2Trash==1.5.0\n",
      "six==1.12.0\n",
      "terminado==0.8.2\n",
      "testpath==0.4.2\n",
      "torch==1.2.0\n",
      "torchvision==0.4.0a0+6b959ee\n",
      "tornado==6.0.3\n",
      "traitlets==4.3.2\n",
      "typing==3.6.4\n",
      "wcwidth==0.1.7\n",
      "webencodings==0.5.1\n",
      "widgetsnbextension==3.5.1\n"
     ]
    }
   ],
   "source": [
    "%%bash\n",
    "pip freeze"
   ]
  }
 ],
 "metadata": {
  "anaconda-cloud": {},
  "kernelspec": {
   "display_name": "Python 3",
   "language": "python",
   "name": "python3"
  },
  "language_info": {
   "codemirror_mode": {
    "name": "ipython",
    "version": 3
   },
   "file_extension": ".py",
   "mimetype": "text/x-python",
   "name": "python",
   "nbconvert_exporter": "python",
   "pygments_lexer": "ipython3",
   "version": "3.7.4"
  }
 },
 "nbformat": 4,
 "nbformat_minor": 2
}
