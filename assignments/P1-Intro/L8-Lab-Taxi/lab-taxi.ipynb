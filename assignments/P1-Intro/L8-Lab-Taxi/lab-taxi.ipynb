{
 "cells": [
  {
   "cell_type": "markdown",
   "metadata": {},
   "source": [
    "# Solve OpenAI Gym's Taxi-v2 Task"
   ]
  },
  {
   "cell_type": "code",
   "execution_count": 90,
   "metadata": {},
   "outputs": [
    {
     "name": "stdout",
     "output_type": "stream",
     "text": [
      "Python 3.6.9 |Anaconda, Inc.| (default, Jul 30 2019, 19:07:31) \n",
      "[GCC 7.3.0]\n"
     ]
    }
   ],
   "source": [
    "import sys\n",
    "print(\"Python %s\" % sys.version)\n",
    "import time, copy, math\n",
    "from collections import defaultdict"
   ]
  },
  {
   "cell_type": "code",
   "execution_count": 2,
   "metadata": {},
   "outputs": [
    {
     "name": "stdout",
     "output_type": "stream",
     "text": [
      "OpenAI Gym 0.14.0\n"
     ]
    }
   ],
   "source": [
    "import gym\n",
    "print(\"OpenAI Gym %s\" % gym.__version__)"
   ]
  },
  {
   "cell_type": "code",
   "execution_count": 3,
   "metadata": {},
   "outputs": [
    {
     "name": "stdout",
     "output_type": "stream",
     "text": [
      "NumPy 1.16.4\n"
     ]
    }
   ],
   "source": [
    "import numpy as np\n",
    "print(\"NumPy %s\" % np.__version__)"
   ]
  },
  {
   "cell_type": "code",
   "execution_count": 4,
   "metadata": {},
   "outputs": [
    {
     "name": "stdout",
     "output_type": "stream",
     "text": [
      "matplotlib 2.2.2\n"
     ]
    }
   ],
   "source": [
    "import matplotlib\n",
    "print(\"matplotlib %s\" % matplotlib.__version__)\n",
    "\n",
    "import matplotlib.pyplot as plt\n",
    "%matplotlib inline"
   ]
  },
  {
   "cell_type": "code",
   "execution_count": 5,
   "metadata": {},
   "outputs": [],
   "source": [
    "from monitor import interact"
   ]
  },
  {
   "cell_type": "markdown",
   "metadata": {},
   "source": [
    "Use the code cell below to create an instance of the [Taxi](https://github.com/openai/gym/blob/master/gym/envs/toy_text/taxi.py) environment."
   ]
  },
  {
   "cell_type": "code",
   "execution_count": 6,
   "metadata": {},
   "outputs": [],
   "source": [
    "env = gym.make('Taxi-v2')"
   ]
  },
  {
   "cell_type": "code",
   "execution_count": 7,
   "metadata": {},
   "outputs": [
    {
     "data": {
      "text/plain": [
       "<TimeLimit<TaxiEnv<Taxi-v2>>>"
      ]
     },
     "execution_count": 7,
     "metadata": {},
     "output_type": "execute_result"
    }
   ],
   "source": [
    "env"
   ]
  },
  {
   "cell_type": "code",
   "execution_count": 13,
   "metadata": {},
   "outputs": [],
   "source": [
    "class Agent:\n",
    "\n",
    "    def __init__(self, nA=6, alpha=0.01, gamma=1.0, epsilon=0.005):\n",
    "        \"\"\" Initialize agent.\n",
    "\n",
    "        Params\n",
    "        ======\n",
    "        - nA: number of actions available to the agent\n",
    "        \"\"\"\n",
    "        self.nA = nA\n",
    "        self.Q = defaultdict(lambda: np.zeros(self.nA))\n",
    "        self.alpha = alpha\n",
    "        self.gamma = gamma\n",
    "        self.epsilon = epsilon\n",
    "        \n",
    "    def _generate_policy_from_epsilon_greedy(self, state):\n",
    "        # else\n",
    "        policy = np.ones(self.nA) * (self.epsilon / self.nA)\n",
    "        # if a maximizes Q(s,a)\n",
    "        max_action = np.argmax(self.Q[state])\n",
    "        policy[max_action] += (1 - self.epsilon)\n",
    "        return policy\n",
    "    \n",
    "    def _generate_action_from_policy(self, policy):\n",
    "        max_q = float(sum(policy))\n",
    "        probs = [q / max_q for q in policy]\n",
    "        action = np.random.choice(np.arange(self.nA), p=probs)\n",
    "        return action\n",
    "\n",
    "    def select_action(self, state):\n",
    "        \"\"\" Given the state, select an action.\n",
    "\n",
    "        Params\n",
    "        ======\n",
    "        - state: the current state of the environment\n",
    "\n",
    "        Returns\n",
    "        =======\n",
    "        - action: an integer, compatible with the task's action space\n",
    "        \"\"\"\n",
    "        policy = self._generate_policy_from_epsilon_greedy(state)\n",
    "        action = self._generate_action_from_policy(policy)\n",
    "        return action\n",
    "\n",
    "    def step(self, state, action, reward, next_state, done):\n",
    "        \"\"\" Update the agent's knowledge, using the most recently sampled tuple.\n",
    "\n",
    "        Params\n",
    "        ======\n",
    "        - state: the previous state of the environment\n",
    "        - action: the agent's previous choice of action\n",
    "        - reward: last reward received\n",
    "        - next_state: the current state of the environment\n",
    "        - done: whether the episode is complete (True or False)\n",
    "        \"\"\"\n",
    "        self.Q[state][action] += self.alpha * (reward +\n",
    "                                               (self.gamma * max(self.Q[next_state])) - \n",
    "                                               self.Q[state][action])"
   ]
  },
  {
   "cell_type": "markdown",
   "metadata": {},
   "source": [
    "## Perform Exploration"
   ]
  },
  {
   "cell_type": "markdown",
   "metadata": {},
   "source": [
    "Nomad agent with high learning rate to perform exploration."
   ]
  },
  {
   "cell_type": "code",
   "execution_count": 62,
   "metadata": {},
   "outputs": [
    {
     "name": "stdout",
     "output_type": "stream",
     "text": [
      "Episode 2500/2500 || Best average reward 8.8732\n",
      "\n",
      "\n",
      "\n",
      "Runtime 5 seconds\n"
     ]
    }
   ],
   "source": [
    "agent_nomad = Agent()\n",
    "\n",
    "agent_nomad.alpha = 0.1\n",
    "agent_nomad.gamma = 1.0\n",
    "agent_nomad.epsilon = 0.005\n",
    "num_episodes = 2500\n",
    "tic = time.time()\n",
    "avg_rewards, best_avg_reward = interact(env, agent_nomad, num_episodes=num_episodes)\n",
    "toc = time.time()\n",
    "print('\\n\\nRuntime %d seconds' % int(toc-tic))"
   ]
  },
  {
   "cell_type": "markdown",
   "metadata": {},
   "source": [
    "Run the above until last average reward bigger than 8.0."
   ]
  },
  {
   "cell_type": "code",
   "execution_count": 63,
   "metadata": {},
   "outputs": [
    {
     "data": {
      "text/plain": [
       "8.36"
      ]
     },
     "execution_count": 63,
     "metadata": {},
     "output_type": "execute_result"
    }
   ],
   "source": [
    "avg_rewards[-1]"
   ]
  },
  {
   "cell_type": "code",
   "execution_count": 64,
   "metadata": {},
   "outputs": [
    {
     "data": {
      "text/plain": [
       "Text(0,0.5,'Average Rewards during Episode')"
      ]
     },
     "execution_count": 64,
     "metadata": {},
     "output_type": "execute_result"
    },
    {
     "data": {
      "image/png": "[encoded data removed]",
      "text/plain": [
       "<Figure size 432x288 with 1 Axes>"
      ]
     },
     "metadata": {
      "needs_background": "light"
     },
     "output_type": "display_data"
    }
   ],
   "source": [
    "plt.plot(avg_rewards, linewidth=1)\n",
    "plt.xlabel('Episodes')\n",
    "plt.ylabel('Average Rewards during Episode')"
   ]
  },
  {
   "cell_type": "markdown",
   "metadata": {},
   "source": [
    "## Perform Exploitation"
   ]
  },
  {
   "cell_type": "markdown",
   "metadata": {},
   "source": [
    "Settler agent with lower learning rate to perform exploitation."
   ]
  },
  {
   "cell_type": "code",
   "execution_count": 93,
   "metadata": {},
   "outputs": [
    {
     "name": "stdout",
     "output_type": "stream",
     "text": [
      "Episode 5000/5000 || Best average reward 9.27\n",
      "\n",
      "\n",
      "\n",
      "Runtime 5 seconds\n"
     ]
    }
   ],
   "source": [
    "agent_settler = copy.deepcopy(agent_nomad)\n",
    "\n",
    "agent_settler.alpha = 0.001\n",
    "agent_settler.gamma = 1.0\n",
    "agent_settler.epsilon = 0.00005\n",
    "num_episodes = 5000\n",
    "tic = time.time()\n",
    "avg_rewards, best_avg_reward = interact(env, agent_settler, num_episodes=num_episodes)\n",
    "toc = time.time()\n",
    "print('\\n\\nRuntime %d seconds' % int(toc-tic))"
   ]
  },
  {
   "cell_type": "code",
   "execution_count": 94,
   "metadata": {},
   "outputs": [
    {
     "data": {
      "text/plain": [
       "Text(0,0.5,'Average Rewards during Episode')"
      ]
     },
     "execution_count": 94,
     "metadata": {},
     "output_type": "execute_result"
    },
    {
     "data": {
      "image/png": "[encoded data removed]",
      "text/plain": [
       "<Figure size 432x288 with 1 Axes>"
      ]
     },
     "metadata": {
      "needs_background": "light"
     },
     "output_type": "display_data"
    }
   ],
   "source": [
    "plt.plot(avg_rewards, linewidth=1)\n",
    "plt.xlabel('Episodes')\n",
    "plt.ylabel('Average Rewards during Episode')"
   ]
  },
  {
   "cell_type": "markdown",
   "metadata": {},
   "source": [
    "## Perform Generations of Exploration and Exploitation"
   ]
  },
  {
   "cell_type": "code",
   "execution_count": 100,
   "metadata": {
    "scrolled": false
   },
   "outputs": [
    {
     "name": "stdout",
     "output_type": "stream",
     "text": [
      "Generation 0\n",
      "Episode 2500/2500 || Best average reward 8.6248\n",
      "\n",
      "Episode 5000/5000 || Best average reward 9.16\n",
      "\n",
      "Generation 1\n",
      "Episode 2500/2500 || Best average reward 8.7672\n",
      "\n",
      "Episode 5000/5000 || Best average reward 9.08\n",
      "\n",
      "Generation 2\n",
      "Episode 2500/2500 || Best average reward 8.5254\n",
      "\n",
      "Episode 5000/5000 || Best average reward 9.29\n",
      "\n",
      "Generation 3\n",
      "Episode 2500/2500 || Best average reward 8.8648\n",
      "\n",
      "Episode 5000/5000 || Best average reward 9.25\n",
      "\n",
      "Generation 4\n",
      "Episode 2500/2500 || Best average reward 8.6734\n",
      "\n",
      "Episode 5000/5000 || Best average reward 9.14\n",
      "\n",
      "Generation 5\n",
      "Episode 2500/2500 || Best average reward 8.2629\n",
      "\n",
      "Episode 5000/5000 || Best average reward 9.15\n",
      "\n",
      "Generation 6\n",
      "Episode 2500/2500 || Best average reward 8.5488\n",
      "\n",
      "Episode 5000/5000 || Best average reward 9.04\n",
      "\n",
      "Generation 7\n",
      "Episode 2500/2500 || Best average reward 8.3483\n",
      "\n",
      "Episode 5000/5000 || Best average reward 9.11\n",
      "\n",
      "Generation 8\n",
      "Episode 2500/2500 || Best average reward 8.7616\n",
      "\n",
      "Episode 5000/5000 || Best average reward 9.44\n",
      "\n",
      "Generation 9\n",
      "Episode 2500/2500 || Best average reward 8.7793\n",
      "\n",
      "Episode 5000/5000 || Best average reward 9.15\n",
      "\n",
      "Generation 10\n",
      "Episode 2500/2500 || Best average reward 8.6483\n",
      "\n",
      "Episode 5000/5000 || Best average reward 9.26\n",
      "\n",
      "Generation 11\n",
      "Episode 2500/2500 || Best average reward 8.5974\n",
      "\n",
      "Episode 5000/5000 || Best average reward 9.33\n",
      "\n",
      "Generation 12\n",
      "Episode 2500/2500 || Best average reward 8.6552\n",
      "\n",
      "Episode 5000/5000 || Best average reward 9.25\n",
      "\n",
      "Generation 13\n",
      "Episode 2500/2500 || Best average reward 8.6549\n",
      "\n",
      "Episode 5000/5000 || Best average reward 9.07\n",
      "\n",
      "Generation 14\n",
      "Episode 2500/2500 || Best average reward 8.5759\n",
      "\n",
      "Episode 5000/5000 || Best average reward 9.16\n",
      "\n",
      "Generation 15\n",
      "Episode 2500/2500 || Best average reward 8.4362\n",
      "\n",
      "Episode 5000/5000 || Best average reward 9.44\n",
      "\n",
      "Generation 16\n",
      "Episode 2500/2500 || Best average reward 8.2111\n",
      "\n",
      "Episode 5000/5000 || Best average reward 9.21\n",
      "\n",
      "Generation 17\n",
      "Episode 2500/2500 || Best average reward 8.7531\n",
      "\n",
      "Episode 5000/5000 || Best average reward 9.06\n",
      "\n",
      "Generation 18\n",
      "Episode 2500/2500 || Best average reward 8.3893\n",
      "\n",
      "Episode 5000/5000 || Best average reward 9.17\n",
      "\n",
      "Generation 19\n",
      "Episode 2500/2500 || Best average reward 8.4474\n",
      "\n",
      "Episode 5000/5000 || Best average reward 8.98\n",
      "\n",
      "Generation 20\n",
      "Episode 2500/2500 || Best average reward 9.0489\n",
      "\n",
      "Episode 5000/5000 || Best average reward 9.32\n",
      "\n",
      "Generation 21\n",
      "Episode 2500/2500 || Best average reward 8.7951\n",
      "\n",
      "Episode 5000/5000 || Best average reward 9.12\n",
      "\n",
      "Generation 22\n",
      "Episode 2500/2500 || Best average reward 8.9141\n",
      "\n",
      "Episode 5000/5000 || Best average reward 9.12\n",
      "\n",
      "Generation 23\n",
      "Episode 2500/2500 || Best average reward 8.6191\n",
      "\n",
      "Episode 5000/5000 || Best average reward 9.38\n",
      "\n",
      "Generation 24\n",
      "Episode 2500/2500 || Best average reward 8.7831\n",
      "\n",
      "Episode 5000/5000 || Best average reward 9.39\n",
      "\n",
      "Generation 25\n",
      "Episode 2500/2500 || Best average reward 8.7384\n",
      "\n",
      "Episode 5000/5000 || Best average reward 9.12\n",
      "\n",
      "Generation 26\n",
      "Episode 2500/2500 || Best average reward 8.8189\n",
      "\n",
      "Episode 5000/5000 || Best average reward 9.19\n",
      "\n",
      "Generation 27\n",
      "Episode 2500/2500 || Best average reward 8.6827\n",
      "\n",
      "Episode 5000/5000 || Best average reward 9.25\n",
      "\n",
      "Generation 28\n",
      "Episode 2500/2500 || Best average reward 8.5549\n",
      "\n",
      "Episode 5000/5000 || Best average reward 9.19\n",
      "\n",
      "Generation 29\n",
      "Episode 2500/2500 || Best average reward 8.5636\n",
      "\n",
      "Episode 5000/5000 || Best average reward 9.12\n",
      "\n",
      "Generation 30\n",
      "Episode 2500/2500 || Best average reward 8.9772\n",
      "\n",
      "Episode 5000/5000 || Best average reward 9.59\n",
      "\n",
      "Generation 31\n",
      "Episode 2500/2500 || Best average reward 8.5227\n",
      "\n",
      "Episode 5000/5000 || Best average reward 9.03\n",
      "\n",
      "Generation 32\n",
      "Episode 2500/2500 || Best average reward 8.7468\n",
      "\n",
      "Episode 5000/5000 || Best average reward 9.23\n",
      "\n",
      "Generation 33\n",
      "Episode 2500/2500 || Best average reward 8.7565\n",
      "\n",
      "Episode 5000/5000 || Best average reward 9.34\n",
      "\n",
      "Generation 34\n",
      "Episode 2500/2500 || Best average reward 8.2726\n",
      "\n",
      "Episode 5000/5000 || Best average reward 9.23\n",
      "\n",
      "Generation 35\n",
      "Episode 2500/2500 || Best average reward 8.6635\n",
      "\n",
      "Episode 5000/5000 || Best average reward 9.19\n",
      "\n",
      "Generation 36\n",
      "Episode 2500/2500 || Best average reward 8.6614\n",
      "\n",
      "Episode 5000/5000 || Best average reward 9.29\n",
      "\n",
      "Generation 37\n",
      "Episode 2500/2500 || Best average reward 8.7717\n",
      "\n",
      "Episode 5000/5000 || Best average reward 9.1\n",
      "\n",
      "Generation 38\n",
      "Episode 2500/2500 || Best average reward 8.7988\n",
      "\n",
      "Episode 5000/5000 || Best average reward 9.05\n",
      "\n",
      "Generation 39\n",
      "Episode 2500/2500 || Best average reward 8.6924\n",
      "\n",
      "Episode 5000/5000 || Best average reward 9.17\n",
      "\n",
      "Generation 40\n",
      "Episode 2500/2500 || Best average reward 8.6715\n",
      "\n",
      "Episode 5000/5000 || Best average reward 9.02\n",
      "\n",
      "Generation 41\n",
      "Episode 2500/2500 || Best average reward 8.6487\n",
      "\n",
      "Episode 5000/5000 || Best average reward 9.24\n",
      "\n",
      "Generation 42\n",
      "Episode 2500/2500 || Best average reward 8.9336\n",
      "\n",
      "Episode 5000/5000 || Best average reward 9.17\n",
      "\n",
      "Generation 43\n",
      "Episode 2500/2500 || Best average reward 8.5324\n",
      "\n",
      "Episode 5000/5000 || Best average reward 8.96\n",
      "\n",
      "Generation 44\n",
      "Episode 2500/2500 || Best average reward 8.9422\n",
      "\n",
      "Episode 5000/5000 || Best average reward 9.06\n",
      "\n",
      "Generation 45\n",
      "Episode 2500/2500 || Best average reward 8.7977\n",
      "\n",
      "Episode 5000/5000 || Best average reward 9.19\n",
      "\n",
      "Generation 46\n",
      "Episode 2500/2500 || Best average reward 8.6349\n",
      "\n",
      "Episode 5000/5000 || Best average reward 9.07\n",
      "\n",
      "Generation 47\n",
      "Episode 2500/2500 || Best average reward 8.5538\n",
      "\n",
      "Episode 5000/5000 || Best average reward 9.06\n",
      "\n",
      "Generation 48\n",
      "Episode 2500/2500 || Best average reward 8.7669\n",
      "\n",
      "Episode 5000/5000 || Best average reward 9.35\n",
      "\n",
      "Generation 49\n",
      "Episode 2500/2500 || Best average reward 8.5634\n",
      "\n",
      "Episode 5000/5000 || Best average reward 9.09\n",
      "\n",
      "Generation 50\n",
      "Episode 2500/2500 || Best average reward 8.7221\n",
      "\n",
      "Episode 5000/5000 || Best average reward 9.12\n",
      "\n",
      "Generation 51\n",
      "Episode 2500/2500 || Best average reward 8.7741\n",
      "\n",
      "Episode 5000/5000 || Best average reward 9.24\n",
      "\n",
      "Generation 52\n",
      "Episode 2500/2500 || Best average reward 8.5659\n",
      "\n",
      "Episode 5000/5000 || Best average reward 9.09\n",
      "\n",
      "Generation 53\n",
      "Episode 2500/2500 || Best average reward 8.5327\n",
      "\n",
      "Episode 5000/5000 || Best average reward 9.16\n",
      "\n",
      "Generation 54\n",
      "Episode 2500/2500 || Best average reward 8.5441\n",
      "\n",
      "Episode 5000/5000 || Best average reward 9.15\n",
      "\n",
      "Generation 55\n",
      "Episode 2500/2500 || Best average reward 9.0299\n",
      "\n",
      "Episode 5000/5000 || Best average reward 9.16\n",
      "\n",
      "Generation 56\n",
      "Episode 2500/2500 || Best average reward 8.6991\n",
      "\n",
      "Episode 5000/5000 || Best average reward 9.09\n",
      "\n",
      "Generation 57\n",
      "Episode 2500/2500 || Best average reward 8.5346\n",
      "\n",
      "Episode 5000/5000 || Best average reward 9.14\n",
      "\n",
      "Generation 58\n",
      "Episode 2500/2500 || Best average reward 8.8197\n",
      "\n",
      "Episode 5000/5000 || Best average reward 9.27\n",
      "\n",
      "Generation 59\n",
      "Episode 2500/2500 || Best average reward 8.3812\n",
      "\n",
      "Episode 5000/5000 || Best average reward 9.06\n",
      "\n",
      "Generation 60\n",
      "Episode 2500/2500 || Best average reward 8.6374\n",
      "\n",
      "Episode 5000/5000 || Best average reward 9.04\n",
      "\n",
      "Generation 61\n",
      "Episode 2500/2500 || Best average reward 8.7516\n",
      "\n",
      "Episode 5000/5000 || Best average reward 9.11\n",
      "\n",
      "Generation 62\n",
      "Episode 2500/2500 || Best average reward 8.9444\n",
      "\n",
      "Episode 5000/5000 || Best average reward 8.95\n",
      "\n",
      "Generation 63\n",
      "Episode 2500/2500 || Best average reward 8.6161\n",
      "\n",
      "Episode 5000/5000 || Best average reward 9.19\n",
      "\n",
      "Generation 64\n",
      "Episode 2500/2500 || Best average reward 8.4412\n",
      "\n",
      "Episode 5000/5000 || Best average reward 9.06\n",
      "\n",
      "Generation 65\n",
      "Episode 2500/2500 || Best average reward 8.5562\n",
      "\n",
      "Episode 5000/5000 || Best average reward 9.27\n",
      "\n",
      "Generation 66\n",
      "Episode 2500/2500 || Best average reward 8.3633\n",
      "\n",
      "Episode 5000/5000 || Best average reward 9.21\n",
      "\n",
      "Generation 67\n",
      "Episode 2500/2500 || Best average reward 8.6727\n",
      "\n",
      "Episode 5000/5000 || Best average reward 9.05\n",
      "\n",
      "Generation 68\n",
      "Episode 2500/2500 || Best average reward 8.4277\n",
      "\n",
      "Episode 5000/5000 || Best average reward 9.26\n",
      "\n",
      "Generation 69\n",
      "Episode 2500/2500 || Best average reward 8.5889\n",
      "\n",
      "Episode 5000/5000 || Best average reward 9.31\n",
      "\n",
      "Generation 70\n",
      "Episode 2500/2500 || Best average reward 8.8521\n",
      "\n",
      "Episode 5000/5000 || Best average reward 9.26\n",
      "\n",
      "Generation 71\n",
      "Episode 2500/2500 || Best average reward 8.8514\n",
      "\n",
      "Episode 5000/5000 || Best average reward 9.07\n",
      "\n",
      "Generation 72\n",
      "Episode 2500/2500 || Best average reward 9.0917\n",
      "\n",
      "Episode 5000/5000 || Best average reward 9.11\n",
      "\n",
      "Generation 73\n",
      "Episode 2500/2500 || Best average reward 8.6933\n",
      "\n",
      "Episode 5000/5000 || Best average reward 9.18\n",
      "\n",
      "Generation 74\n",
      "Episode 2500/2500 || Best average reward 8.4434\n",
      "\n"
     ]
    },
    {
     "name": "stdout",
     "output_type": "stream",
     "text": [
      "Episode 5000/5000 || Best average reward 9.39\n",
      "\n",
      "Generation 75\n",
      "Episode 2500/2500 || Best average reward 8.5423\n",
      "\n",
      "Episode 5000/5000 || Best average reward 9.2\n",
      "\n",
      "Generation 76\n",
      "Episode 2500/2500 || Best average reward 8.3592\n",
      "\n",
      "Episode 5000/5000 || Best average reward 9.25\n",
      "\n",
      "Generation 77\n",
      "Episode 2500/2500 || Best average reward 8.4959\n",
      "\n",
      "Episode 5000/5000 || Best average reward 9.48\n",
      "\n",
      "Generation 78\n",
      "Episode 2500/2500 || Best average reward 8.4177\n",
      "\n",
      "Episode 5000/5000 || Best average reward 9.29\n",
      "\n",
      "Generation 79\n",
      "Episode 2500/2500 || Best average reward 8.5476\n",
      "\n",
      "Episode 5000/5000 || Best average reward 9.25\n",
      "\n",
      "Generation 80\n",
      "Episode 2500/2500 || Best average reward 8.8886\n",
      "\n",
      "Episode 5000/5000 || Best average reward 9.19\n",
      "\n",
      "Generation 81\n",
      "Episode 2500/2500 || Best average reward 8.4684\n",
      "\n",
      "Episode 5000/5000 || Best average reward 9.22\n",
      "\n",
      "Generation 82\n",
      "Episode 2500/2500 || Best average reward 8.5635\n",
      "\n",
      "Episode 5000/5000 || Best average reward 9.33\n",
      "\n",
      "Generation 83\n",
      "Episode 2500/2500 || Best average reward 8.9847\n",
      "\n",
      "Episode 5000/5000 || Best average reward 9.09\n",
      "\n",
      "Generation 84\n",
      "Episode 2500/2500 || Best average reward 8.5311\n",
      "\n",
      "Episode 5000/5000 || Best average reward 8.96\n",
      "\n",
      "Generation 85\n",
      "Episode 2500/2500 || Best average reward 8.6389\n",
      "\n",
      "Episode 5000/5000 || Best average reward 9.19\n",
      "\n",
      "Generation 86\n",
      "Episode 2500/2500 || Best average reward 8.7194\n",
      "\n",
      "Episode 5000/5000 || Best average reward 9.07\n",
      "\n",
      "Generation 87\n",
      "Episode 2500/2500 || Best average reward 8.3357\n",
      "\n",
      "Episode 5000/5000 || Best average reward 9.09\n",
      "\n",
      "Generation 88\n",
      "Episode 2500/2500 || Best average reward 8.5949\n",
      "\n",
      "Episode 5000/5000 || Best average reward 9.06\n",
      "\n",
      "Generation 89\n",
      "Episode 2500/2500 || Best average reward 8.7655\n",
      "\n",
      "Episode 5000/5000 || Best average reward 9.16\n",
      "\n",
      "Generation 90\n",
      "Episode 2500/2500 || Best average reward 8.7359\n",
      "\n",
      "Episode 5000/5000 || Best average reward 9.21\n",
      "\n",
      "Generation 91\n",
      "Episode 2500/2500 || Best average reward 8.7117\n",
      "\n",
      "Episode 5000/5000 || Best average reward 9.09\n",
      "\n",
      "Generation 92\n",
      "Episode 2500/2500 || Best average reward 8.8719\n",
      "\n",
      "Episode 5000/5000 || Best average reward 9.26\n",
      "\n",
      "Generation 93\n",
      "Episode 2500/2500 || Best average reward 8.6711\n",
      "\n",
      "Episode 5000/5000 || Best average reward 9.08\n",
      "\n",
      "Generation 94\n",
      "Episode 2500/2500 || Best average reward 8.7177\n",
      "\n",
      "Episode 5000/5000 || Best average reward 9.23\n",
      "\n",
      "Generation 95\n",
      "Episode 2500/2500 || Best average reward 8.7541\n",
      "\n",
      "Episode 5000/5000 || Best average reward 9.16\n",
      "\n",
      "Generation 96\n",
      "Episode 2500/2500 || Best average reward 8.5461\n",
      "\n",
      "Episode 5000/5000 || Best average reward 9.15\n",
      "\n",
      "Generation 97\n",
      "Episode 2500/2500 || Best average reward 8.6268\n",
      "\n",
      "Episode 5000/5000 || Best average reward 9.37\n",
      "\n",
      "Generation 98\n",
      "Episode 2500/2500 || Best average reward 8.3983\n",
      "\n",
      "Episode 5000/5000 || Best average reward 9.23\n",
      "\n",
      "Generation 99\n",
      "Episode 2500/2500 || Best average reward 8.4933\n",
      "\n",
      "Episode 5000/5000 || Best average reward 9.07\n",
      "\n"
     ]
    }
   ],
   "source": [
    "num_generations = 100\n",
    "best_avg_reward_gen = -math.inf\n",
    "\n",
    "for i_generation in range(num_generations):\n",
    "    print(\"Generation %d\" % i_generation)\n",
    "    # nomad\n",
    "    agent = Agent()\n",
    "    agent.alpha = 0.1\n",
    "    agent.gamma = 1.0\n",
    "    agent.epsilon = 0.005\n",
    "    num_episodes = 2500\n",
    "    avg_rewards, best_avg_reward = interact(env, agent, num_episodes=num_episodes)\n",
    "    # settler\n",
    "    agent.alpha = 0.001\n",
    "    agent.gamma = 1.0\n",
    "    agent.epsilon = 0.00005\n",
    "    num_episodes = 5000\n",
    "    avg_rewards, best_avg_reward = interact(env, agent, num_episodes=num_episodes)\n",
    "    # get best average reward per generation\n",
    "    if best_avg_reward > best_avg_reward_gen:\n",
    "        best_avg_reward_gen = best_avg_reward"
   ]
  },
  {
   "cell_type": "code",
   "execution_count": 101,
   "metadata": {},
   "outputs": [
    {
     "data": {
      "text/plain": [
       "9.5"
      ]
     },
     "execution_count": 101,
     "metadata": {},
     "output_type": "execute_result"
    }
   ],
   "source": [
    "best_avg_reward_gen"
   ]
  },
  {
   "cell_type": "code",
   "execution_count": 102,
   "metadata": {},
   "outputs": [
    {
     "data": {
      "text/plain": [
       "True"
      ]
     },
     "execution_count": 102,
     "metadata": {},
     "output_type": "execute_result"
    }
   ],
   "source": [
    "best_avg_reward_gen > 9.1"
   ]
  }
 ],
 "metadata": {
  "kernelspec": {
   "display_name": "Python 3",
   "language": "python",
   "name": "python3"
  },
  "language_info": {
   "codemirror_mode": {
    "name": "ipython",
    "version": 3
   },
   "file_extension": ".py",
   "mimetype": "text/x-python",
   "name": "python",
   "nbconvert_exporter": "python",
   "pygments_lexer": "ipython3",
   "version": "3.6.9"
  }
 },
 "nbformat": 4,
 "nbformat_minor": 2
}
