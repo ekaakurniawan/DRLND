{
 "cells": [
  {
   "cell_type": "markdown",
   "metadata": {},
   "source": [
    "# Multi Agent DDPG (MADDPG)"
   ]
  },
  {
   "cell_type": "code",
   "execution_count": 1,
   "metadata": {},
   "outputs": [
    {
     "name": "stdout",
     "output_type": "stream",
     "text": [
      "Python 3.7.4 (default, Aug 13 2019, 20:35:49) \n",
      "[GCC 7.3.0]\n"
     ]
    }
   ],
   "source": [
    "import sys\n",
    "print(\"Python %s\" % sys.version)\n",
    "import os\n",
    "import random, copy, time\n",
    "from collections import namedtuple, deque"
   ]
  },
  {
   "cell_type": "code",
   "execution_count": 2,
   "metadata": {},
   "outputs": [
    {
     "name": "stdout",
     "output_type": "stream",
     "text": [
      "NumPy 1.16.5\n"
     ]
    }
   ],
   "source": [
    "import numpy as np\n",
    "print(\"NumPy %s\" % np.__version__)"
   ]
  },
  {
   "cell_type": "code",
   "execution_count": 3,
   "metadata": {},
   "outputs": [
    {
     "name": "stdout",
     "output_type": "stream",
     "text": [
      "PyTorch 1.2.0\n"
     ]
    }
   ],
   "source": [
    "import torch\n",
    "print(\"PyTorch %s\" % torch.__version__)\n",
    "import torch.nn as nn\n",
    "import torch.nn.functional as F\n",
    "import torch.optim as optim"
   ]
  },
  {
   "cell_type": "code",
   "execution_count": 4,
   "metadata": {},
   "outputs": [
    {
     "name": "stdout",
     "output_type": "stream",
     "text": [
      "matplotlib 3.1.1\n"
     ]
    }
   ],
   "source": [
    "import matplotlib\n",
    "print(\"matplotlib %s\" % matplotlib.__version__)\n",
    "import matplotlib.pyplot as plt\n",
    "\n",
    "# Set plotting options\n",
    "%matplotlib inline"
   ]
  },
  {
   "cell_type": "code",
   "execution_count": 5,
   "metadata": {},
   "outputs": [],
   "source": [
    "from IPython import display"
   ]
  },
  {
   "cell_type": "code",
   "execution_count": 6,
   "metadata": {},
   "outputs": [],
   "source": [
    "import envs"
   ]
  },
  {
   "cell_type": "markdown",
   "metadata": {},
   "source": [
    "## Hyperparameters"
   ]
  },
  {
   "cell_type": "code",
   "execution_count": 7,
   "metadata": {},
   "outputs": [],
   "source": [
    "PARALLEL_ENVS = 4\n",
    "BUFFER_SIZE = int(4e5)  # replay buffer size\n",
    "BATCH_SIZE = 1000       # minibatch size\n",
    "GAMMA = 0.95 #0.99            # discount factor\n",
    "TAU = 0.02 #1e-3              # for soft update of target parameters\n",
    "STATE_SIZE = 14\n",
    "ACTION_SIZE = 2\n",
    "SEED = 1 #2\n",
    "# LR = 5e-4               # learning rate\n",
    "LR_ACTOR = 1.0e-2 #1e-4         # learning rate of the actor \n",
    "LR_CRITIC = 1.0e-2 #1e-3        # l earning rate of the critic\n",
    "# UPDATE_EVERY = 4        # how often to update the network\n",
    "WEIGHT_DECAY = 1.0e-5 #0        # L2 weight decay\n",
    "NOISE_RATE_INIT = 2.0\n",
    "NOISE_RATE_REDUCTION = 0.9999\n",
    "SIGMA = 0.2 #0.1             # standard deviation for noise\n",
    "SCALE = 1.0             # noise scale"
   ]
  },
  {
   "cell_type": "markdown",
   "metadata": {},
   "source": [
    "## Environment"
   ]
  },
  {
   "cell_type": "markdown",
   "metadata": {},
   "source": [
    "Environment returns two different kind of states: states of all individual agent observations and states of full observation."
   ]
  },
  {
   "cell_type": "code",
   "execution_count": 8,
   "metadata": {},
   "outputs": [],
   "source": [
    "torch.set_num_threads(PARALLEL_ENVS)"
   ]
  },
  {
   "cell_type": "code",
   "execution_count": 9,
   "metadata": {},
   "outputs": [],
   "source": [
    "env = envs.make_parallel_env(PARALLEL_ENVS)"
   ]
  },
  {
   "cell_type": "code",
   "execution_count": 10,
   "metadata": {},
   "outputs": [
    {
     "data": {
      "text/plain": [
       "<env_wrapper.SubprocVecEnv at 0x7f98f9e08690>"
      ]
     },
     "execution_count": 10,
     "metadata": {},
     "output_type": "execute_result"
    }
   ],
   "source": [
    "env"
   ]
  },
  {
   "cell_type": "code",
   "execution_count": 11,
   "metadata": {},
   "outputs": [
    {
     "data": {
      "text/plain": [
       "4"
      ]
     },
     "execution_count": 11,
     "metadata": {},
     "output_type": "execute_result"
    }
   ],
   "source": [
    "env.num_envs"
   ]
  },
  {
   "cell_type": "code",
   "execution_count": 12,
   "metadata": {},
   "outputs": [
    {
     "data": {
      "text/plain": [
       "['adversary', 'agent', 'agent']"
      ]
     },
     "execution_count": 12,
     "metadata": {},
     "output_type": "execute_result"
    }
   ],
   "source": [
    "env.agent_types"
   ]
  },
  {
   "cell_type": "code",
   "execution_count": 13,
   "metadata": {},
   "outputs": [
    {
     "data": {
      "text/plain": [
       "[Box(2,), Box(2,), Box(2,)]"
      ]
     },
     "execution_count": 13,
     "metadata": {},
     "output_type": "execute_result"
    }
   ],
   "source": [
    "env.action_space"
   ]
  },
  {
   "cell_type": "markdown",
   "metadata": {},
   "source": [
    "## Actor-Critic Models"
   ]
  },
  {
   "cell_type": "code",
   "execution_count": 14,
   "metadata": {},
   "outputs": [],
   "source": [
    "class Actor(nn.Module):\n",
    "    \"\"\"Actor (Policy) Model.\"\"\"\n",
    "\n",
    "    def __init__(self, state_size=14, action_size=2, seed=2, \n",
    "                 fc1_units=16, fc2_units=8):\n",
    "        \"\"\"Initialize parameters and build model.\n",
    "        Params\n",
    "        ======\n",
    "            state_size (int): Dimension of each state\n",
    "            action_size (int): Dimension of each action\n",
    "            seed (int): Random seed\n",
    "            fc1_units (int): Number of nodes in first hidden layer\n",
    "            fc2_units (int): Number of nodes in second hidden layer\n",
    "        \"\"\"\n",
    "        super(Actor, self).__init__()\n",
    "        self.seed = torch.manual_seed(seed)\n",
    "        # weight initialization gains \n",
    "        self.relu_gain = nn.init.calculate_gain('relu')\n",
    "        self.tanh_gain = nn.init.calculate_gain('tanh')\n",
    "        # layers\n",
    "        self.fc1 = nn.Linear(state_size, fc1_units)\n",
    "        self.fc2 = nn.Linear(fc1_units, fc2_units)\n",
    "        self.fc3 = nn.Linear(fc2_units, action_size)\n",
    "        self.bn1 = nn.BatchNorm1d(fc1_units)\n",
    "        \n",
    "        self.reset_parameters()\n",
    "\n",
    "    def reset_parameters(self):\n",
    "        nn.init.xavier_uniform_(self.fc1.weight.data, self.relu_gain)\n",
    "        nn.init.xavier_uniform_(self.fc2.weight.data, self.relu_gain)\n",
    "        nn.init.xavier_uniform_(self.fc3.weight.data, self.tanh_gain)\n",
    "\n",
    "    def forward(self, state):\n",
    "        \"\"\"Build an actor (policy) network that maps states -> actions.\"\"\"\n",
    "        #x = self.bn1(self.fc1(state)).relu()\n",
    "        x = self.fc1(state).relu()\n",
    "        x = self.fc2(x).relu()\n",
    "        x = self.fc3(x)\n",
    "        norm = torch.norm(x)\n",
    "        # output of fc3 is a 2D vector (a force that is applied to the agent)\n",
    "        # we bound the norm of the vector to be between 0 and 10\n",
    "        return 10.0 * norm.tanh() * (x / norm) if norm > 0 else 10 * x\n",
    "        return self.fc3(x).tanh()"
   ]
  },
  {
   "cell_type": "code",
   "execution_count": 15,
   "metadata": {},
   "outputs": [],
   "source": [
    "class Critic(nn.Module):\n",
    "    \"\"\"Critic (Value) Model.\"\"\"\n",
    "\n",
    "    def __init__(self, state_size=20, seed=2, \n",
    "                 fc1_units=32, fc2_units=16):\n",
    "        \"\"\"Initialize parameters and build model.\n",
    "        Params\n",
    "        ======\n",
    "            state_size (int): Dimension of each state\n",
    "            seed (int): Random seed\n",
    "            fc1_units (int): Number of nodes in the first hidden layer\n",
    "            fc2_units (int): Number of nodes in the second hidden layer\n",
    "        \"\"\"\n",
    "        super(Critic, self).__init__()\n",
    "        self.seed = torch.manual_seed(seed)\n",
    "        # weight initialization gains \n",
    "        self.relu_gain = nn.init.calculate_gain('relu')\n",
    "        self.linear_gain = nn.init.calculate_gain('linear')\n",
    "        # layers\n",
    "        self.fc1 = nn.Linear(state_size, fc1_units)\n",
    "        self.fc2 = nn.Linear(fc1_units, fc2_units)\n",
    "        self.fc3 = nn.Linear(fc2_units, 1)\n",
    "        self.bn1 = nn.BatchNorm1d(fc1_units)\n",
    "        \n",
    "        self.reset_parameters()\n",
    "\n",
    "    def reset_parameters(self):\n",
    "        nn.init.xavier_uniform_(self.fc1.weight.data, self.relu_gain)\n",
    "        nn.init.xavier_uniform_(self.fc2.weight.data, self.relu_gain)\n",
    "        nn.init.xavier_uniform_(self.fc3.weight.data, self.linear_gain)\n",
    "\n",
    "    def forward(self, state, action):\n",
    "        \"\"\"Build a critic (value) network that maps (state, action) pairs -> Q-values.\"\"\"\n",
    "        #x = self.bn1(self.fc1(state)).relu()\n",
    "        x = torch.cat((state, action), dim=1)\n",
    "        x = self.fc1(x).relu()\n",
    "        x = self.fc2(x).relu()\n",
    "        return self.fc3(x)"
   ]
  },
  {
   "cell_type": "markdown",
   "metadata": {},
   "source": [
    "## Agent"
   ]
  },
  {
   "cell_type": "markdown",
   "metadata": {},
   "source": [
    "Object shape in NumPy to be added into memory. With 4 enviroments.\n",
    "```\n",
    "states_all_agents_env (4, 3, 14)\n",
    "states_full_env (4, 14)\n",
    "action_all_agents_env (4, 3, 2)\n",
    "rewards_env (4, 3)\n",
    "next_states_all_agents_env (4, 3, 14)\n",
    "next_states_full_env (4, 14)\n",
    "dones_env (4, 3)\n",
    "```\n",
    "Object shape in torch sampled from memory. Sample size 1000.\n",
    "```\n",
    "states_all_agents torch.Size([1000, 3, 14])\n",
    "states_full torch.Size([1000, 14])\n",
    "action_all_agents torch.Size([1000, 3, 2])\n",
    "rewards torch.Size([1000, 3])\n",
    "next_states_all_agents torch.Size([1000, 3, 14])\n",
    "next_states_full torch.Size([1000, 14])\n",
    "dones torch.Size([1000, 3])\n",
    "```"
   ]
  },
  {
   "cell_type": "code",
   "execution_count": 16,
   "metadata": {},
   "outputs": [],
   "source": [
    "class ReplayBuffer:\n",
    "    \"\"\"Fixed-size buffer to store experience tuples.\"\"\"\n",
    "\n",
    "    def __init__(self, action_size, buffer_size, batch_size, seed, device):\n",
    "        \"\"\"Initialize a ReplayBuffer object.\n",
    "        Params\n",
    "        ======\n",
    "            action_size (int): dimension of each action\n",
    "            buffer_size (int): maximum size of buffer\n",
    "            batch_size (int): size of each training batch\n",
    "            seed (int): random seed\n",
    "            device (torch.device): - (type='cuda', index=0) for GPU 0\n",
    "                                   - (type='cpu') for CPU\n",
    "        \"\"\"\n",
    "        self.action_size = action_size\n",
    "        self.memory = deque(maxlen=buffer_size)  # internal memory (deque)\n",
    "        self.batch_size = batch_size\n",
    "        self.experience = namedtuple(\"Experience\", \n",
    "                                     field_names=[\"state\", \"state_full\", \n",
    "                                                  \"action\", \"reward\", \n",
    "                                                  \"next_state\", \"next_state_full\", \n",
    "                                                  \"done\"])\n",
    "        self.seed = random.seed(seed)\n",
    "        self.device = device\n",
    "    \n",
    "    def add(self, states, states_full, actions, rewards, \n",
    "            next_states, next_states_full, dones):\n",
    "        \"\"\"Add a new experience to memory.\"\"\"\n",
    "        for i in range(len(states)):\n",
    "            e = self.experience(states[i], states_full[i], \n",
    "                                actions[i], rewards[i], \n",
    "                                next_states[i], next_states_full[i], \n",
    "                                dones[i])\n",
    "            self.memory.append(e)\n",
    "    \n",
    "    def sample(self):\n",
    "        \"\"\"Randomly sample a batch of experiences from memory.\"\"\"\n",
    "        experiences = random.sample(self.memory, k=self.batch_size)\n",
    "\n",
    "        states = torch.from_numpy(np.array(\n",
    "            [e.state for e in experiences if e is not None]\n",
    "        )).float().to(self.device)\n",
    "        \n",
    "        states_full = torch.from_numpy(np.array(\n",
    "            [e.state_full for e in experiences if e is not None]\n",
    "        )).float().to(self.device)\n",
    "        \n",
    "        actions = torch.from_numpy(np.array(\n",
    "            [e.action for e in experiences if e is not None]\n",
    "        )).float().to(self.device)\n",
    "        \n",
    "        rewards = torch.from_numpy(np.array(\n",
    "            [e.reward for e in experiences if e is not None]\n",
    "        )).float().to(self.device)\n",
    "        \n",
    "        next_states = torch.from_numpy(np.array(\n",
    "            [e.next_state for e in experiences if e is not None]\n",
    "        )).float().to(self.device)\n",
    "        \n",
    "        next_states_full = torch.from_numpy(np.array(\n",
    "            [e.next_state_full for e in experiences if e is not None]\n",
    "        )).float().to(self.device)\n",
    "        \n",
    "        dones = torch.from_numpy(np.array(\n",
    "            [e.done for e in experiences if e is not None]\n",
    "        ).astype(np.uint8)).float().to(self.device)\n",
    "\n",
    "        return (states, states_full, actions, rewards, \n",
    "                next_states, next_states_full, dones)\n",
    "\n",
    "    def __len__(self):\n",
    "        \"\"\"Return the current size of internal memory.\"\"\"\n",
    "        return len(self.memory)"
   ]
  },
  {
   "cell_type": "code",
   "execution_count": 17,
   "metadata": {},
   "outputs": [],
   "source": [
    "class OUNoise:\n",
    "    \"\"\"Ornstein-Uhlenbeck process.\"\"\"\n",
    "\n",
    "    def __init__(self, size, seed, mu=0., theta=0.15, sigma=0.2, scale=0.1):\n",
    "        \"\"\"Initialize parameters and noise process.\"\"\"\n",
    "        self.mu = mu * np.ones(size)\n",
    "        self.theta = theta\n",
    "        self.sigma = sigma\n",
    "        self.scale = scale\n",
    "        self.seed = random.seed(seed)\n",
    "        self.reset()\n",
    "\n",
    "    def reset(self):\n",
    "        \"\"\"Reset the internal state (= noise) to mean (mu).\"\"\"\n",
    "        self.state = copy.copy(self.mu)\n",
    "\n",
    "    def sample(self):\n",
    "        \"\"\"Update internal state and return it as a noise sample.\"\"\"\n",
    "        x = self.state\n",
    "        dx = self.theta * (self.mu - x) + \\\n",
    "             self.sigma * np.array([random.random() for i in range(len(x))])\n",
    "        self.state = x + dx\n",
    "        return self.state * self.scale"
   ]
  },
  {
   "cell_type": "code",
   "execution_count": 18,
   "metadata": {},
   "outputs": [],
   "source": [
    "class Agent():\n",
    "    \"\"\"Interacts with and learns from the environment.\"\"\"\n",
    "    \n",
    "    def __init__(self, state_size, action_size, random_seed, device):\n",
    "        \"\"\"Initialize an Agent object.\n",
    "        \n",
    "        Params\n",
    "        ======\n",
    "            state_size (int): dimension of each state\n",
    "            action_size (int): dimension of each action\n",
    "            random_seed (int): random seed\n",
    "        \"\"\"\n",
    "        self.state_size = state_size\n",
    "        self.action_size = action_size\n",
    "        self.seed = random.seed(random_seed)\n",
    "        self.device = device\n",
    "\n",
    "        # Actor Network (w/ Target Network)\n",
    "        self.actor_local = Actor(state_size, action_size, seed=random_seed).to(self.device)\n",
    "        self.actor_target = Actor(state_size, action_size, seed=random_seed).to(self.device)\n",
    "        self.actor_optimizer = optim.Adam(self.actor_local.parameters(), lr=LR_ACTOR)\n",
    "\n",
    "        # Critic Network (w/ Target Network)\n",
    "        # critic state_size = actor state_size + actor actions = 14+2+2+2=20\n",
    "        self.critic_local = Critic(state_size=20, seed=random_seed).to(self.device)\n",
    "        self.critic_target = Critic(state_size=20, seed=random_seed).to(self.device)\n",
    "        self.critic_optimizer = optim.Adam(self.critic_local.parameters(), lr=LR_CRITIC, \n",
    "                                           weight_decay=WEIGHT_DECAY)\n",
    "\n",
    "        # Noise process\n",
    "        self.noise = OUNoise(action_size, random_seed, sigma=SIGMA, scale=SCALE)\n",
    "\n",
    "    def act(self, state, noise_rate):\n",
    "        \"\"\"Returns actions for given state as per current policy.\"\"\"\n",
    "        state = torch.from_numpy(state).float().to(self.device)\n",
    "        self.actor_local.eval()\n",
    "        with torch.no_grad():\n",
    "            action = self.actor_local(state).cpu().data.numpy()\n",
    "        self.actor_local.train()\n",
    "        action += (noise_rate * self.noise.sample())\n",
    "        return action\n",
    "\n",
    "    def reset(self):\n",
    "        self.noise.reset()\n",
    "\n",
    "    def learn(self, experiences, gamma):\n",
    "        \"\"\"Update policy and value parameters using given batch of experience tuples.\n",
    "        Q_targets = r + γ * critic_target(next_state, actor_target(next_state))\n",
    "        where:\n",
    "            actor_target(state) -> action\n",
    "            critic_target(state, action) -> Q-value\n",
    "        Params\n",
    "        ======\n",
    "            experiences (Tuple[torch.Tensor]): tuple of (s, a, r, s', done) tuples \n",
    "            gamma (float): discount factor\n",
    "        \"\"\"\n",
    "        states_all_agents, states_full, action_all_agents, rewards, \\\n",
    "            next_states_all_agents, next_states_full, dones = experiences\n",
    "\n",
    "        # ---------------------------- update critic ---------------------------- #\n",
    "        # Get predicted next-state actions and Q values from target models\n",
    "        actions_next = self.actor_target(next_states_all_agents)\n",
    "        # combine next actions from all agents [1000,3,2] to [1000,6]\n",
    "        actions_next = actions_next.view(actions_next.shape[0], -1)\n",
    "        with torch.no_grad():\n",
    "            Q_targets_next = self.critic_target(next_states_full, actions_next)\n",
    "        # Compute Q targets for current states (y_i)\n",
    "        Q_targets = rewards + (gamma * Q_targets_next * (1 - dones))\n",
    "        \n",
    "        # combine actions from all agents [1000,3,2] to [1000,6]\n",
    "        action_all_agents = action_all_agents.view(action_all_agents.shape[0], -1)\n",
    "        # Compute critic loss\n",
    "        Q_expected = self.critic_local(states_full, action_all_agents)\n",
    "        huber_loss = torch.nn.SmoothL1Loss()\n",
    "        critic_loss = huber_loss(Q_expected, Q_targets.detach())\n",
    "        # Minimize the loss\n",
    "        self.critic_optimizer.zero_grad()\n",
    "        critic_loss.backward()\n",
    "        torch.nn.utils.clip_grad_norm_(self.critic_local.parameters(), 1)\n",
    "        self.critic_optimizer.step()\n",
    "\n",
    "        # ---------------------------- update actor ---------------------------- #\n",
    "        # Compute actor loss\n",
    "        actions_pred = self.actor_local(states_all_agents)\n",
    "        # combine predicted actions from all agents [1000,3,2] to [1000,6]\n",
    "        actions_pred = actions_pred.view(actions_pred.shape[0], -1)\n",
    "        actor_loss = -self.critic_local(states_full, actions_pred).mean()\n",
    "        # Minimize the loss\n",
    "        self.actor_optimizer.zero_grad()\n",
    "        actor_loss.backward()\n",
    "        self.actor_optimizer.step()\n",
    "        \n",
    "\n",
    "    def soft_update(self, local_model, target_model, tau):\n",
    "        \"\"\"Soft update model parameters.\n",
    "        θ_target = τ*θ_local + (1 - τ)*θ_target\n",
    "        Params\n",
    "        ======\n",
    "            local_model: PyTorch model (weights will be copied from)\n",
    "            target_model: PyTorch model (weights will be copied to)\n",
    "            tau (float): interpolation parameter \n",
    "        \"\"\"\n",
    "        for target_param, local_param in zip(target_model.parameters(), \n",
    "                                             local_model.parameters()):\n",
    "            target_param.data.copy_(tau*local_param.data + \\\n",
    "                                    (1.0-tau)*target_param.data)"
   ]
  },
  {
   "cell_type": "code",
   "execution_count": 19,
   "metadata": {},
   "outputs": [
    {
     "name": "stdout",
     "output_type": "stream",
     "text": [
      "Use CUDA: True\n"
     ]
    }
   ],
   "source": [
    "# check if CUDA is available\n",
    "use_cuda = torch.cuda.is_available()\n",
    "print(\"Use CUDA:\",  use_cuda)"
   ]
  },
  {
   "cell_type": "code",
   "execution_count": 20,
   "metadata": {},
   "outputs": [
    {
     "data": {
      "text/plain": [
       "device(type='cuda', index=0)"
      ]
     },
     "execution_count": 20,
     "metadata": {},
     "output_type": "execute_result"
    }
   ],
   "source": [
    "device = torch.device(\"cuda:0\" if torch.cuda.is_available() else \"cpu\")\n",
    "device"
   ]
  },
  {
   "cell_type": "code",
   "execution_count": 21,
   "metadata": {},
   "outputs": [],
   "source": [
    "# adversary, agent, agent\n",
    "agents = [Agent(state_size=STATE_SIZE, action_size=ACTION_SIZE, \n",
    "                     random_seed=SEED, device=device),\n",
    "          Agent(state_size=STATE_SIZE, action_size=ACTION_SIZE, \n",
    "                     random_seed=SEED, device=device),\n",
    "          Agent(state_size=STATE_SIZE, action_size=ACTION_SIZE, \n",
    "                     random_seed=SEED, device=device),]"
   ]
  },
  {
   "cell_type": "code",
   "execution_count": 22,
   "metadata": {
    "scrolled": false
   },
   "outputs": [
    {
     "name": "stdout",
     "output_type": "stream",
     "text": [
      "=== Agent 1:  adversary ================================================================\n",
      "Actor(\n",
      "  (fc1): Linear(in_features=14, out_features=16, bias=True)\n",
      "  (fc2): Linear(in_features=16, out_features=8, bias=True)\n",
      "  (fc3): Linear(in_features=8, out_features=2, bias=True)\n",
      "  (bn1): BatchNorm1d(16, eps=1e-05, momentum=0.1, affine=True, track_running_stats=True)\n",
      ")\n",
      "Actor(\n",
      "  (fc1): Linear(in_features=14, out_features=16, bias=True)\n",
      "  (fc2): Linear(in_features=16, out_features=8, bias=True)\n",
      "  (fc3): Linear(in_features=8, out_features=2, bias=True)\n",
      "  (bn1): BatchNorm1d(16, eps=1e-05, momentum=0.1, affine=True, track_running_stats=True)\n",
      ")\n",
      "Adam (\n",
      "Parameter Group 0\n",
      "    amsgrad: False\n",
      "    betas: (0.9, 0.999)\n",
      "    eps: 1e-08\n",
      "    lr: 0.01\n",
      "    weight_decay: 0\n",
      ")\n",
      "Critic(\n",
      "  (fc1): Linear(in_features=20, out_features=32, bias=True)\n",
      "  (fc2): Linear(in_features=32, out_features=16, bias=True)\n",
      "  (fc3): Linear(in_features=16, out_features=1, bias=True)\n",
      "  (bn1): BatchNorm1d(32, eps=1e-05, momentum=0.1, affine=True, track_running_stats=True)\n",
      ")\n",
      "Critic(\n",
      "  (fc1): Linear(in_features=20, out_features=32, bias=True)\n",
      "  (fc2): Linear(in_features=32, out_features=16, bias=True)\n",
      "  (fc3): Linear(in_features=16, out_features=1, bias=True)\n",
      "  (bn1): BatchNorm1d(32, eps=1e-05, momentum=0.1, affine=True, track_running_stats=True)\n",
      ")\n",
      "Adam (\n",
      "Parameter Group 0\n",
      "    amsgrad: False\n",
      "    betas: (0.9, 0.999)\n",
      "    eps: 1e-08\n",
      "    lr: 0.01\n",
      "    weight_decay: 1e-05\n",
      ")\n",
      "=== Agent 2:      agent ================================================================\n",
      "Actor(\n",
      "  (fc1): Linear(in_features=14, out_features=16, bias=True)\n",
      "  (fc2): Linear(in_features=16, out_features=8, bias=True)\n",
      "  (fc3): Linear(in_features=8, out_features=2, bias=True)\n",
      "  (bn1): BatchNorm1d(16, eps=1e-05, momentum=0.1, affine=True, track_running_stats=True)\n",
      ")\n",
      "Actor(\n",
      "  (fc1): Linear(in_features=14, out_features=16, bias=True)\n",
      "  (fc2): Linear(in_features=16, out_features=8, bias=True)\n",
      "  (fc3): Linear(in_features=8, out_features=2, bias=True)\n",
      "  (bn1): BatchNorm1d(16, eps=1e-05, momentum=0.1, affine=True, track_running_stats=True)\n",
      ")\n",
      "Adam (\n",
      "Parameter Group 0\n",
      "    amsgrad: False\n",
      "    betas: (0.9, 0.999)\n",
      "    eps: 1e-08\n",
      "    lr: 0.01\n",
      "    weight_decay: 0\n",
      ")\n",
      "Critic(\n",
      "  (fc1): Linear(in_features=20, out_features=32, bias=True)\n",
      "  (fc2): Linear(in_features=32, out_features=16, bias=True)\n",
      "  (fc3): Linear(in_features=16, out_features=1, bias=True)\n",
      "  (bn1): BatchNorm1d(32, eps=1e-05, momentum=0.1, affine=True, track_running_stats=True)\n",
      ")\n",
      "Critic(\n",
      "  (fc1): Linear(in_features=20, out_features=32, bias=True)\n",
      "  (fc2): Linear(in_features=32, out_features=16, bias=True)\n",
      "  (fc3): Linear(in_features=16, out_features=1, bias=True)\n",
      "  (bn1): BatchNorm1d(32, eps=1e-05, momentum=0.1, affine=True, track_running_stats=True)\n",
      ")\n",
      "Adam (\n",
      "Parameter Group 0\n",
      "    amsgrad: False\n",
      "    betas: (0.9, 0.999)\n",
      "    eps: 1e-08\n",
      "    lr: 0.01\n",
      "    weight_decay: 1e-05\n",
      ")\n",
      "=== Agent 3:      agent ================================================================\n",
      "Actor(\n",
      "  (fc1): Linear(in_features=14, out_features=16, bias=True)\n",
      "  (fc2): Linear(in_features=16, out_features=8, bias=True)\n",
      "  (fc3): Linear(in_features=8, out_features=2, bias=True)\n",
      "  (bn1): BatchNorm1d(16, eps=1e-05, momentum=0.1, affine=True, track_running_stats=True)\n",
      ")\n",
      "Actor(\n",
      "  (fc1): Linear(in_features=14, out_features=16, bias=True)\n",
      "  (fc2): Linear(in_features=16, out_features=8, bias=True)\n",
      "  (fc3): Linear(in_features=8, out_features=2, bias=True)\n",
      "  (bn1): BatchNorm1d(16, eps=1e-05, momentum=0.1, affine=True, track_running_stats=True)\n",
      ")\n",
      "Adam (\n",
      "Parameter Group 0\n",
      "    amsgrad: False\n",
      "    betas: (0.9, 0.999)\n",
      "    eps: 1e-08\n",
      "    lr: 0.01\n",
      "    weight_decay: 0\n",
      ")\n",
      "Critic(\n",
      "  (fc1): Linear(in_features=20, out_features=32, bias=True)\n",
      "  (fc2): Linear(in_features=32, out_features=16, bias=True)\n",
      "  (fc3): Linear(in_features=16, out_features=1, bias=True)\n",
      "  (bn1): BatchNorm1d(32, eps=1e-05, momentum=0.1, affine=True, track_running_stats=True)\n",
      ")\n",
      "Critic(\n",
      "  (fc1): Linear(in_features=20, out_features=32, bias=True)\n",
      "  (fc2): Linear(in_features=32, out_features=16, bias=True)\n",
      "  (fc3): Linear(in_features=16, out_features=1, bias=True)\n",
      "  (bn1): BatchNorm1d(32, eps=1e-05, momentum=0.1, affine=True, track_running_stats=True)\n",
      ")\n",
      "Adam (\n",
      "Parameter Group 0\n",
      "    amsgrad: False\n",
      "    betas: (0.9, 0.999)\n",
      "    eps: 1e-08\n",
      "    lr: 0.01\n",
      "    weight_decay: 1e-05\n",
      ")\n"
     ]
    }
   ],
   "source": [
    "for i, agent in enumerate(agents):\n",
    "    print(\"=== Agent %d: %10s\" % (i+1, env.agent_types[i]), \"=\"*64)\n",
    "    print(agent.actor_local)\n",
    "    print(agent.actor_target)\n",
    "    print(agent.actor_optimizer)\n",
    "    print(agent.critic_local)\n",
    "    print(agent.critic_target)\n",
    "    print(agent.critic_optimizer)"
   ]
  },
  {
   "cell_type": "markdown",
   "metadata": {},
   "source": [
    "## Training"
   ]
  },
  {
   "cell_type": "code",
   "execution_count": 23,
   "metadata": {},
   "outputs": [],
   "source": [
    "episode_per_update = 2 * PARALLEL_ENVS"
   ]
  },
  {
   "cell_type": "code",
   "execution_count": 24,
   "metadata": {},
   "outputs": [],
   "source": [
    "def maddpg(n_episodes, max_t, print_every=100):\n",
    "    \n",
    "    # keep 5000 episodes worth of replay\n",
    "    cumulative_memory = ReplayBuffer(action_size=ACTION_SIZE, \n",
    "                                     buffer_size=int(5000*max_t), \n",
    "                                     batch_size=BATCH_SIZE, seed=SEED, \n",
    "                                     device=device)\n",
    "    noise_rate = NOISE_RATE_INIT\n",
    "    acc_scores_env = []\n",
    "    acc_scores_window_env = deque(maxlen=100)  # last 100 scores\n",
    "    for i_episode in range(0, n_episodes, PARALLEL_ENVS):\n",
    "        for agent in agents:\n",
    "            agent.reset()\n",
    "            \n",
    "        # states structure:\n",
    "        #  - parallel envs (4 units)\n",
    "        #     - env_info_all_agents and env_info_full (2 units)\n",
    "        #        - env_info_all_agents (3 units)\n",
    "        #           - states (14 units)\n",
    "        #        - env_info_full states (14 units)\n",
    "        states = env.reset()\n",
    "        # convert states from [4,2,3,14] to [2,4,3,14]\n",
    "        # to split beteen states and states_full. New structure:\n",
    "        #  - states_all_agents and states_full (2 units)\n",
    "        #     - states_all_agents parallel envs (4 units)\n",
    "        #        - agents (3 units)\n",
    "        #           - states (14 units)\n",
    "        #     - states_full parallel envs (4 units)\n",
    "        #        - states (14 units)\n",
    "        states_all_agents_env, states_full_env = states.transpose()\n",
    "        # convert states_all_agents from [4,3,14] to [3,4,14]\n",
    "        #  - agents (3 units)\n",
    "        #     - states_all_agents parallel envs (4 units)\n",
    "        #        - states (14 units)\n",
    "        states_all_agents_env = np.array(list(states_all_agents_env))\n",
    "        states_all_agents = states_all_agents_env.transpose(1,0,2)\n",
    "        \n",
    "        states_full_env = np.array(list(states_full_env))\n",
    "        \n",
    "        scores_env = np.zeros((PARALLEL_ENVS, 3))\n",
    "        for t in range(max_t):\n",
    "            actions = [agent.act(np.array(states_per_agent), noise_rate) \n",
    "                       for agent, states_per_agent in zip(agents, states_all_agents)]\n",
    "            \n",
    "            noise_rate *= NOISE_RATE_REDUCTION\n",
    "            \n",
    "            # convert actions from [3,4,2] to [4,3,2]\n",
    "            #  - parallel envs (4 units)\n",
    "            #     - agents (3 units)\n",
    "            #        - action (2 units)\n",
    "            actions = np.array(actions)\n",
    "            action_all_agents_env = actions.transpose(1,0,2)\n",
    "            # step forward one frame\n",
    "            next_states_all_agents_env, next_states_full_env, \\\n",
    "                rewards_env, dones_env, info = \\\n",
    "                env.step(action_all_agents_env)\n",
    "            for i in range(len(states_all_agents_env)):\n",
    "                cumulative_memory.add(states_all_agents_env, states_full_env,\n",
    "                                      action_all_agents_env, rewards_env,\n",
    "                                      next_states_all_agents_env, \n",
    "                                      next_states_full_env,\n",
    "                                      dones_env)\n",
    "            \n",
    "            scores_env += rewards_env\n",
    "            states_all_agents_env = next_states_all_agents_env\n",
    "            \n",
    "        # update once after every episode_per_update\n",
    "        if len(cumulative_memory) > BATCH_SIZE and \\\n",
    "           i_episode % episode_per_update < PARALLEL_ENVS:\n",
    "            # update local networks\n",
    "            for agent_i, agent in enumerate(agents):\n",
    "                states_all_agents_env, states_full_env, action_all_agents_env, \\\n",
    "                    rewards_env, next_states_all_agents_env, next_states_full_env, \\\n",
    "                    dones_env = cumulative_memory.sample()\n",
    "                # convert [envs][agents] to [agents][envs] when applicable\n",
    "                # transpose in torch not as before in numpy\n",
    "                experiences = (states_all_agents_env,\n",
    "                               states_full_env,\n",
    "                               action_all_agents_env,\n",
    "                               rewards_env.transpose(0,1)[agent_i].view(-1,1),\n",
    "                               next_states_all_agents_env,\n",
    "                               next_states_full_env,\n",
    "                               dones_env.transpose(0,1)[agent_i].view(-1,1))\n",
    "                agent.learn(experiences, GAMMA)\n",
    "            \n",
    "            # update target networks\n",
    "            for agent in agents:\n",
    "                agent.soft_update(agent.critic_local, agent.critic_target, TAU)\n",
    "                agent.soft_update(agent.actor_local, agent.actor_target, TAU)\n",
    "                \n",
    "        # save most recent scores\n",
    "        acc_scores_env.append(scores_env)\n",
    "        acc_scores_window_env.append(scores_env)\n",
    "        \n",
    "        print('\\rEpisode {}\\tAverage Score: {:.2f}'.format(\n",
    "              i_episode, np.mean(acc_scores_window_env)), end=\"\")\n",
    "        if i_episode % print_every == 0:\n",
    "            print('\\rEpisode {}\\tAverage Score: {:.2f}'.format(\n",
    "                      i_episode, np.mean(acc_scores_window_env)))\n",
    "        if np.mean(acc_scores_window_env)>=30.0:\n",
    "            print('\\nEnvironment solved in {:d} episodes!\\tAverage Score: {:.2f}'.format(\n",
    "                  i_episode-100, np.mean(acc_scores_window_env)))\n",
    "            break\n",
    "            \n",
    "    return acc_scores_env"
   ]
  },
  {
   "cell_type": "code",
   "execution_count": 25,
   "metadata": {
    "scrolled": false
   },
   "outputs": [
    {
     "name": "stdout",
     "output_type": "stream",
     "text": [
      "Episode 0\tAverage Score: -355.98\n",
      "Episode 100\tAverage Score: -214.47\n",
      "Episode 200\tAverage Score: -180.67\n",
      "Episode 300\tAverage Score: -171.93\n",
      "Episode 400\tAverage Score: -166.14\n",
      "Episode 500\tAverage Score: -152.59\n",
      "Episode 600\tAverage Score: -162.63\n",
      "Episode 700\tAverage Score: -181.96\n",
      "Episode 800\tAverage Score: -197.59\n",
      "Episode 900\tAverage Score: -209.96\n",
      "Episode 1000\tAverage Score: -213.67\n",
      "Episode 1100\tAverage Score: -201.20\n",
      "Episode 1200\tAverage Score: -192.13\n",
      "Episode 1300\tAverage Score: -186.88\n",
      "Episode 1400\tAverage Score: -185.92\n",
      "Episode 1500\tAverage Score: -186.10\n",
      "Episode 1600\tAverage Score: -191.43\n",
      "Episode 1700\tAverage Score: -193.31\n",
      "Episode 1800\tAverage Score: -197.07\n",
      "Episode 1900\tAverage Score: -201.08\n",
      "Episode 2000\tAverage Score: -203.05\n",
      "Episode 2100\tAverage Score: -208.88\n",
      "Episode 2200\tAverage Score: -207.62\n",
      "Episode 2300\tAverage Score: -212.59\n",
      "Episode 2400\tAverage Score: -214.77\n",
      "Episode 2500\tAverage Score: -214.37\n",
      "Episode 2600\tAverage Score: -218.66\n",
      "Episode 2700\tAverage Score: -216.60\n",
      "Episode 2800\tAverage Score: -214.31\n",
      "Episode 2900\tAverage Score: -214.62\n",
      "Episode 3000\tAverage Score: -214.03\n",
      "Episode 3100\tAverage Score: -217.00\n",
      "Episode 3200\tAverage Score: -216.53\n",
      "Episode 3300\tAverage Score: -214.38\n",
      "Episode 3400\tAverage Score: -211.01\n",
      "Episode 3500\tAverage Score: -209.02\n",
      "Episode 3600\tAverage Score: -209.27\n",
      "Episode 3700\tAverage Score: -209.01\n",
      "Episode 3800\tAverage Score: -206.95\n",
      "Episode 3900\tAverage Score: -205.80\n",
      "Episode 4000\tAverage Score: -206.56\n",
      "Episode 4100\tAverage Score: -204.06\n",
      "Episode 4200\tAverage Score: -202.14\n",
      "Episode 4300\tAverage Score: -199.41\n",
      "Episode 4400\tAverage Score: -197.48\n",
      "Episode 4500\tAverage Score: -200.40\n",
      "Episode 4600\tAverage Score: -200.25\n",
      "Episode 4700\tAverage Score: -199.85\n",
      "Episode 4800\tAverage Score: -196.24\n",
      "Episode 4900\tAverage Score: -196.59\n",
      "Episode 5000\tAverage Score: -199.08\n",
      "Episode 5100\tAverage Score: -194.23\n",
      "Episode 5200\tAverage Score: -194.60\n",
      "Episode 5300\tAverage Score: -191.11\n",
      "Episode 5400\tAverage Score: -187.29\n",
      "Episode 5500\tAverage Score: -186.23\n",
      "Episode 5600\tAverage Score: -181.50\n",
      "Episode 5700\tAverage Score: -179.09\n",
      "Episode 5800\tAverage Score: -176.56\n",
      "Episode 5900\tAverage Score: -176.27\n",
      "Episode 6000\tAverage Score: -173.69\n",
      "Episode 6100\tAverage Score: -170.51\n",
      "Episode 6200\tAverage Score: -166.51\n",
      "Episode 6300\tAverage Score: -164.23\n",
      "Episode 6400\tAverage Score: -163.88\n",
      "Episode 6500\tAverage Score: -164.04\n",
      "Episode 6600\tAverage Score: -165.90\n",
      "Episode 6700\tAverage Score: -167.53\n",
      "Episode 6800\tAverage Score: -170.56\n",
      "Episode 6900\tAverage Score: -172.31\n",
      "Episode 7000\tAverage Score: -172.93\n",
      "Episode 7100\tAverage Score: -176.16\n",
      "Episode 7200\tAverage Score: -176.30\n",
      "Episode 7300\tAverage Score: -177.89\n",
      "Episode 7400\tAverage Score: -179.46\n",
      "Episode 7500\tAverage Score: -178.27\n",
      "Episode 7600\tAverage Score: -178.33\n",
      "Episode 7700\tAverage Score: -177.69\n",
      "Episode 7800\tAverage Score: -177.36\n",
      "Episode 7900\tAverage Score: -178.36\n",
      "Episode 8000\tAverage Score: -177.77\n",
      "Episode 8100\tAverage Score: -173.43\n",
      "Episode 8200\tAverage Score: -172.34\n",
      "Episode 8300\tAverage Score: -166.92\n",
      "Episode 8400\tAverage Score: -165.76\n",
      "Episode 8500\tAverage Score: -169.14\n",
      "Episode 8600\tAverage Score: -168.00\n",
      "Episode 8700\tAverage Score: -172.59\n",
      "Episode 8800\tAverage Score: -171.74\n",
      "Episode 8900\tAverage Score: -169.14\n",
      "Episode 9000\tAverage Score: -171.26\n",
      "Episode 9100\tAverage Score: -170.14\n",
      "Episode 9200\tAverage Score: -169.32\n",
      "Episode 9300\tAverage Score: -170.25\n",
      "Episode 9400\tAverage Score: -169.34\n",
      "Episode 9500\tAverage Score: -170.12\n",
      "Episode 9600\tAverage Score: -173.81\n",
      "Episode 9700\tAverage Score: -172.98\n",
      "Episode 9800\tAverage Score: -172.24\n",
      "Episode 9900\tAverage Score: -168.81\n",
      "Episode 10000\tAverage Score: -165.28\n",
      "Episode 10100\tAverage Score: -165.42\n",
      "Episode 10200\tAverage Score: -165.60\n",
      "Episode 10300\tAverage Score: -167.16\n",
      "Episode 10400\tAverage Score: -167.86\n",
      "Episode 10500\tAverage Score: -164.36\n",
      "Episode 10600\tAverage Score: -163.53\n",
      "Episode 10700\tAverage Score: -162.02\n",
      "Episode 10800\tAverage Score: -162.63\n",
      "Episode 10900\tAverage Score: -165.46\n",
      "Episode 11000\tAverage Score: -162.09\n",
      "Episode 11100\tAverage Score: -163.69\n",
      "Episode 11200\tAverage Score: -164.06\n",
      "Episode 11300\tAverage Score: -160.71\n",
      "Episode 11400\tAverage Score: -166.47\n",
      "Episode 11500\tAverage Score: -167.62\n",
      "Episode 11600\tAverage Score: -170.28\n",
      "Episode 11700\tAverage Score: -172.68\n",
      "Episode 11800\tAverage Score: -170.76\n",
      "Episode 11900\tAverage Score: -167.22\n",
      "Episode 12000\tAverage Score: -164.66\n",
      "Episode 12100\tAverage Score: -165.54\n",
      "Episode 12200\tAverage Score: -166.71\n",
      "Episode 12300\tAverage Score: -168.46\n",
      "Episode 12400\tAverage Score: -167.54\n",
      "Episode 12500\tAverage Score: -168.34\n",
      "Episode 12600\tAverage Score: -166.24\n",
      "Episode 12700\tAverage Score: -166.33\n",
      "Episode 12800\tAverage Score: -164.77\n",
      "Episode 12900\tAverage Score: -165.93\n",
      "Episode 13000\tAverage Score: -165.36\n",
      "Episode 13100\tAverage Score: -162.74\n",
      "Episode 13200\tAverage Score: -163.25\n",
      "Episode 13300\tAverage Score: -159.79\n",
      "Episode 13400\tAverage Score: -159.76\n",
      "Episode 13500\tAverage Score: -159.86\n",
      "Episode 13600\tAverage Score: -157.60\n",
      "Episode 13700\tAverage Score: -155.94\n",
      "Episode 13800\tAverage Score: -156.72\n",
      "Episode 13900\tAverage Score: -155.49\n",
      "Episode 14000\tAverage Score: -157.48\n",
      "Episode 14100\tAverage Score: -158.08\n",
      "Episode 14200\tAverage Score: -158.76\n",
      "Episode 14300\tAverage Score: -161.03\n",
      "Episode 14400\tAverage Score: -162.34\n",
      "Episode 14500\tAverage Score: -162.68\n",
      "Episode 14600\tAverage Score: -161.13\n",
      "Episode 14700\tAverage Score: -163.08\n",
      "Episode 14800\tAverage Score: -162.65\n",
      "Episode 14900\tAverage Score: -163.44\n",
      "Episode 15000\tAverage Score: -163.97\n",
      "Episode 15100\tAverage Score: -159.92\n",
      "Episode 15200\tAverage Score: -157.49\n",
      "Episode 15300\tAverage Score: -153.02\n",
      "Episode 15400\tAverage Score: -149.05\n",
      "Episode 15500\tAverage Score: -149.56\n",
      "Episode 15600\tAverage Score: -149.26\n",
      "Episode 15700\tAverage Score: -152.60\n",
      "Episode 15800\tAverage Score: -152.57\n",
      "Episode 15900\tAverage Score: -151.33\n",
      "Episode 16000\tAverage Score: -154.06\n",
      "Episode 16100\tAverage Score: -154.93\n",
      "Episode 16200\tAverage Score: -158.71\n",
      "Episode 16300\tAverage Score: -162.92\n",
      "Episode 16400\tAverage Score: -159.90\n",
      "Episode 16500\tAverage Score: -158.39\n",
      "Episode 16600\tAverage Score: -158.17\n",
      "Episode 16700\tAverage Score: -154.06\n",
      "Episode 16800\tAverage Score: -154.28\n",
      "Episode 16900\tAverage Score: -157.78\n",
      "Episode 17000\tAverage Score: -157.39\n",
      "Episode 17100\tAverage Score: -159.35\n",
      "Episode 17200\tAverage Score: -160.55\n",
      "Episode 17300\tAverage Score: -159.03\n",
      "Episode 17400\tAverage Score: -157.41\n",
      "Episode 17500\tAverage Score: -155.99\n",
      "Episode 17600\tAverage Score: -156.33\n",
      "Episode 17700\tAverage Score: -153.55\n",
      "Episode 17800\tAverage Score: -156.11\n",
      "Episode 17900\tAverage Score: -154.34\n",
      "Episode 18000\tAverage Score: -152.98\n",
      "Episode 18100\tAverage Score: -154.77\n",
      "Episode 18200\tAverage Score: -153.70\n",
      "Episode 18300\tAverage Score: -156.40\n",
      "Episode 18400\tAverage Score: -157.70\n",
      "Episode 18500\tAverage Score: -159.51\n",
      "Episode 18600\tAverage Score: -161.30\n",
      "Episode 18700\tAverage Score: -161.09\n",
      "Episode 18800\tAverage Score: -160.28\n",
      "Episode 18900\tAverage Score: -160.15\n",
      "Episode 19000\tAverage Score: -155.17\n",
      "Episode 19100\tAverage Score: -158.02\n",
      "Episode 19200\tAverage Score: -159.63\n",
      "Episode 19300\tAverage Score: -160.10\n",
      "Episode 19400\tAverage Score: -165.19\n",
      "Episode 19500\tAverage Score: -161.68\n",
      "Episode 19600\tAverage Score: -161.21\n",
      "Episode 19700\tAverage Score: -159.45\n",
      "Episode 19800\tAverage Score: -157.69\n",
      "Episode 19900\tAverage Score: -158.76\n",
      "Episode 20000\tAverage Score: -157.20\n",
      "Episode 20100\tAverage Score: -155.78\n",
      "Episode 20200\tAverage Score: -155.20\n",
      "Episode 20300\tAverage Score: -153.37\n",
      "Episode 20400\tAverage Score: -154.99\n",
      "Episode 20500\tAverage Score: -155.93\n",
      "Episode 20600\tAverage Score: -154.44\n",
      "Episode 20700\tAverage Score: -154.32\n",
      "Episode 20800\tAverage Score: -153.03\n",
      "Episode 20900\tAverage Score: -151.57\n",
      "Episode 21000\tAverage Score: -152.67\n",
      "Episode 21100\tAverage Score: -154.95\n",
      "Episode 21200\tAverage Score: -156.28\n",
      "Episode 21300\tAverage Score: -157.38\n",
      "Episode 21400\tAverage Score: -155.91\n",
      "Episode 21500\tAverage Score: -156.61\n",
      "Episode 21600\tAverage Score: -159.66\n",
      "Episode 21700\tAverage Score: -160.51\n",
      "Episode 21800\tAverage Score: -160.23\n",
      "Episode 21900\tAverage Score: -160.51\n",
      "Episode 22000\tAverage Score: -156.91\n",
      "Episode 22100\tAverage Score: -155.25\n",
      "Episode 22200\tAverage Score: -159.65\n",
      "Episode 22300\tAverage Score: -158.82\n"
     ]
    },
    {
     "name": "stdout",
     "output_type": "stream",
     "text": [
      "Episode 22400\tAverage Score: -158.19\n",
      "Episode 22500\tAverage Score: -159.61\n",
      "Episode 22600\tAverage Score: -156.27\n",
      "Episode 22700\tAverage Score: -153.89\n",
      "Episode 22800\tAverage Score: -154.29\n",
      "Episode 22900\tAverage Score: -155.91\n",
      "Episode 23000\tAverage Score: -158.95\n",
      "Episode 23100\tAverage Score: -163.52\n",
      "Episode 23200\tAverage Score: -163.87\n",
      "Episode 23300\tAverage Score: -160.39\n",
      "Episode 23400\tAverage Score: -156.24\n",
      "Episode 23500\tAverage Score: -153.61\n",
      "Episode 23600\tAverage Score: -153.56\n",
      "Episode 23700\tAverage Score: -153.53\n",
      "Episode 23800\tAverage Score: -155.71\n",
      "Episode 23900\tAverage Score: -156.21\n",
      "Episode 24000\tAverage Score: -155.83\n",
      "Episode 24100\tAverage Score: -157.48\n",
      "Episode 24200\tAverage Score: -157.77\n",
      "Episode 24300\tAverage Score: -158.50\n",
      "Episode 24400\tAverage Score: -160.80\n",
      "Episode 24500\tAverage Score: -161.17\n",
      "Episode 24600\tAverage Score: -160.10\n",
      "Episode 24700\tAverage Score: -162.58\n",
      "Episode 24800\tAverage Score: -161.29\n",
      "Episode 24900\tAverage Score: -161.91\n",
      "Episode 25000\tAverage Score: -166.38\n",
      "Episode 25100\tAverage Score: -165.35\n",
      "Episode 25200\tAverage Score: -168.88\n",
      "Episode 25300\tAverage Score: -168.22\n",
      "Episode 25400\tAverage Score: -167.98\n",
      "Episode 25500\tAverage Score: -167.56\n",
      "Episode 25600\tAverage Score: -165.06\n",
      "Episode 25700\tAverage Score: -168.92\n",
      "Episode 25800\tAverage Score: -166.26\n",
      "Episode 25900\tAverage Score: -167.99\n",
      "Episode 26000\tAverage Score: -166.98\n",
      "Episode 26100\tAverage Score: -166.92\n",
      "Episode 26200\tAverage Score: -168.01\n",
      "Episode 26300\tAverage Score: -168.41\n",
      "Episode 26400\tAverage Score: -170.19\n",
      "Episode 26500\tAverage Score: -164.94\n",
      "Episode 26600\tAverage Score: -167.06\n",
      "Episode 26700\tAverage Score: -167.76\n",
      "Episode 26800\tAverage Score: -169.65\n",
      "Episode 26900\tAverage Score: -176.45\n",
      "Episode 27000\tAverage Score: -175.48\n",
      "Episode 27100\tAverage Score: -173.70\n",
      "Episode 27200\tAverage Score: -174.01\n",
      "Episode 27300\tAverage Score: -172.69\n",
      "Episode 27400\tAverage Score: -173.11\n",
      "Episode 27500\tAverage Score: -173.04\n",
      "Episode 27600\tAverage Score: -174.55\n",
      "Episode 27700\tAverage Score: -175.58\n",
      "Episode 27800\tAverage Score: -177.36\n",
      "Episode 27900\tAverage Score: -179.86\n",
      "Episode 28000\tAverage Score: -177.51\n",
      "Episode 28100\tAverage Score: -175.39\n",
      "Episode 28200\tAverage Score: -174.10\n",
      "Episode 28300\tAverage Score: -173.78\n",
      "Episode 28400\tAverage Score: -176.14\n",
      "Episode 28500\tAverage Score: -178.33\n",
      "Episode 28600\tAverage Score: -179.70\n",
      "Episode 28700\tAverage Score: -179.63\n",
      "Episode 28800\tAverage Score: -179.16\n",
      "Episode 28900\tAverage Score: -179.62\n",
      "Episode 29000\tAverage Score: -179.25\n",
      "Episode 29100\tAverage Score: -180.58\n",
      "Episode 29200\tAverage Score: -178.49\n",
      "Episode 29300\tAverage Score: -174.44\n",
      "Episode 29400\tAverage Score: -172.41\n",
      "Episode 29500\tAverage Score: -170.75\n",
      "Episode 29600\tAverage Score: -170.73\n",
      "Episode 29700\tAverage Score: -169.58\n",
      "Episode 29800\tAverage Score: -169.34\n",
      "Episode 29900\tAverage Score: -167.47\n",
      "Episode 29996\tAverage Score: -164.52\n",
      "Runtime (in seconds) 1309\n"
     ]
    }
   ],
   "source": [
    "n_episodes = 30000 #1000\n",
    "max_t = 80\n",
    "\n",
    "tic = time.time()\n",
    "scores_env = maddpg(n_episodes=n_episodes, max_t=max_t, print_every=100)\n",
    "toc = time.time()\n",
    "print()\n",
    "print(\"Runtime (in seconds) %d\" % int(toc-tic))"
   ]
  },
  {
   "cell_type": "code",
   "execution_count": 26,
   "metadata": {},
   "outputs": [],
   "source": [
    "scores = np.array(scores_env).transpose(1,0,2)"
   ]
  },
  {
   "cell_type": "code",
   "execution_count": 27,
   "metadata": {},
   "outputs": [],
   "source": [
    "scores_mean = scores.mean(axis=0)"
   ]
  },
  {
   "cell_type": "code",
   "execution_count": 28,
   "metadata": {},
   "outputs": [
    {
     "data": {
      "image/png": "[encoded data removed]",
      "text/plain": [
       "<Figure size 432x288 with 1 Axes>"
      ]
     },
     "metadata": {
      "needs_background": "light"
     },
     "output_type": "display_data"
    }
   ],
   "source": [
    "# plot the scores\n",
    "fig = plt.figure()\n",
    "ax = fig.add_subplot(111)\n",
    "plt.plot(np.arange(1, scores_mean.shape[0]+1), scores_mean)\n",
    "plt.ylabel('Scores')\n",
    "plt.xlabel('Episode #')\n",
    "plt.show()"
   ]
  },
  {
   "cell_type": "code",
   "execution_count": 29,
   "metadata": {},
   "outputs": [],
   "source": [
    "scores_acc_mean = scores_mean.mean(axis=1)"
   ]
  },
  {
   "cell_type": "code",
   "execution_count": 30,
   "metadata": {},
   "outputs": [
    {
     "data": {
      "image/png": "[encoded data removed]",
      "text/plain": [
       "<Figure size 432x288 with 1 Axes>"
      ]
     },
     "metadata": {
      "needs_background": "light"
     },
     "output_type": "display_data"
    }
   ],
   "source": [
    "# plot the scores\n",
    "fig = plt.figure()\n",
    "ax = fig.add_subplot(111)\n",
    "plt.plot(np.arange(1, len(scores_acc_mean)+1), scores_acc_mean)\n",
    "plt.ylabel('Scores')\n",
    "plt.xlabel('Episode #')\n",
    "plt.show()"
   ]
  },
  {
   "cell_type": "markdown",
   "metadata": {},
   "source": [
    "```\n",
    "while sleep 0.2; do\n",
    "nvidia-smi --query-gpu=name,index,temperature.gpu,\\\n",
    "utilization.gpu,utilization.memory,\\\n",
    "memory.total,memory.free,memory.used --format=csv,noheader\n",
    "done\n",
    "```"
   ]
  },
  {
   "cell_type": "markdown",
   "metadata": {},
   "source": [
    "```\n",
    "GeForce GTX 1060, 0, 66, 8 %, 1 %, 6078 MiB, 5288 MiB, 790 MiB\n",
    "GeForce GTX 1060, 0, 66, 8 %, 1 %, 6078 MiB, 5288 MiB, 790 MiB\n",
    "GeForce GTX 1060, 0, 66, 10 %, 1 %, 6078 MiB, 5288 MiB, 790 MiB\n",
    "GeForce GTX 1060, 0, 66, 8 %, 1 %, 6078 MiB, 5288 MiB, 790 MiB\n",
    "GeForce GTX 1060, 0, 66, 10 %, 1 %, 6078 MiB, 5288 MiB, 790 MiB\n",
    "GeForce GTX 1060, 0, 66, 10 %, 1 %, 6078 MiB, 5288 MiB, 790 MiB\n",
    "GeForce GTX 1060, 0, 66, 8 %, 1 %, 6078 MiB, 5288 MiB, 790 MiB\n",
    "GeForce GTX 1060, 0, 66, 11 %, 1 %, 6078 MiB, 5288 MiB, 790 MiB\n",
    "GeForce GTX 1060, 0, 66, 10 %, 1 %, 6078 MiB, 5288 MiB, 790 MiB\n",
    "GeForce GTX 1060, 0, 66, 9 %, 1 %, 6078 MiB, 5288 MiB, 790 MiB\n",
    "GeForce GTX 1060, 0, 66, 10 %, 1 %, 6078 MiB, 5288 MiB, 790 MiB\n",
    "GeForce GTX 1060, 0, 66, 9 %, 1 %, 6078 MiB, 5288 MiB, 790 MiB\n",
    "GeForce GTX 1060, 0, 66, 9 %, 1 %, 6078 MiB, 5288 MiB, 790 MiB\n",
    "GeForce GTX 1060, 0, 66, 8 %, 1 %, 6078 MiB, 5288 MiB, 790 MiB\n",
    "GeForce GTX 1060, 0, 66, 10 %, 1 %, 6078 MiB, 5288 MiB, 790 MiB\n",
    "GeForce GTX 1060, 0, 66, 8 %, 1 %, 6078 MiB, 5288 MiB, 790 MiB\n",
    "GeForce GTX 1060, 0, 66, 10 %, 1 %, 6078 MiB, 5288 MiB, 790 MiB\n",
    "GeForce GTX 1060, 0, 66, 11 %, 1 %, 6078 MiB, 5288 MiB, 790 MiB\n",
    "GeForce GTX 1060, 0, 66, 7 %, 1 %, 6078 MiB, 5288 MiB, 790 MiB\n",
    "GeForce GTX 1060, 0, 66, 10 %, 1 %, 6078 MiB, 5288 MiB, 790 MiB\n",
    "GeForce GTX 1060, 0, 66, 7 %, 1 %, 6078 MiB, 5288 MiB, 790 MiB\n",
    "```"
   ]
  },
  {
   "cell_type": "code",
   "execution_count": 31,
   "metadata": {},
   "outputs": [],
   "source": [
    "saved_model = {'agent1_actor': agents[0].actor_local.state_dict(),\n",
    "               'agent1_critic': agents[0].critic_local.state_dict(),\n",
    "               'agent2_actor': agents[1].actor_local.state_dict(),\n",
    "               'agent2_critic': agents[1].critic_local.state_dict(),\n",
    "               'agent3_actor': agents[2].actor_local.state_dict(),\n",
    "               'agent3_critic': agents[2].critic_local.state_dict()}\n",
    "\n",
    "torch.save(saved_model, './models/saved_model.pth')"
   ]
  },
  {
   "cell_type": "code",
   "execution_count": 32,
   "metadata": {},
   "outputs": [],
   "source": [
    "env.close()"
   ]
  },
  {
   "cell_type": "markdown",
   "metadata": {},
   "source": [
    "## Agent in Action"
   ]
  },
  {
   "cell_type": "code",
   "execution_count": 30,
   "metadata": {},
   "outputs": [],
   "source": [
    "def load_saved_model(filepath, device):\n",
    "    saved_model = torch.load(filepath)\n",
    "    \n",
    "    # adversary, agent, agent\n",
    "    agents = [Agent(state_size=STATE_SIZE, action_size=ACTION_SIZE, \n",
    "                    random_seed=SEED, device=device),\n",
    "              Agent(state_size=STATE_SIZE, action_size=ACTION_SIZE, \n",
    "                    random_seed=SEED, device=device),\n",
    "              Agent(state_size=STATE_SIZE, action_size=ACTION_SIZE, \n",
    "                    random_seed=SEED, device=device),]\n",
    "    \n",
    "    agents[0].actor_local.load_state_dict(saved_model['agent1_actor'])\n",
    "    agents[0].actor_target.load_state_dict(saved_model['agent1_actor'])\n",
    "    agents[0].critic_local.load_state_dict(saved_model['agent1_critic'])\n",
    "    agents[0].critic_target.load_state_dict(saved_model['agent1_critic'])\n",
    "    agents[1].actor_local.load_state_dict(saved_model['agent2_actor'])\n",
    "    agents[1].actor_target.load_state_dict(saved_model['agent2_actor'])\n",
    "    agents[1].critic_local.load_state_dict(saved_model['agent2_critic'])\n",
    "    agents[1].critic_target.load_state_dict(saved_model['agent2_critic'])\n",
    "    agents[2].actor_local.load_state_dict(saved_model['agent3_actor'])\n",
    "    agents[2].actor_target.load_state_dict(saved_model['agent3_actor'])\n",
    "    agents[2].critic_local.load_state_dict(saved_model['agent3_critic'])\n",
    "    agents[2].critic_target.load_state_dict(saved_model['agent3_critic'])\n",
    "    \n",
    "    return agents"
   ]
  },
  {
   "cell_type": "code",
   "execution_count": 31,
   "metadata": {},
   "outputs": [
    {
     "name": "stdout",
     "output_type": "stream",
     "text": [
      "Use CUDA: True\n"
     ]
    }
   ],
   "source": [
    "# check if CUDA is available\n",
    "use_cuda = torch.cuda.is_available()\n",
    "print(\"Use CUDA:\",  use_cuda)"
   ]
  },
  {
   "cell_type": "code",
   "execution_count": 32,
   "metadata": {},
   "outputs": [
    {
     "data": {
      "text/plain": [
       "device(type='cuda', index=0)"
      ]
     },
     "execution_count": 32,
     "metadata": {},
     "output_type": "execute_result"
    }
   ],
   "source": [
    "device = torch.device(\"cuda:0\" if torch.cuda.is_available() else \"cpu\")\n",
    "device"
   ]
  },
  {
   "cell_type": "code",
   "execution_count": 33,
   "metadata": {},
   "outputs": [],
   "source": [
    "agents = load_saved_model('./models/saved_model.pth', device)\n",
    "for agent in agents:\n",
    "    agent.actor_local.eval()\n",
    "    agent.critic_local.eval()"
   ]
  },
  {
   "cell_type": "code",
   "execution_count": null,
   "metadata": {},
   "outputs": [],
   "source": []
  }
 ],
 "metadata": {
  "kernelspec": {
   "display_name": "Python 3",
   "language": "python",
   "name": "python3"
  },
  "language_info": {
   "codemirror_mode": {
    "name": "ipython",
    "version": 3
   },
   "file_extension": ".py",
   "mimetype": "text/x-python",
   "name": "python",
   "nbconvert_exporter": "python",
   "pygments_lexer": "ipython3",
   "version": "3.7.4"
  }
 },
 "nbformat": 4,
 "nbformat_minor": 2
}
